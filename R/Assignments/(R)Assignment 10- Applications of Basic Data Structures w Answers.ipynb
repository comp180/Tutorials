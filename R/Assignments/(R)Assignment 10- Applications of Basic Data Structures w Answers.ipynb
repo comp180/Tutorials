{
 "cells": [
  {
   "cell_type": "markdown",
   "metadata": {},
   "source": [
    "# Assignment 10: Applications of Basic Data Structures with Answers\n",
    "\n",
    "For help: [basic data structures](https://docs.google.com/document/d/1Q5VfbGyep-nC7oBmGEExpQpbGa5nwpDz4gaSIYqxY8w/edit?usp=sharing)\n",
    "\n",
    "## Word count\n",
    "Word counts are often used in text processing to automatically classify documents by topic. They are also used to automatically measure the “sentiment” by counting, for example, the number of positive or negative words used in the comment or essay. \n",
    "\n",
    "Write code to count the number of unique words in a very large string using the following steps.\n",
    "1. First convert the string to a list with each word a separate item in the list. \n",
    "    * *Hint: use a string split function for your language, and make sure it separates by “ “.* \n",
    "2. Then use a Map/dictionary to associate each word with a count. Note, the dictionary won’t be able to increment a key unless you add it first, so you may have to check to see if it exists before setting the original count of a word to 1. \n",
    "3. Print each word and its count afterwards, and test with an interesting block of text that will have multiple words counted multiple times. (*note, the words don’t have to be in any particular order*)\n",
    "\n",
    "For example: “how much wood would a woodchuck chuck if a woodchuck could chuck wood”\n",
    "\n",
    "*Expected output:*\n",
    "    \n",
    "    how - 1\n",
    "    much -1\n",
    "    wood - 2\n",
    "    would - 1\n",
    "    a - 2\n",
    "    woodchuck - 2\n",
    "    chuck - 2\n",
    "    if - 1\n",
    "    could - 1"
   ]
  },
  {
   "cell_type": "code",
   "execution_count": 28,
   "metadata": {},
   "outputs": [
    {
     "data": {
      "text/html": [
       "<dl>\n",
       "\t<dt>$how</dt>\n",
       "\t\t<dd>1</dd>\n",
       "\t<dt>$much</dt>\n",
       "\t\t<dd>1</dd>\n",
       "\t<dt>$wood</dt>\n",
       "\t\t<dd>2</dd>\n",
       "\t<dt>$would</dt>\n",
       "\t\t<dd>1</dd>\n",
       "\t<dt>$a</dt>\n",
       "\t\t<dd>2</dd>\n",
       "\t<dt>$woodchuck</dt>\n",
       "\t\t<dd>2</dd>\n",
       "\t<dt>$chuck</dt>\n",
       "\t\t<dd>2</dd>\n",
       "\t<dt>$`if`</dt>\n",
       "\t\t<dd>1</dd>\n",
       "\t<dt>$could</dt>\n",
       "\t\t<dd>1</dd>\n",
       "</dl>\n"
      ],
      "text/latex": [
       "\\begin{description}\n",
       "\\item[\\$how] 1\n",
       "\\item[\\$much] 1\n",
       "\\item[\\$wood] 2\n",
       "\\item[\\$would] 1\n",
       "\\item[\\$a] 2\n",
       "\\item[\\$woodchuck] 2\n",
       "\\item[\\$chuck] 2\n",
       "\\item[\\$`if`] 1\n",
       "\\item[\\$could] 1\n",
       "\\end{description}\n"
      ],
      "text/markdown": [
       "$how\n",
       ":   1\n",
       "$much\n",
       ":   1\n",
       "$wood\n",
       ":   2\n",
       "$would\n",
       ":   1\n",
       "$a\n",
       ":   2\n",
       "$woodchuck\n",
       ":   2\n",
       "$chuck\n",
       ":   2\n",
       "$`if`\n",
       ":   1\n",
       "$could\n",
       ":   1\n",
       "\n",
       "\n"
      ],
      "text/plain": [
       "$how\n",
       "[1] 1\n",
       "\n",
       "$much\n",
       "[1] 1\n",
       "\n",
       "$wood\n",
       "[1] 2\n",
       "\n",
       "$would\n",
       "[1] 1\n",
       "\n",
       "$a\n",
       "[1] 2\n",
       "\n",
       "$woodchuck\n",
       "[1] 2\n",
       "\n",
       "$chuck\n",
       "[1] 2\n",
       "\n",
       "$`if`\n",
       "[1] 1\n",
       "\n",
       "$could\n",
       "[1] 1\n"
      ]
     },
     "metadata": {},
     "output_type": "display_data"
    }
   ],
   "source": [
    "input <- \"how much wood would a woodchuck chuck if a woodchuck could chuck wood\"\n",
    "stringList <- strsplit(input, \" \")\n",
    "words <- list()\n",
    "for(word in stringList[[1]]) {\n",
    "    if(word %in% names(words)) {\n",
    "        words[[word]] <- words[[word]] + 1\n",
    "    } else {\n",
    "        words[[word]] <- 1\n",
    "    }\n",
    "}\n",
    "words"
   ]
  },
  {
   "cell_type": "markdown",
   "metadata": {},
   "source": [
    "## Adding an array border\n",
    "As we will see later in the class, arrays can be used to represent images. In particular, black and white images can be represented by a 2D array, with one number (usually 0) representing black and another number (usually 1, but sometimes something else) representing white, and gray being everything in between. Here we just want to test your ability to handle a 2D array and add a border (filled with 0's) around it. In code this means creating an array of 0’s of width+2 by height+2 size and copying the original array into the middle appropriately.\n",
    "Test with an array in the center that has non-zero elements. First print the original array, then print the new array with the added border of 0’s. For example:\n",
    "\n",
    "Expected Output:\n",
    "\n",
    "Original array: \n",
    "\n",
    "    [[ 1 1 1 1 ] \n",
    "     [ 1 1 1 1 ] \n",
    "     [ 1 1 1 1 ]] \n",
    "\n",
    "New array (0 on the border and 1 inside in the array): \n",
    "    \n",
    "    [[ 0 0 0 0 0 0 ] \n",
    "     [ 0 1 1 1 1 0 ] \n",
    "     [ 0 1 1 1 1 0 ] \n",
    "     [ 0 1 1 1 1 0 ] \n",
    "     [ 0 0 0 0 0 0 ]]\n"
   ]
  },
  {
   "cell_type": "code",
   "execution_count": 31,
   "metadata": {},
   "outputs": [
    {
     "data": {
      "text/html": [
       "<table>\n",
       "<tbody>\n",
       "\t<tr><td>0</td><td>0</td><td>0</td><td>0</td><td>0</td><td>0</td></tr>\n",
       "\t<tr><td>0</td><td>1</td><td>1</td><td>1</td><td>1</td><td>0</td></tr>\n",
       "\t<tr><td>0</td><td>1</td><td>1</td><td>1</td><td>1</td><td>0</td></tr>\n",
       "\t<tr><td>0</td><td>1</td><td>1</td><td>1</td><td>1</td><td>0</td></tr>\n",
       "\t<tr><td>0</td><td>0</td><td>0</td><td>0</td><td>0</td><td>0</td></tr>\n",
       "</tbody>\n",
       "</table>\n"
      ],
      "text/latex": [
       "\\begin{tabular}{llllll}\n",
       "\t 0 & 0 & 0 & 0 & 0 & 0\\\\\n",
       "\t 0 & 1 & 1 & 1 & 1 & 0\\\\\n",
       "\t 0 & 1 & 1 & 1 & 1 & 0\\\\\n",
       "\t 0 & 1 & 1 & 1 & 1 & 0\\\\\n",
       "\t 0 & 0 & 0 & 0 & 0 & 0\\\\\n",
       "\\end{tabular}\n"
      ],
      "text/markdown": [
       "\n",
       "| 0 | 0 | 0 | 0 | 0 | 0 | \n",
       "| 0 | 1 | 1 | 1 | 1 | 0 | \n",
       "| 0 | 1 | 1 | 1 | 1 | 0 | \n",
       "| 0 | 1 | 1 | 1 | 1 | 0 | \n",
       "| 0 | 0 | 0 | 0 | 0 | 0 | \n",
       "\n",
       "\n"
      ],
      "text/plain": [
       "     [,1] [,2] [,3] [,4] [,5] [,6]\n",
       "[1,] 0    0    0    0    0    0   \n",
       "[2,] 0    1    1    1    1    0   \n",
       "[3,] 0    1    1    1    1    0   \n",
       "[4,] 0    1    1    1    1    0   \n",
       "[5,] 0    0    0    0    0    0   "
      ]
     },
     "metadata": {},
     "output_type": "display_data"
    }
   ],
   "source": [
    "original <- array(1, c(3,4))\n",
    "rows <- nrow(original) + 2\n",
    "columns <- ncol(original) + 2\n",
    "newArray <- array(1, c(rows, columns))\n",
    "for(i in 1:rows){\n",
    "    for(j in 1:columns){\n",
    "        if(i == 1 | i == rows){\n",
    "            newArray[i, j] <- 0\n",
    "        } else if(j==1 | j==columns) {\n",
    "            newArray[i, j] <- 0\n",
    "        }\n",
    "    }\n",
    "}\n",
    "newArray"
   ]
  }
 ],
 "metadata": {
  "kernelspec": {
   "display_name": "R",
   "language": "R",
   "name": "ir"
  },
  "language_info": {
   "codemirror_mode": "r",
   "file_extension": ".r",
   "mimetype": "text/x-r-source",
   "name": "R",
   "pygments_lexer": "r",
   "version": "3.5.0"
  }
 },
 "nbformat": 4,
 "nbformat_minor": 2
}
