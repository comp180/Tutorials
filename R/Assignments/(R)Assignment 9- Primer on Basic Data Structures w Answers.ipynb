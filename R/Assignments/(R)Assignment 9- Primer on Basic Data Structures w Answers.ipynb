{
 "cells": [
  {
   "cell_type": "markdown",
   "metadata": {},
   "source": [
    "# Assignment 9: Primer for Basic Data Structures with Answers\n",
    "\n",
    "For help with this assignment, you can use the following table:\n",
    "[basic data structures](https://docs.google.com/document/d/1Q5VfbGyep-nC7oBmGEExpQpbGa5nwpDz4gaSIYqxY8w/edit?usp=sharing)\n",
    "*Note the table will not be sufficient on its own for you to complete the assignment, however in the cases where it is not sufficient it can point you to the correct function or approach to answer the problem*\n",
    "\n",
    "## Lists\n",
    "\n",
    "Make a list with the spelled-out number strings ‘one’, ‘two’, ‘three’, ‘four’, and ‘five’ in that order and call it myList."
   ]
  },
  {
   "cell_type": "code",
   "execution_count": 13,
   "metadata": {},
   "outputs": [],
   "source": [
    "myList <- list(\"one\", \"two\", \"three\", \"four\", \"five\")"
   ]
  },
  {
   "cell_type": "markdown",
   "metadata": {},
   "source": [
    "Remove ‘three’ from the list using positional indexing"
   ]
  },
  {
   "cell_type": "code",
   "execution_count": 14,
   "metadata": {},
   "outputs": [
    {
     "data": {
      "text/html": [
       "<ol>\n",
       "\t<li>'one'</li>\n",
       "\t<li>'two'</li>\n",
       "\t<li>'four'</li>\n",
       "\t<li>'five'</li>\n",
       "</ol>\n"
      ],
      "text/latex": [
       "\\begin{enumerate}\n",
       "\\item 'one'\n",
       "\\item 'two'\n",
       "\\item 'four'\n",
       "\\item 'five'\n",
       "\\end{enumerate}\n"
      ],
      "text/markdown": [
       "1. 'one'\n",
       "2. 'two'\n",
       "3. 'four'\n",
       "4. 'five'\n",
       "\n",
       "\n"
      ],
      "text/plain": [
       "[[1]]\n",
       "[1] \"one\"\n",
       "\n",
       "[[2]]\n",
       "[1] \"two\"\n",
       "\n",
       "[[3]]\n",
       "[1] \"four\"\n",
       "\n",
       "[[4]]\n",
       "[1] \"five\"\n"
      ]
     },
     "metadata": {},
     "output_type": "display_data"
    }
   ],
   "source": [
    "myList<-myList[-3]\n",
    "myList"
   ]
  },
  {
   "cell_type": "markdown",
   "metadata": {},
   "source": [
    "Check if ‘four’ is in the list"
   ]
  },
  {
   "cell_type": "code",
   "execution_count": 15,
   "metadata": {},
   "outputs": [
    {
     "data": {
      "text/html": [
       "TRUE"
      ],
      "text/latex": [
       "TRUE"
      ],
      "text/markdown": [
       "TRUE"
      ],
      "text/plain": [
       "[1] TRUE"
      ]
     },
     "metadata": {},
     "output_type": "display_data"
    }
   ],
   "source": [
    "is.element(\"four\", myList)"
   ]
  },
  {
   "cell_type": "markdown",
   "metadata": {},
   "source": [
    "Append ‘six’ to the end of the list, then print the length of the list"
   ]
  },
  {
   "cell_type": "code",
   "execution_count": 17,
   "metadata": {},
   "outputs": [
    {
     "data": {
      "text/html": [
       "<ol>\n",
       "\t<li>'one'</li>\n",
       "\t<li>'two'</li>\n",
       "\t<li>'four'</li>\n",
       "\t<li>'five'</li>\n",
       "\t<li>'six'</li>\n",
       "</ol>\n"
      ],
      "text/latex": [
       "\\begin{enumerate}\n",
       "\\item 'one'\n",
       "\\item 'two'\n",
       "\\item 'four'\n",
       "\\item 'five'\n",
       "\\item 'six'\n",
       "\\end{enumerate}\n"
      ],
      "text/markdown": [
       "1. 'one'\n",
       "2. 'two'\n",
       "3. 'four'\n",
       "4. 'five'\n",
       "5. 'six'\n",
       "\n",
       "\n"
      ],
      "text/plain": [
       "[[1]]\n",
       "[1] \"one\"\n",
       "\n",
       "[[2]]\n",
       "[1] \"two\"\n",
       "\n",
       "[[3]]\n",
       "[1] \"four\"\n",
       "\n",
       "[[4]]\n",
       "[1] \"five\"\n",
       "\n",
       "[[5]]\n",
       "[1] \"six\"\n"
      ]
     },
     "metadata": {},
     "output_type": "display_data"
    }
   ],
   "source": [
    "myList <- c(myList, \"six\")\n",
    "myList"
   ]
  },
  {
   "cell_type": "markdown",
   "metadata": {},
   "source": [
    "Print only the last two items in the list"
   ]
  },
  {
   "cell_type": "code",
   "execution_count": 19,
   "metadata": {},
   "outputs": [
    {
     "data": {
      "text/html": [
       "<ol>\n",
       "\t<li>'five'</li>\n",
       "\t<li>'six'</li>\n",
       "</ol>\n"
      ],
      "text/latex": [
       "\\begin{enumerate}\n",
       "\\item 'five'\n",
       "\\item 'six'\n",
       "\\end{enumerate}\n"
      ],
      "text/markdown": [
       "1. 'five'\n",
       "2. 'six'\n",
       "\n",
       "\n"
      ],
      "text/plain": [
       "[[1]]\n",
       "[1] \"five\"\n",
       "\n",
       "[[2]]\n",
       "[1] \"six\"\n"
      ]
     },
     "metadata": {},
     "output_type": "display_data"
    }
   ],
   "source": [
    "myList[4:5]"
   ]
  },
  {
   "cell_type": "markdown",
   "metadata": {},
   "source": [
    "Print the contents of the list, but also next to each item print the length of the string (e.g. ‘one’ is 3, ‘four’ is 4) using a for loop"
   ]
  },
  {
   "cell_type": "code",
   "execution_count": 32,
   "metadata": {},
   "outputs": [
    {
     "name": "stdout",
     "output_type": "stream",
     "text": [
      "one is 3 \n",
      "two is 3 \n",
      "four is 4 \n",
      "five is 4 \n",
      "six is 3 \n"
     ]
    }
   ],
   "source": [
    "for(word in myList) {\n",
    "    cat(word, \"is\", nchar(word), \"\\n\")\n",
    "}"
   ]
  },
  {
   "cell_type": "markdown",
   "metadata": {},
   "source": [
    "Create a list only of the lengths of the strings and show your result. You can use the loop before to fill the list"
   ]
  },
  {
   "cell_type": "code",
   "execution_count": 35,
   "metadata": {},
   "outputs": [
    {
     "data": {
      "text/html": [
       "<ol>\n",
       "\t<li>3</li>\n",
       "\t<li>3</li>\n",
       "\t<li>4</li>\n",
       "\t<li>4</li>\n",
       "\t<li>3</li>\n",
       "</ol>\n"
      ],
      "text/latex": [
       "\\begin{enumerate}\n",
       "\\item 3\n",
       "\\item 3\n",
       "\\item 4\n",
       "\\item 4\n",
       "\\item 3\n",
       "\\end{enumerate}\n"
      ],
      "text/markdown": [
       "1. 3\n",
       "2. 3\n",
       "3. 4\n",
       "4. 4\n",
       "5. 3\n",
       "\n",
       "\n"
      ],
      "text/plain": [
       "[[1]]\n",
       "[1] 3\n",
       "\n",
       "[[2]]\n",
       "[1] 3\n",
       "\n",
       "[[3]]\n",
       "[1] 4\n",
       "\n",
       "[[4]]\n",
       "[1] 4\n",
       "\n",
       "[[5]]\n",
       "[1] 3\n"
      ]
     },
     "metadata": {},
     "output_type": "display_data"
    }
   ],
   "source": [
    "wordLength <- list()\n",
    "for(word in myList) {\n",
    "    wordLength <- c(wordLength, nchar(word))\n",
    "}\n",
    "wordLength"
   ]
  },
  {
   "cell_type": "markdown",
   "metadata": {},
   "source": [
    "# Dictionaries\n",
    "\n",
    "Make a dictionary with the keys english words as below, and the values be the translation. \n",
    "You can use this language example (German) or choose your own.\n",
    "*note: you need to make sure all of these words are represented as strings, in quotes*\n",
    "* apple - Apfel\n",
    "* apples - Äpfel\n",
    "* I - Ich\n",
    "* and - und\n",
    "* like - mag\n",
    "* strawberries - Erdbeeren"
   ]
  },
  {
   "cell_type": "code",
   "execution_count": 56,
   "metadata": {},
   "outputs": [
    {
     "data": {
      "text/html": [
       "<dl>\n",
       "\t<dt>$apple</dt>\n",
       "\t\t<dd>'Apfel'</dd>\n",
       "\t<dt>$apples</dt>\n",
       "\t\t<dd>'Äpfel'</dd>\n",
       "\t<dt>$I</dt>\n",
       "\t\t<dd>'Ich'</dd>\n",
       "\t<dt>$and</dt>\n",
       "\t\t<dd>'und'</dd>\n",
       "\t<dt>$like</dt>\n",
       "\t\t<dd>'mag'</dd>\n",
       "\t<dt>$strawberries</dt>\n",
       "\t\t<dd>'erdbeeren'</dd>\n",
       "</dl>\n"
      ],
      "text/latex": [
       "\\begin{description}\n",
       "\\item[\\$apple] 'Apfel'\n",
       "\\item[\\$apples] 'Äpfel'\n",
       "\\item[\\$I] 'Ich'\n",
       "\\item[\\$and] 'und'\n",
       "\\item[\\$like] 'mag'\n",
       "\\item[\\$strawberries] 'erdbeeren'\n",
       "\\end{description}\n"
      ],
      "text/markdown": [
       "$apple\n",
       ":   'Apfel'\n",
       "$apples\n",
       ":   'Äpfel'\n",
       "$I\n",
       ":   'Ich'\n",
       "$and\n",
       ":   'und'\n",
       "$like\n",
       ":   'mag'\n",
       "$strawberries\n",
       ":   'erdbeeren'\n",
       "\n",
       "\n"
      ],
      "text/plain": [
       "$apple\n",
       "[1] \"Apfel\"\n",
       "\n",
       "$apples\n",
       "[1] \"Äpfel\"\n",
       "\n",
       "$I\n",
       "[1] \"Ich\"\n",
       "\n",
       "$and\n",
       "[1] \"und\"\n",
       "\n",
       "$like\n",
       "[1] \"mag\"\n",
       "\n",
       "$strawberries\n",
       "[1] \"erdbeeren\"\n"
      ]
     },
     "metadata": {},
     "output_type": "display_data"
    }
   ],
   "source": [
    "dictionary <- list(\"apple\" = \"Apfel\", \n",
    "                   \"apples\" = \"Äpfel\",\n",
    "                   \"I\" = \"Ich\",\n",
    "                  \"and\" = \"und\",\n",
    "                  \"like\" = \"mag\",\n",
    "                  \"strawberries\" = \"erdbeeren\")\n",
    "dictionary"
   ]
  },
  {
   "cell_type": "markdown",
   "metadata": {},
   "source": [
    "Use the dictionary to look up the translation for ‘apple’ and ‘like’"
   ]
  },
  {
   "cell_type": "code",
   "execution_count": 38,
   "metadata": {},
   "outputs": [
    {
     "data": {
      "text/html": [
       "'Apfel'"
      ],
      "text/latex": [
       "'Apfel'"
      ],
      "text/markdown": [
       "'Apfel'"
      ],
      "text/plain": [
       "[1] \"Apfel\""
      ]
     },
     "metadata": {},
     "output_type": "display_data"
    },
    {
     "data": {
      "text/html": [
       "'mag'"
      ],
      "text/latex": [
       "'mag'"
      ],
      "text/markdown": [
       "'mag'"
      ],
      "text/plain": [
       "[1] \"mag\""
      ]
     },
     "metadata": {},
     "output_type": "display_data"
    }
   ],
   "source": [
    "dictionary[[\"apple\"]]\n",
    "dictionary[[\"like\"]]"
   ]
  },
  {
   "cell_type": "markdown",
   "metadata": {},
   "source": [
    "Make a variable var with the string “I like apples and strawberries”"
   ]
  },
  {
   "cell_type": "code",
   "execution_count": 40,
   "metadata": {},
   "outputs": [
    {
     "data": {
      "text/html": [
       "'I like apples and strawberries'"
      ],
      "text/latex": [
       "'I like apples and strawberries'"
      ],
      "text/markdown": [
       "'I like apples and strawberries'"
      ],
      "text/plain": [
       "[1] \"I like apples and strawberries\""
      ]
     },
     "metadata": {},
     "output_type": "display_data"
    }
   ],
   "source": [
    "var <- \"I like apples and strawberries\"\n",
    "var"
   ]
  },
  {
   "cell_type": "markdown",
   "metadata": {},
   "source": [
    "Now create a list from var with each word a separate item (this is a string split operation)"
   ]
  },
  {
   "cell_type": "code",
   "execution_count": 43,
   "metadata": {},
   "outputs": [
    {
     "data": {
      "text/html": [
       "<ol>\n",
       "\t<li><ol class=list-inline>\n",
       "\t<li>'I'</li>\n",
       "\t<li>'like'</li>\n",
       "\t<li>'apples'</li>\n",
       "\t<li>'and'</li>\n",
       "\t<li>'strawberries'</li>\n",
       "</ol>\n",
       "</li>\n",
       "</ol>\n"
      ],
      "text/latex": [
       "\\begin{enumerate}\n",
       "\\item \\begin{enumerate*}\n",
       "\\item 'I'\n",
       "\\item 'like'\n",
       "\\item 'apples'\n",
       "\\item 'and'\n",
       "\\item 'strawberries'\n",
       "\\end{enumerate*}\n",
       "\n",
       "\\end{enumerate}\n"
      ],
      "text/markdown": [
       "1. 1. 'I'\n",
       "2. 'like'\n",
       "3. 'apples'\n",
       "4. 'and'\n",
       "5. 'strawberries'\n",
       "\n",
       "\n",
       "\n",
       "\n",
       "\n"
      ],
      "text/plain": [
       "[[1]]\n",
       "[1] \"I\"            \"like\"         \"apples\"       \"and\"          \"strawberries\"\n"
      ]
     },
     "metadata": {},
     "output_type": "display_data"
    }
   ],
   "source": [
    "varList <- strsplit(var, \" \")\n",
    "varList"
   ]
  },
  {
   "cell_type": "markdown",
   "metadata": {},
   "source": [
    "Iterate through the list you’ve created and replace any word in your dictionary with the translation"
   ]
  },
  {
   "cell_type": "code",
   "execution_count": 57,
   "metadata": {},
   "outputs": [
    {
     "data": {
      "text/html": [
       "<ol class=list-inline>\n",
       "\t<li>'Ich'</li>\n",
       "\t<li>'mag'</li>\n",
       "\t<li>'Äpfel'</li>\n",
       "\t<li>'und'</li>\n",
       "\t<li>'erdbeeren'</li>\n",
       "</ol>\n"
      ],
      "text/latex": [
       "\\begin{enumerate*}\n",
       "\\item 'Ich'\n",
       "\\item 'mag'\n",
       "\\item 'Äpfel'\n",
       "\\item 'und'\n",
       "\\item 'erdbeeren'\n",
       "\\end{enumerate*}\n"
      ],
      "text/markdown": [
       "1. 'Ich'\n",
       "2. 'mag'\n",
       "3. 'Äpfel'\n",
       "4. 'und'\n",
       "5. 'erdbeeren'\n",
       "\n",
       "\n"
      ],
      "text/plain": [
       "[1] \"Ich\"       \"mag\"       \"Äpfel\"     \"und\"       \"erdbeeren\""
      ]
     },
     "metadata": {},
     "output_type": "display_data"
    }
   ],
   "source": [
    "newList <- c()\n",
    "for(word in varList[[1]]) {\n",
    "    for(key in names(dictionary)) {\n",
    "        if(word == key) {\n",
    "        word <- dictionary[[word]]\n",
    "        }\n",
    "    }\n",
    "    newList <- c(newList, word)\n",
    "}\n",
    "newList"
   ]
  },
  {
   "cell_type": "markdown",
   "metadata": {},
   "source": [
    "Now take your new list and turn it into a string with spaces between the words"
   ]
  },
  {
   "cell_type": "code",
   "execution_count": 58,
   "metadata": {},
   "outputs": [
    {
     "data": {
      "text/html": [
       "' Ich mag Äpfel und erdbeeren'"
      ],
      "text/latex": [
       "' Ich mag Äpfel und erdbeeren'"
      ],
      "text/markdown": [
       "' Ich mag Äpfel und erdbeeren'"
      ],
      "text/plain": [
       "[1] \" Ich mag Äpfel und erdbeeren\""
      ]
     },
     "metadata": {},
     "output_type": "display_data"
    }
   ],
   "source": [
    "newString <- \"\"\n",
    "for(word in newList) {\n",
    "    newString <- paste(newString, word, collapse = \" \")\n",
    "}\n",
    "newString"
   ]
  },
  {
   "cell_type": "markdown",
   "metadata": {},
   "source": [
    "# Arrays\n",
    "\n",
    "Create an array of zeros of size 8 x 8 and print the data type of the array"
   ]
  },
  {
   "cell_type": "code",
   "execution_count": 62,
   "metadata": {},
   "outputs": [
    {
     "data": {
      "text/html": [
       "<table>\n",
       "<tbody>\n",
       "\t<tr><td>0</td><td>0</td><td>0</td><td>0</td><td>0</td><td>0</td><td>0</td><td>0</td></tr>\n",
       "\t<tr><td>0</td><td>0</td><td>0</td><td>0</td><td>0</td><td>0</td><td>0</td><td>0</td></tr>\n",
       "\t<tr><td>0</td><td>0</td><td>0</td><td>0</td><td>0</td><td>0</td><td>0</td><td>0</td></tr>\n",
       "\t<tr><td>0</td><td>0</td><td>0</td><td>0</td><td>0</td><td>0</td><td>0</td><td>0</td></tr>\n",
       "\t<tr><td>0</td><td>0</td><td>0</td><td>0</td><td>0</td><td>0</td><td>0</td><td>0</td></tr>\n",
       "\t<tr><td>0</td><td>0</td><td>0</td><td>0</td><td>0</td><td>0</td><td>0</td><td>0</td></tr>\n",
       "\t<tr><td>0</td><td>0</td><td>0</td><td>0</td><td>0</td><td>0</td><td>0</td><td>0</td></tr>\n",
       "\t<tr><td>0</td><td>0</td><td>0</td><td>0</td><td>0</td><td>0</td><td>0</td><td>0</td></tr>\n",
       "</tbody>\n",
       "</table>\n"
      ],
      "text/latex": [
       "\\begin{tabular}{llllllll}\n",
       "\t 0 & 0 & 0 & 0 & 0 & 0 & 0 & 0\\\\\n",
       "\t 0 & 0 & 0 & 0 & 0 & 0 & 0 & 0\\\\\n",
       "\t 0 & 0 & 0 & 0 & 0 & 0 & 0 & 0\\\\\n",
       "\t 0 & 0 & 0 & 0 & 0 & 0 & 0 & 0\\\\\n",
       "\t 0 & 0 & 0 & 0 & 0 & 0 & 0 & 0\\\\\n",
       "\t 0 & 0 & 0 & 0 & 0 & 0 & 0 & 0\\\\\n",
       "\t 0 & 0 & 0 & 0 & 0 & 0 & 0 & 0\\\\\n",
       "\t 0 & 0 & 0 & 0 & 0 & 0 & 0 & 0\\\\\n",
       "\\end{tabular}\n"
      ],
      "text/markdown": [
       "\n",
       "| 0 | 0 | 0 | 0 | 0 | 0 | 0 | 0 | \n",
       "| 0 | 0 | 0 | 0 | 0 | 0 | 0 | 0 | \n",
       "| 0 | 0 | 0 | 0 | 0 | 0 | 0 | 0 | \n",
       "| 0 | 0 | 0 | 0 | 0 | 0 | 0 | 0 | \n",
       "| 0 | 0 | 0 | 0 | 0 | 0 | 0 | 0 | \n",
       "| 0 | 0 | 0 | 0 | 0 | 0 | 0 | 0 | \n",
       "| 0 | 0 | 0 | 0 | 0 | 0 | 0 | 0 | \n",
       "| 0 | 0 | 0 | 0 | 0 | 0 | 0 | 0 | \n",
       "\n",
       "\n"
      ],
      "text/plain": [
       "     [,1] [,2] [,3] [,4] [,5] [,6] [,7] [,8]\n",
       "[1,] 0    0    0    0    0    0    0    0   \n",
       "[2,] 0    0    0    0    0    0    0    0   \n",
       "[3,] 0    0    0    0    0    0    0    0   \n",
       "[4,] 0    0    0    0    0    0    0    0   \n",
       "[5,] 0    0    0    0    0    0    0    0   \n",
       "[6,] 0    0    0    0    0    0    0    0   \n",
       "[7,] 0    0    0    0    0    0    0    0   \n",
       "[8,] 0    0    0    0    0    0    0    0   "
      ]
     },
     "metadata": {},
     "output_type": "display_data"
    },
    {
     "data": {
      "text/html": [
       "'matrix'"
      ],
      "text/latex": [
       "'matrix'"
      ],
      "text/markdown": [
       "'matrix'"
      ],
      "text/plain": [
       "[1] \"matrix\""
      ]
     },
     "metadata": {},
     "output_type": "display_data"
    }
   ],
   "source": [
    "data <- array(0, dim = c(8,8))\n",
    "data\n",
    "class(data)"
   ]
  },
  {
   "cell_type": "markdown",
   "metadata": {},
   "source": [
    "Fill the array with the numbers 1 to 64 first by row, then by column you may want to use a for loop inside a for loop to do this"
   ]
  },
  {
   "cell_type": "code",
   "execution_count": 66,
   "metadata": {},
   "outputs": [
    {
     "data": {
      "text/html": [
       "<table>\n",
       "<tbody>\n",
       "\t<tr><td> 1</td><td> 2</td><td> 3</td><td> 4</td><td> 5</td><td> 6</td><td> 7</td><td> 8</td></tr>\n",
       "\t<tr><td> 9</td><td>10</td><td>11</td><td>12</td><td>13</td><td>14</td><td>15</td><td>16</td></tr>\n",
       "\t<tr><td>17</td><td>18</td><td>19</td><td>20</td><td>21</td><td>22</td><td>23</td><td>24</td></tr>\n",
       "\t<tr><td>25</td><td>26</td><td>27</td><td>28</td><td>29</td><td>30</td><td>31</td><td>32</td></tr>\n",
       "\t<tr><td>33</td><td>34</td><td>35</td><td>36</td><td>37</td><td>38</td><td>39</td><td>40</td></tr>\n",
       "\t<tr><td>41</td><td>42</td><td>43</td><td>44</td><td>45</td><td>46</td><td>47</td><td>48</td></tr>\n",
       "\t<tr><td>49</td><td>50</td><td>51</td><td>52</td><td>53</td><td>54</td><td>55</td><td>56</td></tr>\n",
       "\t<tr><td>57</td><td>58</td><td>59</td><td>60</td><td>61</td><td>62</td><td>63</td><td>64</td></tr>\n",
       "</tbody>\n",
       "</table>\n"
      ],
      "text/latex": [
       "\\begin{tabular}{llllllll}\n",
       "\t  1 &  2 &  3 &  4 &  5 &  6 &  7 &  8\\\\\n",
       "\t  9 & 10 & 11 & 12 & 13 & 14 & 15 & 16\\\\\n",
       "\t 17 & 18 & 19 & 20 & 21 & 22 & 23 & 24\\\\\n",
       "\t 25 & 26 & 27 & 28 & 29 & 30 & 31 & 32\\\\\n",
       "\t 33 & 34 & 35 & 36 & 37 & 38 & 39 & 40\\\\\n",
       "\t 41 & 42 & 43 & 44 & 45 & 46 & 47 & 48\\\\\n",
       "\t 49 & 50 & 51 & 52 & 53 & 54 & 55 & 56\\\\\n",
       "\t 57 & 58 & 59 & 60 & 61 & 62 & 63 & 64\\\\\n",
       "\\end{tabular}\n"
      ],
      "text/markdown": [
       "\n",
       "|  1 |  2 |  3 |  4 |  5 |  6 |  7 |  8 | \n",
       "|  9 | 10 | 11 | 12 | 13 | 14 | 15 | 16 | \n",
       "| 17 | 18 | 19 | 20 | 21 | 22 | 23 | 24 | \n",
       "| 25 | 26 | 27 | 28 | 29 | 30 | 31 | 32 | \n",
       "| 33 | 34 | 35 | 36 | 37 | 38 | 39 | 40 | \n",
       "| 41 | 42 | 43 | 44 | 45 | 46 | 47 | 48 | \n",
       "| 49 | 50 | 51 | 52 | 53 | 54 | 55 | 56 | \n",
       "| 57 | 58 | 59 | 60 | 61 | 62 | 63 | 64 | \n",
       "\n",
       "\n"
      ],
      "text/plain": [
       "     [,1] [,2] [,3] [,4] [,5] [,6] [,7] [,8]\n",
       "[1,]  1    2    3    4    5    6    7    8  \n",
       "[2,]  9   10   11   12   13   14   15   16  \n",
       "[3,] 17   18   19   20   21   22   23   24  \n",
       "[4,] 25   26   27   28   29   30   31   32  \n",
       "[5,] 33   34   35   36   37   38   39   40  \n",
       "[6,] 41   42   43   44   45   46   47   48  \n",
       "[7,] 49   50   51   52   53   54   55   56  \n",
       "[8,] 57   58   59   60   61   62   63   64  "
      ]
     },
     "metadata": {},
     "output_type": "display_data"
    },
    {
     "data": {
      "text/html": [
       "<table>\n",
       "<tbody>\n",
       "\t<tr><td>1 </td><td> 9</td><td>17</td><td>25</td><td>33</td><td>41</td><td>49</td><td>57</td></tr>\n",
       "\t<tr><td>2 </td><td>10</td><td>18</td><td>26</td><td>34</td><td>42</td><td>50</td><td>58</td></tr>\n",
       "\t<tr><td>3 </td><td>11</td><td>19</td><td>27</td><td>35</td><td>43</td><td>51</td><td>59</td></tr>\n",
       "\t<tr><td>4 </td><td>12</td><td>20</td><td>28</td><td>36</td><td>44</td><td>52</td><td>60</td></tr>\n",
       "\t<tr><td>5 </td><td>13</td><td>21</td><td>29</td><td>37</td><td>45</td><td>53</td><td>61</td></tr>\n",
       "\t<tr><td>6 </td><td>14</td><td>22</td><td>30</td><td>38</td><td>46</td><td>54</td><td>62</td></tr>\n",
       "\t<tr><td>7 </td><td>15</td><td>23</td><td>31</td><td>39</td><td>47</td><td>55</td><td>63</td></tr>\n",
       "\t<tr><td>8 </td><td>16</td><td>24</td><td>32</td><td>40</td><td>48</td><td>56</td><td>64</td></tr>\n",
       "</tbody>\n",
       "</table>\n"
      ],
      "text/latex": [
       "\\begin{tabular}{llllllll}\n",
       "\t 1  &  9 & 17 & 25 & 33 & 41 & 49 & 57\\\\\n",
       "\t 2  & 10 & 18 & 26 & 34 & 42 & 50 & 58\\\\\n",
       "\t 3  & 11 & 19 & 27 & 35 & 43 & 51 & 59\\\\\n",
       "\t 4  & 12 & 20 & 28 & 36 & 44 & 52 & 60\\\\\n",
       "\t 5  & 13 & 21 & 29 & 37 & 45 & 53 & 61\\\\\n",
       "\t 6  & 14 & 22 & 30 & 38 & 46 & 54 & 62\\\\\n",
       "\t 7  & 15 & 23 & 31 & 39 & 47 & 55 & 63\\\\\n",
       "\t 8  & 16 & 24 & 32 & 40 & 48 & 56 & 64\\\\\n",
       "\\end{tabular}\n"
      ],
      "text/markdown": [
       "\n",
       "| 1  |  9 | 17 | 25 | 33 | 41 | 49 | 57 | \n",
       "| 2  | 10 | 18 | 26 | 34 | 42 | 50 | 58 | \n",
       "| 3  | 11 | 19 | 27 | 35 | 43 | 51 | 59 | \n",
       "| 4  | 12 | 20 | 28 | 36 | 44 | 52 | 60 | \n",
       "| 5  | 13 | 21 | 29 | 37 | 45 | 53 | 61 | \n",
       "| 6  | 14 | 22 | 30 | 38 | 46 | 54 | 62 | \n",
       "| 7  | 15 | 23 | 31 | 39 | 47 | 55 | 63 | \n",
       "| 8  | 16 | 24 | 32 | 40 | 48 | 56 | 64 | \n",
       "\n",
       "\n"
      ],
      "text/plain": [
       "     [,1] [,2] [,3] [,4] [,5] [,6] [,7] [,8]\n",
       "[1,] 1     9   17   25   33   41   49   57  \n",
       "[2,] 2    10   18   26   34   42   50   58  \n",
       "[3,] 3    11   19   27   35   43   51   59  \n",
       "[4,] 4    12   20   28   36   44   52   60  \n",
       "[5,] 5    13   21   29   37   45   53   61  \n",
       "[6,] 6    14   22   30   38   46   54   62  \n",
       "[7,] 7    15   23   31   39   47   55   63  \n",
       "[8,] 8    16   24   32   40   48   56   64  "
      ]
     },
     "metadata": {},
     "output_type": "display_data"
    }
   ],
   "source": [
    "num <- 1\n",
    "for(i in 1:8) {\n",
    "    for(j in 1:8) {\n",
    "        data[i, j] = num\n",
    "        num <- num + 1\n",
    "    }\n",
    "}\n",
    "data\n",
    "num <- 1\n",
    "for(i in 1:8) {\n",
    "    for(j in 1:8) {\n",
    "        data[j, i] = num\n",
    "        num <- num + 1\n",
    "    }\n",
    "}\n",
    "data"
   ]
  },
  {
   "cell_type": "markdown",
   "metadata": {},
   "source": [
    "Transpose the array"
   ]
  },
  {
   "cell_type": "code",
   "execution_count": 70,
   "metadata": {},
   "outputs": [
    {
     "data": {
      "text/html": [
       "<table>\n",
       "<tbody>\n",
       "\t<tr><td> 1</td><td> 2</td><td> 3</td><td> 4</td><td> 5</td><td> 6</td><td> 7</td><td> 8</td></tr>\n",
       "\t<tr><td> 9</td><td>10</td><td>11</td><td>12</td><td>13</td><td>14</td><td>15</td><td>16</td></tr>\n",
       "\t<tr><td>17</td><td>18</td><td>19</td><td>20</td><td>21</td><td>22</td><td>23</td><td>24</td></tr>\n",
       "\t<tr><td>25</td><td>26</td><td>27</td><td>28</td><td>29</td><td>30</td><td>31</td><td>32</td></tr>\n",
       "\t<tr><td>33</td><td>34</td><td>35</td><td>36</td><td>37</td><td>38</td><td>39</td><td>40</td></tr>\n",
       "\t<tr><td>41</td><td>42</td><td>43</td><td>44</td><td>45</td><td>46</td><td>47</td><td>48</td></tr>\n",
       "\t<tr><td>49</td><td>50</td><td>51</td><td>52</td><td>53</td><td>54</td><td>55</td><td>56</td></tr>\n",
       "\t<tr><td>57</td><td>58</td><td>59</td><td>60</td><td>61</td><td>62</td><td>63</td><td>64</td></tr>\n",
       "</tbody>\n",
       "</table>\n"
      ],
      "text/latex": [
       "\\begin{tabular}{llllllll}\n",
       "\t  1 &  2 &  3 &  4 &  5 &  6 &  7 &  8\\\\\n",
       "\t  9 & 10 & 11 & 12 & 13 & 14 & 15 & 16\\\\\n",
       "\t 17 & 18 & 19 & 20 & 21 & 22 & 23 & 24\\\\\n",
       "\t 25 & 26 & 27 & 28 & 29 & 30 & 31 & 32\\\\\n",
       "\t 33 & 34 & 35 & 36 & 37 & 38 & 39 & 40\\\\\n",
       "\t 41 & 42 & 43 & 44 & 45 & 46 & 47 & 48\\\\\n",
       "\t 49 & 50 & 51 & 52 & 53 & 54 & 55 & 56\\\\\n",
       "\t 57 & 58 & 59 & 60 & 61 & 62 & 63 & 64\\\\\n",
       "\\end{tabular}\n"
      ],
      "text/markdown": [
       "\n",
       "|  1 |  2 |  3 |  4 |  5 |  6 |  7 |  8 | \n",
       "|  9 | 10 | 11 | 12 | 13 | 14 | 15 | 16 | \n",
       "| 17 | 18 | 19 | 20 | 21 | 22 | 23 | 24 | \n",
       "| 25 | 26 | 27 | 28 | 29 | 30 | 31 | 32 | \n",
       "| 33 | 34 | 35 | 36 | 37 | 38 | 39 | 40 | \n",
       "| 41 | 42 | 43 | 44 | 45 | 46 | 47 | 48 | \n",
       "| 49 | 50 | 51 | 52 | 53 | 54 | 55 | 56 | \n",
       "| 57 | 58 | 59 | 60 | 61 | 62 | 63 | 64 | \n",
       "\n",
       "\n"
      ],
      "text/plain": [
       "     [,1] [,2] [,3] [,4] [,5] [,6] [,7] [,8]\n",
       "[1,]  1    2    3    4    5    6    7    8  \n",
       "[2,]  9   10   11   12   13   14   15   16  \n",
       "[3,] 17   18   19   20   21   22   23   24  \n",
       "[4,] 25   26   27   28   29   30   31   32  \n",
       "[5,] 33   34   35   36   37   38   39   40  \n",
       "[6,] 41   42   43   44   45   46   47   48  \n",
       "[7,] 49   50   51   52   53   54   55   56  \n",
       "[8,] 57   58   59   60   61   62   63   64  "
      ]
     },
     "metadata": {},
     "output_type": "display_data"
    }
   ],
   "source": [
    "data<-t(data)\n",
    "data"
   ]
  },
  {
   "cell_type": "markdown",
   "metadata": {},
   "source": [
    "Print only the top 4 rows and columns"
   ]
  },
  {
   "cell_type": "code",
   "execution_count": 71,
   "metadata": {},
   "outputs": [
    {
     "data": {
      "text/html": [
       "<table>\n",
       "<tbody>\n",
       "\t<tr><td> 1</td><td> 2</td><td> 3</td><td> 4</td><td> 5</td><td> 6</td><td> 7</td><td> 8</td></tr>\n",
       "\t<tr><td> 9</td><td>10</td><td>11</td><td>12</td><td>13</td><td>14</td><td>15</td><td>16</td></tr>\n",
       "\t<tr><td>17</td><td>18</td><td>19</td><td>20</td><td>21</td><td>22</td><td>23</td><td>24</td></tr>\n",
       "\t<tr><td>25</td><td>26</td><td>27</td><td>28</td><td>29</td><td>30</td><td>31</td><td>32</td></tr>\n",
       "</tbody>\n",
       "</table>\n"
      ],
      "text/latex": [
       "\\begin{tabular}{llllllll}\n",
       "\t  1 &  2 &  3 &  4 &  5 &  6 &  7 &  8\\\\\n",
       "\t  9 & 10 & 11 & 12 & 13 & 14 & 15 & 16\\\\\n",
       "\t 17 & 18 & 19 & 20 & 21 & 22 & 23 & 24\\\\\n",
       "\t 25 & 26 & 27 & 28 & 29 & 30 & 31 & 32\\\\\n",
       "\\end{tabular}\n"
      ],
      "text/markdown": [
       "\n",
       "|  1 |  2 |  3 |  4 |  5 |  6 |  7 |  8 | \n",
       "|  9 | 10 | 11 | 12 | 13 | 14 | 15 | 16 | \n",
       "| 17 | 18 | 19 | 20 | 21 | 22 | 23 | 24 | \n",
       "| 25 | 26 | 27 | 28 | 29 | 30 | 31 | 32 | \n",
       "\n",
       "\n"
      ],
      "text/plain": [
       "     [,1] [,2] [,3] [,4] [,5] [,6] [,7] [,8]\n",
       "[1,]  1    2    3    4    5    6    7    8  \n",
       "[2,]  9   10   11   12   13   14   15   16  \n",
       "[3,] 17   18   19   20   21   22   23   24  \n",
       "[4,] 25   26   27   28   29   30   31   32  "
      ]
     },
     "metadata": {},
     "output_type": "display_data"
    }
   ],
   "source": [
    "data[1:4,]"
   ]
  },
  {
   "cell_type": "markdown",
   "metadata": {},
   "source": [
    "Make a 1D array out of your 2D array with the numbers 1 to 64 in order (note the column vs row issue, you may need transposes)"
   ]
  },
  {
   "cell_type": "code",
   "execution_count": 81,
   "metadata": {},
   "outputs": [
    {
     "data": {
      "text/html": [
       "<ol class=list-inline>\n",
       "\t<li>1</li>\n",
       "\t<li>2</li>\n",
       "\t<li>3</li>\n",
       "\t<li>4</li>\n",
       "\t<li>5</li>\n",
       "\t<li>6</li>\n",
       "\t<li>7</li>\n",
       "\t<li>8</li>\n",
       "\t<li>9</li>\n",
       "\t<li>10</li>\n",
       "\t<li>11</li>\n",
       "\t<li>12</li>\n",
       "\t<li>13</li>\n",
       "\t<li>14</li>\n",
       "\t<li>15</li>\n",
       "\t<li>16</li>\n",
       "\t<li>17</li>\n",
       "\t<li>18</li>\n",
       "\t<li>19</li>\n",
       "\t<li>20</li>\n",
       "\t<li>21</li>\n",
       "\t<li>22</li>\n",
       "\t<li>23</li>\n",
       "\t<li>24</li>\n",
       "\t<li>25</li>\n",
       "\t<li>26</li>\n",
       "\t<li>27</li>\n",
       "\t<li>28</li>\n",
       "\t<li>29</li>\n",
       "\t<li>30</li>\n",
       "\t<li>31</li>\n",
       "\t<li>32</li>\n",
       "\t<li>33</li>\n",
       "\t<li>34</li>\n",
       "\t<li>35</li>\n",
       "\t<li>36</li>\n",
       "\t<li>37</li>\n",
       "\t<li>38</li>\n",
       "\t<li>39</li>\n",
       "\t<li>40</li>\n",
       "\t<li>41</li>\n",
       "\t<li>42</li>\n",
       "\t<li>43</li>\n",
       "\t<li>44</li>\n",
       "\t<li>45</li>\n",
       "\t<li>46</li>\n",
       "\t<li>47</li>\n",
       "\t<li>48</li>\n",
       "\t<li>49</li>\n",
       "\t<li>50</li>\n",
       "\t<li>51</li>\n",
       "\t<li>52</li>\n",
       "\t<li>53</li>\n",
       "\t<li>54</li>\n",
       "\t<li>55</li>\n",
       "\t<li>56</li>\n",
       "\t<li>57</li>\n",
       "\t<li>58</li>\n",
       "\t<li>59</li>\n",
       "\t<li>60</li>\n",
       "\t<li>61</li>\n",
       "\t<li>62</li>\n",
       "\t<li>63</li>\n",
       "\t<li>64</li>\n",
       "</ol>\n"
      ],
      "text/latex": [
       "\\begin{enumerate*}\n",
       "\\item 1\n",
       "\\item 2\n",
       "\\item 3\n",
       "\\item 4\n",
       "\\item 5\n",
       "\\item 6\n",
       "\\item 7\n",
       "\\item 8\n",
       "\\item 9\n",
       "\\item 10\n",
       "\\item 11\n",
       "\\item 12\n",
       "\\item 13\n",
       "\\item 14\n",
       "\\item 15\n",
       "\\item 16\n",
       "\\item 17\n",
       "\\item 18\n",
       "\\item 19\n",
       "\\item 20\n",
       "\\item 21\n",
       "\\item 22\n",
       "\\item 23\n",
       "\\item 24\n",
       "\\item 25\n",
       "\\item 26\n",
       "\\item 27\n",
       "\\item 28\n",
       "\\item 29\n",
       "\\item 30\n",
       "\\item 31\n",
       "\\item 32\n",
       "\\item 33\n",
       "\\item 34\n",
       "\\item 35\n",
       "\\item 36\n",
       "\\item 37\n",
       "\\item 38\n",
       "\\item 39\n",
       "\\item 40\n",
       "\\item 41\n",
       "\\item 42\n",
       "\\item 43\n",
       "\\item 44\n",
       "\\item 45\n",
       "\\item 46\n",
       "\\item 47\n",
       "\\item 48\n",
       "\\item 49\n",
       "\\item 50\n",
       "\\item 51\n",
       "\\item 52\n",
       "\\item 53\n",
       "\\item 54\n",
       "\\item 55\n",
       "\\item 56\n",
       "\\item 57\n",
       "\\item 58\n",
       "\\item 59\n",
       "\\item 60\n",
       "\\item 61\n",
       "\\item 62\n",
       "\\item 63\n",
       "\\item 64\n",
       "\\end{enumerate*}\n"
      ],
      "text/markdown": [
       "1. 1\n",
       "2. 2\n",
       "3. 3\n",
       "4. 4\n",
       "5. 5\n",
       "6. 6\n",
       "7. 7\n",
       "8. 8\n",
       "9. 9\n",
       "10. 10\n",
       "11. 11\n",
       "12. 12\n",
       "13. 13\n",
       "14. 14\n",
       "15. 15\n",
       "16. 16\n",
       "17. 17\n",
       "18. 18\n",
       "19. 19\n",
       "20. 20\n",
       "21. 21\n",
       "22. 22\n",
       "23. 23\n",
       "24. 24\n",
       "25. 25\n",
       "26. 26\n",
       "27. 27\n",
       "28. 28\n",
       "29. 29\n",
       "30. 30\n",
       "31. 31\n",
       "32. 32\n",
       "33. 33\n",
       "34. 34\n",
       "35. 35\n",
       "36. 36\n",
       "37. 37\n",
       "38. 38\n",
       "39. 39\n",
       "40. 40\n",
       "41. 41\n",
       "42. 42\n",
       "43. 43\n",
       "44. 44\n",
       "45. 45\n",
       "46. 46\n",
       "47. 47\n",
       "48. 48\n",
       "49. 49\n",
       "50. 50\n",
       "51. 51\n",
       "52. 52\n",
       "53. 53\n",
       "54. 54\n",
       "55. 55\n",
       "56. 56\n",
       "57. 57\n",
       "58. 58\n",
       "59. 59\n",
       "60. 60\n",
       "61. 61\n",
       "62. 62\n",
       "63. 63\n",
       "64. 64\n",
       "\n",
       "\n"
      ],
      "text/plain": [
       " [1]  1  2  3  4  5  6  7  8  9 10 11 12 13 14 15 16 17 18 19 20 21 22 23 24 25\n",
       "[26] 26 27 28 29 30 31 32 33 34 35 36 37 38 39 40 41 42 43 44 45 46 47 48 49 50\n",
       "[51] 51 52 53 54 55 56 57 58 59 60 61 62 63 64"
      ]
     },
     "metadata": {},
     "output_type": "display_data"
    }
   ],
   "source": [
    "data <- as.vector(t(data))\n",
    "data"
   ]
  },
  {
   "cell_type": "markdown",
   "metadata": {},
   "source": [
    "Now take that 1D array you made from before and reshape it back to the original 2D array"
   ]
  },
  {
   "cell_type": "code",
   "execution_count": 86,
   "metadata": {},
   "outputs": [
    {
     "data": {
      "text/html": [
       "<table>\n",
       "<tbody>\n",
       "\t<tr><td> 1</td><td> 2</td><td> 3</td><td> 4</td><td> 5</td><td> 6</td><td> 7</td><td> 8</td></tr>\n",
       "\t<tr><td> 9</td><td>10</td><td>11</td><td>12</td><td>13</td><td>14</td><td>15</td><td>16</td></tr>\n",
       "\t<tr><td>17</td><td>18</td><td>19</td><td>20</td><td>21</td><td>22</td><td>23</td><td>24</td></tr>\n",
       "\t<tr><td>25</td><td>26</td><td>27</td><td>28</td><td>29</td><td>30</td><td>31</td><td>32</td></tr>\n",
       "\t<tr><td>33</td><td>34</td><td>35</td><td>36</td><td>37</td><td>38</td><td>39</td><td>40</td></tr>\n",
       "\t<tr><td>41</td><td>42</td><td>43</td><td>44</td><td>45</td><td>46</td><td>47</td><td>48</td></tr>\n",
       "\t<tr><td>49</td><td>50</td><td>51</td><td>52</td><td>53</td><td>54</td><td>55</td><td>56</td></tr>\n",
       "\t<tr><td>57</td><td>58</td><td>59</td><td>60</td><td>61</td><td>62</td><td>63</td><td>64</td></tr>\n",
       "</tbody>\n",
       "</table>\n"
      ],
      "text/latex": [
       "\\begin{tabular}{llllllll}\n",
       "\t  1 &  2 &  3 &  4 &  5 &  6 &  7 &  8\\\\\n",
       "\t  9 & 10 & 11 & 12 & 13 & 14 & 15 & 16\\\\\n",
       "\t 17 & 18 & 19 & 20 & 21 & 22 & 23 & 24\\\\\n",
       "\t 25 & 26 & 27 & 28 & 29 & 30 & 31 & 32\\\\\n",
       "\t 33 & 34 & 35 & 36 & 37 & 38 & 39 & 40\\\\\n",
       "\t 41 & 42 & 43 & 44 & 45 & 46 & 47 & 48\\\\\n",
       "\t 49 & 50 & 51 & 52 & 53 & 54 & 55 & 56\\\\\n",
       "\t 57 & 58 & 59 & 60 & 61 & 62 & 63 & 64\\\\\n",
       "\\end{tabular}\n"
      ],
      "text/markdown": [
       "\n",
       "|  1 |  2 |  3 |  4 |  5 |  6 |  7 |  8 | \n",
       "|  9 | 10 | 11 | 12 | 13 | 14 | 15 | 16 | \n",
       "| 17 | 18 | 19 | 20 | 21 | 22 | 23 | 24 | \n",
       "| 25 | 26 | 27 | 28 | 29 | 30 | 31 | 32 | \n",
       "| 33 | 34 | 35 | 36 | 37 | 38 | 39 | 40 | \n",
       "| 41 | 42 | 43 | 44 | 45 | 46 | 47 | 48 | \n",
       "| 49 | 50 | 51 | 52 | 53 | 54 | 55 | 56 | \n",
       "| 57 | 58 | 59 | 60 | 61 | 62 | 63 | 64 | \n",
       "\n",
       "\n"
      ],
      "text/plain": [
       "     [,1] [,2] [,3] [,4] [,5] [,6] [,7] [,8]\n",
       "[1,]  1    2    3    4    5    6    7    8  \n",
       "[2,]  9   10   11   12   13   14   15   16  \n",
       "[3,] 17   18   19   20   21   22   23   24  \n",
       "[4,] 25   26   27   28   29   30   31   32  \n",
       "[5,] 33   34   35   36   37   38   39   40  \n",
       "[6,] 41   42   43   44   45   46   47   48  \n",
       "[7,] 49   50   51   52   53   54   55   56  \n",
       "[8,] 57   58   59   60   61   62   63   64  "
      ]
     },
     "metadata": {},
     "output_type": "display_data"
    }
   ],
   "source": [
    "t(array(data, c(8,8)))"
   ]
  }
 ],
 "metadata": {
  "kernelspec": {
   "display_name": "R",
   "language": "R",
   "name": "ir"
  },
  "language_info": {
   "codemirror_mode": "r",
   "file_extension": ".r",
   "mimetype": "text/x-r-source",
   "name": "R",
   "pygments_lexer": "r",
   "version": "3.5.0"
  }
 },
 "nbformat": 4,
 "nbformat_minor": 2
}
