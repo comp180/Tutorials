{
 "cells": [
  {
   "cell_type": "markdown",
   "metadata": {},
   "source": [
    "# Assignment 5: Data visualization for publication refinement in code\n",
    "\n",
    "**In this assignment, we will be using the following completed assignments, so be sure to complete these first:**\n",
    "* bar plot,\n",
    "* scatter plot\n",
    "* *contour plot (this is now considered optional to add, feel free to disregard the previous instructions to include a contour plot subplot)*\n",
    "\n",
    "## You are to create a composite figure using the subplot feature of your language. For an example of this, see the last section of the 2D data visualization demo [2D and subplots](https://docs.google.com/document/d/10sR0Z39nCIB8LWERZ6v8uJOhhHVLc9Mi0kfK5A0g9Qg/edit?usp=sharing).\n",
    "\n",
    "After setting up the subplot, you are then to follow the tips given in the tutorial on [publication quality figures](https://docs.google.com/document/d/19ZDa0uiaR1arR4_7DkCsatyL590VfhxWjeGQar_pwM8/edit?usp=sharing), stopping before the step to save the raster/vector graphics formats and saving. \n",
    "\n",
    "Importantly, you are to explore all the programmatic options available to make the screenshot of your figure as aesthetically appropriate for publication as possible. If you are unable to finish due to a constraint that isn’t critical, ask the instructor if what you have done is sufficient.\n",
    "Your composite figure should be as aesthetically close to publication quality on your computer screen as you can achieve. It may be helpful to get a screenshot when you are done to demonstrate what you have done."
   ]
  },
  {
   "cell_type": "code",
   "execution_count": null,
   "metadata": {},
   "outputs": [],
   "source": []
  }
 ],
 "metadata": {
  "kernelspec": {
   "display_name": "R",
   "language": "R",
   "name": "ir"
  },
  "language_info": {
   "codemirror_mode": "r",
   "file_extension": ".r",
   "mimetype": "text/x-r-source",
   "name": "R",
   "pygments_lexer": "r",
   "version": "3.5.0"
  }
 },
 "nbformat": 4,
 "nbformat_minor": 2
}
