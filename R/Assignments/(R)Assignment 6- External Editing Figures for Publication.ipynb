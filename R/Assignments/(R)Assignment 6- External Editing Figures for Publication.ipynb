{
 "cells": [
  {
   "cell_type": "markdown",
   "metadata": {},
   "source": [
    "# Assignment 6: Publication quality histogram\n",
    "\n",
    "### Make a histogram of the following scores from the Fall 2017 Data Structures course. Be sure to select the number of histogram bins in code using at least 8 bins, but feel free to experiment on the best number for visualization.\n",
    "114.8, 98.8, 97.3, 96, 94.1, 93.1, 93.1, 91.6, 91.5, 91.3, 90.3, 89.2, 87.5, 87.4, 85.2, 81.7, 81.6, 81.5, 80, 79.3, 78.2, 77.6, 77.1, 76.7, 75.1, 73.9, 72, 71, 64.6, 63.3, 47.2, 38.7\n",
    "\n",
    "You can see how to create a histogram using the tutorial [Simple charts](https://docs.google.com/document/d/10EmTKEQJditzpTdpOM56SEVsA581MDDpeVuj-c7mjI8/edit?usp=sharing).\n",
    "However, you are expected to follow the tips given in the tutorial on [publication quality figures](https://docs.google.com/document/d/19ZDa0uiaR1arR4_7DkCsatyL590VfhxWjeGQar_pwM8/edit?usp=sharing). Importantly, you are to explore a reasonable number of programmatic options available to prepare your figure."
   ]
  },
  {
   "cell_type": "code",
   "execution_count": null,
   "metadata": {},
   "outputs": [],
   "source": []
  },
  {
   "cell_type": "markdown",
   "metadata": {},
   "source": [
    "After this, you are to follow the tutorial and save the image through code (no screen shots) into a vector graphics format (.svg, .pdf, .eps) and another version in a raster graphics format (.jpg, .png, .gif…).\n",
    "\n",
    "After saving the image files, open each file in an appropriate editor (e.g. inkscape or adobe illustrator for vector graphics, gimp or photoshop for raster graphics) to make minor finishing touches for your figure. If the figure looks high quality already, pick an arbitrary change to make - you may see a clear difference in options between types (vector graphics can change fonts, line types and colors, markers, etc with raster graphics being more limited). **Save the final version of each of the two image types after some minor image editor manipulation.** Again, results should be one figure in a vector graphics format (.svg or .pdf if that is available) and one in a raster graphics form (e.g. .png, .gif, .jpg). \n"
   ]
  }
 ],
 "metadata": {
  "kernelspec": {
   "display_name": "R",
   "language": "R",
   "name": "ir"
  },
  "language_info": {
   "codemirror_mode": "r",
   "file_extension": ".r",
   "mimetype": "text/x-r-source",
   "name": "R",
   "pygments_lexer": "r",
   "version": "3.5.0"
  }
 },
 "nbformat": 4,
 "nbformat_minor": 2
}
