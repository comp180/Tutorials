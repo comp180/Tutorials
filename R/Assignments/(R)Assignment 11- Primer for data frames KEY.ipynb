{
 "cells": [
  {
   "cell_type": "markdown",
   "metadata": {},
   "source": [
    "# Assignment 11: Primer for data frames"
   ]
  },
  {
   "cell_type": "markdown",
   "metadata": {},
   "source": [
    "In this primer, we will study a classic data set - the survivors in the sinking of the Titanic. As there were limited lifeboats, decisions were made prioritizing who would and would not survive. We will observe how different factors such as age, sex, and class affected a person’s chance of survival using data frames.\n",
    "\n",
    "For help with this assignment, you can use the following tutorial material: https://docs.google.com/document/d/1phdIyrb1RdF05sUvWFNd1F_OO5W7G7kobB12IhOnmJI/edit?usp=sharing"
   ]
  },
  {
   "cell_type": "markdown",
   "metadata": {},
   "source": [
    "## Steps"
   ]
  },
  {
   "cell_type": "markdown",
   "metadata": {},
   "source": [
    "### 1. Input the following data into a data frame called \"titanic\", and display the entire data frame.\n",
    "    Sex, Class, Survived, Died\n",
    "    Children, First, 6, 0\n",
    "    Children, Second, 24, 0\n",
    "    Children, Third, 27, 52\n",
    "    Men, First, 57, 118\n",
    "    Men, Second, 14, 154\n",
    "    Men, Third, 75, 387\n",
    "    Men, Crew, 192, 693\n",
    "    Women, First, 140, 4\n",
    "    Women, Second, 80, 13\n",
    "    Women, Third, 76, 89\n",
    "    Women, Crew, 20, 3"
   ]
  },
  {
   "cell_type": "code",
   "execution_count": 30,
   "metadata": {},
   "outputs": [
    {
     "name": "stdout",
     "output_type": "stream",
     "text": [
      "        sex  class survived died\n",
      "1  Children  First        6    0\n",
      "2  Children Second       24    0\n",
      "3  Children  Third       27   52\n",
      "4       Men  First       57  118\n",
      "5       Men Second       14  154\n",
      "6       Men  Third       75  387\n",
      "7       Men   Crew      192  693\n",
      "8     Women  First      140    4\n",
      "9     Women Second       80   13\n",
      "10    Women  Third       76   89\n",
      "11    Women   Crew       20    3\n"
     ]
    }
   ],
   "source": [
    "sex <- c('Children', 'Children', 'Children', 'Men', 'Men', 'Men', 'Men', 'Women', 'Women', 'Women', 'Women')\n",
    "class <- c('First', 'Second', 'Third', 'First', 'Second', 'Third', 'Crew', 'First', 'Second', 'Third', 'Crew') \n",
    "survived <- c(6, 24, 27, 57, 14, 75, 192, 140, 80, 76, 20)\n",
    "died <- c(0, 0, 52, 118, 154, 387, 693, 4, 13, 89, 3)\n",
    "\n",
    "titanic <- data.frame(sex, class, survived, died)\n",
    "print(titanic)"
   ]
  },
  {
   "cell_type": "markdown",
   "metadata": {},
   "source": [
    "### 2. Now only show the data of the people in first class."
   ]
  },
  {
   "cell_type": "code",
   "execution_count": 31,
   "metadata": {},
   "outputs": [
    {
     "data": {
      "text/html": [
       "<table>\n",
       "<thead><tr><th></th><th scope=col>sex</th><th scope=col>class</th><th scope=col>survived</th><th scope=col>died</th></tr></thead>\n",
       "<tbody>\n",
       "\t<tr><th scope=row>1</th><td>Children</td><td>First   </td><td>  6     </td><td>  0     </td></tr>\n",
       "\t<tr><th scope=row>4</th><td>Men     </td><td>First   </td><td> 57     </td><td>118     </td></tr>\n",
       "\t<tr><th scope=row>8</th><td>Women   </td><td>First   </td><td>140     </td><td>  4     </td></tr>\n",
       "</tbody>\n",
       "</table>\n"
      ],
      "text/latex": [
       "\\begin{tabular}{r|llll}\n",
       "  & sex & class & survived & died\\\\\n",
       "\\hline\n",
       "\t1 & Children & First    &   6      &   0     \\\\\n",
       "\t4 & Men      & First    &  57      & 118     \\\\\n",
       "\t8 & Women    & First    & 140      &   4     \\\\\n",
       "\\end{tabular}\n"
      ],
      "text/markdown": [
       "\n",
       "| <!--/--> | sex | class | survived | died | \n",
       "|---|---|---|\n",
       "| 1 | Children | First    |   6      |   0      | \n",
       "| 4 | Men      | First    |  57      | 118      | \n",
       "| 8 | Women    | First    | 140      |   4      | \n",
       "\n",
       "\n"
      ],
      "text/plain": [
       "  sex      class survived died\n",
       "1 Children First   6        0 \n",
       "4 Men      First  57      118 \n",
       "8 Women    First 140        4 "
      ]
     },
     "metadata": {},
     "output_type": "display_data"
    }
   ],
   "source": [
    "firstclassonly = titanic$class == 'First'\n",
    "\n",
    "titanic[firstclassonly,]"
   ]
  },
  {
   "cell_type": "markdown",
   "metadata": {},
   "source": [
    "### 3. Delete the crew members from the data."
   ]
  },
  {
   "cell_type": "code",
   "execution_count": 32,
   "metadata": {},
   "outputs": [
    {
     "data": {
      "text/html": [
       "<table>\n",
       "<thead><tr><th></th><th scope=col>sex</th><th scope=col>class</th><th scope=col>survived</th><th scope=col>died</th></tr></thead>\n",
       "<tbody>\n",
       "\t<tr><th scope=row>1</th><td>Children</td><td>First   </td><td>  6     </td><td>  0     </td></tr>\n",
       "\t<tr><th scope=row>2</th><td>Children</td><td>Second  </td><td> 24     </td><td>  0     </td></tr>\n",
       "\t<tr><th scope=row>3</th><td>Children</td><td>Third   </td><td> 27     </td><td> 52     </td></tr>\n",
       "\t<tr><th scope=row>4</th><td>Men     </td><td>First   </td><td> 57     </td><td>118     </td></tr>\n",
       "\t<tr><th scope=row>5</th><td>Men     </td><td>Second  </td><td> 14     </td><td>154     </td></tr>\n",
       "\t<tr><th scope=row>6</th><td>Men     </td><td>Third   </td><td> 75     </td><td>387     </td></tr>\n",
       "\t<tr><th scope=row>8</th><td>Women   </td><td>First   </td><td>140     </td><td>  4     </td></tr>\n",
       "\t<tr><th scope=row>9</th><td>Women   </td><td>Second  </td><td> 80     </td><td> 13     </td></tr>\n",
       "\t<tr><th scope=row>10</th><td>Women   </td><td>Third   </td><td> 76     </td><td> 89     </td></tr>\n",
       "</tbody>\n",
       "</table>\n"
      ],
      "text/latex": [
       "\\begin{tabular}{r|llll}\n",
       "  & sex & class & survived & died\\\\\n",
       "\\hline\n",
       "\t1 & Children & First    &   6      &   0     \\\\\n",
       "\t2 & Children & Second   &  24      &   0     \\\\\n",
       "\t3 & Children & Third    &  27      &  52     \\\\\n",
       "\t4 & Men      & First    &  57      & 118     \\\\\n",
       "\t5 & Men      & Second   &  14      & 154     \\\\\n",
       "\t6 & Men      & Third    &  75      & 387     \\\\\n",
       "\t8 & Women    & First    & 140      &   4     \\\\\n",
       "\t9 & Women    & Second   &  80      &  13     \\\\\n",
       "\t10 & Women    & Third    &  76      &  89     \\\\\n",
       "\\end{tabular}\n"
      ],
      "text/markdown": [
       "\n",
       "| <!--/--> | sex | class | survived | died | \n",
       "|---|---|---|---|---|---|---|---|---|\n",
       "| 1 | Children | First    |   6      |   0      | \n",
       "| 2 | Children | Second   |  24      |   0      | \n",
       "| 3 | Children | Third    |  27      |  52      | \n",
       "| 4 | Men      | First    |  57      | 118      | \n",
       "| 5 | Men      | Second   |  14      | 154      | \n",
       "| 6 | Men      | Third    |  75      | 387      | \n",
       "| 8 | Women    | First    | 140      |   4      | \n",
       "| 9 | Women    | Second   |  80      |  13      | \n",
       "| 10 | Women    | Third    |  76      |  89      | \n",
       "\n",
       "\n"
      ],
      "text/plain": [
       "   sex      class  survived died\n",
       "1  Children First    6        0 \n",
       "2  Children Second  24        0 \n",
       "3  Children Third   27       52 \n",
       "4  Men      First   57      118 \n",
       "5  Men      Second  14      154 \n",
       "6  Men      Third   75      387 \n",
       "8  Women    First  140        4 \n",
       "9  Women    Second  80       13 \n",
       "10 Women    Third   76       89 "
      ]
     },
     "metadata": {},
     "output_type": "display_data"
    }
   ],
   "source": [
    "titanic <-titanic[!(titanic$class == 'Crew'),]\n",
    "titanic"
   ]
  },
  {
   "cell_type": "markdown",
   "metadata": {},
   "source": [
    "### 4. Create a new column that is the total number of people for that group (those who survived + died)."
   ]
  },
  {
   "cell_type": "code",
   "execution_count": 33,
   "metadata": {},
   "outputs": [
    {
     "data": {
      "text/html": [
       "<table>\n",
       "<thead><tr><th></th><th scope=col>sex</th><th scope=col>class</th><th scope=col>survived</th><th scope=col>died</th><th scope=col>total</th></tr></thead>\n",
       "<tbody>\n",
       "\t<tr><th scope=row>1</th><td>Children</td><td>First   </td><td>  6     </td><td>  0     </td><td>  6     </td></tr>\n",
       "\t<tr><th scope=row>2</th><td>Children</td><td>Second  </td><td> 24     </td><td>  0     </td><td> 24     </td></tr>\n",
       "\t<tr><th scope=row>3</th><td>Children</td><td>Third   </td><td> 27     </td><td> 52     </td><td> 79     </td></tr>\n",
       "\t<tr><th scope=row>4</th><td>Men     </td><td>First   </td><td> 57     </td><td>118     </td><td>175     </td></tr>\n",
       "\t<tr><th scope=row>5</th><td>Men     </td><td>Second  </td><td> 14     </td><td>154     </td><td>168     </td></tr>\n",
       "\t<tr><th scope=row>6</th><td>Men     </td><td>Third   </td><td> 75     </td><td>387     </td><td>462     </td></tr>\n",
       "\t<tr><th scope=row>8</th><td>Women   </td><td>First   </td><td>140     </td><td>  4     </td><td>144     </td></tr>\n",
       "\t<tr><th scope=row>9</th><td>Women   </td><td>Second  </td><td> 80     </td><td> 13     </td><td> 93     </td></tr>\n",
       "\t<tr><th scope=row>10</th><td>Women   </td><td>Third   </td><td> 76     </td><td> 89     </td><td>165     </td></tr>\n",
       "</tbody>\n",
       "</table>\n"
      ],
      "text/latex": [
       "\\begin{tabular}{r|lllll}\n",
       "  & sex & class & survived & died & total\\\\\n",
       "\\hline\n",
       "\t1 & Children & First    &   6      &   0      &   6     \\\\\n",
       "\t2 & Children & Second   &  24      &   0      &  24     \\\\\n",
       "\t3 & Children & Third    &  27      &  52      &  79     \\\\\n",
       "\t4 & Men      & First    &  57      & 118      & 175     \\\\\n",
       "\t5 & Men      & Second   &  14      & 154      & 168     \\\\\n",
       "\t6 & Men      & Third    &  75      & 387      & 462     \\\\\n",
       "\t8 & Women    & First    & 140      &   4      & 144     \\\\\n",
       "\t9 & Women    & Second   &  80      &  13      &  93     \\\\\n",
       "\t10 & Women    & Third    &  76      &  89      & 165     \\\\\n",
       "\\end{tabular}\n"
      ],
      "text/markdown": [
       "\n",
       "| <!--/--> | sex | class | survived | died | total | \n",
       "|---|---|---|---|---|---|---|---|---|\n",
       "| 1 | Children | First    |   6      |   0      |   6      | \n",
       "| 2 | Children | Second   |  24      |   0      |  24      | \n",
       "| 3 | Children | Third    |  27      |  52      |  79      | \n",
       "| 4 | Men      | First    |  57      | 118      | 175      | \n",
       "| 5 | Men      | Second   |  14      | 154      | 168      | \n",
       "| 6 | Men      | Third    |  75      | 387      | 462      | \n",
       "| 8 | Women    | First    | 140      |   4      | 144      | \n",
       "| 9 | Women    | Second   |  80      |  13      |  93      | \n",
       "| 10 | Women    | Third    |  76      |  89      | 165      | \n",
       "\n",
       "\n"
      ],
      "text/plain": [
       "   sex      class  survived died total\n",
       "1  Children First    6        0    6  \n",
       "2  Children Second  24        0   24  \n",
       "3  Children Third   27       52   79  \n",
       "4  Men      First   57      118  175  \n",
       "5  Men      Second  14      154  168  \n",
       "6  Men      Third   75      387  462  \n",
       "8  Women    First  140        4  144  \n",
       "9  Women    Second  80       13   93  \n",
       "10 Women    Third   76       89  165  "
      ]
     },
     "metadata": {},
     "output_type": "display_data"
    }
   ],
   "source": [
    "titanic$total <- titanic$survived+titanic$died\n",
    "titanic"
   ]
  },
  {
   "cell_type": "markdown",
   "metadata": {},
   "source": [
    "### 5. Create a new column with the percentage of people who survived."
   ]
  },
  {
   "cell_type": "code",
   "execution_count": 34,
   "metadata": {},
   "outputs": [
    {
     "data": {
      "text/html": [
       "<table>\n",
       "<thead><tr><th></th><th scope=col>sex</th><th scope=col>class</th><th scope=col>survived</th><th scope=col>died</th><th scope=col>total</th><th scope=col>survivalpercentage</th></tr></thead>\n",
       "<tbody>\n",
       "\t<tr><th scope=row>1</th><td>Children  </td><td>First     </td><td>  6       </td><td>  0       </td><td>  6       </td><td>1.00000000</td></tr>\n",
       "\t<tr><th scope=row>2</th><td>Children  </td><td>Second    </td><td> 24       </td><td>  0       </td><td> 24       </td><td>1.00000000</td></tr>\n",
       "\t<tr><th scope=row>3</th><td>Children  </td><td>Third     </td><td> 27       </td><td> 52       </td><td> 79       </td><td>0.34177215</td></tr>\n",
       "\t<tr><th scope=row>4</th><td>Men       </td><td>First     </td><td> 57       </td><td>118       </td><td>175       </td><td>0.32571429</td></tr>\n",
       "\t<tr><th scope=row>5</th><td>Men       </td><td>Second    </td><td> 14       </td><td>154       </td><td>168       </td><td>0.08333333</td></tr>\n",
       "\t<tr><th scope=row>6</th><td>Men       </td><td>Third     </td><td> 75       </td><td>387       </td><td>462       </td><td>0.16233766</td></tr>\n",
       "\t<tr><th scope=row>8</th><td>Women     </td><td>First     </td><td>140       </td><td>  4       </td><td>144       </td><td>0.97222222</td></tr>\n",
       "\t<tr><th scope=row>9</th><td>Women     </td><td>Second    </td><td> 80       </td><td> 13       </td><td> 93       </td><td>0.86021505</td></tr>\n",
       "\t<tr><th scope=row>10</th><td>Women     </td><td>Third     </td><td> 76       </td><td> 89       </td><td>165       </td><td>0.46060606</td></tr>\n",
       "</tbody>\n",
       "</table>\n"
      ],
      "text/latex": [
       "\\begin{tabular}{r|llllll}\n",
       "  & sex & class & survived & died & total & survivalpercentage\\\\\n",
       "\\hline\n",
       "\t1 & Children   & First      &   6        &   0        &   6        & 1.00000000\\\\\n",
       "\t2 & Children   & Second     &  24        &   0        &  24        & 1.00000000\\\\\n",
       "\t3 & Children   & Third      &  27        &  52        &  79        & 0.34177215\\\\\n",
       "\t4 & Men        & First      &  57        & 118        & 175        & 0.32571429\\\\\n",
       "\t5 & Men        & Second     &  14        & 154        & 168        & 0.08333333\\\\\n",
       "\t6 & Men        & Third      &  75        & 387        & 462        & 0.16233766\\\\\n",
       "\t8 & Women      & First      & 140        &   4        & 144        & 0.97222222\\\\\n",
       "\t9 & Women      & Second     &  80        &  13        &  93        & 0.86021505\\\\\n",
       "\t10 & Women      & Third      &  76        &  89        & 165        & 0.46060606\\\\\n",
       "\\end{tabular}\n"
      ],
      "text/markdown": [
       "\n",
       "| <!--/--> | sex | class | survived | died | total | survivalpercentage | \n",
       "|---|---|---|---|---|---|---|---|---|\n",
       "| 1 | Children   | First      |   6        |   0        |   6        | 1.00000000 | \n",
       "| 2 | Children   | Second     |  24        |   0        |  24        | 1.00000000 | \n",
       "| 3 | Children   | Third      |  27        |  52        |  79        | 0.34177215 | \n",
       "| 4 | Men        | First      |  57        | 118        | 175        | 0.32571429 | \n",
       "| 5 | Men        | Second     |  14        | 154        | 168        | 0.08333333 | \n",
       "| 6 | Men        | Third      |  75        | 387        | 462        | 0.16233766 | \n",
       "| 8 | Women      | First      | 140        |   4        | 144        | 0.97222222 | \n",
       "| 9 | Women      | Second     |  80        |  13        |  93        | 0.86021505 | \n",
       "| 10 | Women      | Third      |  76        |  89        | 165        | 0.46060606 | \n",
       "\n",
       "\n"
      ],
      "text/plain": [
       "   sex      class  survived died total survivalpercentage\n",
       "1  Children First    6        0    6   1.00000000        \n",
       "2  Children Second  24        0   24   1.00000000        \n",
       "3  Children Third   27       52   79   0.34177215        \n",
       "4  Men      First   57      118  175   0.32571429        \n",
       "5  Men      Second  14      154  168   0.08333333        \n",
       "6  Men      Third   75      387  462   0.16233766        \n",
       "8  Women    First  140        4  144   0.97222222        \n",
       "9  Women    Second  80       13   93   0.86021505        \n",
       "10 Women    Third   76       89  165   0.46060606        "
      ]
     },
     "metadata": {},
     "output_type": "display_data"
    }
   ],
   "source": [
    "titanic$survivalpercentage <- titanic$survived/titanic$total\n",
    "titanic"
   ]
  },
  {
   "cell_type": "markdown",
   "metadata": {},
   "source": [
    "### 6. Delete the column indicating the total number of people in that group."
   ]
  },
  {
   "cell_type": "code",
   "execution_count": 35,
   "metadata": {},
   "outputs": [
    {
     "data": {
      "text/html": [
       "<table>\n",
       "<thead><tr><th></th><th scope=col>sex</th><th scope=col>class</th><th scope=col>survived</th><th scope=col>died</th><th scope=col>survivalpercentage</th></tr></thead>\n",
       "<tbody>\n",
       "\t<tr><th scope=row>1</th><td>Children  </td><td>First     </td><td>  6       </td><td>  0       </td><td>1.00000000</td></tr>\n",
       "\t<tr><th scope=row>2</th><td>Children  </td><td>Second    </td><td> 24       </td><td>  0       </td><td>1.00000000</td></tr>\n",
       "\t<tr><th scope=row>3</th><td>Children  </td><td>Third     </td><td> 27       </td><td> 52       </td><td>0.34177215</td></tr>\n",
       "\t<tr><th scope=row>4</th><td>Men       </td><td>First     </td><td> 57       </td><td>118       </td><td>0.32571429</td></tr>\n",
       "\t<tr><th scope=row>5</th><td>Men       </td><td>Second    </td><td> 14       </td><td>154       </td><td>0.08333333</td></tr>\n",
       "\t<tr><th scope=row>6</th><td>Men       </td><td>Third     </td><td> 75       </td><td>387       </td><td>0.16233766</td></tr>\n",
       "\t<tr><th scope=row>8</th><td>Women     </td><td>First     </td><td>140       </td><td>  4       </td><td>0.97222222</td></tr>\n",
       "\t<tr><th scope=row>9</th><td>Women     </td><td>Second    </td><td> 80       </td><td> 13       </td><td>0.86021505</td></tr>\n",
       "\t<tr><th scope=row>10</th><td>Women     </td><td>Third     </td><td> 76       </td><td> 89       </td><td>0.46060606</td></tr>\n",
       "</tbody>\n",
       "</table>\n"
      ],
      "text/latex": [
       "\\begin{tabular}{r|lllll}\n",
       "  & sex & class & survived & died & survivalpercentage\\\\\n",
       "\\hline\n",
       "\t1 & Children   & First      &   6        &   0        & 1.00000000\\\\\n",
       "\t2 & Children   & Second     &  24        &   0        & 1.00000000\\\\\n",
       "\t3 & Children   & Third      &  27        &  52        & 0.34177215\\\\\n",
       "\t4 & Men        & First      &  57        & 118        & 0.32571429\\\\\n",
       "\t5 & Men        & Second     &  14        & 154        & 0.08333333\\\\\n",
       "\t6 & Men        & Third      &  75        & 387        & 0.16233766\\\\\n",
       "\t8 & Women      & First      & 140        &   4        & 0.97222222\\\\\n",
       "\t9 & Women      & Second     &  80        &  13        & 0.86021505\\\\\n",
       "\t10 & Women      & Third      &  76        &  89        & 0.46060606\\\\\n",
       "\\end{tabular}\n"
      ],
      "text/markdown": [
       "\n",
       "| <!--/--> | sex | class | survived | died | survivalpercentage | \n",
       "|---|---|---|---|---|---|---|---|---|\n",
       "| 1 | Children   | First      |   6        |   0        | 1.00000000 | \n",
       "| 2 | Children   | Second     |  24        |   0        | 1.00000000 | \n",
       "| 3 | Children   | Third      |  27        |  52        | 0.34177215 | \n",
       "| 4 | Men        | First      |  57        | 118        | 0.32571429 | \n",
       "| 5 | Men        | Second     |  14        | 154        | 0.08333333 | \n",
       "| 6 | Men        | Third      |  75        | 387        | 0.16233766 | \n",
       "| 8 | Women      | First      | 140        |   4        | 0.97222222 | \n",
       "| 9 | Women      | Second     |  80        |  13        | 0.86021505 | \n",
       "| 10 | Women      | Third      |  76        |  89        | 0.46060606 | \n",
       "\n",
       "\n"
      ],
      "text/plain": [
       "   sex      class  survived died survivalpercentage\n",
       "1  Children First    6        0  1.00000000        \n",
       "2  Children Second  24        0  1.00000000        \n",
       "3  Children Third   27       52  0.34177215        \n",
       "4  Men      First   57      118  0.32571429        \n",
       "5  Men      Second  14      154  0.08333333        \n",
       "6  Men      Third   75      387  0.16233766        \n",
       "8  Women    First  140        4  0.97222222        \n",
       "9  Women    Second  80       13  0.86021505        \n",
       "10 Women    Third   76       89  0.46060606        "
      ]
     },
     "metadata": {},
     "output_type": "display_data"
    }
   ],
   "source": [
    "titanic[,-c(5)]"
   ]
  },
  {
   "cell_type": "markdown",
   "metadata": {},
   "source": [
    "### 7. Only show the rows where more than 80% of the people survived."
   ]
  },
  {
   "cell_type": "code",
   "execution_count": 36,
   "metadata": {},
   "outputs": [
    {
     "data": {
      "text/html": [
       "<table>\n",
       "<thead><tr><th></th><th scope=col>sex</th><th scope=col>class</th><th scope=col>survived</th><th scope=col>died</th><th scope=col>total</th><th scope=col>survivalpercentage</th></tr></thead>\n",
       "<tbody>\n",
       "\t<tr><th scope=row>1</th><td>Children </td><td>First    </td><td>  6      </td><td> 0       </td><td>  6      </td><td>1.0000000</td></tr>\n",
       "\t<tr><th scope=row>2</th><td>Children </td><td>Second   </td><td> 24      </td><td> 0       </td><td> 24      </td><td>1.0000000</td></tr>\n",
       "\t<tr><th scope=row>8</th><td>Women    </td><td>First    </td><td>140      </td><td> 4       </td><td>144      </td><td>0.9722222</td></tr>\n",
       "\t<tr><th scope=row>9</th><td>Women    </td><td>Second   </td><td> 80      </td><td>13       </td><td> 93      </td><td>0.8602151</td></tr>\n",
       "</tbody>\n",
       "</table>\n"
      ],
      "text/latex": [
       "\\begin{tabular}{r|llllll}\n",
       "  & sex & class & survived & died & total & survivalpercentage\\\\\n",
       "\\hline\n",
       "\t1 & Children  & First     &   6       &  0        &   6       & 1.0000000\\\\\n",
       "\t2 & Children  & Second    &  24       &  0        &  24       & 1.0000000\\\\\n",
       "\t8 & Women     & First     & 140       &  4        & 144       & 0.9722222\\\\\n",
       "\t9 & Women     & Second    &  80       & 13        &  93       & 0.8602151\\\\\n",
       "\\end{tabular}\n"
      ],
      "text/markdown": [
       "\n",
       "| <!--/--> | sex | class | survived | died | total | survivalpercentage | \n",
       "|---|---|---|---|\n",
       "| 1 | Children  | First     |   6       |  0        |   6       | 1.0000000 | \n",
       "| 2 | Children  | Second    |  24       |  0        |  24       | 1.0000000 | \n",
       "| 8 | Women     | First     | 140       |  4        | 144       | 0.9722222 | \n",
       "| 9 | Women     | Second    |  80       | 13        |  93       | 0.8602151 | \n",
       "\n",
       "\n"
      ],
      "text/plain": [
       "  sex      class  survived died total survivalpercentage\n",
       "1 Children First    6       0     6   1.0000000         \n",
       "2 Children Second  24       0    24   1.0000000         \n",
       "8 Women    First  140       4   144   0.9722222         \n",
       "9 Women    Second  80      13    93   0.8602151         "
      ]
     },
     "metadata": {},
     "output_type": "display_data"
    }
   ],
   "source": [
    "morethan80 = titanic$survivalpercentage > .80\n",
    "\n",
    "titanic[morethan80,]"
   ]
  },
  {
   "cell_type": "markdown",
   "metadata": {},
   "source": [
    "### 8. Then only show the rows where less 40% of the people survived."
   ]
  },
  {
   "cell_type": "code",
   "execution_count": 37,
   "metadata": {},
   "outputs": [
    {
     "data": {
      "text/html": [
       "<table>\n",
       "<thead><tr><th></th><th scope=col>sex</th><th scope=col>class</th><th scope=col>survived</th><th scope=col>died</th><th scope=col>total</th><th scope=col>survivalpercentage</th></tr></thead>\n",
       "<tbody>\n",
       "\t<tr><th scope=row>3</th><td>Children  </td><td>Third     </td><td>27        </td><td> 52       </td><td> 79       </td><td>0.34177215</td></tr>\n",
       "\t<tr><th scope=row>4</th><td>Men       </td><td>First     </td><td>57        </td><td>118       </td><td>175       </td><td>0.32571429</td></tr>\n",
       "\t<tr><th scope=row>5</th><td>Men       </td><td>Second    </td><td>14        </td><td>154       </td><td>168       </td><td>0.08333333</td></tr>\n",
       "\t<tr><th scope=row>6</th><td>Men       </td><td>Third     </td><td>75        </td><td>387       </td><td>462       </td><td>0.16233766</td></tr>\n",
       "</tbody>\n",
       "</table>\n"
      ],
      "text/latex": [
       "\\begin{tabular}{r|llllll}\n",
       "  & sex & class & survived & died & total & survivalpercentage\\\\\n",
       "\\hline\n",
       "\t3 & Children   & Third      & 27         &  52        &  79        & 0.34177215\\\\\n",
       "\t4 & Men        & First      & 57         & 118        & 175        & 0.32571429\\\\\n",
       "\t5 & Men        & Second     & 14         & 154        & 168        & 0.08333333\\\\\n",
       "\t6 & Men        & Third      & 75         & 387        & 462        & 0.16233766\\\\\n",
       "\\end{tabular}\n"
      ],
      "text/markdown": [
       "\n",
       "| <!--/--> | sex | class | survived | died | total | survivalpercentage | \n",
       "|---|---|---|---|\n",
       "| 3 | Children   | Third      | 27         |  52        |  79        | 0.34177215 | \n",
       "| 4 | Men        | First      | 57         | 118        | 175        | 0.32571429 | \n",
       "| 5 | Men        | Second     | 14         | 154        | 168        | 0.08333333 | \n",
       "| 6 | Men        | Third      | 75         | 387        | 462        | 0.16233766 | \n",
       "\n",
       "\n"
      ],
      "text/plain": [
       "  sex      class  survived died total survivalpercentage\n",
       "3 Children Third  27        52   79   0.34177215        \n",
       "4 Men      First  57       118  175   0.32571429        \n",
       "5 Men      Second 14       154  168   0.08333333        \n",
       "6 Men      Third  75       387  462   0.16233766        "
      ]
     },
     "metadata": {},
     "output_type": "display_data"
    }
   ],
   "source": [
    "lessthan40 = titanic$survivalpercentage < .40\n",
    "titanic[lessthan40,]"
   ]
  },
  {
   "cell_type": "markdown",
   "metadata": {},
   "source": [
    "### 9. Calculate the total number of people that survived and died for each class, then report the percentages."
   ]
  },
  {
   "cell_type": "code",
   "execution_count": 38,
   "metadata": {},
   "outputs": [
    {
     "data": {
      "text/html": [
       "<table>\n",
       "<thead><tr><th></th><th scope=col>sex</th><th scope=col>class</th><th scope=col>survived</th><th scope=col>died</th><th scope=col>total</th><th scope=col>survivalpercentage</th></tr></thead>\n",
       "<tbody>\n",
       "\t<tr><th scope=row>1</th><td>Children </td><td>First    </td><td>  6      </td><td>  0      </td><td>  6      </td><td>1.0000000</td></tr>\n",
       "\t<tr><th scope=row>4</th><td>Men      </td><td>First    </td><td> 57      </td><td>118      </td><td>175      </td><td>0.3257143</td></tr>\n",
       "\t<tr><th scope=row>8</th><td>Women    </td><td>First    </td><td>140      </td><td>  4      </td><td>144      </td><td>0.9722222</td></tr>\n",
       "</tbody>\n",
       "</table>\n"
      ],
      "text/latex": [
       "\\begin{tabular}{r|llllll}\n",
       "  & sex & class & survived & died & total & survivalpercentage\\\\\n",
       "\\hline\n",
       "\t1 & Children  & First     &   6       &   0       &   6       & 1.0000000\\\\\n",
       "\t4 & Men       & First     &  57       & 118       & 175       & 0.3257143\\\\\n",
       "\t8 & Women     & First     & 140       &   4       & 144       & 0.9722222\\\\\n",
       "\\end{tabular}\n"
      ],
      "text/markdown": [
       "\n",
       "| <!--/--> | sex | class | survived | died | total | survivalpercentage | \n",
       "|---|---|---|\n",
       "| 1 | Children  | First     |   6       |   0       |   6       | 1.0000000 | \n",
       "| 4 | Men       | First     |  57       | 118       | 175       | 0.3257143 | \n",
       "| 8 | Women     | First     | 140       |   4       | 144       | 0.9722222 | \n",
       "\n",
       "\n"
      ],
      "text/plain": [
       "  sex      class survived died total survivalpercentage\n",
       "1 Children First   6        0    6   1.0000000         \n",
       "4 Men      First  57      118  175   0.3257143         \n",
       "8 Women    First 140        4  144   0.9722222         "
      ]
     },
     "metadata": {},
     "output_type": "display_data"
    },
    {
     "data": {
      "text/html": [
       "<table>\n",
       "<thead><tr><th></th><th scope=col>sex</th><th scope=col>class</th><th scope=col>survived</th><th scope=col>died</th><th scope=col>total</th><th scope=col>survivalpercentage</th></tr></thead>\n",
       "<tbody>\n",
       "\t<tr><th scope=row>2</th><td>Children  </td><td>Second    </td><td>24        </td><td>  0       </td><td> 24       </td><td>1.00000000</td></tr>\n",
       "\t<tr><th scope=row>5</th><td>Men       </td><td>Second    </td><td>14        </td><td>154       </td><td>168       </td><td>0.08333333</td></tr>\n",
       "\t<tr><th scope=row>9</th><td>Women     </td><td>Second    </td><td>80        </td><td> 13       </td><td> 93       </td><td>0.86021505</td></tr>\n",
       "</tbody>\n",
       "</table>\n"
      ],
      "text/latex": [
       "\\begin{tabular}{r|llllll}\n",
       "  & sex & class & survived & died & total & survivalpercentage\\\\\n",
       "\\hline\n",
       "\t2 & Children   & Second     & 24         &   0        &  24        & 1.00000000\\\\\n",
       "\t5 & Men        & Second     & 14         & 154        & 168        & 0.08333333\\\\\n",
       "\t9 & Women      & Second     & 80         &  13        &  93        & 0.86021505\\\\\n",
       "\\end{tabular}\n"
      ],
      "text/markdown": [
       "\n",
       "| <!--/--> | sex | class | survived | died | total | survivalpercentage | \n",
       "|---|---|---|\n",
       "| 2 | Children   | Second     | 24         |   0        |  24        | 1.00000000 | \n",
       "| 5 | Men        | Second     | 14         | 154        | 168        | 0.08333333 | \n",
       "| 9 | Women      | Second     | 80         |  13        |  93        | 0.86021505 | \n",
       "\n",
       "\n"
      ],
      "text/plain": [
       "  sex      class  survived died total survivalpercentage\n",
       "2 Children Second 24         0   24   1.00000000        \n",
       "5 Men      Second 14       154  168   0.08333333        \n",
       "9 Women    Second 80        13   93   0.86021505        "
      ]
     },
     "metadata": {},
     "output_type": "display_data"
    },
    {
     "data": {
      "text/html": [
       "<table>\n",
       "<thead><tr><th></th><th scope=col>sex</th><th scope=col>class</th><th scope=col>survived</th><th scope=col>died</th><th scope=col>total</th><th scope=col>survivalpercentage</th></tr></thead>\n",
       "<tbody>\n",
       "\t<tr><th scope=row>3</th><td>Children </td><td>Third    </td><td>27       </td><td> 52      </td><td> 79      </td><td>0.3417722</td></tr>\n",
       "\t<tr><th scope=row>6</th><td>Men      </td><td>Third    </td><td>75       </td><td>387      </td><td>462      </td><td>0.1623377</td></tr>\n",
       "\t<tr><th scope=row>10</th><td>Women    </td><td>Third    </td><td>76       </td><td> 89      </td><td>165      </td><td>0.4606061</td></tr>\n",
       "</tbody>\n",
       "</table>\n"
      ],
      "text/latex": [
       "\\begin{tabular}{r|llllll}\n",
       "  & sex & class & survived & died & total & survivalpercentage\\\\\n",
       "\\hline\n",
       "\t3 & Children  & Third     & 27        &  52       &  79       & 0.3417722\\\\\n",
       "\t6 & Men       & Third     & 75        & 387       & 462       & 0.1623377\\\\\n",
       "\t10 & Women     & Third     & 76        &  89       & 165       & 0.4606061\\\\\n",
       "\\end{tabular}\n"
      ],
      "text/markdown": [
       "\n",
       "| <!--/--> | sex | class | survived | died | total | survivalpercentage | \n",
       "|---|---|---|\n",
       "| 3 | Children  | Third     | 27        |  52       |  79       | 0.3417722 | \n",
       "| 6 | Men       | Third     | 75        | 387       | 462       | 0.1623377 | \n",
       "| 10 | Women     | Third     | 76        |  89       | 165       | 0.4606061 | \n",
       "\n",
       "\n"
      ],
      "text/plain": [
       "   sex      class survived died total survivalpercentage\n",
       "3  Children Third 27        52   79   0.3417722         \n",
       "6  Men      Third 75       387  462   0.1623377         \n",
       "10 Women    Third 76        89  165   0.4606061         "
      ]
     },
     "metadata": {},
     "output_type": "display_data"
    }
   ],
   "source": [
    "# first class\n",
    "firstclass <- subset(titanic, class == 'First')\n",
    "firstclass\n",
    "\n",
    "# second class\n",
    "secondclass <- subset(titanic, class == 'Second')\n",
    "secondclass\n",
    "\n",
    "# third class\n",
    "thirdclass <- subset(titanic, class == 'Third')\n",
    "thirdclass"
   ]
  },
  {
   "cell_type": "code",
   "execution_count": 39,
   "metadata": {},
   "outputs": [
    {
     "name": "stdout",
     "output_type": "stream",
     "text": [
      "[1] 0.6246154 0.3753846\n"
     ]
    }
   ],
   "source": [
    "# first class survivors and casualties\n",
    "firstclassSurvivalPercentage = sum(firstclass$survived) / sum(firstclass$total)\n",
    "firstclassDeathPercentage = sum(firstclass$died) / sum(firstclass$total)\n",
    "print(c(firstclassSurvivalPercentage, firstclassDeathPercentage))"
   ]
  },
  {
   "cell_type": "code",
   "execution_count": 40,
   "metadata": {},
   "outputs": [
    {
     "name": "stdout",
     "output_type": "stream",
     "text": [
      "[1] 0.4140351 0.5859649\n"
     ]
    }
   ],
   "source": [
    "# second class survivors and casualties\n",
    "secondclassSurvivalPercentage = sum(secondclass$survived) / sum(secondclass$total)\n",
    "secondclassDeathPercentage = sum(secondclass$died) / sum(secondclass$total)\n",
    "print(c(secondclassSurvivalPercentage, secondclassDeathPercentage))"
   ]
  },
  {
   "cell_type": "code",
   "execution_count": 41,
   "metadata": {},
   "outputs": [
    {
     "name": "stdout",
     "output_type": "stream",
     "text": [
      "[1] 0.2521246 0.7478754\n"
     ]
    }
   ],
   "source": [
    "# third class survivors and casualties\n",
    "thirdclassSurvivalPercentage = sum(thirdclass$survived) / sum(thirdclass$total)\n",
    "thirdclassDeathPercentage = sum(thirdclass$died) / sum(thirdclass$total)\n",
    "print(c(thirdclassSurvivalPercentage, thirdclassDeathPercentage))"
   ]
  },
  {
   "cell_type": "markdown",
   "metadata": {},
   "source": [
    "### 10. Save your table in CSV format (as e.g. titanic_data.csv) with the first line as headers for the columns."
   ]
  },
  {
   "cell_type": "code",
   "execution_count": 42,
   "metadata": {},
   "outputs": [],
   "source": [
    "write.csv(titanic, file = \"titanic_dataframe.csv\")"
   ]
  },
  {
   "cell_type": "markdown",
   "metadata": {},
   "source": [
    "### 11. Duplicate the CSV file on your computer since you will be editing the copied version (e.g. titanic_data2.csv). Open the new CSV file in a text editor. Note the way the data is organized. Now, in the text editor, add new lines including the data for the crew that was removed earlier. (help: the percentage of male crew and female crew that survived was 21.69% and 86.96%)."
   ]
  },
  {
   "cell_type": "markdown",
   "metadata": {},
   "source": [
    "### 12. Now read that updated CSV file into a new data frame called titanic2, and display the data."
   ]
  },
  {
   "cell_type": "code",
   "execution_count": 44,
   "metadata": {},
   "outputs": [
    {
     "data": {
      "text/html": [
       "<table>\n",
       "<thead><tr><th scope=col>X</th><th scope=col>sex</th><th scope=col>class</th><th scope=col>survived</th><th scope=col>died</th><th scope=col>total</th><th scope=col>survivalpercentage</th></tr></thead>\n",
       "<tbody>\n",
       "\t<tr><td> 1        </td><td>Children  </td><td>First     </td><td>  6       </td><td>  0       </td><td>  6       </td><td>1.00000000</td></tr>\n",
       "\t<tr><td> 2        </td><td>Children  </td><td>Second    </td><td> 24       </td><td>  0       </td><td> 24       </td><td>1.00000000</td></tr>\n",
       "\t<tr><td> 3        </td><td>Children  </td><td>Third     </td><td> 27       </td><td> 52       </td><td> 79       </td><td>0.34177215</td></tr>\n",
       "\t<tr><td> 4        </td><td>Men       </td><td>First     </td><td> 57       </td><td>118       </td><td>175       </td><td>0.32571429</td></tr>\n",
       "\t<tr><td> 5        </td><td>Men       </td><td>Second    </td><td> 14       </td><td>154       </td><td>168       </td><td>0.08333333</td></tr>\n",
       "\t<tr><td> 6        </td><td>Men       </td><td>Third     </td><td> 75       </td><td>387       </td><td>462       </td><td>0.16233766</td></tr>\n",
       "\t<tr><td> 8        </td><td>Women     </td><td>First     </td><td>140       </td><td>  4       </td><td>144       </td><td>0.97222222</td></tr>\n",
       "\t<tr><td> 9        </td><td>Women     </td><td>Second    </td><td> 80       </td><td> 13       </td><td> 93       </td><td>0.86021505</td></tr>\n",
       "\t<tr><td>10        </td><td>Women     </td><td>Third     </td><td> 76       </td><td> 89       </td><td>165       </td><td>0.46060606</td></tr>\n",
       "\t<tr><td>11        </td><td>Men       </td><td>Crew      </td><td>192       </td><td>693       </td><td>885       </td><td>0.21690000</td></tr>\n",
       "\t<tr><td>12        </td><td>Women     </td><td>Crew      </td><td> 20       </td><td>  3       </td><td> 23       </td><td>0.86960000</td></tr>\n",
       "</tbody>\n",
       "</table>\n"
      ],
      "text/latex": [
       "\\begin{tabular}{r|lllllll}\n",
       " X & sex & class & survived & died & total & survivalpercentage\\\\\n",
       "\\hline\n",
       "\t  1         & Children   & First      &   6        &   0        &   6        & 1.00000000\\\\\n",
       "\t  2         & Children   & Second     &  24        &   0        &  24        & 1.00000000\\\\\n",
       "\t  3         & Children   & Third      &  27        &  52        &  79        & 0.34177215\\\\\n",
       "\t  4         & Men        & First      &  57        & 118        & 175        & 0.32571429\\\\\n",
       "\t  5         & Men        & Second     &  14        & 154        & 168        & 0.08333333\\\\\n",
       "\t  6         & Men        & Third      &  75        & 387        & 462        & 0.16233766\\\\\n",
       "\t  8         & Women      & First      & 140        &   4        & 144        & 0.97222222\\\\\n",
       "\t  9         & Women      & Second     &  80        &  13        &  93        & 0.86021505\\\\\n",
       "\t 10         & Women      & Third      &  76        &  89        & 165        & 0.46060606\\\\\n",
       "\t 11         & Men        & Crew       & 192        & 693        & 885        & 0.21690000\\\\\n",
       "\t 12         & Women      & Crew       &  20        &   3        &  23        & 0.86960000\\\\\n",
       "\\end{tabular}\n"
      ],
      "text/markdown": [
       "\n",
       "X | sex | class | survived | died | total | survivalpercentage | \n",
       "|---|---|---|---|---|---|---|---|---|---|---|\n",
       "|  1         | Children   | First      |   6        |   0        |   6        | 1.00000000 | \n",
       "|  2         | Children   | Second     |  24        |   0        |  24        | 1.00000000 | \n",
       "|  3         | Children   | Third      |  27        |  52        |  79        | 0.34177215 | \n",
       "|  4         | Men        | First      |  57        | 118        | 175        | 0.32571429 | \n",
       "|  5         | Men        | Second     |  14        | 154        | 168        | 0.08333333 | \n",
       "|  6         | Men        | Third      |  75        | 387        | 462        | 0.16233766 | \n",
       "|  8         | Women      | First      | 140        |   4        | 144        | 0.97222222 | \n",
       "|  9         | Women      | Second     |  80        |  13        |  93        | 0.86021505 | \n",
       "| 10         | Women      | Third      |  76        |  89        | 165        | 0.46060606 | \n",
       "| 11         | Men        | Crew       | 192        | 693        | 885        | 0.21690000 | \n",
       "| 12         | Women      | Crew       |  20        |   3        |  23        | 0.86960000 | \n",
       "\n",
       "\n"
      ],
      "text/plain": [
       "   X  sex      class  survived died total survivalpercentage\n",
       "1   1 Children First    6        0    6   1.00000000        \n",
       "2   2 Children Second  24        0   24   1.00000000        \n",
       "3   3 Children Third   27       52   79   0.34177215        \n",
       "4   4 Men      First   57      118  175   0.32571429        \n",
       "5   5 Men      Second  14      154  168   0.08333333        \n",
       "6   6 Men      Third   75      387  462   0.16233766        \n",
       "7   8 Women    First  140        4  144   0.97222222        \n",
       "8   9 Women    Second  80       13   93   0.86021505        \n",
       "9  10 Women    Third   76       89  165   0.46060606        \n",
       "10 11 Men      Crew   192      693  885   0.21690000        \n",
       "11 12 Women    Crew    20        3   23   0.86960000        "
      ]
     },
     "metadata": {},
     "output_type": "display_data"
    }
   ],
   "source": [
    "titanic2 <- read.csv(\"titanic_dataframe_copy.csv\", header = TRUE)\n",
    "titanic2"
   ]
  }
 ],
 "metadata": {
  "kernelspec": {
   "display_name": "R",
   "language": "R",
   "name": "ir"
  },
  "language_info": {
   "codemirror_mode": "r",
   "file_extension": ".r",
   "mimetype": "text/x-r-source",
   "name": "R",
   "pygments_lexer": "r",
   "version": "3.4.3"
  }
 },
 "nbformat": 4,
 "nbformat_minor": 2
}
