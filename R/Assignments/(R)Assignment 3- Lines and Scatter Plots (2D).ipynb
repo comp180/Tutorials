{
 "cells": [
  {
   "cell_type": "markdown",
   "metadata": {},
   "source": [
    "# Assignment 3- Lines and Scatter Plots (2D)\n",
    "\n",
    "### Create the following charts. All plots should have titles, x-axis labels, y-axis labels and legends sufficiently sized for readability. Read [2D plots](https://docs.google.com/document/d/10sR0Z39nCIB8LWERZ6v8uJOhhHVLc9Mi0kfK5A0g9Qg/edit?usp=sharing) for help.\n",
    "\n",
    "## 1. Linear plots \n",
    "\n",
    "* X: 0, 10, 20, 30, 40, 50, 60, 70, 80, 90, 100, 110, 120, 130, 140, 150, 160, 170, 180\n",
    "* Y1: 0, 0.17, 0.34, 0.5, 0.64, 0.77, 0.87, 0.94, 0.98, 1, 0.98, 0.94, 0.87, 0.77, 0.64, 0.5, 0.34, 0.17, 0\n",
    "* Y2: 0, 0.21, 0.4, 0.56, 0.69, 0.8, 0.89, 0.95, 0.99, 1, 0.99, 0.95, 0.89, 0.8, 0.69, 0.56, 0.4, 0.21, 0\n",
    "\n",
    "a) Make a linear plot of X and Y1. Be sure to use markers. Use labels X and Y1 and give an appropriate title."
   ]
  },
  {
   "cell_type": "code",
   "execution_count": null,
   "metadata": {},
   "outputs": [],
   "source": []
  },
  {
   "cell_type": "markdown",
   "metadata": {},
   "source": [
    "b) Make a linear plot with X and Y1 and on the same axes plot X and Y2 using a different color line and marks. Add a legend.\n",
    "\n",
    "*(Btw, those are two very common functions. Can you guess what they are?)*"
   ]
  },
  {
   "cell_type": "code",
   "execution_count": null,
   "metadata": {},
   "outputs": [],
   "source": []
  },
  {
   "cell_type": "markdown",
   "metadata": {},
   "source": [
    "## 2. Scatter plots\n",
    "\n",
    "Use the following data for the tasks in this section. Copy and paste:\n",
    "\n",
    "* Exam 1: 10.5, 5.9, 12.6, 7.7, 11, 2.8, 12, 12.3, 10.7, 14, 12.7, 12.8, 8.3, 9.7, 9.7, 9.4, 5.3, 8.8, 9.2, 4.1, 7.1, 13, 7.5, 11, 8.4, 8.3, 7.1, 6.3, 6.5, 12.6, 7.6, 15.4\n",
    "* Exam 2: 9.8, 7.8, 12.4, 12.3, 13.6, 11.2, 13.6, 12.2, 8.1, 9.5, 9.7, 12.4, 13.1, 9.1, 4.8, 11.9, 3, 4.9, 15.7, 4.8, 6, 6.5, 9.9, 11.2, 5.7, 4.7, 9.4, 11.7, 5.8, 11, 9.5, 20.6\n",
    "* Final exam: 15.5, 6.9, 18.1, 10, 19.8, 7.2, 12.8, 12.3, 19.5, 16, 19.9, 12.6, 10.6, 9.4, 13.1, 10.7, 4.2, 6.9, 14, 4.5, 6.6, 12, 10.5, 17, 7.1, 6.5, 9.7, 11.1, 9.2, 11.9, 10.5, 20.4\n",
    "* Total Score: 87.4, 71, 96, 80, 98.8, 76.7, 93.1, 91.5, 89.2, 91.3, 97.3, 94.1, 85.2, 79.3, 77.6, 87.5, 47.2, 72, 90.3, 63.3, 73.9, 81.5, 81.6, 93.1, 64.6, 38.7, 78.2, 81.7, 77.1, 91.6, 75.1, 114.8\n",
    "\n",
    "a) To see how well exam 1 predicts how people will do on exam 2, let’s examine a scatter plot. Create a scatter plot of the exam 1 score as the x-axis and exam 2 score as the y axis. Make sure markers are of sufficient size. Choose markers that can overlap (e.g. empty instead of filled markers)."
   ]
  },
  {
   "cell_type": "code",
   "execution_count": null,
   "metadata": {},
   "outputs": [],
   "source": []
  },
  {
   "cell_type": "markdown",
   "metadata": {},
   "source": [
    "b) do the same for exam 1 and the final exam."
   ]
  },
  {
   "cell_type": "code",
   "execution_count": null,
   "metadata": {},
   "outputs": [],
   "source": []
  },
  {
   "cell_type": "markdown",
   "metadata": {},
   "source": [
    "c) do the same for exam 1 and their total score in the class."
   ]
  },
  {
   "cell_type": "code",
   "execution_count": null,
   "metadata": {},
   "outputs": [],
   "source": []
  },
  {
   "cell_type": "markdown",
   "metadata": {},
   "source": [
    "# ***END OF ASSIGNMENT***\n",
    "\n",
    "**The following is optional. It might appear in the quizzes and exams as extra credit.**\n",
    "\n",
    "For the subsections of each question, instead of making separate plots for the lettered sections, use the subplot feature of your language to put them all on the same figure (not the same plot axes, but rather the same figure - ask if this is unclear).\n"
   ]
  },
  {
   "cell_type": "code",
   "execution_count": null,
   "metadata": {},
   "outputs": [],
   "source": []
  }
 ],
 "metadata": {
  "kernelspec": {
   "display_name": "R",
   "language": "R",
   "name": "ir"
  },
  "language_info": {
   "codemirror_mode": "r",
   "file_extension": ".r",
   "mimetype": "text/x-r-source",
   "name": "R",
   "pygments_lexer": "r",
   "version": "3.5.0"
  }
 },
 "nbformat": 4,
 "nbformat_minor": 2
}
