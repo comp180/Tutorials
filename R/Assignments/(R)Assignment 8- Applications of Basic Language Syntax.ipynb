{
 "cells": [
  {
   "cell_type": "markdown",
   "metadata": {},
   "source": [
    "# Assignment 8: Applications of Basic Language Syntax\n",
    "\n",
    "## Date/time string parsing\n",
    "\n",
    "Time stamps on data are often recorded in the standard ISO date and time format as shown below:\n",
    "\n",
    "    yyyy-mm-ddThh:mm:ss\n",
    "    2018-01-02T18:31:16 ----> 6:31pm on January 2, 2018\n",
    "    1999-02-14T21:02:37 ----> 9:02pm on February 14, 1999\n",
    "\n",
    "**Write code that when given a datetime string and outputs a human readable version exactly in the format specified below.** \n",
    "\n",
    "    [Morning, Noon, Afternoon, Evening, or Night], X:XX[am or pm] on [Month as a word] [day], [year]\n",
    "    E.g. 1999-02-14T21:02:37 would be “Night, 9:02pm on February 14, 1999”\n",
    "\n",
    "Do not use any datetime string function, though depending on your language they would be useful to do this in practice. \n",
    "\n",
    "*Hint: you’ll have to cast strings to integers in order to perform the if statements which place [Morning, Noon…], [am or pm] and [Month as a word] appropriately.*\n",
    "\n",
    "The table for help: [Basic language syntax](https://docs.google.com/document/d/1Vy7kkxuP1mY5f2jYZU3Og7eVbuTv_Rhj3lFTrICUywg/edit?usp=sharing)\n",
    "\n",
    "\n"
   ]
  },
  {
   "cell_type": "code",
   "execution_count": null,
   "metadata": {},
   "outputs": [],
   "source": []
  }
 ],
 "metadata": {
  "kernelspec": {
   "display_name": "R",
   "language": "R",
   "name": "ir"
  },
  "language_info": {
   "codemirror_mode": "r",
   "file_extension": ".r",
   "mimetype": "text/x-r-source",
   "name": "R",
   "pygments_lexer": "r",
   "version": "3.5.0"
  }
 },
 "nbformat": 4,
 "nbformat_minor": 2
}
