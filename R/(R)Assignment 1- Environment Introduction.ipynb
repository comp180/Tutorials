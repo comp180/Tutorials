{
 "cells": [
  {
   "cell_type": "markdown",
   "metadata": {},
   "source": [
    "# Assignment 1: Environment Introduction\n",
    "\n",
    "## Compare and Contrast Languages\n",
    "Briefly compare and contrast the possible data analysis languages (Python, R, and Matlab/Octave) presented in the class including: \n",
    "    1. A brief description \n",
    "    2. Popularity \n",
    "    3. Who uses each environment more \n",
    "    4. Advantage of each and \n",
    "    5. Potential limitations of the language."
   ]
  },
  {
   "cell_type": "markdown",
   "metadata": {},
   "source": []
  },
  {
   "cell_type": "markdown",
   "metadata": {},
   "source": [
    "## Choose your language and run \"Hello, World\"\n",
    "Choose your preferred language. Set up your programming environment on your machine of choice for the rest of the semester, and run “Hello World” or a similar program. ([\"Getting to Know Your Environment\"](https://docs.google.com/document/d/1cSGV_UoTLPgrzceM_MNh3bas8-POoJqQ5Zc8vUOudnQ/edit?usp=sharing))"
   ]
  },
  {
   "cell_type": "code",
   "execution_count": null,
   "metadata": {},
   "outputs": [],
   "source": []
  }
 ],
 "metadata": {
  "kernelspec": {
   "display_name": "R",
   "language": "R",
   "name": "ir"
  },
  "language_info": {
   "codemirror_mode": "r",
   "file_extension": ".r",
   "mimetype": "text/x-r-source",
   "name": "R",
   "pygments_lexer": "r",
   "version": "3.5.0"
  }
 },
 "nbformat": 4,
 "nbformat_minor": 2
}
