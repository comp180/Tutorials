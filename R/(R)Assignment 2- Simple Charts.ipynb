{
 "cells": [
  {
   "cell_type": "markdown",
   "metadata": {},
   "source": [
    "# Assignment 2: Simple Charts\n",
    "\n",
    "Before beginning this assignment, read [Data Visualization- Simple Charts](https://docs.google.com/document/d/10EmTKEQJditzpTdpOM56SEVsA581MDDpeVuj-c7mjI8/edit?usp=sharing) to help you with these problems.\n",
    "\n",
    "## 1.) Pie charts\n",
    "Make a pie chart of the percentage of time you spend during the day on various activities (sleeping, eating, socializing, attending class, homework, etc)."
   ]
  },
  {
   "cell_type": "code",
   "execution_count": null,
   "metadata": {},
   "outputs": [],
   "source": []
  },
  {
   "cell_type": "markdown",
   "metadata": {},
   "source": [
    "## 2.) Bar Plots\n",
    "\n",
    "Make a bar plot of the total amount of time you spend during the day on various activities (sleeping, eating, socializing, attending class, homework, etc). Be sure to include vertical or slanted labels for each bar on the X axis."
   ]
  },
  {
   "cell_type": "code",
   "execution_count": null,
   "metadata": {},
   "outputs": [],
   "source": []
  },
  {
   "cell_type": "markdown",
   "metadata": {},
   "source": [
    "# ***End of Assignment***\n",
    "### This problem is optional and may appear in quizzes and exams as an extra credit problem\n",
    "\n",
    "## 3.) Group bar plots with legend\n",
    "Make either a side-by-side or stacked bar plot with the total amount of time you spend during the day on weekdays versus weekends. "
   ]
  },
  {
   "cell_type": "code",
   "execution_count": null,
   "metadata": {},
   "outputs": [],
   "source": []
  }
 ],
 "metadata": {
  "kernelspec": {
   "display_name": "R",
   "language": "R",
   "name": "ir"
  },
  "language_info": {
   "codemirror_mode": "r",
   "file_extension": ".r",
   "mimetype": "text/x-r-source",
   "name": "R",
   "pygments_lexer": "r",
   "version": "3.5.0"
  }
 },
 "nbformat": 4,
 "nbformat_minor": 2
}
