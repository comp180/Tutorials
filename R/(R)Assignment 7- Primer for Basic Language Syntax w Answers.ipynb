{
 "cells": [
  {
   "cell_type": "markdown",
   "metadata": {},
   "source": [
    "# Assignment 7: Primer for Basic Language Syntax with Answers\n",
    "\n",
    "For help with this assignment, you can use the following table:\n",
    "[Basic language syntax](https://docs.google.com/document/d/1Vy7kkxuP1mY5f2jYZU3Og7eVbuTv_Rhj3lFTrICUywg/edit?usp=sharing)\n",
    "\n",
    "*Note: The table will not be sufficient on its own for you to complete the assignment, however in the cases where it is not sufficient it can point you to the correct function or approach to answer the problem.\n",
    "\n",
    "## Section A: help and comments\n",
    "\n",
    "Create a variable, var, and set the value to the string “hello”"
   ]
  },
  {
   "cell_type": "code",
   "execution_count": 1,
   "metadata": {},
   "outputs": [],
   "source": [
    "var <- \"hello\""
   ]
  },
  {
   "cell_type": "markdown",
   "metadata": {},
   "source": [
    "Now print the data type of var"
   ]
  },
  {
   "cell_type": "code",
   "execution_count": 2,
   "metadata": {},
   "outputs": [
    {
     "data": {
      "text/html": [
       "'character'"
      ],
      "text/latex": [
       "'character'"
      ],
      "text/markdown": [
       "'character'"
      ],
      "text/plain": [
       "[1] \"character\""
      ]
     },
     "metadata": {},
     "output_type": "display_data"
    }
   ],
   "source": [
    "typeof(var)"
   ]
  },
  {
   "cell_type": "markdown",
   "metadata": {},
   "source": [
    "Now run the help function for var"
   ]
  },
  {
   "cell_type": "code",
   "execution_count": 5,
   "metadata": {},
   "outputs": [],
   "source": [
    "?var"
   ]
  },
  {
   "cell_type": "markdown",
   "metadata": {},
   "source": [
    "## Section B: numbers and arithmetic\n",
    "\n",
    "Print the types for 1, 1.0, and “1” and note how they differ"
   ]
  },
  {
   "cell_type": "code",
   "execution_count": 6,
   "metadata": {},
   "outputs": [
    {
     "data": {
      "text/html": [
       "'double'"
      ],
      "text/latex": [
       "'double'"
      ],
      "text/markdown": [
       "'double'"
      ],
      "text/plain": [
       "[1] \"double\""
      ]
     },
     "metadata": {},
     "output_type": "display_data"
    },
    {
     "data": {
      "text/html": [
       "'double'"
      ],
      "text/latex": [
       "'double'"
      ],
      "text/markdown": [
       "'double'"
      ],
      "text/plain": [
       "[1] \"double\""
      ]
     },
     "metadata": {},
     "output_type": "display_data"
    },
    {
     "data": {
      "text/html": [
       "'character'"
      ],
      "text/latex": [
       "'character'"
      ],
      "text/markdown": [
       "'character'"
      ],
      "text/plain": [
       "[1] \"character\""
      ]
     },
     "metadata": {},
     "output_type": "display_data"
    }
   ],
   "source": [
    "typeof(1)\n",
    "typeof(1.0)\n",
    "typeof(\"1\")"
   ]
  },
  {
   "cell_type": "markdown",
   "metadata": {},
   "source": [
    "Calculate and print the area of a circle of radius 5 to two decimal places"
   ]
  },
  {
   "cell_type": "code",
   "execution_count": 7,
   "metadata": {},
   "outputs": [
    {
     "data": {
      "text/html": [
       "78.54"
      ],
      "text/latex": [
       "78.54"
      ],
      "text/markdown": [
       "78.54"
      ],
      "text/plain": [
       "[1] 78.54"
      ]
     },
     "metadata": {},
     "output_type": "display_data"
    }
   ],
   "source": [
    "round(pi*5^2, digits = 2)"
   ]
  },
  {
   "cell_type": "markdown",
   "metadata": {},
   "source": [
    "Print a random roll of a dice (numbers 1 to 6)"
   ]
  },
  {
   "cell_type": "code",
   "execution_count": 8,
   "metadata": {},
   "outputs": [
    {
     "data": {
      "text/html": [
       "4"
      ],
      "text/latex": [
       "4"
      ],
      "text/markdown": [
       "4"
      ],
      "text/plain": [
       "[1] 4"
      ]
     },
     "metadata": {},
     "output_type": "display_data"
    }
   ],
   "source": [
    "sample(1:6, 1)"
   ]
  },
  {
   "cell_type": "markdown",
   "metadata": {},
   "source": [
    "Print a random floating point number from 0 to 2.5, rounded to 2 decimal places"
   ]
  },
  {
   "cell_type": "code",
   "execution_count": 10,
   "metadata": {},
   "outputs": [
    {
     "data": {
      "text/html": [
       "2.04"
      ],
      "text/latex": [
       "2.04"
      ],
      "text/markdown": [
       "2.04"
      ],
      "text/plain": [
       "[1] 2.04"
      ]
     },
     "metadata": {},
     "output_type": "display_data"
    }
   ],
   "source": [
    "round(runif(1, 0, 2.5), digits = 2)"
   ]
  },
  {
   "cell_type": "markdown",
   "metadata": {},
   "source": [
    "## Section C: strings and slices\n",
    "\n",
    "Create a string (be creative) with a single quote character in it, a double quote character in it, a tab, and a newline character, and print the string you’ve made\n"
   ]
  },
  {
   "cell_type": "code",
   "execution_count": 18,
   "metadata": {},
   "outputs": [
    {
     "name": "stdout",
     "output_type": "stream",
     "text": [
      "'Harry Potter' \tand the\n",
      " \"Sorcerer's Stone\""
     ]
    }
   ],
   "source": [
    "book <- \"\\'Harry Potter\\' \\tand the\\n \\\"Sorcerer\\'s Stone\\\"\"\n",
    "cat(book)"
   ]
  },
  {
   "cell_type": "markdown",
   "metadata": {},
   "source": [
    "Set a to “my”, b to “dog”, and c to “house”, and concatenate them into variable d with spaces in between"
   ]
  },
  {
   "cell_type": "code",
   "execution_count": 21,
   "metadata": {},
   "outputs": [
    {
     "name": "stdout",
     "output_type": "stream",
     "text": [
      "my dog house"
     ]
    }
   ],
   "source": [
    "a <- \"my\"\n",
    "b <- \"dog\"\n",
    "c <- \"house\"\n",
    "d <- paste(a, b, c, sep = \" \")\n",
    "cat(d)"
   ]
  },
  {
   "cell_type": "markdown",
   "metadata": {},
   "source": [
    "Print the length of string d"
   ]
  },
  {
   "cell_type": "code",
   "execution_count": 23,
   "metadata": {},
   "outputs": [
    {
     "data": {
      "text/html": [
       "12"
      ],
      "text/latex": [
       "12"
      ],
      "text/markdown": [
       "12"
      ],
      "text/plain": [
       "[1] 12"
      ]
     },
     "metadata": {},
     "output_type": "display_data"
    }
   ],
   "source": [
    "nchar(d)"
   ]
  },
  {
   "cell_type": "markdown",
   "metadata": {},
   "source": [
    "Extract “dog” from string d using string index slicing"
   ]
  },
  {
   "cell_type": "code",
   "execution_count": 24,
   "metadata": {},
   "outputs": [
    {
     "data": {
      "text/html": [
       "'dog'"
      ],
      "text/latex": [
       "'dog'"
      ],
      "text/markdown": [
       "'dog'"
      ],
      "text/plain": [
       "[1] \"dog\""
      ]
     },
     "metadata": {},
     "output_type": "display_data"
    }
   ],
   "source": [
    "substr(d, 4, 6)"
   ]
  },
  {
   "cell_type": "markdown",
   "metadata": {},
   "source": [
    "Print the length of “supercalifragilisticexpialidocious”"
   ]
  },
  {
   "cell_type": "code",
   "execution_count": 27,
   "metadata": {},
   "outputs": [
    {
     "data": {
      "text/html": [
       "34"
      ],
      "text/latex": [
       "34"
      ],
      "text/markdown": [
       "34"
      ],
      "text/plain": [
       "[1] 34"
      ]
     },
     "metadata": {},
     "output_type": "display_data"
    }
   ],
   "source": [
    "a <- \"supercalifragilisticexpialidocious\"\n",
    "nchar(a)"
   ]
  },
  {
   "cell_type": "markdown",
   "metadata": {},
   "source": [
    "## Section D: booleans and conditionals\n",
    "\n",
    "Translate and then evaluate the truth value of this: (not false) and ((not true) or true)"
   ]
  },
  {
   "cell_type": "code",
   "execution_count": 28,
   "metadata": {},
   "outputs": [
    {
     "data": {
      "text/html": [
       "TRUE"
      ],
      "text/latex": [
       "TRUE"
      ],
      "text/markdown": [
       "TRUE"
      ],
      "text/plain": [
       "[1] TRUE"
      ]
     },
     "metadata": {},
     "output_type": "display_data"
    }
   ],
   "source": [
    "!FALSE & (!TRUE | TRUE)"
   ]
  },
  {
   "cell_type": "markdown",
   "metadata": {},
   "source": [
    "Write an if statement for variable temp that prints “fever” if temp is under 110 but over 102, and test it with a value in that range"
   ]
  },
  {
   "cell_type": "code",
   "execution_count": 29,
   "metadata": {},
   "outputs": [
    {
     "name": "stdout",
     "output_type": "stream",
     "text": [
      "Fever"
     ]
    }
   ],
   "source": [
    "temp <- 105\n",
    "if(temp > 102 & temp < 110) {\n",
    "    cat(\"Fever\")\n",
    "}"
   ]
  },
  {
   "cell_type": "markdown",
   "metadata": {},
   "source": [
    "Write and appropriately test an if/else statement that takes a variable var and prints:\n",
    "    * “Negative” if negative\n",
    "    * “Positive” if positive and\n",
    "    * “Zero” if neither"
   ]
  },
  {
   "cell_type": "code",
   "execution_count": 30,
   "metadata": {},
   "outputs": [
    {
     "data": {
      "text/html": [
       "'Zero'"
      ],
      "text/latex": [
       "'Zero'"
      ],
      "text/markdown": [
       "'Zero'"
      ],
      "text/plain": [
       "[1] \"Zero\""
      ]
     },
     "metadata": {},
     "output_type": "display_data"
    }
   ],
   "source": [
    "val <- 0\n",
    "if(val > 0) \"Positive\" else if(val < 0) \"Negative\" else \"Zero\""
   ]
  },
  {
   "cell_type": "markdown",
   "metadata": {},
   "source": [
    "## Section E: loops\n",
    "\n",
    "Write a for loop that prints the numbers 0 to 9"
   ]
  },
  {
   "cell_type": "code",
   "execution_count": 31,
   "metadata": {},
   "outputs": [
    {
     "name": "stdout",
     "output_type": "stream",
     "text": [
      "0  1  2  3  4  5  6  7  8  9  "
     ]
    }
   ],
   "source": [
    "for(i in 0:9) {\n",
    "    cat(i, \" \")\n",
    "}"
   ]
  },
  {
   "cell_type": "markdown",
   "metadata": {},
   "source": [
    "Write a for loop that prints only even numbers from 10 to 20 "
   ]
  },
  {
   "cell_type": "code",
   "execution_count": 35,
   "metadata": {},
   "outputs": [
    {
     "name": "stdout",
     "output_type": "stream",
     "text": [
      "10  12  14  16  18  20  "
     ]
    }
   ],
   "source": [
    "for(i in 10:20) {\n",
    "    if(i%%2 == 0) cat(i, \" \")\n",
    "}"
   ]
  },
  {
   "cell_type": "markdown",
   "metadata": {},
   "source": [
    "Write a for each loop that goes through a list consisting of “hello”, “hi”,and ”bye” and prints the string and it’s length"
   ]
  },
  {
   "cell_type": "code",
   "execution_count": 37,
   "metadata": {},
   "outputs": [
    {
     "name": "stdout",
     "output_type": "stream",
     "text": [
      "hello 5 \n",
      "hi 2 \n",
      "bye 3 \n"
     ]
    }
   ],
   "source": [
    "words <- list(\"hello\", \"hi\", \"bye\")\n",
    "for(word in words) {\n",
    "    cat(word, nchar(word), \"\\n\")\n",
    "}"
   ]
  },
  {
   "cell_type": "markdown",
   "metadata": {},
   "source": [
    "Set the variable a to be 1. \n",
    "    * Then make a while loop that stops when a is over a million.\n",
    "    * In the loop, multiply a by 2 each time and show the results"
   ]
  },
  {
   "cell_type": "code",
   "execution_count": 39,
   "metadata": {},
   "outputs": [
    {
     "name": "stdout",
     "output_type": "stream",
     "text": [
      "2 \n",
      "4 \n",
      "8 \n",
      "16 \n",
      "32 \n",
      "64 \n",
      "128 \n",
      "256 \n",
      "512 \n",
      "1024 \n",
      "2048 \n",
      "4096 \n",
      "8192 \n",
      "16384 \n",
      "32768 \n",
      "65536 \n",
      "131072 \n",
      "262144 \n",
      "524288 \n",
      "1048576 \n"
     ]
    }
   ],
   "source": [
    "a <- 1\n",
    "while(a<=1000000) {\n",
    "    a<- 2*a\n",
    "    cat(a, \"\\n\")\n",
    "}"
   ]
  },
  {
   "cell_type": "markdown",
   "metadata": {},
   "source": [
    "Do the same as before, but have the while loop never stop (e.g. while(true)) but have it break the loop when a is over a million"
   ]
  },
  {
   "cell_type": "code",
   "execution_count": 40,
   "metadata": {},
   "outputs": [
    {
     "name": "stdout",
     "output_type": "stream",
     "text": [
      "2 \n",
      "4 \n",
      "8 \n",
      "16 \n",
      "32 \n",
      "64 \n",
      "128 \n",
      "256 \n",
      "512 \n",
      "1024 \n",
      "2048 \n",
      "4096 \n",
      "8192 \n",
      "16384 \n",
      "32768 \n",
      "65536 \n",
      "131072 \n",
      "262144 \n",
      "524288 \n",
      "1048576 \n"
     ]
    }
   ],
   "source": [
    "a<-1\n",
    "repeat{\n",
    "    a<-2*a\n",
    "    cat(a, \"\\n\")\n",
    "    if(a>1000000) break\n",
    "}"
   ]
  }
 ],
 "metadata": {
  "kernelspec": {
   "display_name": "R",
   "language": "R",
   "name": "ir"
  },
  "language_info": {
   "codemirror_mode": "r",
   "file_extension": ".r",
   "mimetype": "text/x-r-source",
   "name": "R",
   "pygments_lexer": "r",
   "version": "3.5.0"
  }
 },
 "nbformat": 4,
 "nbformat_minor": 2
}
