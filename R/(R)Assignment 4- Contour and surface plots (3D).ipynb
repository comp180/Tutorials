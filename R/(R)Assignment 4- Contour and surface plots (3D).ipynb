{
 "cells": [
  {
   "cell_type": "markdown",
   "metadata": {},
   "source": [
    "# Assignment 4: Contour and surface plots (3D)\n",
    "\n",
    "### All plots should have titles and appropriate labels sufficiently sized for readability.  Read [ 3D plots](https://docs.google.com/document/d/1aLfXI45ZIEN93N7lxZ7TU_mFzyz1LoBfg0fcieeh53I/edit?usp=sharing) for help.\n",
    "\n",
    "In your experiments you found that the phenomenon you are measuring is described by the following equation:\n",
    "\n",
    "Z = exp(-((X-1)^2+(Y-4)^2)/0.15) +\n",
    "    exp(-((X-3)^2+(Y-4)^2)/0.15) +\n",
    "    exp(-((X-2)^2+(Y-3)^2)/0.15) +\n",
    "    exp(-(X-2)^2) * exp(-(Y - ((X-2)^2+1))^2/0.15)\n",
    "\n",
    "***To be complete, be sure to show the contour plot for the entire range for which this function has interesting features to observe.***\n",
    "\n",
    "## 1. Contour plot\n",
    "\n",
    "* Make a contour plot. Make sure to add labels in the plot or a legend for colors on the contours. You can choose either a filled contour plot or [colored lines](https://plot.ly/r/reference/#contour-contours-coloring), your choice."
   ]
  },
  {
   "cell_type": "code",
   "execution_count": null,
   "metadata": {},
   "outputs": [],
   "source": []
  },
  {
   "cell_type": "markdown",
   "metadata": {},
   "source": [
    "## 2. Surface plots (or mesh plots)\n",
    "* Using the same data set as before, create a surface plot. Also be sure to choose an appropriate color mapping to help in interpretation. If you can’t make a surface plot, a mesh plot (where the surface is not filled in) will suffice."
   ]
  },
  {
   "cell_type": "code",
   "execution_count": null,
   "metadata": {
    "scrolled": false
   },
   "outputs": [],
   "source": []
  }
 ],
 "metadata": {
  "kernelspec": {
   "display_name": "R",
   "language": "R",
   "name": "ir"
  },
  "language_info": {
   "codemirror_mode": "r",
   "file_extension": ".r",
   "mimetype": "text/x-r-source",
   "name": "R",
   "pygments_lexer": "r",
   "version": "3.5.0"
  }
 },
 "nbformat": 4,
 "nbformat_minor": 2
}
