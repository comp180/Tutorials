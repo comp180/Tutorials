{
 "cells": [
  {
   "cell_type": "markdown",
   "metadata": {},
   "source": [
    "# Classification Demo: k-NN Classification\n",
    "The purpose of this demo is to demonstrate the ease and utility of performing classification. Although there are many classifiers (many of which are intimately related with similarly-named regressions) one of the most used and easiest to understand classifiers is **k-Nearest Neighbors**. Basically, each sample of training data is a labeled point in a high dimensional space, and when test data comes in you simply poll the k nearest neighbors to that unlabeled point to determine which class it belongs to.\n",
    "\n",
    "In this example, we will generate data that belongs to three different sources. We will then train the classifier using a subset of the data, and test the classifier on a separate set.\n",
    "\n",
    "Perform the following steps:"
   ]
  },
  {
   "cell_type": "markdown",
   "metadata": {},
   "source": [
    "## 1. Create a function that generates features depending on a label being either ‘A’, ‘B’, or ‘C’. Assume n is the (0,1) normal distribution\n",
    "* A: (x,y) = (1 + n, 3 + n)\n",
    "* B: (x,y) = (3 + n, 5 + n)\n",
    "* C: (x,y) = (5 + n, 1 + n)"
   ]
  },
  {
   "cell_type": "code",
   "execution_count": 1,
   "metadata": {},
   "outputs": [],
   "source": [
    "# Clear your environment.\n",
    "rm (list = ls())\n",
    "\n",
    "# Create a function.\n",
    "mydff <- function(n1,n2=n1,n3=n1){\n",
    "  x1 <- 1 + rnorm(n1)\n",
    "  y1 <- 3 + rnorm(n1)\n",
    "  \n",
    "  x2 <- 3 + rnorm(n2)\n",
    "  y2 <- 5 + rnorm(n2)\n",
    "  \n",
    "  x3 <- 5 + rnorm(n3)\n",
    "  y3 <- 1 + rnorm(n3)\n",
    "  \n",
    "  myclass <- rep(c(\"A\", \"B\", \"C\"), c(n1,n2,n3))\n",
    "\n",
    "  df <- data.frame(class = myclass, x = c(x1,x2,x3), y = c(y1,y2,y3))\n",
    "\n",
    "  return(df)\n",
    "}"
   ]
  },
  {
   "cell_type": "markdown",
   "metadata": {},
   "source": [
    "## 2. Generate two samples with equal numbers in each class.\n",
    "* A training set of 30 samples total.\n",
    "* A test set of 150 samples."
   ]
  },
  {
   "cell_type": "code",
   "execution_count": 3,
   "metadata": {},
   "outputs": [],
   "source": [
    "train = mydff(10)\n",
    "test = mydff(50)"
   ]
  },
  {
   "cell_type": "markdown",
   "metadata": {},
   "source": [
    "## 3. Create a k-NN classifier with the following values of k\n",
    "* K = 1\n",
    "* K = 3\n",
    "* K = 9 (optional)"
   ]
  },
  {
   "cell_type": "code",
   "execution_count": 4,
   "metadata": {},
   "outputs": [],
   "source": [
    "library(class)\n",
    "knn.1 <- knn(train[,2:3], test[,2:3], train[,1], k=1)\n",
    "knn.3 <- knn(train[,2:3], test[,2:3], train[,1], k=3)\n",
    "knn.9 <- knn(train[,2:3], test[,2:3], train[,1], k=9)"
   ]
  },
  {
   "cell_type": "markdown",
   "metadata": {},
   "source": [
    "## 4. Create a scatter plot showing the training data with the labels as different colors and include a legend."
   ]
  },
  {
   "cell_type": "code",
   "execution_count": 5,
   "metadata": {},
   "outputs": [
    {
     "data": {},
     "metadata": {},
     "output_type": "display_data"
    },
    {
     "data": {
      "image/png": "[encoded data removed]",
      "text/plain": [
       "plot without title"
      ]
     },
     "metadata": {},
     "output_type": "display_data"
    }
   ],
   "source": [
    "library(ggplot2)\n",
    "ggplot(train, aes(x=x,y=y,col=class)) + geom_point() + ggtitle(\"example\")"
   ]
  },
  {
   "cell_type": "markdown",
   "metadata": {},
   "source": [
    "## 5. Apply each of the 3 classifiers to predict the class in the test set. Find the overall accuracy, average recall, and average precision. Also, create the confusion matrix showing the mistakes (The expectation is that k=3 will perform best, but this is not guaranteed)"
   ]
  },
  {
   "cell_type": "code",
   "execution_count": 6,
   "metadata": {},
   "outputs": [
    {
     "data": {
      "text/html": [
       "<table>\n",
       "<thead><tr><th></th><th scope=col>Accuracy</th></tr></thead>\n",
       "<tbody>\n",
       "\t<tr><th scope=row>knn.1 </th><td>90.66667</td></tr>\n",
       "\t<tr><th scope=row>knn.3 </th><td>93.33333</td></tr>\n",
       "\t<tr><th scope=row>knn.9 </th><td>90.66667</td></tr>\n",
       "</tbody>\n",
       "</table>\n"
      ],
      "text/latex": [
       "\\begin{tabular}{r|l}\n",
       "  & Accuracy\\\\\n",
       "\\hline\n",
       "\tknn.1  & 90.66667\\\\\n",
       "\tknn.3  & 93.33333\\\\\n",
       "\tknn.9  & 90.66667\\\\\n",
       "\\end{tabular}\n"
      ],
      "text/markdown": [
       "\n",
       "| <!--/--> | Accuracy | \n",
       "|---|---|---|\n",
       "| knn.1  | 90.66667 | \n",
       "| knn.3  | 93.33333 | \n",
       "| knn.9  | 90.66667 | \n",
       "\n",
       "\n"
      ],
      "text/plain": [
       "       Accuracy\n",
       "knn.1  90.66667\n",
       "knn.3  93.33333\n",
       "knn.9  90.66667"
      ]
     },
     "metadata": {},
     "output_type": "display_data"
    }
   ],
   "source": [
    "# Accuracy\n",
    "\n",
    "acc  <- data.frame(matrix(0, ncol = 1, nrow = 3))\n",
    "names(acc) <- c(\"Accuracy\")\n",
    "rownames(acc) <- c(\"knn.1 \", \"knn.3 \", \"knn.9 \")\n",
    "acc[1,1] <- 100 * sum(test$class == knn.1)/150\n",
    "acc[2,1] <- 100 * sum(test$class == knn.3)/150\n",
    "acc[3,1] <- 100 * sum(test$class == knn.9)/150\n",
    "acc"
   ]
  },
  {
   "cell_type": "code",
   "execution_count": 7,
   "metadata": {},
   "outputs": [
    {
     "data": {
      "text/html": [
       "<table>\n",
       "<thead><tr><th></th><th scope=col>Precision of A</th><th scope=col>Precision of B</th><th scope=col>Precision of C</th><th scope=col>Avg Precision</th><th scope=col>Avg Recall</th></tr></thead>\n",
       "<tbody>\n",
       "\t<tr><th scope=row>knn.1 </th><td>0.9302326</td><td>0.9019608</td><td>0.8928571</td><td>0.9083502</td><td>0.9066667</td></tr>\n",
       "\t<tr><th scope=row>knn.3 </th><td>0.9375000</td><td>0.9215686</td><td>0.9411765</td><td>0.9334150</td><td>0.9333333</td></tr>\n",
       "\t<tr><th scope=row>knn.9 </th><td>0.9750000</td><td>0.8571429</td><td>0.9074074</td><td>0.9131834</td><td>0.9066667</td></tr>\n",
       "</tbody>\n",
       "</table>\n"
      ],
      "text/latex": [
       "\\begin{tabular}{r|lllll}\n",
       "  & Precision of A & Precision of B & Precision of C & Avg Precision & Avg Recall\\\\\n",
       "\\hline\n",
       "\tknn.1  & 0.9302326 & 0.9019608 & 0.8928571 & 0.9083502 & 0.9066667\\\\\n",
       "\tknn.3  & 0.9375000 & 0.9215686 & 0.9411765 & 0.9334150 & 0.9333333\\\\\n",
       "\tknn.9  & 0.9750000 & 0.8571429 & 0.9074074 & 0.9131834 & 0.9066667\\\\\n",
       "\\end{tabular}\n"
      ],
      "text/markdown": [
       "\n",
       "| <!--/--> | Precision of A | Precision of B | Precision of C | Avg Precision | Avg Recall | \n",
       "|---|---|---|\n",
       "| knn.1  | 0.9302326 | 0.9019608 | 0.8928571 | 0.9083502 | 0.9066667 | \n",
       "| knn.3  | 0.9375000 | 0.9215686 | 0.9411765 | 0.9334150 | 0.9333333 | \n",
       "| knn.9  | 0.9750000 | 0.8571429 | 0.9074074 | 0.9131834 | 0.9066667 | \n",
       "\n",
       "\n"
      ],
      "text/plain": [
       "       Precision of A Precision of B Precision of C Avg Precision Avg Recall\n",
       "knn.1  0.9302326      0.9019608      0.8928571      0.9083502     0.9066667 \n",
       "knn.3  0.9375000      0.9215686      0.9411765      0.9334150     0.9333333 \n",
       "knn.9  0.9750000      0.8571429      0.9074074      0.9131834     0.9066667 "
      ]
     },
     "metadata": {},
     "output_type": "display_data"
    }
   ],
   "source": [
    "# Precision of each K-NN classifier\n",
    "my_p_and_r_f <- function(k, pr_df) {\n",
    "  correct_A <- 0 \n",
    "  correct_B <- 0 \n",
    "  correct_C <- 0 \n",
    "  for (i in 1:50) # check the first 50 to see if they are A\n",
    "  {\n",
    "    if (k[i] == \"A\")\n",
    "      correct_A <- correct_A +1\n",
    "  }\n",
    "  for (i in 51:100) # check 51-100 to see if they are B\n",
    "  {\n",
    "    if (k[i] == \"B\")\n",
    "      correct_B <- correct_B +1\n",
    "  }\n",
    "\n",
    "  for (i in 101:150) # check 101-150 to see if they are C \n",
    "  {\n",
    "    if (k[i] == \"C\")\n",
    "      correct_C <- correct_C +1\n",
    "  }\n",
    "  \n",
    "  num_A <- 0 # set an initial value of zero\n",
    "  num_B <- 0 \n",
    "  num_C <- 0\n",
    "  for (i in 1:150) # find the raw count of A, B and C\n",
    "  {\n",
    "    if (k[i] ==\"A\")\n",
    "      num_A <- num_A +1\n",
    "    else if (k[i] ==\"B\")\n",
    "      num_B <- num_B +1\n",
    "    else if (k[i] ==\"C\")\n",
    "      num_C <- num_C +1\n",
    "  }\n",
    "  avg <- ((correct_A / num_A) + (correct_B / num_B) + (correct_C / num_C))/3\n",
    "  recall_var <- ((correct_A / 50) + (correct_B / 50) + (correct_C / 50))/3\n",
    "  pr_df <- c((correct_A / num_A), pr_b <- (correct_B / num_B), \n",
    "             pr_c <- (correct_C / num_C), avg, recall_var)\n",
    "  \n",
    "  return (pr_df)\n",
    "} \n",
    "# End of precision and recall function\n",
    "\n",
    "\n",
    "# Call the new precision function to calculate the precision of each K-NN classifier\n",
    "\n",
    "# Set up the name of columns of the precision data frame\n",
    "\n",
    "pf  <- data.frame(matrix(0, ncol = 5, nrow = 3))\n",
    "names(pf) <- c(\"Precision of A\", \"Precision of B\", \"Precision of C\", \"Avg Precision\", \"Avg Recall\")\n",
    "rownames(pf) <- c(\"knn.1 \", \"knn.3 \", \"knn.9 \")\n",
    "\n",
    "# Fill the new data frame with precision values for A, B and C, \n",
    "pf[1,] <- my_p_and_r_f(knn.1, pf_1)\n",
    "pf[2,] <- my_p_and_r_f(knn.3, pf_3)\n",
    "pf[3,] <- my_p_and_r_f(knn.9, pf_9)\n",
    "pf"
   ]
  },
  {
   "cell_type": "code",
   "execution_count": 8,
   "metadata": {
    "scrolled": false
   },
   "outputs": [
    {
     "name": "stderr",
     "output_type": "stream",
     "text": [
      "Installing package into 'C:/Users/ian_c/Documents/R/win-library/3.5'\n",
      "(as 'lib' is unspecified)\n",
      "also installing the dependencies 'numDeriv', 'SQUAREM', 'abind', 'mnormt', 'lava', 'kernlab', 'CVST', 'DEoptimR', 'magic', 'psych', 'prodlim', 'DRR', 'robustbase', 'sfsmisc', 'geometry', 'iterators', 'broom', 'ipred', 'dimRed', 'lubridate', 'timeDate', 'ddalpha', 'gower', 'RcppRoll', 'foreach', 'ModelMetrics', 'recipes'\n",
      "\n"
     ]
    },
    {
     "name": "stdout",
     "output_type": "stream",
     "text": [
      "package 'numDeriv' successfully unpacked and MD5 sums checked\n",
      "package 'SQUAREM' successfully unpacked and MD5 sums checked\n",
      "package 'abind' successfully unpacked and MD5 sums checked\n",
      "package 'mnormt' successfully unpacked and MD5 sums checked\n",
      "package 'lava' successfully unpacked and MD5 sums checked\n",
      "package 'kernlab' successfully unpacked and MD5 sums checked\n",
      "package 'CVST' successfully unpacked and MD5 sums checked\n",
      "package 'DEoptimR' successfully unpacked and MD5 sums checked\n",
      "package 'magic' successfully unpacked and MD5 sums checked\n",
      "package 'psych' successfully unpacked and MD5 sums checked\n",
      "package 'prodlim' successfully unpacked and MD5 sums checked\n",
      "package 'DRR' successfully unpacked and MD5 sums checked\n",
      "package 'robustbase' successfully unpacked and MD5 sums checked\n",
      "package 'sfsmisc' successfully unpacked and MD5 sums checked\n",
      "package 'geometry' successfully unpacked and MD5 sums checked\n",
      "package 'iterators' successfully unpacked and MD5 sums checked\n",
      "package 'broom' successfully unpacked and MD5 sums checked\n",
      "package 'ipred' successfully unpacked and MD5 sums checked\n",
      "package 'dimRed' successfully unpacked and MD5 sums checked\n",
      "package 'lubridate' successfully unpacked and MD5 sums checked\n",
      "package 'timeDate' successfully unpacked and MD5 sums checked\n",
      "package 'ddalpha' successfully unpacked and MD5 sums checked\n",
      "package 'gower' successfully unpacked and MD5 sums checked\n",
      "package 'RcppRoll' successfully unpacked and MD5 sums checked\n",
      "package 'foreach' successfully unpacked and MD5 sums checked\n",
      "package 'ModelMetrics' successfully unpacked and MD5 sums checked\n",
      "package 'recipes' successfully unpacked and MD5 sums checked\n",
      "package 'caret' successfully unpacked and MD5 sums checked\n",
      "\n",
      "The downloaded binary packages are in\n",
      "\tC:\\Users\\ian_c\\AppData\\Local\\Temp\\RtmpYNZIxH\\downloaded_packages\n"
     ]
    },
    {
     "name": "stderr",
     "output_type": "stream",
     "text": [
      "Loading required package: lattice\n",
      "Installing package into 'C:/Users/ian_c/Documents/R/win-library/3.5'\n",
      "(as 'lib' is unspecified)\n",
      "also installing the dependencies 'mlbench', 'randomForest', 'SparseM'\n",
      "\n"
     ]
    },
    {
     "name": "stdout",
     "output_type": "stream",
     "text": [
      "package 'mlbench' successfully unpacked and MD5 sums checked\n",
      "package 'randomForest' successfully unpacked and MD5 sums checked\n",
      "package 'SparseM' successfully unpacked and MD5 sums checked\n",
      "package 'e1071' successfully unpacked and MD5 sums checked\n",
      "\n",
      "The downloaded binary packages are in\n",
      "\tC:\\Users\\ian_c\\AppData\\Local\\Temp\\RtmpYNZIxH\\downloaded_packages\n"
     ]
    },
    {
     "data": {
      "text/plain": [
       "Confusion Matrix and Statistics\n",
       "\n",
       "          Reference\n",
       "Prediction  A  B  C\n",
       "         A 40  3  0\n",
       "         B  5 46  0\n",
       "         C  5  1 50\n",
       "\n",
       "Overall Statistics\n",
       "                                         \n",
       "               Accuracy : 0.9067         \n",
       "                 95% CI : (0.8484, 0.948)\n",
       "    No Information Rate : 0.3333         \n",
       "    P-Value [Acc > NIR] : < 2e-16        \n",
       "                                         \n",
       "                  Kappa : 0.86           \n",
       " Mcnemar's Test P-Value : 0.08966        \n",
       "\n",
       "Statistics by Class:\n",
       "\n",
       "                     Class: A Class: B Class: C\n",
       "Sensitivity            0.8000   0.9200   1.0000\n",
       "Specificity            0.9700   0.9500   0.9400\n",
       "Pos Pred Value         0.9302   0.9020   0.8929\n",
       "Neg Pred Value         0.9065   0.9596   1.0000\n",
       "Prevalence             0.3333   0.3333   0.3333\n",
       "Detection Rate         0.2667   0.3067   0.3333\n",
       "Detection Prevalence   0.2867   0.3400   0.3733\n",
       "Balanced Accuracy      0.8850   0.9350   0.9700"
      ]
     },
     "metadata": {},
     "output_type": "display_data"
    },
    {
     "data": {
      "text/plain": [
       "Confusion Matrix and Statistics\n",
       "\n",
       "          Reference\n",
       "Prediction  A  B  C\n",
       "         A 45  3  0\n",
       "         B  2 47  2\n",
       "         C  3  0 48\n",
       "\n",
       "Overall Statistics\n",
       "                                          \n",
       "               Accuracy : 0.9333          \n",
       "                 95% CI : (0.8808, 0.9676)\n",
       "    No Information Rate : 0.3333          \n",
       "    P-Value [Acc > NIR] : <2e-16          \n",
       "                                          \n",
       "                  Kappa : 0.9             \n",
       " Mcnemar's Test P-Value : 0.1577          \n",
       "\n",
       "Statistics by Class:\n",
       "\n",
       "                     Class: A Class: B Class: C\n",
       "Sensitivity            0.9000   0.9400   0.9600\n",
       "Specificity            0.9700   0.9600   0.9700\n",
       "Pos Pred Value         0.9375   0.9216   0.9412\n",
       "Neg Pred Value         0.9510   0.9697   0.9798\n",
       "Prevalence             0.3333   0.3333   0.3333\n",
       "Detection Rate         0.3000   0.3133   0.3200\n",
       "Detection Prevalence   0.3200   0.3400   0.3400\n",
       "Balanced Accuracy      0.9350   0.9500   0.9650"
      ]
     },
     "metadata": {},
     "output_type": "display_data"
    },
    {
     "data": {
      "text/plain": [
       "Confusion Matrix and Statistics\n",
       "\n",
       "          Reference\n",
       "Prediction  A  B  C\n",
       "         A 39  1  0\n",
       "         B  7 48  1\n",
       "         C  4  1 49\n",
       "\n",
       "Overall Statistics\n",
       "                                         \n",
       "               Accuracy : 0.9067         \n",
       "                 95% CI : (0.8484, 0.948)\n",
       "    No Information Rate : 0.3333         \n",
       "    P-Value [Acc > NIR] : < 2e-16        \n",
       "                                         \n",
       "                  Kappa : 0.86           \n",
       " Mcnemar's Test P-Value : 0.03673        \n",
       "\n",
       "Statistics by Class:\n",
       "\n",
       "                     Class: A Class: B Class: C\n",
       "Sensitivity            0.7800   0.9600   0.9800\n",
       "Specificity            0.9900   0.9200   0.9500\n",
       "Pos Pred Value         0.9750   0.8571   0.9074\n",
       "Neg Pred Value         0.9000   0.9787   0.9896\n",
       "Prevalence             0.3333   0.3333   0.3333\n",
       "Detection Rate         0.2600   0.3200   0.3267\n",
       "Detection Prevalence   0.2667   0.3733   0.3600\n",
       "Balanced Accuracy      0.8850   0.9400   0.9650"
      ]
     },
     "metadata": {},
     "output_type": "display_data"
    }
   ],
   "source": [
    "# Confusion Matrix\n",
    "install.packages(\"caret\")\n",
    "library(caret)\n",
    "\n",
    "install.packages('e1071', dependencies=TRUE)\n",
    "\n",
    "\n",
    "\n",
    "cm1 <- confusionMatrix(knn.1, test$class, positive = NULL, dnn = c(\"Prediction\", \"Reference\"))\n",
    "cm2 <- confusionMatrix(knn.3, test$class, positive = NULL, dnn = c(\"Prediction\", \"Reference\"))\n",
    "cm3 <- confusionMatrix(knn.9, test$class, positive = NULL, dnn = c(\"Prediction\", \"Reference\"))\n",
    "\n",
    "cm1\n",
    "cm2\n",
    "cm3"
   ]
  }
 ],
 "metadata": {
  "kernelspec": {
   "display_name": "R",
   "language": "R",
   "name": "ir"
  },
  "language_info": {
   "codemirror_mode": "r",
   "file_extension": ".r",
   "mimetype": "text/x-r-source",
   "name": "R",
   "pygments_lexer": "r",
   "version": "3.5.0"
  }
 },
 "nbformat": 4,
 "nbformat_minor": 2
}
