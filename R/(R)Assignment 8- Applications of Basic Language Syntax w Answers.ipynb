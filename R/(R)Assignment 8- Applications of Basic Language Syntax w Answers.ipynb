{
 "cells": [
  {
   "cell_type": "markdown",
   "metadata": {},
   "source": [
    "# Assignment 8: Applications of Basic Language Syntax with Answers\n",
    "\n",
    "## Date/time string parsing\n",
    "\n",
    "Time stamps on data are often recorded in the standard ISO date and time format as shown below:\n",
    "\n",
    "    yyyy-mm-ddThh:mm:ss\n",
    "    2018-01-02T18:31:16 ----> 6:31pm on January 2, 2018\n",
    "    1999-02-14T21:02:37 ----> 9:02pm on February 14, 1999\n",
    "\n",
    "**Write code that when given a datetime string and outputs a human readable version exactly in the format specified below.** \n",
    "\n",
    "    [Morning, Noon, Afternoon, Evening, or Night], X:XX[am or pm] on [Month as a word] [day], [year]\n",
    "    E.g. 1999-02-14T21:02:37 would be “Night, 9:02pm on February 14, 1999”\n",
    "\n",
    "Do not use any datetime string function, though depending on your language they would be useful to do this in practice. \n",
    "\n",
    "*Hint: you’ll have to cast strings to integers in order to perform the if statements which place [Morning, Noon…], [am or pm] and [Month as a word] appropriately.*\n",
    "\n",
    "The table for help: [Basic language syntax](https://docs.google.com/document/d/1Vy7kkxuP1mY5f2jYZU3Og7eVbuTv_Rhj3lFTrICUywg/edit?usp=sharing)\n",
    "\n",
    "\n"
   ]
  },
  {
   "cell_type": "code",
   "execution_count": 31,
   "metadata": {},
   "outputs": [
    {
     "data": {
      "text/html": [
       "'Evening, 9:02pm on February 14, 1999'"
      ],
      "text/latex": [
       "'Evening, 9:02pm on February 14, 1999'"
      ],
      "text/markdown": [
       "'Evening, 9:02pm on February 14, 1999'"
      ],
      "text/plain": [
       "[1] \"Evening, 9:02pm on February 14, 1999\""
      ]
     },
     "metadata": {},
     "output_type": "display_data"
    }
   ],
   "source": [
    "datetime <- \"1999-02-14T21:02:37\"\n",
    "year <- substr(datetime, 1, 4)\n",
    "month <- substr(datetime, 6, 7)\n",
    "day <- substr(datetime, 9, 10)\n",
    "hour <- substr(datetime, 12, 13)\n",
    "minute <- substr(datetime, 15, 16)\n",
    "seconds <- substr(datetime, 18, 19)\n",
    "morning <- \"am\"\n",
    "daytime <- \"morning\"\n",
    "\n",
    "#Time of day\n",
    "if(hour >= 12) morning<-\"pm\"\n",
    "if(as.numeric(hour) > 21) {\n",
    "    daytime<-\"Night\"\n",
    "    } else if(as.numeric(hour) > 16) {\n",
    "        daytime<-\"Evening\"\n",
    "    } else if(as.numeric(hour) > 12) {\n",
    "        daytime<-\"Afternoon\"\n",
    "    } else if(as.numeric(hour) == 12) {\n",
    "        daytime<-\"Noon\"\n",
    "    }\n",
    "hour <- if(as.numeric(hour) > 12) as.numeric(hour)-12\n",
    "    \n",
    "#Month\n",
    "if(month == \"01\") {\n",
    "    month<-\"January\"\n",
    "} else if(month == \"02\") {\n",
    "    month<-\"February\"\n",
    "}else if(month == \"03\") {\n",
    "    month<-\"March\"\n",
    "}else if(month == \"04\") {\n",
    "    month<-\"April\"\n",
    "}else if(month == \"05\") {\n",
    "    month<-\"May\"\n",
    "}else if(month == \"06\") {\n",
    "    month<-\"June\"\n",
    "}else if(month == \"07\") {\n",
    "    month<-\"July\"\n",
    "}else if(month == \"08\") {\n",
    "    month<-\"August\"\n",
    "}else if(month == \"09\") {\n",
    "    month<-\"September\"\n",
    "}else if(month == \"10\") {\n",
    "    month<-\"October\"\n",
    "}else if(month == \"11\") {\n",
    "    month<-\"November\"\n",
    "}else if(month == \"12\") {\n",
    "    month<-\"December\"\n",
    "}\n",
    "\n",
    "time <- paste(daytime, \", \", hour, \":\", minute, morning, \" on \", month, \" \", day, \", \", year, sep='')\n",
    "time"
   ]
  }
 ],
 "metadata": {
  "kernelspec": {
   "display_name": "R",
   "language": "R",
   "name": "ir"
  },
  "language_info": {
   "codemirror_mode": "r",
   "file_extension": ".r",
   "mimetype": "text/x-r-source",
   "name": "R",
   "pygments_lexer": "r",
   "version": "3.5.0"
  }
 },
 "nbformat": 4,
 "nbformat_minor": 2
}
