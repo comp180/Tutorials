{
 "cells": [
  {
   "cell_type": "markdown",
   "metadata": {},
   "source": [
    "# Regression Demo: Polynomial Regression"
   ]
  },
  {
   "cell_type": "markdown",
   "metadata": {},
   "source": [
    "The purpose of this demo is to demonstrate the ease and utility of performing polynomial regression, of which linear regression is by far the most common subtype. In this example, we will generate noisy data using a known distribution. We will then treat this data as if it was recorded from an experiment. We will try various methods of fitting the data, and plotting those fits on an appropriate scatter plot for comparison. Then, using each model, we will try to predict on a separate set of test data, and observe the quality of fit using a number of metrics."
   ]
  },
  {
   "cell_type": "markdown",
   "metadata": {},
   "source": [
    "Perform the following steps:\n",
    "1. Create a function that generates a number according to the following equation\n",
    "    - 1y = sin(x) + 0.1 * normal(0,1).\n",
    "2. Generate two samples with x randomly chosen between 0 and 3:\n",
    "    - A training set of 10 (x,y) pairs\n",
    "    - A test set of 100 (x,y) pairs\n",
    "3. Fit the following polynomials to the training set\n",
    "    - Degree 1 polynomial (a line)\n",
    "    - Degree 2 polynomial (a quadratic)\n",
    "    - Degree 9 polynomial\n",
    "4. Create a plot showing the original data as a scatter plot and the three polynomial fits with a legend indicating the degree of the polynomial. Also overlay the sin(x) function with a dotted line.\n",
    "5. Apply each of the 3 models to predict the y value from the x value in the test set. Find the root mean square error (using a function, no need to code it yourself) between the predictions and the true values. (The expectation is that the degree 2 polynomial should give the best prediction with degree 9 a close second)\n"
   ]
  },
  {
   "cell_type": "markdown",
   "metadata": {},
   "source": [
    "## 1. Create a function that generates a number according to the following equation: y = sin(x) + 0.1 * normal(0,1)."
   ]
  },
  {
   "cell_type": "code",
   "execution_count": 1,
   "metadata": {},
   "outputs": [],
   "source": [
    "# Create a function.\n",
    "f <- function(x) {\n",
    "  y = sin(x) + 0.1 * rnorm(1,0,1)\n",
    "  return(y)\n",
    "}\n",
    "\n",
    "y <- f(3)\n"
   ]
  },
  {
   "cell_type": "markdown",
   "metadata": {},
   "source": [
    "A function in R has two components: name and body. Use the name to call the function. This will execute the function. The body is surrounded by {}.This portion tells the function what processes/actions to perform and what output to return. \n",
    "\n",
    "The function has two portions: sin(x) and 0.1*rnorm(1,0,1). Sin(x) is our standard curve that we have chosen. 0.1*rnorm(1,0,1) provides “noise” so that we have a more complex graph to work with. \n"
   ]
  },
  {
   "cell_type": "markdown",
   "metadata": {},
   "source": [
    "## 2. Generate two samples with x randomly chosen between 0 and 3:\n",
    "A training set of 10 (x,y) pairs\n",
    "\n",
    "A test set of 100 (x,y) pairs"
   ]
  },
  {
   "cell_type": "code",
   "execution_count": 2,
   "metadata": {},
   "outputs": [],
   "source": [
    "f <- function(x) {\n",
    "  y = sin(x) + 0.1 * rnorm(length(x),0,1)\n",
    "  return(y)\n",
    "}\n"
   ]
  },
  {
   "cell_type": "code",
   "execution_count": 3,
   "metadata": {},
   "outputs": [],
   "source": [
    "x <- runif(10, min = 0, max = 3)\n",
    "y <- f(x)\n"
   ]
  },
  {
   "cell_type": "code",
   "execution_count": 8,
   "metadata": {},
   "outputs": [
    {
     "data": {
      "text/html": [
       "<table>\n",
       "<thead><tr><th scope=col>x</th><th scope=col>y</th></tr></thead>\n",
       "<tbody>\n",
       "\t<tr><td>2.80176510 </td><td> 0.30895713</td></tr>\n",
       "\t<tr><td>2.91765225 </td><td> 0.20489750</td></tr>\n",
       "\t<tr><td>1.53763763 </td><td> 0.98559816</td></tr>\n",
       "\t<tr><td>2.36712390 </td><td> 0.63649140</td></tr>\n",
       "\t<tr><td>0.62564330 </td><td> 0.60313960</td></tr>\n",
       "\t<tr><td>0.03211509 </td><td>-0.01945097</td></tr>\n",
       "\t<tr><td>1.23583662 </td><td> 0.96582222</td></tr>\n",
       "\t<tr><td>2.58831601 </td><td> 0.69371520</td></tr>\n",
       "\t<tr><td>1.57720348 </td><td> 1.06928464</td></tr>\n",
       "\t<tr><td>0.63157053 </td><td> 0.63044967</td></tr>\n",
       "\t<tr><td>0.43766554 </td><td> 0.37087832</td></tr>\n",
       "\t<tr><td>0.82607380 </td><td> 0.78058791</td></tr>\n",
       "\t<tr><td>2.92041269 </td><td> 0.02024488</td></tr>\n",
       "\t<tr><td>0.32890557 </td><td> 0.42922037</td></tr>\n",
       "\t<tr><td>1.63296395 </td><td> 0.98711464</td></tr>\n",
       "\t<tr><td>1.27744754 </td><td> 0.97281146</td></tr>\n",
       "\t<tr><td>2.18995683 </td><td> 0.89675346</td></tr>\n",
       "\t<tr><td>1.70626410 </td><td> 1.14642091</td></tr>\n",
       "\t<tr><td>1.35631831 </td><td> 0.93046153</td></tr>\n",
       "\t<tr><td>0.43013597 </td><td> 0.31590404</td></tr>\n",
       "\t<tr><td>0.35158664 </td><td> 0.26171558</td></tr>\n",
       "\t<tr><td>0.77865517 </td><td> 0.70529612</td></tr>\n",
       "\t<tr><td>1.29102969 </td><td> 1.04573846</td></tr>\n",
       "\t<tr><td>2.33740838 </td><td> 0.68551100</td></tr>\n",
       "\t<tr><td>0.12121117 </td><td> 0.01199119</td></tr>\n",
       "\t<tr><td>1.93269362 </td><td> 0.94589656</td></tr>\n",
       "\t<tr><td>1.57149021 </td><td> 0.91487662</td></tr>\n",
       "\t<tr><td>2.51552335 </td><td> 0.58535479</td></tr>\n",
       "\t<tr><td>1.47245861 </td><td> 1.07842258</td></tr>\n",
       "\t<tr><td>2.03861817 </td><td> 0.93699437</td></tr>\n",
       "\t<tr><td>...</td><td>...</td></tr>\n",
       "\t<tr><td>2.2570677</td><td>0.8939843</td></tr>\n",
       "\t<tr><td>2.5161528</td><td>0.6074379</td></tr>\n",
       "\t<tr><td>1.7961443</td><td>1.0105305</td></tr>\n",
       "\t<tr><td>2.9838496</td><td>0.4494865</td></tr>\n",
       "\t<tr><td>0.6986459</td><td>0.7829378</td></tr>\n",
       "\t<tr><td>2.5957504</td><td>0.5016478</td></tr>\n",
       "\t<tr><td>0.9113954</td><td>0.5841599</td></tr>\n",
       "\t<tr><td>2.0552344</td><td>0.8561096</td></tr>\n",
       "\t<tr><td>1.7117691</td><td>1.0278336</td></tr>\n",
       "\t<tr><td>2.0900267</td><td>0.8629945</td></tr>\n",
       "\t<tr><td>0.8186552</td><td>0.6764449</td></tr>\n",
       "\t<tr><td>2.2140625</td><td>0.8596630</td></tr>\n",
       "\t<tr><td>0.2486789</td><td>0.3404256</td></tr>\n",
       "\t<tr><td>2.7195896</td><td>0.5228758</td></tr>\n",
       "\t<tr><td>0.4991938</td><td>0.6183854</td></tr>\n",
       "\t<tr><td>1.4614715</td><td>0.8380436</td></tr>\n",
       "\t<tr><td>1.0724818</td><td>0.8341351</td></tr>\n",
       "\t<tr><td>0.7348082</td><td>0.7567644</td></tr>\n",
       "\t<tr><td>2.9533118</td><td>0.2645973</td></tr>\n",
       "\t<tr><td>0.6135014</td><td>0.3956908</td></tr>\n",
       "\t<tr><td>1.8270609</td><td>0.7024677</td></tr>\n",
       "\t<tr><td>2.2283731</td><td>0.7572639</td></tr>\n",
       "\t<tr><td>1.8783074</td><td>0.9778610</td></tr>\n",
       "\t<tr><td>0.6482094</td><td>0.6919297</td></tr>\n",
       "\t<tr><td>0.2386695</td><td>0.2971395</td></tr>\n",
       "\t<tr><td>2.7704319</td><td>0.4372788</td></tr>\n",
       "\t<tr><td>2.9405935</td><td>0.2212915</td></tr>\n",
       "\t<tr><td>2.8041443</td><td>0.1430330</td></tr>\n",
       "\t<tr><td>0.7180766</td><td>0.5487982</td></tr>\n",
       "\t<tr><td>2.9505308</td><td>0.2778156</td></tr>\n",
       "</tbody>\n",
       "</table>\n"
      ],
      "text/latex": [
       "\\begin{tabular}{r|ll}\n",
       " x & y\\\\\n",
       "\\hline\n",
       "\t 2.80176510  &  0.30895713\\\\\n",
       "\t 2.91765225  &  0.20489750\\\\\n",
       "\t 1.53763763  &  0.98559816\\\\\n",
       "\t 2.36712390  &  0.63649140\\\\\n",
       "\t 0.62564330  &  0.60313960\\\\\n",
       "\t 0.03211509  & -0.01945097\\\\\n",
       "\t 1.23583662  &  0.96582222\\\\\n",
       "\t 2.58831601  &  0.69371520\\\\\n",
       "\t 1.57720348  &  1.06928464\\\\\n",
       "\t 0.63157053  &  0.63044967\\\\\n",
       "\t 0.43766554  &  0.37087832\\\\\n",
       "\t 0.82607380  &  0.78058791\\\\\n",
       "\t 2.92041269  &  0.02024488\\\\\n",
       "\t 0.32890557  &  0.42922037\\\\\n",
       "\t 1.63296395  &  0.98711464\\\\\n",
       "\t 1.27744754  &  0.97281146\\\\\n",
       "\t 2.18995683  &  0.89675346\\\\\n",
       "\t 1.70626410  &  1.14642091\\\\\n",
       "\t 1.35631831  &  0.93046153\\\\\n",
       "\t 0.43013597  &  0.31590404\\\\\n",
       "\t 0.35158664  &  0.26171558\\\\\n",
       "\t 0.77865517  &  0.70529612\\\\\n",
       "\t 1.29102969  &  1.04573846\\\\\n",
       "\t 2.33740838  &  0.68551100\\\\\n",
       "\t 0.12121117  &  0.01199119\\\\\n",
       "\t 1.93269362  &  0.94589656\\\\\n",
       "\t 1.57149021  &  0.91487662\\\\\n",
       "\t 2.51552335  &  0.58535479\\\\\n",
       "\t 1.47245861  &  1.07842258\\\\\n",
       "\t 2.03861817  &  0.93699437\\\\\n",
       "\t ... & ...\\\\\n",
       "\t 2.2570677 & 0.8939843\\\\\n",
       "\t 2.5161528 & 0.6074379\\\\\n",
       "\t 1.7961443 & 1.0105305\\\\\n",
       "\t 2.9838496 & 0.4494865\\\\\n",
       "\t 0.6986459 & 0.7829378\\\\\n",
       "\t 2.5957504 & 0.5016478\\\\\n",
       "\t 0.9113954 & 0.5841599\\\\\n",
       "\t 2.0552344 & 0.8561096\\\\\n",
       "\t 1.7117691 & 1.0278336\\\\\n",
       "\t 2.0900267 & 0.8629945\\\\\n",
       "\t 0.8186552 & 0.6764449\\\\\n",
       "\t 2.2140625 & 0.8596630\\\\\n",
       "\t 0.2486789 & 0.3404256\\\\\n",
       "\t 2.7195896 & 0.5228758\\\\\n",
       "\t 0.4991938 & 0.6183854\\\\\n",
       "\t 1.4614715 & 0.8380436\\\\\n",
       "\t 1.0724818 & 0.8341351\\\\\n",
       "\t 0.7348082 & 0.7567644\\\\\n",
       "\t 2.9533118 & 0.2645973\\\\\n",
       "\t 0.6135014 & 0.3956908\\\\\n",
       "\t 1.8270609 & 0.7024677\\\\\n",
       "\t 2.2283731 & 0.7572639\\\\\n",
       "\t 1.8783074 & 0.9778610\\\\\n",
       "\t 0.6482094 & 0.6919297\\\\\n",
       "\t 0.2386695 & 0.2971395\\\\\n",
       "\t 2.7704319 & 0.4372788\\\\\n",
       "\t 2.9405935 & 0.2212915\\\\\n",
       "\t 2.8041443 & 0.1430330\\\\\n",
       "\t 0.7180766 & 0.5487982\\\\\n",
       "\t 2.9505308 & 0.2778156\\\\\n",
       "\\end{tabular}\n"
      ],
      "text/markdown": [
       "\n",
       "x | y | \n",
       "|---|---|---|---|---|---|---|---|---|---|---|---|---|---|---|---|---|---|---|---|---|---|---|---|---|---|---|---|---|---|---|---|---|---|---|---|---|---|---|---|---|---|---|---|---|---|---|---|---|---|---|---|---|---|---|---|---|---|---|---|---|\n",
       "| 2.80176510  |  0.30895713 | \n",
       "| 2.91765225  |  0.20489750 | \n",
       "| 1.53763763  |  0.98559816 | \n",
       "| 2.36712390  |  0.63649140 | \n",
       "| 0.62564330  |  0.60313960 | \n",
       "| 0.03211509  | -0.01945097 | \n",
       "| 1.23583662  |  0.96582222 | \n",
       "| 2.58831601  |  0.69371520 | \n",
       "| 1.57720348  |  1.06928464 | \n",
       "| 0.63157053  |  0.63044967 | \n",
       "| 0.43766554  |  0.37087832 | \n",
       "| 0.82607380  |  0.78058791 | \n",
       "| 2.92041269  |  0.02024488 | \n",
       "| 0.32890557  |  0.42922037 | \n",
       "| 1.63296395  |  0.98711464 | \n",
       "| 1.27744754  |  0.97281146 | \n",
       "| 2.18995683  |  0.89675346 | \n",
       "| 1.70626410  |  1.14642091 | \n",
       "| 1.35631831  |  0.93046153 | \n",
       "| 0.43013597  |  0.31590404 | \n",
       "| 0.35158664  |  0.26171558 | \n",
       "| 0.77865517  |  0.70529612 | \n",
       "| 1.29102969  |  1.04573846 | \n",
       "| 2.33740838  |  0.68551100 | \n",
       "| 0.12121117  |  0.01199119 | \n",
       "| 1.93269362  |  0.94589656 | \n",
       "| 1.57149021  |  0.91487662 | \n",
       "| 2.51552335  |  0.58535479 | \n",
       "| 1.47245861  |  1.07842258 | \n",
       "| 2.03861817  |  0.93699437 | \n",
       "| ... | ... | \n",
       "| 2.2570677 | 0.8939843 | \n",
       "| 2.5161528 | 0.6074379 | \n",
       "| 1.7961443 | 1.0105305 | \n",
       "| 2.9838496 | 0.4494865 | \n",
       "| 0.6986459 | 0.7829378 | \n",
       "| 2.5957504 | 0.5016478 | \n",
       "| 0.9113954 | 0.5841599 | \n",
       "| 2.0552344 | 0.8561096 | \n",
       "| 1.7117691 | 1.0278336 | \n",
       "| 2.0900267 | 0.8629945 | \n",
       "| 0.8186552 | 0.6764449 | \n",
       "| 2.2140625 | 0.8596630 | \n",
       "| 0.2486789 | 0.3404256 | \n",
       "| 2.7195896 | 0.5228758 | \n",
       "| 0.4991938 | 0.6183854 | \n",
       "| 1.4614715 | 0.8380436 | \n",
       "| 1.0724818 | 0.8341351 | \n",
       "| 0.7348082 | 0.7567644 | \n",
       "| 2.9533118 | 0.2645973 | \n",
       "| 0.6135014 | 0.3956908 | \n",
       "| 1.8270609 | 0.7024677 | \n",
       "| 2.2283731 | 0.7572639 | \n",
       "| 1.8783074 | 0.9778610 | \n",
       "| 0.6482094 | 0.6919297 | \n",
       "| 0.2386695 | 0.2971395 | \n",
       "| 2.7704319 | 0.4372788 | \n",
       "| 2.9405935 | 0.2212915 | \n",
       "| 2.8041443 | 0.1430330 | \n",
       "| 0.7180766 | 0.5487982 | \n",
       "| 2.9505308 | 0.2778156 | \n",
       "\n",
       "\n"
      ],
      "text/plain": [
       "    x          y          \n",
       "1   2.80176510  0.30895713\n",
       "2   2.91765225  0.20489750\n",
       "3   1.53763763  0.98559816\n",
       "4   2.36712390  0.63649140\n",
       "5   0.62564330  0.60313960\n",
       "6   0.03211509 -0.01945097\n",
       "7   1.23583662  0.96582222\n",
       "8   2.58831601  0.69371520\n",
       "9   1.57720348  1.06928464\n",
       "10  0.63157053  0.63044967\n",
       "11  0.43766554  0.37087832\n",
       "12  0.82607380  0.78058791\n",
       "13  2.92041269  0.02024488\n",
       "14  0.32890557  0.42922037\n",
       "15  1.63296395  0.98711464\n",
       "16  1.27744754  0.97281146\n",
       "17  2.18995683  0.89675346\n",
       "18  1.70626410  1.14642091\n",
       "19  1.35631831  0.93046153\n",
       "20  0.43013597  0.31590404\n",
       "21  0.35158664  0.26171558\n",
       "22  0.77865517  0.70529612\n",
       "23  1.29102969  1.04573846\n",
       "24  2.33740838  0.68551100\n",
       "25  0.12121117  0.01199119\n",
       "26  1.93269362  0.94589656\n",
       "27  1.57149021  0.91487662\n",
       "28  2.51552335  0.58535479\n",
       "29  1.47245861  1.07842258\n",
       "30  2.03861817  0.93699437\n",
       "... ...        ...        \n",
       "71  2.2570677  0.8939843  \n",
       "72  2.5161528  0.6074379  \n",
       "73  1.7961443  1.0105305  \n",
       "74  2.9838496  0.4494865  \n",
       "75  0.6986459  0.7829378  \n",
       "76  2.5957504  0.5016478  \n",
       "77  0.9113954  0.5841599  \n",
       "78  2.0552344  0.8561096  \n",
       "79  1.7117691  1.0278336  \n",
       "80  2.0900267  0.8629945  \n",
       "81  0.8186552  0.6764449  \n",
       "82  2.2140625  0.8596630  \n",
       "83  0.2486789  0.3404256  \n",
       "84  2.7195896  0.5228758  \n",
       "85  0.4991938  0.6183854  \n",
       "86  1.4614715  0.8380436  \n",
       "87  1.0724818  0.8341351  \n",
       "88  0.7348082  0.7567644  \n",
       "89  2.9533118  0.2645973  \n",
       "90  0.6135014  0.3956908  \n",
       "91  1.8270609  0.7024677  \n",
       "92  2.2283731  0.7572639  \n",
       "93  1.8783074  0.9778610  \n",
       "94  0.6482094  0.6919297  \n",
       "95  0.2386695  0.2971395  \n",
       "96  2.7704319  0.4372788  \n",
       "97  2.9405935  0.2212915  \n",
       "98  2.8041443  0.1430330  \n",
       "99  0.7180766  0.5487982  \n",
       "100 2.9505308  0.2778156  "
      ]
     },
     "metadata": {},
     "output_type": "display_data"
    }
   ],
   "source": [
    "\n",
    "trainingset <- data.frame(x,y)\n",
    "trainingset"
   ]
  },
  {
   "cell_type": "code",
   "execution_count": 5,
   "metadata": {},
   "outputs": [],
   "source": [
    "x <- runif(100, min = 0, max = 3)\n",
    "y <- f(x)\n"
   ]
  },
  {
   "cell_type": "code",
   "execution_count": 7,
   "metadata": {},
   "outputs": [
    {
     "data": {
      "text/html": [
       "<table>\n",
       "<thead><tr><th scope=col>x</th><th scope=col>y</th></tr></thead>\n",
       "<tbody>\n",
       "\t<tr><td>2.80176510 </td><td> 0.30895713</td></tr>\n",
       "\t<tr><td>2.91765225 </td><td> 0.20489750</td></tr>\n",
       "\t<tr><td>1.53763763 </td><td> 0.98559816</td></tr>\n",
       "\t<tr><td>2.36712390 </td><td> 0.63649140</td></tr>\n",
       "\t<tr><td>0.62564330 </td><td> 0.60313960</td></tr>\n",
       "\t<tr><td>0.03211509 </td><td>-0.01945097</td></tr>\n",
       "\t<tr><td>1.23583662 </td><td> 0.96582222</td></tr>\n",
       "\t<tr><td>2.58831601 </td><td> 0.69371520</td></tr>\n",
       "\t<tr><td>1.57720348 </td><td> 1.06928464</td></tr>\n",
       "\t<tr><td>0.63157053 </td><td> 0.63044967</td></tr>\n",
       "\t<tr><td>0.43766554 </td><td> 0.37087832</td></tr>\n",
       "\t<tr><td>0.82607380 </td><td> 0.78058791</td></tr>\n",
       "\t<tr><td>2.92041269 </td><td> 0.02024488</td></tr>\n",
       "\t<tr><td>0.32890557 </td><td> 0.42922037</td></tr>\n",
       "\t<tr><td>1.63296395 </td><td> 0.98711464</td></tr>\n",
       "\t<tr><td>1.27744754 </td><td> 0.97281146</td></tr>\n",
       "\t<tr><td>2.18995683 </td><td> 0.89675346</td></tr>\n",
       "\t<tr><td>1.70626410 </td><td> 1.14642091</td></tr>\n",
       "\t<tr><td>1.35631831 </td><td> 0.93046153</td></tr>\n",
       "\t<tr><td>0.43013597 </td><td> 0.31590404</td></tr>\n",
       "\t<tr><td>0.35158664 </td><td> 0.26171558</td></tr>\n",
       "\t<tr><td>0.77865517 </td><td> 0.70529612</td></tr>\n",
       "\t<tr><td>1.29102969 </td><td> 1.04573846</td></tr>\n",
       "\t<tr><td>2.33740838 </td><td> 0.68551100</td></tr>\n",
       "\t<tr><td>0.12121117 </td><td> 0.01199119</td></tr>\n",
       "\t<tr><td>1.93269362 </td><td> 0.94589656</td></tr>\n",
       "\t<tr><td>1.57149021 </td><td> 0.91487662</td></tr>\n",
       "\t<tr><td>2.51552335 </td><td> 0.58535479</td></tr>\n",
       "\t<tr><td>1.47245861 </td><td> 1.07842258</td></tr>\n",
       "\t<tr><td>2.03861817 </td><td> 0.93699437</td></tr>\n",
       "\t<tr><td>...</td><td>...</td></tr>\n",
       "\t<tr><td>2.2570677</td><td>0.8939843</td></tr>\n",
       "\t<tr><td>2.5161528</td><td>0.6074379</td></tr>\n",
       "\t<tr><td>1.7961443</td><td>1.0105305</td></tr>\n",
       "\t<tr><td>2.9838496</td><td>0.4494865</td></tr>\n",
       "\t<tr><td>0.6986459</td><td>0.7829378</td></tr>\n",
       "\t<tr><td>2.5957504</td><td>0.5016478</td></tr>\n",
       "\t<tr><td>0.9113954</td><td>0.5841599</td></tr>\n",
       "\t<tr><td>2.0552344</td><td>0.8561096</td></tr>\n",
       "\t<tr><td>1.7117691</td><td>1.0278336</td></tr>\n",
       "\t<tr><td>2.0900267</td><td>0.8629945</td></tr>\n",
       "\t<tr><td>0.8186552</td><td>0.6764449</td></tr>\n",
       "\t<tr><td>2.2140625</td><td>0.8596630</td></tr>\n",
       "\t<tr><td>0.2486789</td><td>0.3404256</td></tr>\n",
       "\t<tr><td>2.7195896</td><td>0.5228758</td></tr>\n",
       "\t<tr><td>0.4991938</td><td>0.6183854</td></tr>\n",
       "\t<tr><td>1.4614715</td><td>0.8380436</td></tr>\n",
       "\t<tr><td>1.0724818</td><td>0.8341351</td></tr>\n",
       "\t<tr><td>0.7348082</td><td>0.7567644</td></tr>\n",
       "\t<tr><td>2.9533118</td><td>0.2645973</td></tr>\n",
       "\t<tr><td>0.6135014</td><td>0.3956908</td></tr>\n",
       "\t<tr><td>1.8270609</td><td>0.7024677</td></tr>\n",
       "\t<tr><td>2.2283731</td><td>0.7572639</td></tr>\n",
       "\t<tr><td>1.8783074</td><td>0.9778610</td></tr>\n",
       "\t<tr><td>0.6482094</td><td>0.6919297</td></tr>\n",
       "\t<tr><td>0.2386695</td><td>0.2971395</td></tr>\n",
       "\t<tr><td>2.7704319</td><td>0.4372788</td></tr>\n",
       "\t<tr><td>2.9405935</td><td>0.2212915</td></tr>\n",
       "\t<tr><td>2.8041443</td><td>0.1430330</td></tr>\n",
       "\t<tr><td>0.7180766</td><td>0.5487982</td></tr>\n",
       "\t<tr><td>2.9505308</td><td>0.2778156</td></tr>\n",
       "</tbody>\n",
       "</table>\n"
      ],
      "text/latex": [
       "\\begin{tabular}{r|ll}\n",
       " x & y\\\\\n",
       "\\hline\n",
       "\t 2.80176510  &  0.30895713\\\\\n",
       "\t 2.91765225  &  0.20489750\\\\\n",
       "\t 1.53763763  &  0.98559816\\\\\n",
       "\t 2.36712390  &  0.63649140\\\\\n",
       "\t 0.62564330  &  0.60313960\\\\\n",
       "\t 0.03211509  & -0.01945097\\\\\n",
       "\t 1.23583662  &  0.96582222\\\\\n",
       "\t 2.58831601  &  0.69371520\\\\\n",
       "\t 1.57720348  &  1.06928464\\\\\n",
       "\t 0.63157053  &  0.63044967\\\\\n",
       "\t 0.43766554  &  0.37087832\\\\\n",
       "\t 0.82607380  &  0.78058791\\\\\n",
       "\t 2.92041269  &  0.02024488\\\\\n",
       "\t 0.32890557  &  0.42922037\\\\\n",
       "\t 1.63296395  &  0.98711464\\\\\n",
       "\t 1.27744754  &  0.97281146\\\\\n",
       "\t 2.18995683  &  0.89675346\\\\\n",
       "\t 1.70626410  &  1.14642091\\\\\n",
       "\t 1.35631831  &  0.93046153\\\\\n",
       "\t 0.43013597  &  0.31590404\\\\\n",
       "\t 0.35158664  &  0.26171558\\\\\n",
       "\t 0.77865517  &  0.70529612\\\\\n",
       "\t 1.29102969  &  1.04573846\\\\\n",
       "\t 2.33740838  &  0.68551100\\\\\n",
       "\t 0.12121117  &  0.01199119\\\\\n",
       "\t 1.93269362  &  0.94589656\\\\\n",
       "\t 1.57149021  &  0.91487662\\\\\n",
       "\t 2.51552335  &  0.58535479\\\\\n",
       "\t 1.47245861  &  1.07842258\\\\\n",
       "\t 2.03861817  &  0.93699437\\\\\n",
       "\t ... & ...\\\\\n",
       "\t 2.2570677 & 0.8939843\\\\\n",
       "\t 2.5161528 & 0.6074379\\\\\n",
       "\t 1.7961443 & 1.0105305\\\\\n",
       "\t 2.9838496 & 0.4494865\\\\\n",
       "\t 0.6986459 & 0.7829378\\\\\n",
       "\t 2.5957504 & 0.5016478\\\\\n",
       "\t 0.9113954 & 0.5841599\\\\\n",
       "\t 2.0552344 & 0.8561096\\\\\n",
       "\t 1.7117691 & 1.0278336\\\\\n",
       "\t 2.0900267 & 0.8629945\\\\\n",
       "\t 0.8186552 & 0.6764449\\\\\n",
       "\t 2.2140625 & 0.8596630\\\\\n",
       "\t 0.2486789 & 0.3404256\\\\\n",
       "\t 2.7195896 & 0.5228758\\\\\n",
       "\t 0.4991938 & 0.6183854\\\\\n",
       "\t 1.4614715 & 0.8380436\\\\\n",
       "\t 1.0724818 & 0.8341351\\\\\n",
       "\t 0.7348082 & 0.7567644\\\\\n",
       "\t 2.9533118 & 0.2645973\\\\\n",
       "\t 0.6135014 & 0.3956908\\\\\n",
       "\t 1.8270609 & 0.7024677\\\\\n",
       "\t 2.2283731 & 0.7572639\\\\\n",
       "\t 1.8783074 & 0.9778610\\\\\n",
       "\t 0.6482094 & 0.6919297\\\\\n",
       "\t 0.2386695 & 0.2971395\\\\\n",
       "\t 2.7704319 & 0.4372788\\\\\n",
       "\t 2.9405935 & 0.2212915\\\\\n",
       "\t 2.8041443 & 0.1430330\\\\\n",
       "\t 0.7180766 & 0.5487982\\\\\n",
       "\t 2.9505308 & 0.2778156\\\\\n",
       "\\end{tabular}\n"
      ],
      "text/markdown": [
       "\n",
       "x | y | \n",
       "|---|---|---|---|---|---|---|---|---|---|---|---|---|---|---|---|---|---|---|---|---|---|---|---|---|---|---|---|---|---|---|---|---|---|---|---|---|---|---|---|---|---|---|---|---|---|---|---|---|---|---|---|---|---|---|---|---|---|---|---|---|\n",
       "| 2.80176510  |  0.30895713 | \n",
       "| 2.91765225  |  0.20489750 | \n",
       "| 1.53763763  |  0.98559816 | \n",
       "| 2.36712390  |  0.63649140 | \n",
       "| 0.62564330  |  0.60313960 | \n",
       "| 0.03211509  | -0.01945097 | \n",
       "| 1.23583662  |  0.96582222 | \n",
       "| 2.58831601  |  0.69371520 | \n",
       "| 1.57720348  |  1.06928464 | \n",
       "| 0.63157053  |  0.63044967 | \n",
       "| 0.43766554  |  0.37087832 | \n",
       "| 0.82607380  |  0.78058791 | \n",
       "| 2.92041269  |  0.02024488 | \n",
       "| 0.32890557  |  0.42922037 | \n",
       "| 1.63296395  |  0.98711464 | \n",
       "| 1.27744754  |  0.97281146 | \n",
       "| 2.18995683  |  0.89675346 | \n",
       "| 1.70626410  |  1.14642091 | \n",
       "| 1.35631831  |  0.93046153 | \n",
       "| 0.43013597  |  0.31590404 | \n",
       "| 0.35158664  |  0.26171558 | \n",
       "| 0.77865517  |  0.70529612 | \n",
       "| 1.29102969  |  1.04573846 | \n",
       "| 2.33740838  |  0.68551100 | \n",
       "| 0.12121117  |  0.01199119 | \n",
       "| 1.93269362  |  0.94589656 | \n",
       "| 1.57149021  |  0.91487662 | \n",
       "| 2.51552335  |  0.58535479 | \n",
       "| 1.47245861  |  1.07842258 | \n",
       "| 2.03861817  |  0.93699437 | \n",
       "| ... | ... | \n",
       "| 2.2570677 | 0.8939843 | \n",
       "| 2.5161528 | 0.6074379 | \n",
       "| 1.7961443 | 1.0105305 | \n",
       "| 2.9838496 | 0.4494865 | \n",
       "| 0.6986459 | 0.7829378 | \n",
       "| 2.5957504 | 0.5016478 | \n",
       "| 0.9113954 | 0.5841599 | \n",
       "| 2.0552344 | 0.8561096 | \n",
       "| 1.7117691 | 1.0278336 | \n",
       "| 2.0900267 | 0.8629945 | \n",
       "| 0.8186552 | 0.6764449 | \n",
       "| 2.2140625 | 0.8596630 | \n",
       "| 0.2486789 | 0.3404256 | \n",
       "| 2.7195896 | 0.5228758 | \n",
       "| 0.4991938 | 0.6183854 | \n",
       "| 1.4614715 | 0.8380436 | \n",
       "| 1.0724818 | 0.8341351 | \n",
       "| 0.7348082 | 0.7567644 | \n",
       "| 2.9533118 | 0.2645973 | \n",
       "| 0.6135014 | 0.3956908 | \n",
       "| 1.8270609 | 0.7024677 | \n",
       "| 2.2283731 | 0.7572639 | \n",
       "| 1.8783074 | 0.9778610 | \n",
       "| 0.6482094 | 0.6919297 | \n",
       "| 0.2386695 | 0.2971395 | \n",
       "| 2.7704319 | 0.4372788 | \n",
       "| 2.9405935 | 0.2212915 | \n",
       "| 2.8041443 | 0.1430330 | \n",
       "| 0.7180766 | 0.5487982 | \n",
       "| 2.9505308 | 0.2778156 | \n",
       "\n",
       "\n"
      ],
      "text/plain": [
       "    x          y          \n",
       "1   2.80176510  0.30895713\n",
       "2   2.91765225  0.20489750\n",
       "3   1.53763763  0.98559816\n",
       "4   2.36712390  0.63649140\n",
       "5   0.62564330  0.60313960\n",
       "6   0.03211509 -0.01945097\n",
       "7   1.23583662  0.96582222\n",
       "8   2.58831601  0.69371520\n",
       "9   1.57720348  1.06928464\n",
       "10  0.63157053  0.63044967\n",
       "11  0.43766554  0.37087832\n",
       "12  0.82607380  0.78058791\n",
       "13  2.92041269  0.02024488\n",
       "14  0.32890557  0.42922037\n",
       "15  1.63296395  0.98711464\n",
       "16  1.27744754  0.97281146\n",
       "17  2.18995683  0.89675346\n",
       "18  1.70626410  1.14642091\n",
       "19  1.35631831  0.93046153\n",
       "20  0.43013597  0.31590404\n",
       "21  0.35158664  0.26171558\n",
       "22  0.77865517  0.70529612\n",
       "23  1.29102969  1.04573846\n",
       "24  2.33740838  0.68551100\n",
       "25  0.12121117  0.01199119\n",
       "26  1.93269362  0.94589656\n",
       "27  1.57149021  0.91487662\n",
       "28  2.51552335  0.58535479\n",
       "29  1.47245861  1.07842258\n",
       "30  2.03861817  0.93699437\n",
       "... ...        ...        \n",
       "71  2.2570677  0.8939843  \n",
       "72  2.5161528  0.6074379  \n",
       "73  1.7961443  1.0105305  \n",
       "74  2.9838496  0.4494865  \n",
       "75  0.6986459  0.7829378  \n",
       "76  2.5957504  0.5016478  \n",
       "77  0.9113954  0.5841599  \n",
       "78  2.0552344  0.8561096  \n",
       "79  1.7117691  1.0278336  \n",
       "80  2.0900267  0.8629945  \n",
       "81  0.8186552  0.6764449  \n",
       "82  2.2140625  0.8596630  \n",
       "83  0.2486789  0.3404256  \n",
       "84  2.7195896  0.5228758  \n",
       "85  0.4991938  0.6183854  \n",
       "86  1.4614715  0.8380436  \n",
       "87  1.0724818  0.8341351  \n",
       "88  0.7348082  0.7567644  \n",
       "89  2.9533118  0.2645973  \n",
       "90  0.6135014  0.3956908  \n",
       "91  1.8270609  0.7024677  \n",
       "92  2.2283731  0.7572639  \n",
       "93  1.8783074  0.9778610  \n",
       "94  0.6482094  0.6919297  \n",
       "95  0.2386695  0.2971395  \n",
       "96  2.7704319  0.4372788  \n",
       "97  2.9405935  0.2212915  \n",
       "98  2.8041443  0.1430330  \n",
       "99  0.7180766  0.5487982  \n",
       "100 2.9505308  0.2778156  "
      ]
     },
     "metadata": {},
     "output_type": "display_data"
    }
   ],
   "source": [
    "testset <- data.frame(x,y)\n",
    "testset"
   ]
  },
  {
   "cell_type": "markdown",
   "metadata": {},
   "source": [
    "Notice how we changed our function. The first argument now takes in length(x). This generates a new “noise” for each point. Before, we only created one “noise”. We do not want to add the same random noise to each point. So, we make sure that a unique “noise” is created for each point, and since the number of points corresponds to the length() of our vector, we use length(x).\n"
   ]
  },
  {
   "cell_type": "markdown",
   "metadata": {},
   "source": [
    "## 3. Fit the following polynomials to the training set\n",
    "Degree 1 polynomial (a line), Degree 2 polynomial (a quadratic), Degree 9 polynomial\n"
   ]
  },
  {
   "cell_type": "code",
   "execution_count": 9,
   "metadata": {},
   "outputs": [
    {
     "data": {},
     "metadata": {},
     "output_type": "display_data"
    },
    {
     "data": {
      "image/png": "[encoded data removed]",
      "text/plain": [
       "plot without title"
      ]
     },
     "metadata": {},
     "output_type": "display_data"
    }
   ],
   "source": [
    "library(ggplot2)\n",
    "mytraininggraphlinear <- lm(y~x, trainingset)\n",
    "ggplot(trainingset, aes(x=x, y=y)) + \n",
    "  geom_point() + \n",
    "  xlim(0,3) + \n",
    "  coord_cartesian(ylim=c(0,1.5)) + \n",
    "  geom_smooth(method = \"lm\") + \n",
    "  ggtitle(\"Linear Regression\")\n"
   ]
  },
  {
   "cell_type": "code",
   "execution_count": 10,
   "metadata": {},
   "outputs": [
    {
     "data": {},
     "metadata": {},
     "output_type": "display_data"
    },
    {
     "data": {
      "image/png": "[encoded data removed]",
      "text/plain": [
       "plot without title"
      ]
     },
     "metadata": {},
     "output_type": "display_data"
    }
   ],
   "source": [
    "mytraininggraphpolynomial <- lm(y~x+x^2, trainingset)\n",
    "ggplot(trainingset, aes(x=x, y=y)) + \n",
    "  xlim(0,3) + \n",
    "  coord_cartesian(ylim=c(0,1.5)) +\n",
    "  geom_point() + \n",
    "  geom_smooth(method = \"lm\", formula = y~poly(x,2) ) + \n",
    "  ggtitle(\"Polynomial Regression\")\n",
    "\n"
   ]
  },
  {
   "cell_type": "code",
   "execution_count": 11,
   "metadata": {},
   "outputs": [
    {
     "data": {},
     "metadata": {},
     "output_type": "display_data"
    },
    {
     "data": {
      "image/png": "[encoded data removed]",
      "text/plain": [
       "plot without title"
      ]
     },
     "metadata": {},
     "output_type": "display_data"
    }
   ],
   "source": [
    "mytraininggraphdeg9 <- lm(y~x+x^9, trainingset)\n",
    "ggplot(trainingset, aes(x=x, y=y)) + \n",
    "  xlim(0,3) + \n",
    "  geom_point() +\n",
    "  coord_cartesian(ylim=c(0,1.5)) +\n",
    "  geom_smooth(method=\"lm\", formula = y~poly(x,9)) + ggtitle(\"Degree 9 Regression\")\n"
   ]
  },
  {
   "cell_type": "markdown",
   "metadata": {},
   "source": [
    "## 4. Create a plot showing the original data as a scatter plot and the three polynomial fits with a legend indicating the degree of the polynomial. Also overlay the sin(x) function with a dotted line.\n"
   ]
  },
  {
   "cell_type": "code",
   "execution_count": 12,
   "metadata": {},
   "outputs": [
    {
     "data": {},
     "metadata": {},
     "output_type": "display_data"
    },
    {
     "data": {
      "image/png": "[encoded data removed]",
      "text/plain": [
       "plot without title"
      ]
     },
     "metadata": {},
     "output_type": "display_data"
    }
   ],
   "source": [
    "summaryplot <- ggplot(data = trainingset, aes(x,y)) + \n",
    "  geom_point() +\n",
    "  geom_smooth(method = \"lm\", aes(color = \"Degree 1\"), fill = NA) +\n",
    "  geom_smooth(method = \"lm\", formula = y~poly(x,2), aes(color = \"Degree 2\"), fill = NA) +\n",
    "  geom_smooth(method = \"lm\", formula = y~poly(x,9), aes(color = \"Degree 9\"), fill = NA) +\n",
    "  ggtitle(\"Polynomial Fits to Test Set Data\") +\n",
    "  scale_colour_manual(name=\"legend\", values=c(\"red\", \"purple\", \"green\")) + \n",
    "  coord_cartesian(ylim=c(0,1.5)) + \n",
    "  xlim(0,3)\n",
    "\n",
    "summaryplot \n"
   ]
  },
  {
   "cell_type": "markdown",
   "metadata": {},
   "source": [
    "##  5. Apply each of the 3 models to predict the y value from the x value in the test set. Find the root mean square error (using a function, no need to code it yourself) between the predictions and the true values. (The expectation is that the degree 2 polynomial should give the best prediction with degree 9 a close second)\n"
   ]
  },
  {
   "cell_type": "code",
   "execution_count": 13,
   "metadata": {},
   "outputs": [
    {
     "name": "stdout",
     "output_type": "stream",
     "text": [
      "[1] \"This is the root mean square error for the linear model: \"\n"
     ]
    },
    {
     "data": {
      "text/html": [
       "0.313317499073547"
      ],
      "text/latex": [
       "0.313317499073547"
      ],
      "text/markdown": [
       "0.313317499073547"
      ],
      "text/plain": [
       "[1] 0.3133175"
      ]
     },
     "metadata": {},
     "output_type": "display_data"
    }
   ],
   "source": [
    "model1 <- lm(y~poly(x,1), trainingset)\n",
    "pred1 <- predict(model1, testset)\n",
    "print(\"This is the root mean square error for the linear model: \")\n",
    "sqrt(mean((pred1-testset$y)^2))\n"
   ]
  },
  {
   "cell_type": "code",
   "execution_count": 14,
   "metadata": {},
   "outputs": [
    {
     "name": "stdout",
     "output_type": "stream",
     "text": [
      "[1] \"This is the root mean square error for the degree 2 model: \"\n"
     ]
    },
    {
     "data": {
      "text/html": [
       "0.0964054923695682"
      ],
      "text/latex": [
       "0.0964054923695682"
      ],
      "text/markdown": [
       "0.0964054923695682"
      ],
      "text/plain": [
       "[1] 0.09640549"
      ]
     },
     "metadata": {},
     "output_type": "display_data"
    }
   ],
   "source": [
    "model2 <- lm(y~poly(x,2), trainingset)\n",
    "pred2 <- predict(model2, testset)\n",
    "print(\"This is the root mean square error for the degree 2 model: \")\n",
    "sqrt(mean((pred2-testset$y)^2))\n"
   ]
  },
  {
   "cell_type": "code",
   "execution_count": 15,
   "metadata": {},
   "outputs": [
    {
     "name": "stdout",
     "output_type": "stream",
     "text": [
      "[1] \"This is the root mean square error for the degree 9 model: \"\n"
     ]
    },
    {
     "data": {
      "text/html": [
       "0.0912201121884304"
      ],
      "text/latex": [
       "0.0912201121884304"
      ],
      "text/markdown": [
       "0.0912201121884304"
      ],
      "text/plain": [
       "[1] 0.09122011"
      ]
     },
     "metadata": {},
     "output_type": "display_data"
    }
   ],
   "source": [
    "model3 <- lm(y~poly(x,9), trainingset)\n",
    "pred3 <- predict(model3, testset)\n",
    "print(\"This is the root mean square error for the degree 9 model: \")\n",
    "sqrt(mean((pred3-testset$y)^2))\n",
    "\n"
   ]
  },
  {
   "cell_type": "code",
   "execution_count": null,
   "metadata": {},
   "outputs": [],
   "source": []
  }
 ],
 "metadata": {
  "kernelspec": {
   "display_name": "R",
   "language": "R",
   "name": "ir"
  },
  "language_info": {
   "codemirror_mode": "r",
   "file_extension": ".r",
   "mimetype": "text/x-r-source",
   "name": "R",
   "pygments_lexer": "r",
   "version": "3.4.1"
  }
 },
 "nbformat": 4,
 "nbformat_minor": 2
}
