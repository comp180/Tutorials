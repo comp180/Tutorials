{
 "cells": [
  {
   "cell_type": "markdown",
   "metadata": {},
   "source": [
    "# New Assignment- Simple Charts\n",
    "\n",
    "Using the [simple charts](https://docs.google.com/document/d/10EmTKEQJditzpTdpOM56SEVsA581MDDpeVuj-c7mjI8/edit) notes, complete the following exercises.\n",
    "\n",
    "## Chicago Diversity Pie Chart\n",
    "Create a pie chart that depicts the diversity of [Chicago](https://en.wikipedia.org/wiki/Demographics_of_Chicago).\n",
    "* White- 32%\n",
    "* Black- 32%\n",
    "* Hispanic- 28%\n",
    "* Asian- 5%\n",
    "* Other- 3%\n",
    "\n",
    "To begin, create vectors using the c() function for the races and a corresponding vector for the percents. Next, add the percents to the labels. Finalize the chart using labels, titles, and colors."
   ]
  },
  {
   "cell_type": "code",
   "execution_count": null,
   "metadata": {},
   "outputs": [],
   "source": []
  },
  {
   "cell_type": "markdown",
   "metadata": {},
   "source": [
    "## Golden State Warriors' Wins Bar Plot\n",
    "Create a bar plot for the number of wins per season that the [Golden State Warriors](https://www.basketball-reference.com/teams/GSW/) had since 2010. Be sure to include a title, labels, and colors.\n",
    "Begin by entering the Years into a Year vector and the wins into a Win vector.\n",
    "* 2017-   67\n",
    "* 2016-   73\n",
    "* 2015-   67 \n",
    "* 2014-   51\n",
    "* 2013-   47\n",
    "* 2012-   23\n",
    "* 2011-   36\n",
    "* 2010-   26"
   ]
  },
  {
   "cell_type": "code",
   "execution_count": null,
   "metadata": {},
   "outputs": [],
   "source": []
  },
  {
   "cell_type": "markdown",
   "metadata": {},
   "source": [
    "## Adolescents Sports Group Bar Chart\n",
    "\n",
    "Create a group bar chart for the percentage of male and female adolecents who [play sports](http://www.espn.com/espn/story/_/id/9469252/hidden-demographics-youth-sports-espn-magazine). Remember to include an apporpriate title. *Hint: If you change the names of the headers in the table, you will need to change them in ggplot() as well.*\n",
    "* Basketball\n",
    "    * Male- 40%\n",
    "    * Female- 25%\n",
    "* Baseball/Softball\n",
    "    * Male- 24%\n",
    "    * Female- 17%\n",
    "* Soccer\n",
    "    * Male- 20%\n",
    "    * Female- 17%\n",
    "* Track\n",
    "    * Male- 17%\n",
    "    * Female- 17%\n",
    "* Swimming\n",
    "    * Male- 9%\n",
    "    * Female- 12%\n",
    "* Tennis\n",
    "    * Male- 8%\n",
    "    * Female- 8%\n",
    "* Cross Country\n",
    "    * Male- 5%\n",
    "    * Female- 4%"
   ]
  },
  {
   "cell_type": "code",
   "execution_count": null,
   "metadata": {
    "scrolled": true
   },
   "outputs": [],
   "source": []
  },
  {
   "cell_type": "markdown",
   "metadata": {},
   "source": [
    "# Age Distribution of Congress Histogram\n",
    "\n",
    "Create a histogram that displays the [distribution of age in Congress](https://ipfs.io/ipfs/QmXoypizjW3WknFiJnKLwHCnL72vedxjQkDDP1mXWo6uco/wiki/List_of_current_United_States_senators_by_age.html). Again, be sure to include titles, labels, and colors. To begin, copy the ages from below into a new vector and use that vector as the data for the histogram.\n",
    "\n",
    "List of ages of Senators: 83, 83, 82, 82, 82, 80, 80, 80, 79, 77, 76, 76, 76, 75, 74, 74, 73, 73, 73, 72, 72, 72, 71, 70, 70, 69, 69, 69, 69, 69, 68, 67, 67, 67, 66, 66, 66, 66, 66, 65, 65, 65, 65, 65, 64, 64, 64, 64, 64, 63, 63, 62, 62, 62, 61, 61, 61, 61, 61, 61, 61, 60, 60, 60, 59, 59, 59, 58, 58, 58, 57, 56, 56, 56, 56, 55, 55, 55, 54, 54, 53, 53, 53, 52, 52, 51, 49, 48, 48, 47, 46, 45, 45, 45, 45, 44, 44, 43, 42, 39\n"
   ]
  },
  {
   "cell_type": "code",
   "execution_count": null,
   "metadata": {},
   "outputs": [],
   "source": []
  }
 ],
 "metadata": {
  "kernelspec": {
   "display_name": "R",
   "language": "R",
   "name": "ir"
  },
  "language_info": {
   "codemirror_mode": "r",
   "file_extension": ".r",
   "mimetype": "text/x-r-source",
   "name": "R",
   "pygments_lexer": "r",
   "version": "3.5.0"
  }
 },
 "nbformat": 4,
 "nbformat_minor": 2
}
