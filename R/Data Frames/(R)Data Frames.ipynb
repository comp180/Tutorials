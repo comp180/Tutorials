{
 "cells": [
  {
   "cell_type": "markdown",
   "metadata": {},
   "source": [
    "# Data Frames\n",
    "Data frames are data structures which provide intuitive ways of handling data best represented in table-like form. They are a standard data type in R. Although there are other ways of handling data, data frames are particularly designed for common analysis operations on rows or columns, as we will see. File-based input and output of data is discussed at the end.\n",
    "## Demo instructions:\n",
    "1. A brief 1-2 paragraph overview of data frames in the language.\n",
    "2. Create a data frame from scratch using hardcoded tabular data (consider something that parses multiline strings perhaps)\n",
    "3. Select by row or by column\n",
    "    - by column name or by row index\n",
    "    - by numerical order (e.g. first or last)\n",
    "4. Delete rows or columns by index and name\n",
    "5. Select, delete, or change values using boolean indexing\n",
    "6. Creating new columns through\n",
    "    - Simple operations on previous columns (e.g. simple math operations)\n",
    "    - Standard summary functions (e.g. sum, mean, std dev)\n",
    "    - The map/apply function (advanced)\n",
    "7. Grouped calculations (e.g. average of values in column Y for all x values in column X)\n",
    "8. Handle missing data by (advanced)\n",
    "    - Removing the rows with missing data\n",
    "    - Filling with a specific value\n",
    "    - Filling with a computed value (e.g. a median of known values)\n",
    "9. Output data in CSV format\n",
    "10. Reading data (from before) in using CSV format.\n",
    "\n",
    "### Helpful [table](http://pandas.pydata.org/pandas-docs/stable/comparison_with_r.html) to compare Python and R data frames directly.\n",
    "\n",
    "## Solutions:\n",
    "\n",
    "## 1. Paragraph Overview\n",
    "A data frame is a structure used for storing data tables. It contains a list of vectors of equal length. A vector is a sequence of data elements of the same basic type. \n",
    "\n",
    "For example, you could have two vectors called *name* and *age*. We know that we have to make vectors be of the same length, so let's add some members. Under *name*, we can say “Naseeb, Natasha, Kimani”. Under *age*, we can say “24, 29, 31”.  Both vectors have three members, so they're of equal length, and the ages correspond with the name in the same order.\n",
    "\n",
    "A data frame holds vectors of three possible data types: character, numeric, and logical. So in addition to the character and numeric types we've just seen, we can incorporate a logical data type too (a logical data type is either TRUE or FALSE):"
   ]
  },
  {
   "cell_type": "code",
   "execution_count": 1,
   "metadata": {},
   "outputs": [
    {
     "name": "stdout",
     "output_type": "stream",
     "text": [
      "     name age logexample\n",
      "1  Naseeb  24       TRUE\n",
      "2 Natasha  29       TRUE\n",
      "3  Kimani  31      FALSE\n"
     ]
    }
   ],
   "source": [
    "# first let's create our vectors\n",
    "name = c('Naseeb', 'Natasha', 'Kimani')\n",
    "age = c('24', '29', '31')\n",
    "logexample = c(TRUE, TRUE, FALSE)\n",
    "\n",
    "# next, we make our data frame\n",
    "df <- data.frame(name, age, logexample)\n",
    "# df is your data frame! You can name it whatever you'd like. For now, let's print it:\n",
    "\n",
    "print(df)"
   ]
  },
  {
   "cell_type": "markdown",
   "metadata": {},
   "source": [
    "Data frames are particularly useful for creating or reading tabular data. Let's start working with one."
   ]
  },
  {
   "cell_type": "markdown",
   "metadata": {},
   "source": [
    "## 2. Create a data frame from scratch"
   ]
  },
  {
   "cell_type": "code",
   "execution_count": 2,
   "metadata": {},
   "outputs": [
    {
     "name": "stdout",
     "output_type": "stream",
     "text": [
      "  department                name salary startdate\n",
      "1      Mayor        Rahm Emanuel 216210 2010-11-1\n",
      "2     Police         Donald Falk 100980 2008-3-25\n",
      "3   Aviation Anthony Evangelisti 300000 2007-3-14\n"
     ]
    }
   ],
   "source": [
    "# let's create some vectors:\n",
    "department <- c('Mayor', 'Police', 'Aviation')\n",
    "name <- c('Rahm Emanuel', 'Donald Falk', 'Anthony Evangelisti') \n",
    "salary <- c(216210, 100980, 300000)\n",
    "startdate <- c('2010-11-1','2008-3-25','2007-3-14')\n",
    "\n",
    "# now, let's put those vectors into our data frame and print it:\n",
    "mydataframe <- data.frame(department, name, salary, startdate)\n",
    "print(mydataframe)"
   ]
  },
  {
   "cell_type": "markdown",
   "metadata": {},
   "source": [
    "The top line of the table, called the header, contains the column names. Each horizontal line afterward denotes a data row, which begins with the name of the row, and then followed by the actual data. Each data member of a row is called a cell."
   ]
  },
  {
   "cell_type": "markdown",
   "metadata": {},
   "source": [
    "## 3. Select by row or column\n",
    "* By column name or by row index\n",
    "* By numerical order (e.g. first or last)"
   ]
  },
  {
   "cell_type": "markdown",
   "metadata": {},
   "source": [
    "### 3.1.a. By column name"
   ]
  },
  {
   "cell_type": "markdown",
   "metadata": {},
   "source": [
    "There are a couple ways to access a column by its name. We will look at three ways:"
   ]
  },
  {
   "cell_type": "code",
   "execution_count": 3,
   "metadata": {},
   "outputs": [
    {
     "data": {
      "text/html": [
       "<ol class=list-inline>\n",
       "\t<li>216210</li>\n",
       "\t<li>100980</li>\n",
       "\t<li>3e+05</li>\n",
       "</ol>\n"
      ],
      "text/latex": [
       "\\begin{enumerate*}\n",
       "\\item 216210\n",
       "\\item 100980\n",
       "\\item 3e+05\n",
       "\\end{enumerate*}\n"
      ],
      "text/markdown": [
       "1. 216210\n",
       "2. 100980\n",
       "3. 3e+05\n",
       "\n",
       "\n"
      ],
      "text/plain": [
       "[1] 216210 100980 300000"
      ]
     },
     "metadata": {},
     "output_type": "display_data"
    }
   ],
   "source": [
    "mydataframe[[\"salary\"]]"
   ]
  },
  {
   "cell_type": "code",
   "execution_count": 4,
   "metadata": {},
   "outputs": [
    {
     "data": {
      "text/html": [
       "<ol class=list-inline>\n",
       "\t<li>216210</li>\n",
       "\t<li>100980</li>\n",
       "\t<li>3e+05</li>\n",
       "</ol>\n"
      ],
      "text/latex": [
       "\\begin{enumerate*}\n",
       "\\item 216210\n",
       "\\item 100980\n",
       "\\item 3e+05\n",
       "\\end{enumerate*}\n"
      ],
      "text/markdown": [
       "1. 216210\n",
       "2. 100980\n",
       "3. 3e+05\n",
       "\n",
       "\n"
      ],
      "text/plain": [
       "[1] 216210 100980 300000"
      ]
     },
     "metadata": {},
     "output_type": "display_data"
    }
   ],
   "source": [
    "mydataframe$salary"
   ]
  },
  {
   "cell_type": "code",
   "execution_count": 5,
   "metadata": {},
   "outputs": [
    {
     "data": {
      "text/html": [
       "<ol class=list-inline>\n",
       "\t<li>216210</li>\n",
       "\t<li>100980</li>\n",
       "\t<li>3e+05</li>\n",
       "</ol>\n"
      ],
      "text/latex": [
       "\\begin{enumerate*}\n",
       "\\item 216210\n",
       "\\item 100980\n",
       "\\item 3e+05\n",
       "\\end{enumerate*}\n"
      ],
      "text/markdown": [
       "1. 216210\n",
       "2. 100980\n",
       "3. 3e+05\n",
       "\n",
       "\n"
      ],
      "text/plain": [
       "[1] 216210 100980 300000"
      ]
     },
     "metadata": {},
     "output_type": "display_data"
    }
   ],
   "source": [
    "mydataframe[,\"salary\"]\n",
    "# the comma is not a typo; instead it signals a wildcard match for the rows.\n",
    "# if you place a number before the comma, you will reference a specific cell, by its row number and column name"
   ]
  },
  {
   "cell_type": "markdown",
   "metadata": {},
   "source": [
    "### 3.1.b. By row index"
   ]
  },
  {
   "cell_type": "code",
   "execution_count": 6,
   "metadata": {},
   "outputs": [
    {
     "data": {
      "text/html": [
       "<table>\n",
       "<thead><tr><th scope=col>department</th><th scope=col>name</th><th scope=col>salary</th><th scope=col>startdate</th></tr></thead>\n",
       "<tbody>\n",
       "\t<tr><td>Mayor       </td><td>Rahm Emanuel</td><td>216210      </td><td>2010-11-1   </td></tr>\n",
       "</tbody>\n",
       "</table>\n"
      ],
      "text/latex": [
       "\\begin{tabular}{r|llll}\n",
       " department & name & salary & startdate\\\\\n",
       "\\hline\n",
       "\t Mayor        & Rahm Emanuel & 216210       & 2010-11-1   \\\\\n",
       "\\end{tabular}\n"
      ],
      "text/markdown": [
       "\n",
       "department | name | salary | startdate | \n",
       "|---|\n",
       "| Mayor        | Rahm Emanuel | 216210       | 2010-11-1    | \n",
       "\n",
       "\n"
      ],
      "text/plain": [
       "  department name         salary startdate\n",
       "1 Mayor      Rahm Emanuel 216210 2010-11-1"
      ]
     },
     "metadata": {},
     "output_type": "display_data"
    }
   ],
   "source": [
    "mydataframe[1,]\n",
    "# again, the comma is not a typo. this time, it signals a wildcard match for the columns."
   ]
  },
  {
   "cell_type": "markdown",
   "metadata": {},
   "source": [
    "### 3.2.a By numerical order for columns"
   ]
  },
  {
   "cell_type": "code",
   "execution_count": 7,
   "metadata": {},
   "outputs": [
    {
     "data": {
      "text/html": [
       "<table>\n",
       "<thead><tr><th scope=col>department</th></tr></thead>\n",
       "<tbody>\n",
       "\t<tr><td>Mayor   </td></tr>\n",
       "\t<tr><td>Police  </td></tr>\n",
       "\t<tr><td>Aviation</td></tr>\n",
       "</tbody>\n",
       "</table>\n"
      ],
      "text/latex": [
       "\\begin{tabular}{r|l}\n",
       " department\\\\\n",
       "\\hline\n",
       "\t Mayor   \\\\\n",
       "\t Police  \\\\\n",
       "\t Aviation\\\\\n",
       "\\end{tabular}\n"
      ],
      "text/markdown": [
       "\n",
       "department | \n",
       "|---|---|---|\n",
       "| Mayor    | \n",
       "| Police   | \n",
       "| Aviation | \n",
       "\n",
       "\n"
      ],
      "text/plain": [
       "  department\n",
       "1 Mayor     \n",
       "2 Police    \n",
       "3 Aviation  "
      ]
     },
     "metadata": {},
     "output_type": "display_data"
    }
   ],
   "source": [
    "# to access the first column\n",
    "mydataframe[1]"
   ]
  },
  {
   "cell_type": "code",
   "execution_count": 8,
   "metadata": {},
   "outputs": [
    {
     "data": {
      "text/html": [
       "<table>\n",
       "<thead><tr><th scope=col>startdate</th></tr></thead>\n",
       "<tbody>\n",
       "\t<tr><td>2010-11-1</td></tr>\n",
       "\t<tr><td>2008-3-25</td></tr>\n",
       "\t<tr><td>2007-3-14</td></tr>\n",
       "</tbody>\n",
       "</table>\n"
      ],
      "text/latex": [
       "\\begin{tabular}{r|l}\n",
       " startdate\\\\\n",
       "\\hline\n",
       "\t 2010-11-1\\\\\n",
       "\t 2008-3-25\\\\\n",
       "\t 2007-3-14\\\\\n",
       "\\end{tabular}\n"
      ],
      "text/markdown": [
       "\n",
       "startdate | \n",
       "|---|---|---|\n",
       "| 2010-11-1 | \n",
       "| 2008-3-25 | \n",
       "| 2007-3-14 | \n",
       "\n",
       "\n"
      ],
      "text/plain": [
       "  startdate\n",
       "1 2010-11-1\n",
       "2 2008-3-25\n",
       "3 2007-3-14"
      ]
     },
     "metadata": {},
     "output_type": "display_data"
    }
   ],
   "source": [
    "# to access the last column, we use the ncol function:\n",
    "mydataframe[ncol(mydataframe)]"
   ]
  },
  {
   "cell_type": "markdown",
   "metadata": {},
   "source": [
    "### 3.2.b By numerical order for rows"
   ]
  },
  {
   "cell_type": "code",
   "execution_count": 9,
   "metadata": {},
   "outputs": [
    {
     "data": {
      "text/html": [
       "<table>\n",
       "<thead><tr><th scope=col>department</th><th scope=col>name</th><th scope=col>salary</th><th scope=col>startdate</th></tr></thead>\n",
       "<tbody>\n",
       "\t<tr><td>Mayor       </td><td>Rahm Emanuel</td><td>216210      </td><td>2010-11-1   </td></tr>\n",
       "</tbody>\n",
       "</table>\n"
      ],
      "text/latex": [
       "\\begin{tabular}{r|llll}\n",
       " department & name & salary & startdate\\\\\n",
       "\\hline\n",
       "\t Mayor        & Rahm Emanuel & 216210       & 2010-11-1   \\\\\n",
       "\\end{tabular}\n"
      ],
      "text/markdown": [
       "\n",
       "department | name | salary | startdate | \n",
       "|---|\n",
       "| Mayor        | Rahm Emanuel | 216210       | 2010-11-1    | \n",
       "\n",
       "\n"
      ],
      "text/plain": [
       "  department name         salary startdate\n",
       "1 Mayor      Rahm Emanuel 216210 2010-11-1"
      ]
     },
     "metadata": {},
     "output_type": "display_data"
    }
   ],
   "source": [
    "# to access the first row by numerical order, we use the \"head\" function:\n",
    "head(mydataframe, 1)\n",
    "\n",
    "# the number after the data frame name indicates how many of the first rows to display"
   ]
  },
  {
   "cell_type": "code",
   "execution_count": 10,
   "metadata": {},
   "outputs": [
    {
     "data": {
      "text/html": [
       "<table>\n",
       "<thead><tr><th></th><th scope=col>department</th><th scope=col>name</th><th scope=col>salary</th><th scope=col>startdate</th></tr></thead>\n",
       "<tbody>\n",
       "\t<tr><th scope=row>3</th><td>Aviation           </td><td>Anthony Evangelisti</td><td>3e+05              </td><td>2007-3-14          </td></tr>\n",
       "</tbody>\n",
       "</table>\n"
      ],
      "text/latex": [
       "\\begin{tabular}{r|llll}\n",
       "  & department & name & salary & startdate\\\\\n",
       "\\hline\n",
       "\t3 & Aviation            & Anthony Evangelisti & 3e+05               & 2007-3-14          \\\\\n",
       "\\end{tabular}\n"
      ],
      "text/markdown": [
       "\n",
       "| <!--/--> | department | name | salary | startdate | \n",
       "|---|\n",
       "| 3 | Aviation            | Anthony Evangelisti | 3e+05               | 2007-3-14           | \n",
       "\n",
       "\n"
      ],
      "text/plain": [
       "  department name                salary startdate\n",
       "3 Aviation   Anthony Evangelisti 3e+05  2007-3-14"
      ]
     },
     "metadata": {},
     "output_type": "display_data"
    }
   ],
   "source": [
    "# to access the last row by numerical order, we use the \"tail\" function:\n",
    "tail(mydataframe, 1)\n",
    "\n",
    "# the number after the data frame name indicates how many of the last rows to display"
   ]
  },
  {
   "cell_type": "markdown",
   "metadata": {},
   "source": [
    "## 4. Delete rows or columns by index and name"
   ]
  },
  {
   "cell_type": "markdown",
   "metadata": {},
   "source": [
    "### 4.1. For rows:"
   ]
  },
  {
   "cell_type": "code",
   "execution_count": 11,
   "metadata": {},
   "outputs": [
    {
     "data": {
      "text/html": [
       "<table>\n",
       "<thead><tr><th></th><th scope=col>department</th><th scope=col>name</th><th scope=col>salary</th><th scope=col>startdate</th></tr></thead>\n",
       "<tbody>\n",
       "\t<tr><th scope=row>1</th><td>Mayor              </td><td>Rahm Emanuel       </td><td>216210             </td><td>2010-11-1          </td></tr>\n",
       "\t<tr><th scope=row>3</th><td>Aviation           </td><td>Anthony Evangelisti</td><td>300000             </td><td>2007-3-14          </td></tr>\n",
       "</tbody>\n",
       "</table>\n"
      ],
      "text/latex": [
       "\\begin{tabular}{r|llll}\n",
       "  & department & name & salary & startdate\\\\\n",
       "\\hline\n",
       "\t1 & Mayor               & Rahm Emanuel        & 216210              & 2010-11-1          \\\\\n",
       "\t3 & Aviation            & Anthony Evangelisti & 300000              & 2007-3-14          \\\\\n",
       "\\end{tabular}\n"
      ],
      "text/markdown": [
       "\n",
       "| <!--/--> | department | name | salary | startdate | \n",
       "|---|---|\n",
       "| 1 | Mayor               | Rahm Emanuel        | 216210              | 2010-11-1           | \n",
       "| 3 | Aviation            | Anthony Evangelisti | 300000              | 2007-3-14           | \n",
       "\n",
       "\n"
      ],
      "text/plain": [
       "  department name                salary startdate\n",
       "1 Mayor      Rahm Emanuel        216210 2010-11-1\n",
       "3 Aviation   Anthony Evangelisti 300000 2007-3-14"
      ]
     },
     "metadata": {},
     "output_type": "display_data"
    }
   ],
   "source": [
    "# to delete a row by its index, we take the complement of the row we want to delete\n",
    "# the \"-\" takes the complement of, in this example, the second row, so we get everything except the second row\n",
    "# as we saw before, the comma is there to indicate a wildcard match for the columns\n",
    "mydataframe[-c(2), ]"
   ]
  },
  {
   "cell_type": "code",
   "execution_count": 12,
   "metadata": {},
   "outputs": [
    {
     "data": {
      "text/html": [
       "<table>\n",
       "<thead><tr><th></th><th scope=col>department</th><th scope=col>name</th><th scope=col>salary</th><th scope=col>startdate</th></tr></thead>\n",
       "<tbody>\n",
       "\t<tr><th scope=row>1</th><td>Mayor              </td><td>Rahm Emanuel       </td><td>216210             </td><td>2010-11-1          </td></tr>\n",
       "\t<tr><th scope=row>3</th><td>Aviation           </td><td>Anthony Evangelisti</td><td>300000             </td><td>2007-3-14          </td></tr>\n",
       "</tbody>\n",
       "</table>\n"
      ],
      "text/latex": [
       "\\begin{tabular}{r|llll}\n",
       "  & department & name & salary & startdate\\\\\n",
       "\\hline\n",
       "\t1 & Mayor               & Rahm Emanuel        & 216210              & 2010-11-1          \\\\\n",
       "\t3 & Aviation            & Anthony Evangelisti & 300000              & 2007-3-14          \\\\\n",
       "\\end{tabular}\n"
      ],
      "text/markdown": [
       "\n",
       "| <!--/--> | department | name | salary | startdate | \n",
       "|---|---|\n",
       "| 1 | Mayor               | Rahm Emanuel        | 216210              | 2010-11-1           | \n",
       "| 3 | Aviation            | Anthony Evangelisti | 300000              | 2007-3-14           | \n",
       "\n",
       "\n"
      ],
      "text/plain": [
       "  department name                salary startdate\n",
       "1 Mayor      Rahm Emanuel        216210 2010-11-1\n",
       "3 Aviation   Anthony Evangelisti 300000 2007-3-14"
      ]
     },
     "metadata": {},
     "output_type": "display_data"
    }
   ],
   "source": [
    "# Delete row by name. This deletes the second row.\n",
    "removethisrow <- 2\n",
    "mydataframe[!(row.names(mydataframe) %in% removethisrow), ]"
   ]
  },
  {
   "cell_type": "markdown",
   "metadata": {},
   "source": [
    "### 4.2. For columns:"
   ]
  },
  {
   "cell_type": "code",
   "execution_count": 13,
   "metadata": {},
   "outputs": [
    {
     "data": {
      "text/html": [
       "<table>\n",
       "<thead><tr><th scope=col>department</th><th scope=col>salary</th><th scope=col>startdate</th></tr></thead>\n",
       "<tbody>\n",
       "\t<tr><td>Mayor    </td><td>216210   </td><td>2010-11-1</td></tr>\n",
       "\t<tr><td>Police   </td><td>100980   </td><td>2008-3-25</td></tr>\n",
       "\t<tr><td>Aviation </td><td>300000   </td><td>2007-3-14</td></tr>\n",
       "</tbody>\n",
       "</table>\n"
      ],
      "text/latex": [
       "\\begin{tabular}{r|lll}\n",
       " department & salary & startdate\\\\\n",
       "\\hline\n",
       "\t Mayor     & 216210    & 2010-11-1\\\\\n",
       "\t Police    & 100980    & 2008-3-25\\\\\n",
       "\t Aviation  & 300000    & 2007-3-14\\\\\n",
       "\\end{tabular}\n"
      ],
      "text/markdown": [
       "\n",
       "department | salary | startdate | \n",
       "|---|---|---|\n",
       "| Mayor     | 216210    | 2010-11-1 | \n",
       "| Police    | 100980    | 2008-3-25 | \n",
       "| Aviation  | 300000    | 2007-3-14 | \n",
       "\n",
       "\n"
      ],
      "text/plain": [
       "  department salary startdate\n",
       "1 Mayor      216210 2010-11-1\n",
       "2 Police     100980 2008-3-25\n",
       "3 Aviation   300000 2007-3-14"
      ]
     },
     "metadata": {},
     "output_type": "display_data"
    }
   ],
   "source": [
    "# to delete a column by its index, we follow a similar procedure as deleting a row by its index\n",
    "# (note the placement of the comma)\n",
    "mydataframe[,-c(2)]"
   ]
  },
  {
   "cell_type": "code",
   "execution_count": 14,
   "metadata": {},
   "outputs": [
    {
     "data": {
      "text/html": [
       "<table>\n",
       "<thead><tr><th scope=col>department</th><th scope=col>name</th><th scope=col>startdate</th></tr></thead>\n",
       "<tbody>\n",
       "\t<tr><td>Mayor              </td><td>Rahm Emanuel       </td><td>2010-11-1          </td></tr>\n",
       "\t<tr><td>Police             </td><td>Donald Falk        </td><td>2008-3-25          </td></tr>\n",
       "\t<tr><td>Aviation           </td><td>Anthony Evangelisti</td><td>2007-3-14          </td></tr>\n",
       "</tbody>\n",
       "</table>\n"
      ],
      "text/latex": [
       "\\begin{tabular}{r|lll}\n",
       " department & name & startdate\\\\\n",
       "\\hline\n",
       "\t Mayor               & Rahm Emanuel        & 2010-11-1          \\\\\n",
       "\t Police              & Donald Falk         & 2008-3-25          \\\\\n",
       "\t Aviation            & Anthony Evangelisti & 2007-3-14          \\\\\n",
       "\\end{tabular}\n"
      ],
      "text/markdown": [
       "\n",
       "department | name | startdate | \n",
       "|---|---|---|\n",
       "| Mayor               | Rahm Emanuel        | 2010-11-1           | \n",
       "| Police              | Donald Falk         | 2008-3-25           | \n",
       "| Aviation            | Anthony Evangelisti | 2007-3-14           | \n",
       "\n",
       "\n"
      ],
      "text/plain": [
       "  department name                startdate\n",
       "1 Mayor      Rahm Emanuel        2010-11-1\n",
       "2 Police     Donald Falk         2008-3-25\n",
       "3 Aviation   Anthony Evangelisti 2007-3-14"
      ]
     },
     "metadata": {},
     "output_type": "display_data"
    }
   ],
   "source": [
    "# Delete column by name. This deletes the \"salary\" column.\n",
    "deletecol <- \"salary\"\n",
    "mydataframe[,!(names(mydataframe) %in% deletecol)]"
   ]
  },
  {
   "cell_type": "markdown",
   "metadata": {},
   "source": [
    "**What is “c”?**\n",
    "\n",
    "That's a great question! You'll see “c” everywhere in R. “C” stands for “combine”. It is a function that combines its arguments into a vector. We will get into what exactly vectors are later on, but for now, you just need to know that a vector is a sequence of data elements of the same type. Using “c” is essential when manipulating dataframes, since we are working with so many vectors. Notice that we use c() whenever we are making or referencing a vector or a list.\n",
    "\n",
    "Here are some helpful links about “c”: \n",
    "* https://stackoverflow.com/questions/25268888/what-does-c-do-in-r\n",
    "* http://www.r-tutor.com/r-introduction/vector\n",
    "* https://www.statmethods.net/input/datatypes.html"
   ]
  },
  {
   "cell_type": "markdown",
   "metadata": {},
   "source": [
    "## 5. Select, delete, or change using boolean indexing"
   ]
  },
  {
   "cell_type": "markdown",
   "metadata": {},
   "source": [
    "Let's practice using a built-in dataset. For this tutorial, we will be using *mtcars*, which is a data set obtained in 1974. It stands for “motor trend car road test”. You can find other built in datasets [here](https://stat.ethz.ch/R-manual/R-devel/library/datasets/html/00Index.html).\n",
    "\n",
    "Boolean indexing, or logical indexing, is useful when you want to select rows/columns that match a certain criteria. We use a “logical index vector” to do so. "
   ]
  },
  {
   "cell_type": "code",
   "execution_count": 15,
   "metadata": {},
   "outputs": [],
   "source": [
    "#Import data.\n",
    "data(mtcars)"
   ]
  },
  {
   "cell_type": "code",
   "execution_count": 16,
   "metadata": {},
   "outputs": [
    {
     "data": {
      "text/plain": [
       "      mpg             cyl             disp             hp       \n",
       " Min.   :10.40   Min.   :4.000   Min.   : 71.1   Min.   : 52.0  \n",
       " 1st Qu.:15.43   1st Qu.:4.000   1st Qu.:120.8   1st Qu.: 96.5  \n",
       " Median :19.20   Median :6.000   Median :196.3   Median :123.0  \n",
       " Mean   :20.09   Mean   :6.188   Mean   :230.7   Mean   :146.7  \n",
       " 3rd Qu.:22.80   3rd Qu.:8.000   3rd Qu.:326.0   3rd Qu.:180.0  \n",
       " Max.   :33.90   Max.   :8.000   Max.   :472.0   Max.   :335.0  \n",
       "      drat             wt             qsec             vs        \n",
       " Min.   :2.760   Min.   :1.513   Min.   :14.50   Min.   :0.0000  \n",
       " 1st Qu.:3.080   1st Qu.:2.581   1st Qu.:16.89   1st Qu.:0.0000  \n",
       " Median :3.695   Median :3.325   Median :17.71   Median :0.0000  \n",
       " Mean   :3.597   Mean   :3.217   Mean   :17.85   Mean   :0.4375  \n",
       " 3rd Qu.:3.920   3rd Qu.:3.610   3rd Qu.:18.90   3rd Qu.:1.0000  \n",
       " Max.   :4.930   Max.   :5.424   Max.   :22.90   Max.   :1.0000  \n",
       "       am              gear            carb      \n",
       " Min.   :0.0000   Min.   :3.000   Min.   :1.000  \n",
       " 1st Qu.:0.0000   1st Qu.:3.000   1st Qu.:2.000  \n",
       " Median :0.0000   Median :4.000   Median :2.000  \n",
       " Mean   :0.4062   Mean   :3.688   Mean   :2.812  \n",
       " 3rd Qu.:1.0000   3rd Qu.:4.000   3rd Qu.:4.000  \n",
       " Max.   :1.0000   Max.   :5.000   Max.   :8.000  "
      ]
     },
     "metadata": {},
     "output_type": "display_data"
    }
   ],
   "source": [
    "#Explore data. \n",
    "summary((mtcars)) #Gives you basic summary of dataset."
   ]
  },
  {
   "cell_type": "code",
   "execution_count": 17,
   "metadata": {},
   "outputs": [
    {
     "data": {
      "text/html": [
       "<table>\n",
       "<thead><tr><th></th><th scope=col>mpg</th><th scope=col>cyl</th><th scope=col>disp</th><th scope=col>hp</th><th scope=col>drat</th><th scope=col>wt</th><th scope=col>qsec</th><th scope=col>vs</th><th scope=col>am</th><th scope=col>gear</th><th scope=col>carb</th></tr></thead>\n",
       "<tbody>\n",
       "\t<tr><th scope=row>Mazda RX4</th><td>21.0 </td><td>6    </td><td>160  </td><td>110  </td><td>3.90 </td><td>2.620</td><td>16.46</td><td>0    </td><td>1    </td><td>4    </td><td>4    </td></tr>\n",
       "\t<tr><th scope=row>Mazda RX4 Wag</th><td>21.0 </td><td>6    </td><td>160  </td><td>110  </td><td>3.90 </td><td>2.875</td><td>17.02</td><td>0    </td><td>1    </td><td>4    </td><td>4    </td></tr>\n",
       "\t<tr><th scope=row>Datsun 710</th><td>22.8 </td><td>4    </td><td>108  </td><td> 93  </td><td>3.85 </td><td>2.320</td><td>18.61</td><td>1    </td><td>1    </td><td>4    </td><td>1    </td></tr>\n",
       "\t<tr><th scope=row>Hornet 4 Drive</th><td>21.4 </td><td>6    </td><td>258  </td><td>110  </td><td>3.08 </td><td>3.215</td><td>19.44</td><td>1    </td><td>0    </td><td>3    </td><td>1    </td></tr>\n",
       "\t<tr><th scope=row>Hornet Sportabout</th><td>18.7 </td><td>8    </td><td>360  </td><td>175  </td><td>3.15 </td><td>3.440</td><td>17.02</td><td>0    </td><td>0    </td><td>3    </td><td>2    </td></tr>\n",
       "\t<tr><th scope=row>Valiant</th><td>18.1 </td><td>6    </td><td>225  </td><td>105  </td><td>2.76 </td><td>3.460</td><td>20.22</td><td>1    </td><td>0    </td><td>3    </td><td>1    </td></tr>\n",
       "</tbody>\n",
       "</table>\n"
      ],
      "text/latex": [
       "\\begin{tabular}{r|lllllllllll}\n",
       "  & mpg & cyl & disp & hp & drat & wt & qsec & vs & am & gear & carb\\\\\n",
       "\\hline\n",
       "\tMazda RX4 & 21.0  & 6     & 160   & 110   & 3.90  & 2.620 & 16.46 & 0     & 1     & 4     & 4    \\\\\n",
       "\tMazda RX4 Wag & 21.0  & 6     & 160   & 110   & 3.90  & 2.875 & 17.02 & 0     & 1     & 4     & 4    \\\\\n",
       "\tDatsun 710 & 22.8  & 4     & 108   &  93   & 3.85  & 2.320 & 18.61 & 1     & 1     & 4     & 1    \\\\\n",
       "\tHornet 4 Drive & 21.4  & 6     & 258   & 110   & 3.08  & 3.215 & 19.44 & 1     & 0     & 3     & 1    \\\\\n",
       "\tHornet Sportabout & 18.7  & 8     & 360   & 175   & 3.15  & 3.440 & 17.02 & 0     & 0     & 3     & 2    \\\\\n",
       "\tValiant & 18.1  & 6     & 225   & 105   & 2.76  & 3.460 & 20.22 & 1     & 0     & 3     & 1    \\\\\n",
       "\\end{tabular}\n"
      ],
      "text/markdown": [
       "\n",
       "| <!--/--> | mpg | cyl | disp | hp | drat | wt | qsec | vs | am | gear | carb | \n",
       "|---|---|---|---|---|---|\n",
       "| Mazda RX4 | 21.0  | 6     | 160   | 110   | 3.90  | 2.620 | 16.46 | 0     | 1     | 4     | 4     | \n",
       "| Mazda RX4 Wag | 21.0  | 6     | 160   | 110   | 3.90  | 2.875 | 17.02 | 0     | 1     | 4     | 4     | \n",
       "| Datsun 710 | 22.8  | 4     | 108   |  93   | 3.85  | 2.320 | 18.61 | 1     | 1     | 4     | 1     | \n",
       "| Hornet 4 Drive | 21.4  | 6     | 258   | 110   | 3.08  | 3.215 | 19.44 | 1     | 0     | 3     | 1     | \n",
       "| Hornet Sportabout | 18.7  | 8     | 360   | 175   | 3.15  | 3.440 | 17.02 | 0     | 0     | 3     | 2     | \n",
       "| Valiant | 18.1  | 6     | 225   | 105   | 2.76  | 3.460 | 20.22 | 1     | 0     | 3     | 1     | \n",
       "\n",
       "\n"
      ],
      "text/plain": [
       "                  mpg  cyl disp hp  drat wt    qsec  vs am gear carb\n",
       "Mazda RX4         21.0 6   160  110 3.90 2.620 16.46 0  1  4    4   \n",
       "Mazda RX4 Wag     21.0 6   160  110 3.90 2.875 17.02 0  1  4    4   \n",
       "Datsun 710        22.8 4   108   93 3.85 2.320 18.61 1  1  4    1   \n",
       "Hornet 4 Drive    21.4 6   258  110 3.08 3.215 19.44 1  0  3    1   \n",
       "Hornet Sportabout 18.7 8   360  175 3.15 3.440 17.02 0  0  3    2   \n",
       "Valiant           18.1 6   225  105 2.76 3.460 20.22 1  0  3    1   "
      ]
     },
     "metadata": {},
     "output_type": "display_data"
    }
   ],
   "source": [
    "head(mtcars) #Displays first few lines of dataset."
   ]
  },
  {
   "cell_type": "code",
   "execution_count": 18,
   "metadata": {},
   "outputs": [
    {
     "data": {
      "text/html": [
       "<ol class=list-inline>\n",
       "\t<li>32</li>\n",
       "\t<li>11</li>\n",
       "</ol>\n"
      ],
      "text/latex": [
       "\\begin{enumerate*}\n",
       "\\item 32\n",
       "\\item 11\n",
       "\\end{enumerate*}\n"
      ],
      "text/markdown": [
       "1. 32\n",
       "2. 11\n",
       "\n",
       "\n"
      ],
      "text/plain": [
       "[1] 32 11"
      ]
     },
     "metadata": {},
     "output_type": "display_data"
    }
   ],
   "source": [
    "dim(mtcars) #Displays dimensions of dataset."
   ]
  },
  {
   "cell_type": "code",
   "execution_count": 19,
   "metadata": {},
   "outputs": [
    {
     "data": {
      "text/html": [
       "<ol class=list-inline>\n",
       "\t<li>FALSE</li>\n",
       "\t<li>FALSE</li>\n",
       "\t<li>FALSE</li>\n",
       "\t<li>TRUE</li>\n",
       "\t<li>TRUE</li>\n",
       "\t<li>TRUE</li>\n",
       "\t<li>TRUE</li>\n",
       "\t<li>TRUE</li>\n",
       "\t<li>TRUE</li>\n",
       "\t<li>TRUE</li>\n",
       "\t<li>TRUE</li>\n",
       "\t<li>TRUE</li>\n",
       "\t<li>TRUE</li>\n",
       "\t<li>TRUE</li>\n",
       "\t<li>TRUE</li>\n",
       "\t<li>TRUE</li>\n",
       "\t<li>TRUE</li>\n",
       "\t<li>FALSE</li>\n",
       "\t<li>FALSE</li>\n",
       "\t<li>FALSE</li>\n",
       "\t<li>TRUE</li>\n",
       "\t<li>TRUE</li>\n",
       "\t<li>TRUE</li>\n",
       "\t<li>TRUE</li>\n",
       "\t<li>TRUE</li>\n",
       "\t<li>FALSE</li>\n",
       "\t<li>FALSE</li>\n",
       "\t<li>FALSE</li>\n",
       "\t<li>FALSE</li>\n",
       "\t<li>FALSE</li>\n",
       "\t<li>FALSE</li>\n",
       "\t<li>FALSE</li>\n",
       "</ol>\n"
      ],
      "text/latex": [
       "\\begin{enumerate*}\n",
       "\\item FALSE\n",
       "\\item FALSE\n",
       "\\item FALSE\n",
       "\\item TRUE\n",
       "\\item TRUE\n",
       "\\item TRUE\n",
       "\\item TRUE\n",
       "\\item TRUE\n",
       "\\item TRUE\n",
       "\\item TRUE\n",
       "\\item TRUE\n",
       "\\item TRUE\n",
       "\\item TRUE\n",
       "\\item TRUE\n",
       "\\item TRUE\n",
       "\\item TRUE\n",
       "\\item TRUE\n",
       "\\item FALSE\n",
       "\\item FALSE\n",
       "\\item FALSE\n",
       "\\item TRUE\n",
       "\\item TRUE\n",
       "\\item TRUE\n",
       "\\item TRUE\n",
       "\\item TRUE\n",
       "\\item FALSE\n",
       "\\item FALSE\n",
       "\\item FALSE\n",
       "\\item FALSE\n",
       "\\item FALSE\n",
       "\\item FALSE\n",
       "\\item FALSE\n",
       "\\end{enumerate*}\n"
      ],
      "text/markdown": [
       "1. FALSE\n",
       "2. FALSE\n",
       "3. FALSE\n",
       "4. TRUE\n",
       "5. TRUE\n",
       "6. TRUE\n",
       "7. TRUE\n",
       "8. TRUE\n",
       "9. TRUE\n",
       "10. TRUE\n",
       "11. TRUE\n",
       "12. TRUE\n",
       "13. TRUE\n",
       "14. TRUE\n",
       "15. TRUE\n",
       "16. TRUE\n",
       "17. TRUE\n",
       "18. FALSE\n",
       "19. FALSE\n",
       "20. FALSE\n",
       "21. TRUE\n",
       "22. TRUE\n",
       "23. TRUE\n",
       "24. TRUE\n",
       "25. TRUE\n",
       "26. FALSE\n",
       "27. FALSE\n",
       "28. FALSE\n",
       "29. FALSE\n",
       "30. FALSE\n",
       "31. FALSE\n",
       "32. FALSE\n",
       "\n",
       "\n"
      ],
      "text/plain": [
       " [1] FALSE FALSE FALSE  TRUE  TRUE  TRUE  TRUE  TRUE  TRUE  TRUE  TRUE  TRUE\n",
       "[13]  TRUE  TRUE  TRUE  TRUE  TRUE FALSE FALSE FALSE  TRUE  TRUE  TRUE  TRUE\n",
       "[25]  TRUE FALSE FALSE FALSE FALSE FALSE FALSE FALSE"
      ]
     },
     "metadata": {},
     "output_type": "display_data"
    }
   ],
   "source": [
    "# The member value is TRUE if the car has automatic transmission, and FALSE if otherwise. \n",
    "L = mtcars$am == 0 \n",
    "L"
   ]
  },
  {
   "cell_type": "code",
   "execution_count": 20,
   "metadata": {},
   "outputs": [
    {
     "data": {
      "text/html": [
       "<table>\n",
       "<thead><tr><th></th><th scope=col>mpg</th><th scope=col>cyl</th><th scope=col>disp</th><th scope=col>hp</th><th scope=col>drat</th><th scope=col>wt</th><th scope=col>qsec</th><th scope=col>vs</th><th scope=col>am</th><th scope=col>gear</th><th scope=col>carb</th></tr></thead>\n",
       "<tbody>\n",
       "\t<tr><th scope=row>Hornet 4 Drive</th><td>21.4 </td><td>6    </td><td>258.0</td><td>110  </td><td>3.08 </td><td>3.215</td><td>19.44</td><td>1    </td><td>0    </td><td>3    </td><td>1    </td></tr>\n",
       "\t<tr><th scope=row>Hornet Sportabout</th><td>18.7 </td><td>8    </td><td>360.0</td><td>175  </td><td>3.15 </td><td>3.440</td><td>17.02</td><td>0    </td><td>0    </td><td>3    </td><td>2    </td></tr>\n",
       "\t<tr><th scope=row>Valiant</th><td>18.1 </td><td>6    </td><td>225.0</td><td>105  </td><td>2.76 </td><td>3.460</td><td>20.22</td><td>1    </td><td>0    </td><td>3    </td><td>1    </td></tr>\n",
       "\t<tr><th scope=row>Duster 360</th><td>14.3 </td><td>8    </td><td>360.0</td><td>245  </td><td>3.21 </td><td>3.570</td><td>15.84</td><td>0    </td><td>0    </td><td>3    </td><td>4    </td></tr>\n",
       "\t<tr><th scope=row>Merc 240D</th><td>24.4 </td><td>4    </td><td>146.7</td><td> 62  </td><td>3.69 </td><td>3.190</td><td>20.00</td><td>1    </td><td>0    </td><td>4    </td><td>2    </td></tr>\n",
       "\t<tr><th scope=row>Merc 230</th><td>22.8 </td><td>4    </td><td>140.8</td><td> 95  </td><td>3.92 </td><td>3.150</td><td>22.90</td><td>1    </td><td>0    </td><td>4    </td><td>2    </td></tr>\n",
       "\t<tr><th scope=row>Merc 280</th><td>19.2 </td><td>6    </td><td>167.6</td><td>123  </td><td>3.92 </td><td>3.440</td><td>18.30</td><td>1    </td><td>0    </td><td>4    </td><td>4    </td></tr>\n",
       "\t<tr><th scope=row>Merc 280C</th><td>17.8 </td><td>6    </td><td>167.6</td><td>123  </td><td>3.92 </td><td>3.440</td><td>18.90</td><td>1    </td><td>0    </td><td>4    </td><td>4    </td></tr>\n",
       "\t<tr><th scope=row>Merc 450SE</th><td>16.4 </td><td>8    </td><td>275.8</td><td>180  </td><td>3.07 </td><td>4.070</td><td>17.40</td><td>0    </td><td>0    </td><td>3    </td><td>3    </td></tr>\n",
       "\t<tr><th scope=row>Merc 450SL</th><td>17.3 </td><td>8    </td><td>275.8</td><td>180  </td><td>3.07 </td><td>3.730</td><td>17.60</td><td>0    </td><td>0    </td><td>3    </td><td>3    </td></tr>\n",
       "\t<tr><th scope=row>Merc 450SLC</th><td>15.2 </td><td>8    </td><td>275.8</td><td>180  </td><td>3.07 </td><td>3.780</td><td>18.00</td><td>0    </td><td>0    </td><td>3    </td><td>3    </td></tr>\n",
       "\t<tr><th scope=row>Cadillac Fleetwood</th><td>10.4 </td><td>8    </td><td>472.0</td><td>205  </td><td>2.93 </td><td>5.250</td><td>17.98</td><td>0    </td><td>0    </td><td>3    </td><td>4    </td></tr>\n",
       "\t<tr><th scope=row>Lincoln Continental</th><td>10.4 </td><td>8    </td><td>460.0</td><td>215  </td><td>3.00 </td><td>5.424</td><td>17.82</td><td>0    </td><td>0    </td><td>3    </td><td>4    </td></tr>\n",
       "\t<tr><th scope=row>Chrysler Imperial</th><td>14.7 </td><td>8    </td><td>440.0</td><td>230  </td><td>3.23 </td><td>5.345</td><td>17.42</td><td>0    </td><td>0    </td><td>3    </td><td>4    </td></tr>\n",
       "\t<tr><th scope=row>Toyota Corona</th><td>21.5 </td><td>4    </td><td>120.1</td><td> 97  </td><td>3.70 </td><td>2.465</td><td>20.01</td><td>1    </td><td>0    </td><td>3    </td><td>1    </td></tr>\n",
       "\t<tr><th scope=row>Dodge Challenger</th><td>15.5 </td><td>8    </td><td>318.0</td><td>150  </td><td>2.76 </td><td>3.520</td><td>16.87</td><td>0    </td><td>0    </td><td>3    </td><td>2    </td></tr>\n",
       "\t<tr><th scope=row>AMC Javelin</th><td>15.2 </td><td>8    </td><td>304.0</td><td>150  </td><td>3.15 </td><td>3.435</td><td>17.30</td><td>0    </td><td>0    </td><td>3    </td><td>2    </td></tr>\n",
       "\t<tr><th scope=row>Camaro Z28</th><td>13.3 </td><td>8    </td><td>350.0</td><td>245  </td><td>3.73 </td><td>3.840</td><td>15.41</td><td>0    </td><td>0    </td><td>3    </td><td>4    </td></tr>\n",
       "\t<tr><th scope=row>Pontiac Firebird</th><td>19.2 </td><td>8    </td><td>400.0</td><td>175  </td><td>3.08 </td><td>3.845</td><td>17.05</td><td>0    </td><td>0    </td><td>3    </td><td>2    </td></tr>\n",
       "</tbody>\n",
       "</table>\n"
      ],
      "text/latex": [
       "\\begin{tabular}{r|lllllllllll}\n",
       "  & mpg & cyl & disp & hp & drat & wt & qsec & vs & am & gear & carb\\\\\n",
       "\\hline\n",
       "\tHornet 4 Drive & 21.4  & 6     & 258.0 & 110   & 3.08  & 3.215 & 19.44 & 1     & 0     & 3     & 1    \\\\\n",
       "\tHornet Sportabout & 18.7  & 8     & 360.0 & 175   & 3.15  & 3.440 & 17.02 & 0     & 0     & 3     & 2    \\\\\n",
       "\tValiant & 18.1  & 6     & 225.0 & 105   & 2.76  & 3.460 & 20.22 & 1     & 0     & 3     & 1    \\\\\n",
       "\tDuster 360 & 14.3  & 8     & 360.0 & 245   & 3.21  & 3.570 & 15.84 & 0     & 0     & 3     & 4    \\\\\n",
       "\tMerc 240D & 24.4  & 4     & 146.7 &  62   & 3.69  & 3.190 & 20.00 & 1     & 0     & 4     & 2    \\\\\n",
       "\tMerc 230 & 22.8  & 4     & 140.8 &  95   & 3.92  & 3.150 & 22.90 & 1     & 0     & 4     & 2    \\\\\n",
       "\tMerc 280 & 19.2  & 6     & 167.6 & 123   & 3.92  & 3.440 & 18.30 & 1     & 0     & 4     & 4    \\\\\n",
       "\tMerc 280C & 17.8  & 6     & 167.6 & 123   & 3.92  & 3.440 & 18.90 & 1     & 0     & 4     & 4    \\\\\n",
       "\tMerc 450SE & 16.4  & 8     & 275.8 & 180   & 3.07  & 4.070 & 17.40 & 0     & 0     & 3     & 3    \\\\\n",
       "\tMerc 450SL & 17.3  & 8     & 275.8 & 180   & 3.07  & 3.730 & 17.60 & 0     & 0     & 3     & 3    \\\\\n",
       "\tMerc 450SLC & 15.2  & 8     & 275.8 & 180   & 3.07  & 3.780 & 18.00 & 0     & 0     & 3     & 3    \\\\\n",
       "\tCadillac Fleetwood & 10.4  & 8     & 472.0 & 205   & 2.93  & 5.250 & 17.98 & 0     & 0     & 3     & 4    \\\\\n",
       "\tLincoln Continental & 10.4  & 8     & 460.0 & 215   & 3.00  & 5.424 & 17.82 & 0     & 0     & 3     & 4    \\\\\n",
       "\tChrysler Imperial & 14.7  & 8     & 440.0 & 230   & 3.23  & 5.345 & 17.42 & 0     & 0     & 3     & 4    \\\\\n",
       "\tToyota Corona & 21.5  & 4     & 120.1 &  97   & 3.70  & 2.465 & 20.01 & 1     & 0     & 3     & 1    \\\\\n",
       "\tDodge Challenger & 15.5  & 8     & 318.0 & 150   & 2.76  & 3.520 & 16.87 & 0     & 0     & 3     & 2    \\\\\n",
       "\tAMC Javelin & 15.2  & 8     & 304.0 & 150   & 3.15  & 3.435 & 17.30 & 0     & 0     & 3     & 2    \\\\\n",
       "\tCamaro Z28 & 13.3  & 8     & 350.0 & 245   & 3.73  & 3.840 & 15.41 & 0     & 0     & 3     & 4    \\\\\n",
       "\tPontiac Firebird & 19.2  & 8     & 400.0 & 175   & 3.08  & 3.845 & 17.05 & 0     & 0     & 3     & 2    \\\\\n",
       "\\end{tabular}\n"
      ],
      "text/markdown": [
       "\n",
       "| <!--/--> | mpg | cyl | disp | hp | drat | wt | qsec | vs | am | gear | carb | \n",
       "|---|---|---|---|---|---|---|---|---|---|---|---|---|---|---|---|---|---|---|\n",
       "| Hornet 4 Drive | 21.4  | 6     | 258.0 | 110   | 3.08  | 3.215 | 19.44 | 1     | 0     | 3     | 1     | \n",
       "| Hornet Sportabout | 18.7  | 8     | 360.0 | 175   | 3.15  | 3.440 | 17.02 | 0     | 0     | 3     | 2     | \n",
       "| Valiant | 18.1  | 6     | 225.0 | 105   | 2.76  | 3.460 | 20.22 | 1     | 0     | 3     | 1     | \n",
       "| Duster 360 | 14.3  | 8     | 360.0 | 245   | 3.21  | 3.570 | 15.84 | 0     | 0     | 3     | 4     | \n",
       "| Merc 240D | 24.4  | 4     | 146.7 |  62   | 3.69  | 3.190 | 20.00 | 1     | 0     | 4     | 2     | \n",
       "| Merc 230 | 22.8  | 4     | 140.8 |  95   | 3.92  | 3.150 | 22.90 | 1     | 0     | 4     | 2     | \n",
       "| Merc 280 | 19.2  | 6     | 167.6 | 123   | 3.92  | 3.440 | 18.30 | 1     | 0     | 4     | 4     | \n",
       "| Merc 280C | 17.8  | 6     | 167.6 | 123   | 3.92  | 3.440 | 18.90 | 1     | 0     | 4     | 4     | \n",
       "| Merc 450SE | 16.4  | 8     | 275.8 | 180   | 3.07  | 4.070 | 17.40 | 0     | 0     | 3     | 3     | \n",
       "| Merc 450SL | 17.3  | 8     | 275.8 | 180   | 3.07  | 3.730 | 17.60 | 0     | 0     | 3     | 3     | \n",
       "| Merc 450SLC | 15.2  | 8     | 275.8 | 180   | 3.07  | 3.780 | 18.00 | 0     | 0     | 3     | 3     | \n",
       "| Cadillac Fleetwood | 10.4  | 8     | 472.0 | 205   | 2.93  | 5.250 | 17.98 | 0     | 0     | 3     | 4     | \n",
       "| Lincoln Continental | 10.4  | 8     | 460.0 | 215   | 3.00  | 5.424 | 17.82 | 0     | 0     | 3     | 4     | \n",
       "| Chrysler Imperial | 14.7  | 8     | 440.0 | 230   | 3.23  | 5.345 | 17.42 | 0     | 0     | 3     | 4     | \n",
       "| Toyota Corona | 21.5  | 4     | 120.1 |  97   | 3.70  | 2.465 | 20.01 | 1     | 0     | 3     | 1     | \n",
       "| Dodge Challenger | 15.5  | 8     | 318.0 | 150   | 2.76  | 3.520 | 16.87 | 0     | 0     | 3     | 2     | \n",
       "| AMC Javelin | 15.2  | 8     | 304.0 | 150   | 3.15  | 3.435 | 17.30 | 0     | 0     | 3     | 2     | \n",
       "| Camaro Z28 | 13.3  | 8     | 350.0 | 245   | 3.73  | 3.840 | 15.41 | 0     | 0     | 3     | 4     | \n",
       "| Pontiac Firebird | 19.2  | 8     | 400.0 | 175   | 3.08  | 3.845 | 17.05 | 0     | 0     | 3     | 2     | \n",
       "\n",
       "\n"
      ],
      "text/plain": [
       "                    mpg  cyl disp  hp  drat wt    qsec  vs am gear carb\n",
       "Hornet 4 Drive      21.4 6   258.0 110 3.08 3.215 19.44 1  0  3    1   \n",
       "Hornet Sportabout   18.7 8   360.0 175 3.15 3.440 17.02 0  0  3    2   \n",
       "Valiant             18.1 6   225.0 105 2.76 3.460 20.22 1  0  3    1   \n",
       "Duster 360          14.3 8   360.0 245 3.21 3.570 15.84 0  0  3    4   \n",
       "Merc 240D           24.4 4   146.7  62 3.69 3.190 20.00 1  0  4    2   \n",
       "Merc 230            22.8 4   140.8  95 3.92 3.150 22.90 1  0  4    2   \n",
       "Merc 280            19.2 6   167.6 123 3.92 3.440 18.30 1  0  4    4   \n",
       "Merc 280C           17.8 6   167.6 123 3.92 3.440 18.90 1  0  4    4   \n",
       "Merc 450SE          16.4 8   275.8 180 3.07 4.070 17.40 0  0  3    3   \n",
       "Merc 450SL          17.3 8   275.8 180 3.07 3.730 17.60 0  0  3    3   \n",
       "Merc 450SLC         15.2 8   275.8 180 3.07 3.780 18.00 0  0  3    3   \n",
       "Cadillac Fleetwood  10.4 8   472.0 205 2.93 5.250 17.98 0  0  3    4   \n",
       "Lincoln Continental 10.4 8   460.0 215 3.00 5.424 17.82 0  0  3    4   \n",
       "Chrysler Imperial   14.7 8   440.0 230 3.23 5.345 17.42 0  0  3    4   \n",
       "Toyota Corona       21.5 4   120.1  97 3.70 2.465 20.01 1  0  3    1   \n",
       "Dodge Challenger    15.5 8   318.0 150 2.76 3.520 16.87 0  0  3    2   \n",
       "AMC Javelin         15.2 8   304.0 150 3.15 3.435 17.30 0  0  3    2   \n",
       "Camaro Z28          13.3 8   350.0 245 3.73 3.840 15.41 0  0  3    4   \n",
       "Pontiac Firebird    19.2 8   400.0 175 3.08 3.845 17.05 0  0  3    2   "
      ]
     },
     "metadata": {},
     "output_type": "display_data"
    }
   ],
   "source": [
    "# Select the cars with automatic transmission.\n",
    "mtcars[L,]"
   ]
  },
  {
   "cell_type": "code",
   "execution_count": 21,
   "metadata": {},
   "outputs": [
    {
     "data": {
      "text/html": [
       "<table>\n",
       "<thead><tr><th></th><th scope=col>mpg</th><th scope=col>cyl</th><th scope=col>disp</th><th scope=col>hp</th><th scope=col>drat</th><th scope=col>wt</th><th scope=col>qsec</th><th scope=col>vs</th><th scope=col>am</th><th scope=col>gear</th><th scope=col>carb</th></tr></thead>\n",
       "<tbody>\n",
       "\t<tr><th scope=row>Mazda RX4</th><td>21.0 </td><td>6    </td><td>160.0</td><td>110  </td><td>3.90 </td><td>2.620</td><td>16.46</td><td>0    </td><td>1    </td><td>4    </td><td>4    </td></tr>\n",
       "\t<tr><th scope=row>Mazda RX4 Wag</th><td>21.0 </td><td>6    </td><td>160.0</td><td>110  </td><td>3.90 </td><td>2.875</td><td>17.02</td><td>0    </td><td>1    </td><td>4    </td><td>4    </td></tr>\n",
       "\t<tr><th scope=row>Datsun 710</th><td>22.8 </td><td>4    </td><td>108.0</td><td> 93  </td><td>3.85 </td><td>2.320</td><td>18.61</td><td>1    </td><td>1    </td><td>4    </td><td>1    </td></tr>\n",
       "\t<tr><th scope=row>Fiat 128</th><td>32.4 </td><td>4    </td><td> 78.7</td><td> 66  </td><td>4.08 </td><td>2.200</td><td>19.47</td><td>1    </td><td>1    </td><td>4    </td><td>1    </td></tr>\n",
       "\t<tr><th scope=row>Honda Civic</th><td>30.4 </td><td>4    </td><td> 75.7</td><td> 52  </td><td>4.93 </td><td>1.615</td><td>18.52</td><td>1    </td><td>1    </td><td>4    </td><td>2    </td></tr>\n",
       "\t<tr><th scope=row>Toyota Corolla</th><td>33.9 </td><td>4    </td><td> 71.1</td><td> 65  </td><td>4.22 </td><td>1.835</td><td>19.90</td><td>1    </td><td>1    </td><td>4    </td><td>1    </td></tr>\n",
       "\t<tr><th scope=row>Fiat X1-9</th><td>27.3 </td><td>4    </td><td> 79.0</td><td> 66  </td><td>4.08 </td><td>1.935</td><td>18.90</td><td>1    </td><td>1    </td><td>4    </td><td>1    </td></tr>\n",
       "\t<tr><th scope=row>Porsche 914-2</th><td>26.0 </td><td>4    </td><td>120.3</td><td> 91  </td><td>4.43 </td><td>2.140</td><td>16.70</td><td>0    </td><td>1    </td><td>5    </td><td>2    </td></tr>\n",
       "\t<tr><th scope=row>Lotus Europa</th><td>30.4 </td><td>4    </td><td> 95.1</td><td>113  </td><td>3.77 </td><td>1.513</td><td>16.90</td><td>1    </td><td>1    </td><td>5    </td><td>2    </td></tr>\n",
       "\t<tr><th scope=row>Ford Pantera L</th><td>15.8 </td><td>8    </td><td>351.0</td><td>264  </td><td>4.22 </td><td>3.170</td><td>14.50</td><td>0    </td><td>1    </td><td>5    </td><td>4    </td></tr>\n",
       "\t<tr><th scope=row>Ferrari Dino</th><td>19.7 </td><td>6    </td><td>145.0</td><td>175  </td><td>3.62 </td><td>2.770</td><td>15.50</td><td>0    </td><td>1    </td><td>5    </td><td>6    </td></tr>\n",
       "\t<tr><th scope=row>Maserati Bora</th><td>15.0 </td><td>8    </td><td>301.0</td><td>335  </td><td>3.54 </td><td>3.570</td><td>14.60</td><td>0    </td><td>1    </td><td>5    </td><td>8    </td></tr>\n",
       "\t<tr><th scope=row>Volvo 142E</th><td>21.4 </td><td>4    </td><td>121.0</td><td>109  </td><td>4.11 </td><td>2.780</td><td>18.60</td><td>1    </td><td>1    </td><td>4    </td><td>2    </td></tr>\n",
       "</tbody>\n",
       "</table>\n"
      ],
      "text/latex": [
       "\\begin{tabular}{r|lllllllllll}\n",
       "  & mpg & cyl & disp & hp & drat & wt & qsec & vs & am & gear & carb\\\\\n",
       "\\hline\n",
       "\tMazda RX4 & 21.0  & 6     & 160.0 & 110   & 3.90  & 2.620 & 16.46 & 0     & 1     & 4     & 4    \\\\\n",
       "\tMazda RX4 Wag & 21.0  & 6     & 160.0 & 110   & 3.90  & 2.875 & 17.02 & 0     & 1     & 4     & 4    \\\\\n",
       "\tDatsun 710 & 22.8  & 4     & 108.0 &  93   & 3.85  & 2.320 & 18.61 & 1     & 1     & 4     & 1    \\\\\n",
       "\tFiat 128 & 32.4  & 4     &  78.7 &  66   & 4.08  & 2.200 & 19.47 & 1     & 1     & 4     & 1    \\\\\n",
       "\tHonda Civic & 30.4  & 4     &  75.7 &  52   & 4.93  & 1.615 & 18.52 & 1     & 1     & 4     & 2    \\\\\n",
       "\tToyota Corolla & 33.9  & 4     &  71.1 &  65   & 4.22  & 1.835 & 19.90 & 1     & 1     & 4     & 1    \\\\\n",
       "\tFiat X1-9 & 27.3  & 4     &  79.0 &  66   & 4.08  & 1.935 & 18.90 & 1     & 1     & 4     & 1    \\\\\n",
       "\tPorsche 914-2 & 26.0  & 4     & 120.3 &  91   & 4.43  & 2.140 & 16.70 & 0     & 1     & 5     & 2    \\\\\n",
       "\tLotus Europa & 30.4  & 4     &  95.1 & 113   & 3.77  & 1.513 & 16.90 & 1     & 1     & 5     & 2    \\\\\n",
       "\tFord Pantera L & 15.8  & 8     & 351.0 & 264   & 4.22  & 3.170 & 14.50 & 0     & 1     & 5     & 4    \\\\\n",
       "\tFerrari Dino & 19.7  & 6     & 145.0 & 175   & 3.62  & 2.770 & 15.50 & 0     & 1     & 5     & 6    \\\\\n",
       "\tMaserati Bora & 15.0  & 8     & 301.0 & 335   & 3.54  & 3.570 & 14.60 & 0     & 1     & 5     & 8    \\\\\n",
       "\tVolvo 142E & 21.4  & 4     & 121.0 & 109   & 4.11  & 2.780 & 18.60 & 1     & 1     & 4     & 2    \\\\\n",
       "\\end{tabular}\n"
      ],
      "text/markdown": [
       "\n",
       "| <!--/--> | mpg | cyl | disp | hp | drat | wt | qsec | vs | am | gear | carb | \n",
       "|---|---|---|---|---|---|---|---|---|---|---|---|---|\n",
       "| Mazda RX4 | 21.0  | 6     | 160.0 | 110   | 3.90  | 2.620 | 16.46 | 0     | 1     | 4     | 4     | \n",
       "| Mazda RX4 Wag | 21.0  | 6     | 160.0 | 110   | 3.90  | 2.875 | 17.02 | 0     | 1     | 4     | 4     | \n",
       "| Datsun 710 | 22.8  | 4     | 108.0 |  93   | 3.85  | 2.320 | 18.61 | 1     | 1     | 4     | 1     | \n",
       "| Fiat 128 | 32.4  | 4     |  78.7 |  66   | 4.08  | 2.200 | 19.47 | 1     | 1     | 4     | 1     | \n",
       "| Honda Civic | 30.4  | 4     |  75.7 |  52   | 4.93  | 1.615 | 18.52 | 1     | 1     | 4     | 2     | \n",
       "| Toyota Corolla | 33.9  | 4     |  71.1 |  65   | 4.22  | 1.835 | 19.90 | 1     | 1     | 4     | 1     | \n",
       "| Fiat X1-9 | 27.3  | 4     |  79.0 |  66   | 4.08  | 1.935 | 18.90 | 1     | 1     | 4     | 1     | \n",
       "| Porsche 914-2 | 26.0  | 4     | 120.3 |  91   | 4.43  | 2.140 | 16.70 | 0     | 1     | 5     | 2     | \n",
       "| Lotus Europa | 30.4  | 4     |  95.1 | 113   | 3.77  | 1.513 | 16.90 | 1     | 1     | 5     | 2     | \n",
       "| Ford Pantera L | 15.8  | 8     | 351.0 | 264   | 4.22  | 3.170 | 14.50 | 0     | 1     | 5     | 4     | \n",
       "| Ferrari Dino | 19.7  | 6     | 145.0 | 175   | 3.62  | 2.770 | 15.50 | 0     | 1     | 5     | 6     | \n",
       "| Maserati Bora | 15.0  | 8     | 301.0 | 335   | 3.54  | 3.570 | 14.60 | 0     | 1     | 5     | 8     | \n",
       "| Volvo 142E | 21.4  | 4     | 121.0 | 109   | 4.11  | 2.780 | 18.60 | 1     | 1     | 4     | 2     | \n",
       "\n",
       "\n"
      ],
      "text/plain": [
       "               mpg  cyl disp  hp  drat wt    qsec  vs am gear carb\n",
       "Mazda RX4      21.0 6   160.0 110 3.90 2.620 16.46 0  1  4    4   \n",
       "Mazda RX4 Wag  21.0 6   160.0 110 3.90 2.875 17.02 0  1  4    4   \n",
       "Datsun 710     22.8 4   108.0  93 3.85 2.320 18.61 1  1  4    1   \n",
       "Fiat 128       32.4 4    78.7  66 4.08 2.200 19.47 1  1  4    1   \n",
       "Honda Civic    30.4 4    75.7  52 4.93 1.615 18.52 1  1  4    2   \n",
       "Toyota Corolla 33.9 4    71.1  65 4.22 1.835 19.90 1  1  4    1   \n",
       "Fiat X1-9      27.3 4    79.0  66 4.08 1.935 18.90 1  1  4    1   \n",
       "Porsche 914-2  26.0 4   120.3  91 4.43 2.140 16.70 0  1  5    2   \n",
       "Lotus Europa   30.4 4    95.1 113 3.77 1.513 16.90 1  1  5    2   \n",
       "Ford Pantera L 15.8 8   351.0 264 4.22 3.170 14.50 0  1  5    4   \n",
       "Ferrari Dino   19.7 6   145.0 175 3.62 2.770 15.50 0  1  5    6   \n",
       "Maserati Bora  15.0 8   301.0 335 3.54 3.570 14.60 0  1  5    8   \n",
       "Volvo 142E     21.4 4   121.0 109 4.11 2.780 18.60 1  1  4    2   "
      ]
     },
     "metadata": {},
     "output_type": "display_data"
    }
   ],
   "source": [
    "# Delete elements without automatic transmission.\n",
    "autonly<-mtcars[!(mtcars$am == 0),]\n",
    "autonly"
   ]
  },
  {
   "cell_type": "markdown",
   "metadata": {},
   "source": [
    "## 6. Creating new columns through\n",
    "    - Simple operations on previous columns (e.g. simple math operations)\n",
    "    - Standard summary functions (e.g. sum, mean, std dev)\n",
    "    - The map/apply function (advanced)"
   ]
  },
  {
   "cell_type": "markdown",
   "metadata": {},
   "source": [
    "### 6.1 Simple operations on previous columns"
   ]
  },
  {
   "cell_type": "markdown",
   "metadata": {},
   "source": [
    "Now, let's work with a new data frame that displays a gradebook:"
   ]
  },
  {
   "cell_type": "code",
   "execution_count": 22,
   "metadata": {},
   "outputs": [
    {
     "data": {
      "text/html": [
       "<table>\n",
       "<thead><tr><th scope=col>exam.one</th><th scope=col>exam.two</th><th scope=col>exam.three</th></tr></thead>\n",
       "<tbody>\n",
       "\t<tr><td>85 </td><td>85 </td><td> 89</td></tr>\n",
       "\t<tr><td>80 </td><td>75 </td><td> 88</td></tr>\n",
       "\t<tr><td>95 </td><td>90 </td><td> 93</td></tr>\n",
       "\t<tr><td>72 </td><td>78 </td><td> 82</td></tr>\n",
       "\t<tr><td>88 </td><td>85 </td><td> 90</td></tr>\n",
       "\t<tr><td>88 </td><td>88 </td><td> 93</td></tr>\n",
       "\t<tr><td>90 </td><td>88 </td><td> 92</td></tr>\n",
       "\t<tr><td>79 </td><td>81 </td><td> 85</td></tr>\n",
       "\t<tr><td>59 </td><td>67 </td><td> 73</td></tr>\n",
       "\t<tr><td>99 </td><td>97 </td><td>100</td></tr>\n",
       "\t<tr><td>86 </td><td>87 </td><td> 90</td></tr>\n",
       "\t<tr><td>86 </td><td>85 </td><td> 80</td></tr>\n",
       "\t<tr><td>93 </td><td>90 </td><td> 97</td></tr>\n",
       "\t<tr><td>90 </td><td>89 </td><td> 91</td></tr>\n",
       "</tbody>\n",
       "</table>\n"
      ],
      "text/latex": [
       "\\begin{tabular}{r|lll}\n",
       " exam.one & exam.two & exam.three\\\\\n",
       "\\hline\n",
       "\t 85  & 85  &  89\\\\\n",
       "\t 80  & 75  &  88\\\\\n",
       "\t 95  & 90  &  93\\\\\n",
       "\t 72  & 78  &  82\\\\\n",
       "\t 88  & 85  &  90\\\\\n",
       "\t 88  & 88  &  93\\\\\n",
       "\t 90  & 88  &  92\\\\\n",
       "\t 79  & 81  &  85\\\\\n",
       "\t 59  & 67  &  73\\\\\n",
       "\t 99  & 97  & 100\\\\\n",
       "\t 86  & 87  &  90\\\\\n",
       "\t 86  & 85  &  80\\\\\n",
       "\t 93  & 90  &  97\\\\\n",
       "\t 90  & 89  &  91\\\\\n",
       "\\end{tabular}\n"
      ],
      "text/markdown": [
       "\n",
       "exam.one | exam.two | exam.three | \n",
       "|---|---|---|---|---|---|---|---|---|---|---|---|---|---|\n",
       "| 85  | 85  |  89 | \n",
       "| 80  | 75  |  88 | \n",
       "| 95  | 90  |  93 | \n",
       "| 72  | 78  |  82 | \n",
       "| 88  | 85  |  90 | \n",
       "| 88  | 88  |  93 | \n",
       "| 90  | 88  |  92 | \n",
       "| 79  | 81  |  85 | \n",
       "| 59  | 67  |  73 | \n",
       "| 99  | 97  | 100 | \n",
       "| 86  | 87  |  90 | \n",
       "| 86  | 85  |  80 | \n",
       "| 93  | 90  |  97 | \n",
       "| 90  | 89  |  91 | \n",
       "\n",
       "\n"
      ],
      "text/plain": [
       "   exam.one exam.two exam.three\n",
       "1  85       85        89       \n",
       "2  80       75        88       \n",
       "3  95       90        93       \n",
       "4  72       78        82       \n",
       "5  88       85        90       \n",
       "6  88       88        93       \n",
       "7  90       88        92       \n",
       "8  79       81        85       \n",
       "9  59       67        73       \n",
       "10 99       97       100       \n",
       "11 86       87        90       \n",
       "12 86       85        80       \n",
       "13 93       90        97       \n",
       "14 90       89        91       "
      ]
     },
     "metadata": {},
     "output_type": "display_data"
    }
   ],
   "source": [
    "exam.one <- c(85, 80, 95, 72, 88, 88, 90, 79, 59, 99, 86, 86, 93, 90)\n",
    "exam.two <- c(85, 75, 90, 78, 85, 88, 88, 81, 67, 97, 87, 85, 90, 89)\n",
    "exam.three <- c(89, 88, 93, 82, 90, 93, 92, 85, 73, 100, 90, 80, 97, 91)\n",
    "\n",
    "gradebook <- data.frame(exam.one, exam.two, exam.three)\n",
    "gradebook"
   ]
  },
  {
   "cell_type": "markdown",
   "metadata": {},
   "source": [
    "Let's create a new column for a fourth exam. We'll assume that this exam was easier than the previous one, and so everyone did 5 percent better."
   ]
  },
  {
   "cell_type": "code",
   "execution_count": 23,
   "metadata": {},
   "outputs": [],
   "source": [
    "gradebook$exam.four <- NA\n",
    "# this creates a new column, called exam.four.\n",
    "# right now, everything in that column is empty, or displays NA"
   ]
  },
  {
   "cell_type": "code",
   "execution_count": 24,
   "metadata": {},
   "outputs": [
    {
     "data": {
      "text/html": [
       "<table>\n",
       "<thead><tr><th scope=col>exam.one</th><th scope=col>exam.two</th><th scope=col>exam.three</th><th scope=col>exam.four</th></tr></thead>\n",
       "<tbody>\n",
       "\t<tr><td>85 </td><td>85 </td><td> 89</td><td> 94</td></tr>\n",
       "\t<tr><td>80 </td><td>75 </td><td> 88</td><td> 93</td></tr>\n",
       "\t<tr><td>95 </td><td>90 </td><td> 93</td><td> 98</td></tr>\n",
       "\t<tr><td>72 </td><td>78 </td><td> 82</td><td> 87</td></tr>\n",
       "\t<tr><td>88 </td><td>85 </td><td> 90</td><td> 95</td></tr>\n",
       "\t<tr><td>88 </td><td>88 </td><td> 93</td><td> 98</td></tr>\n",
       "\t<tr><td>90 </td><td>88 </td><td> 92</td><td> 97</td></tr>\n",
       "\t<tr><td>79 </td><td>81 </td><td> 85</td><td> 90</td></tr>\n",
       "\t<tr><td>59 </td><td>67 </td><td> 73</td><td> 78</td></tr>\n",
       "\t<tr><td>99 </td><td>97 </td><td>100</td><td>105</td></tr>\n",
       "\t<tr><td>86 </td><td>87 </td><td> 90</td><td> 95</td></tr>\n",
       "\t<tr><td>86 </td><td>85 </td><td> 80</td><td> 85</td></tr>\n",
       "\t<tr><td>93 </td><td>90 </td><td> 97</td><td>102</td></tr>\n",
       "\t<tr><td>90 </td><td>89 </td><td> 91</td><td> 96</td></tr>\n",
       "</tbody>\n",
       "</table>\n"
      ],
      "text/latex": [
       "\\begin{tabular}{r|llll}\n",
       " exam.one & exam.two & exam.three & exam.four\\\\\n",
       "\\hline\n",
       "\t 85  & 85  &  89 &  94\\\\\n",
       "\t 80  & 75  &  88 &  93\\\\\n",
       "\t 95  & 90  &  93 &  98\\\\\n",
       "\t 72  & 78  &  82 &  87\\\\\n",
       "\t 88  & 85  &  90 &  95\\\\\n",
       "\t 88  & 88  &  93 &  98\\\\\n",
       "\t 90  & 88  &  92 &  97\\\\\n",
       "\t 79  & 81  &  85 &  90\\\\\n",
       "\t 59  & 67  &  73 &  78\\\\\n",
       "\t 99  & 97  & 100 & 105\\\\\n",
       "\t 86  & 87  &  90 &  95\\\\\n",
       "\t 86  & 85  &  80 &  85\\\\\n",
       "\t 93  & 90  &  97 & 102\\\\\n",
       "\t 90  & 89  &  91 &  96\\\\\n",
       "\\end{tabular}\n"
      ],
      "text/markdown": [
       "\n",
       "exam.one | exam.two | exam.three | exam.four | \n",
       "|---|---|---|---|---|---|---|---|---|---|---|---|---|---|\n",
       "| 85  | 85  |  89 |  94 | \n",
       "| 80  | 75  |  88 |  93 | \n",
       "| 95  | 90  |  93 |  98 | \n",
       "| 72  | 78  |  82 |  87 | \n",
       "| 88  | 85  |  90 |  95 | \n",
       "| 88  | 88  |  93 |  98 | \n",
       "| 90  | 88  |  92 |  97 | \n",
       "| 79  | 81  |  85 |  90 | \n",
       "| 59  | 67  |  73 |  78 | \n",
       "| 99  | 97  | 100 | 105 | \n",
       "| 86  | 87  |  90 |  95 | \n",
       "| 86  | 85  |  80 |  85 | \n",
       "| 93  | 90  |  97 | 102 | \n",
       "| 90  | 89  |  91 |  96 | \n",
       "\n",
       "\n"
      ],
      "text/plain": [
       "   exam.one exam.two exam.three exam.four\n",
       "1  85       85        89         94      \n",
       "2  80       75        88         93      \n",
       "3  95       90        93         98      \n",
       "4  72       78        82         87      \n",
       "5  88       85        90         95      \n",
       "6  88       88        93         98      \n",
       "7  90       88        92         97      \n",
       "8  79       81        85         90      \n",
       "9  59       67        73         78      \n",
       "10 99       97       100        105      \n",
       "11 86       87        90         95      \n",
       "12 86       85        80         85      \n",
       "13 93       90        97        102      \n",
       "14 90       89        91         96      "
      ]
     },
     "metadata": {},
     "output_type": "display_data"
    }
   ],
   "source": [
    "# now, let's make the exam.four column five more than the exam.three column and print the gradebook\n",
    "gradebook$exam.four <- gradebook$exam.three + 5\n",
    "gradebook"
   ]
  },
  {
   "cell_type": "markdown",
   "metadata": {},
   "source": [
    "### 6.2 Standard summary functions (e.g. sum, mean, std dev)"
   ]
  },
  {
   "cell_type": "markdown",
   "metadata": {},
   "source": [
    "There are a couple of useful functions that allow for you to calculate the sum or mean of a row. We will use both rowSums and rowMeans to make new columns in our gradebook dataframe.\n",
    "\n",
    "First, we'll look at rowSums(). Let's use this function to calculate the total points each student recieved based off of their test scores:"
   ]
  },
  {
   "cell_type": "code",
   "execution_count": 25,
   "metadata": {},
   "outputs": [
    {
     "data": {
      "text/html": [
       "<table>\n",
       "<thead><tr><th scope=col>exam.one</th><th scope=col>exam.two</th><th scope=col>exam.three</th><th scope=col>exam.four</th><th scope=col>totalpoints</th></tr></thead>\n",
       "<tbody>\n",
       "\t<tr><td>85 </td><td>85 </td><td> 89</td><td> 94</td><td>353</td></tr>\n",
       "\t<tr><td>80 </td><td>75 </td><td> 88</td><td> 93</td><td>336</td></tr>\n",
       "\t<tr><td>95 </td><td>90 </td><td> 93</td><td> 98</td><td>376</td></tr>\n",
       "\t<tr><td>72 </td><td>78 </td><td> 82</td><td> 87</td><td>319</td></tr>\n",
       "\t<tr><td>88 </td><td>85 </td><td> 90</td><td> 95</td><td>358</td></tr>\n",
       "\t<tr><td>88 </td><td>88 </td><td> 93</td><td> 98</td><td>367</td></tr>\n",
       "\t<tr><td>90 </td><td>88 </td><td> 92</td><td> 97</td><td>367</td></tr>\n",
       "\t<tr><td>79 </td><td>81 </td><td> 85</td><td> 90</td><td>335</td></tr>\n",
       "\t<tr><td>59 </td><td>67 </td><td> 73</td><td> 78</td><td>277</td></tr>\n",
       "\t<tr><td>99 </td><td>97 </td><td>100</td><td>105</td><td>401</td></tr>\n",
       "\t<tr><td>86 </td><td>87 </td><td> 90</td><td> 95</td><td>358</td></tr>\n",
       "\t<tr><td>86 </td><td>85 </td><td> 80</td><td> 85</td><td>336</td></tr>\n",
       "\t<tr><td>93 </td><td>90 </td><td> 97</td><td>102</td><td>382</td></tr>\n",
       "\t<tr><td>90 </td><td>89 </td><td> 91</td><td> 96</td><td>366</td></tr>\n",
       "</tbody>\n",
       "</table>\n"
      ],
      "text/latex": [
       "\\begin{tabular}{r|lllll}\n",
       " exam.one & exam.two & exam.three & exam.four & totalpoints\\\\\n",
       "\\hline\n",
       "\t 85  & 85  &  89 &  94 & 353\\\\\n",
       "\t 80  & 75  &  88 &  93 & 336\\\\\n",
       "\t 95  & 90  &  93 &  98 & 376\\\\\n",
       "\t 72  & 78  &  82 &  87 & 319\\\\\n",
       "\t 88  & 85  &  90 &  95 & 358\\\\\n",
       "\t 88  & 88  &  93 &  98 & 367\\\\\n",
       "\t 90  & 88  &  92 &  97 & 367\\\\\n",
       "\t 79  & 81  &  85 &  90 & 335\\\\\n",
       "\t 59  & 67  &  73 &  78 & 277\\\\\n",
       "\t 99  & 97  & 100 & 105 & 401\\\\\n",
       "\t 86  & 87  &  90 &  95 & 358\\\\\n",
       "\t 86  & 85  &  80 &  85 & 336\\\\\n",
       "\t 93  & 90  &  97 & 102 & 382\\\\\n",
       "\t 90  & 89  &  91 &  96 & 366\\\\\n",
       "\\end{tabular}\n"
      ],
      "text/markdown": [
       "\n",
       "exam.one | exam.two | exam.three | exam.four | totalpoints | \n",
       "|---|---|---|---|---|---|---|---|---|---|---|---|---|---|\n",
       "| 85  | 85  |  89 |  94 | 353 | \n",
       "| 80  | 75  |  88 |  93 | 336 | \n",
       "| 95  | 90  |  93 |  98 | 376 | \n",
       "| 72  | 78  |  82 |  87 | 319 | \n",
       "| 88  | 85  |  90 |  95 | 358 | \n",
       "| 88  | 88  |  93 |  98 | 367 | \n",
       "| 90  | 88  |  92 |  97 | 367 | \n",
       "| 79  | 81  |  85 |  90 | 335 | \n",
       "| 59  | 67  |  73 |  78 | 277 | \n",
       "| 99  | 97  | 100 | 105 | 401 | \n",
       "| 86  | 87  |  90 |  95 | 358 | \n",
       "| 86  | 85  |  80 |  85 | 336 | \n",
       "| 93  | 90  |  97 | 102 | 382 | \n",
       "| 90  | 89  |  91 |  96 | 366 | \n",
       "\n",
       "\n"
      ],
      "text/plain": [
       "   exam.one exam.two exam.three exam.four totalpoints\n",
       "1  85       85        89         94       353        \n",
       "2  80       75        88         93       336        \n",
       "3  95       90        93         98       376        \n",
       "4  72       78        82         87       319        \n",
       "5  88       85        90         95       358        \n",
       "6  88       88        93         98       367        \n",
       "7  90       88        92         97       367        \n",
       "8  79       81        85         90       335        \n",
       "9  59       67        73         78       277        \n",
       "10 99       97       100        105       401        \n",
       "11 86       87        90         95       358        \n",
       "12 86       85        80         85       336        \n",
       "13 93       90        97        102       382        \n",
       "14 90       89        91         96       366        "
      ]
     },
     "metadata": {},
     "output_type": "display_data"
    }
   ],
   "source": [
    "gradebook$totalpoints <- rowSums(gradebook[c('exam.one', 'exam.two', 'exam.three', 'exam.four')])\n",
    "gradebook"
   ]
  },
  {
   "cell_type": "markdown",
   "metadata": {},
   "source": [
    "The vector with all of the column headings allow us to choose which columns we want to be included in the sum. This is usefull if we want to disregard some columns.\n",
    "\n",
    "Next, let's create a new column that displays the average of each student's tests. We will use similar code as above, but this time we will use the rowMeans() function."
   ]
  },
  {
   "cell_type": "code",
   "execution_count": 26,
   "metadata": {},
   "outputs": [
    {
     "data": {
      "text/html": [
       "<table>\n",
       "<thead><tr><th scope=col>exam.one</th><th scope=col>exam.two</th><th scope=col>exam.three</th><th scope=col>exam.four</th><th scope=col>totalpoints</th><th scope=col>average.score</th></tr></thead>\n",
       "<tbody>\n",
       "\t<tr><td>85    </td><td>85    </td><td> 89   </td><td> 94   </td><td>353   </td><td> 88.25</td></tr>\n",
       "\t<tr><td>80    </td><td>75    </td><td> 88   </td><td> 93   </td><td>336   </td><td> 84.00</td></tr>\n",
       "\t<tr><td>95    </td><td>90    </td><td> 93   </td><td> 98   </td><td>376   </td><td> 94.00</td></tr>\n",
       "\t<tr><td>72    </td><td>78    </td><td> 82   </td><td> 87   </td><td>319   </td><td> 79.75</td></tr>\n",
       "\t<tr><td>88    </td><td>85    </td><td> 90   </td><td> 95   </td><td>358   </td><td> 89.50</td></tr>\n",
       "\t<tr><td>88    </td><td>88    </td><td> 93   </td><td> 98   </td><td>367   </td><td> 91.75</td></tr>\n",
       "\t<tr><td>90    </td><td>88    </td><td> 92   </td><td> 97   </td><td>367   </td><td> 91.75</td></tr>\n",
       "\t<tr><td>79    </td><td>81    </td><td> 85   </td><td> 90   </td><td>335   </td><td> 83.75</td></tr>\n",
       "\t<tr><td>59    </td><td>67    </td><td> 73   </td><td> 78   </td><td>277   </td><td> 69.25</td></tr>\n",
       "\t<tr><td>99    </td><td>97    </td><td>100   </td><td>105   </td><td>401   </td><td>100.25</td></tr>\n",
       "\t<tr><td>86    </td><td>87    </td><td> 90   </td><td> 95   </td><td>358   </td><td> 89.50</td></tr>\n",
       "\t<tr><td>86    </td><td>85    </td><td> 80   </td><td> 85   </td><td>336   </td><td> 84.00</td></tr>\n",
       "\t<tr><td>93    </td><td>90    </td><td> 97   </td><td>102   </td><td>382   </td><td> 95.50</td></tr>\n",
       "\t<tr><td>90    </td><td>89    </td><td> 91   </td><td> 96   </td><td>366   </td><td> 91.50</td></tr>\n",
       "</tbody>\n",
       "</table>\n"
      ],
      "text/latex": [
       "\\begin{tabular}{r|llllll}\n",
       " exam.one & exam.two & exam.three & exam.four & totalpoints & average.score\\\\\n",
       "\\hline\n",
       "\t 85     & 85     &  89    &  94    & 353    &  88.25\\\\\n",
       "\t 80     & 75     &  88    &  93    & 336    &  84.00\\\\\n",
       "\t 95     & 90     &  93    &  98    & 376    &  94.00\\\\\n",
       "\t 72     & 78     &  82    &  87    & 319    &  79.75\\\\\n",
       "\t 88     & 85     &  90    &  95    & 358    &  89.50\\\\\n",
       "\t 88     & 88     &  93    &  98    & 367    &  91.75\\\\\n",
       "\t 90     & 88     &  92    &  97    & 367    &  91.75\\\\\n",
       "\t 79     & 81     &  85    &  90    & 335    &  83.75\\\\\n",
       "\t 59     & 67     &  73    &  78    & 277    &  69.25\\\\\n",
       "\t 99     & 97     & 100    & 105    & 401    & 100.25\\\\\n",
       "\t 86     & 87     &  90    &  95    & 358    &  89.50\\\\\n",
       "\t 86     & 85     &  80    &  85    & 336    &  84.00\\\\\n",
       "\t 93     & 90     &  97    & 102    & 382    &  95.50\\\\\n",
       "\t 90     & 89     &  91    &  96    & 366    &  91.50\\\\\n",
       "\\end{tabular}\n"
      ],
      "text/markdown": [
       "\n",
       "exam.one | exam.two | exam.three | exam.four | totalpoints | average.score | \n",
       "|---|---|---|---|---|---|---|---|---|---|---|---|---|---|\n",
       "| 85     | 85     |  89    |  94    | 353    |  88.25 | \n",
       "| 80     | 75     |  88    |  93    | 336    |  84.00 | \n",
       "| 95     | 90     |  93    |  98    | 376    |  94.00 | \n",
       "| 72     | 78     |  82    |  87    | 319    |  79.75 | \n",
       "| 88     | 85     |  90    |  95    | 358    |  89.50 | \n",
       "| 88     | 88     |  93    |  98    | 367    |  91.75 | \n",
       "| 90     | 88     |  92    |  97    | 367    |  91.75 | \n",
       "| 79     | 81     |  85    |  90    | 335    |  83.75 | \n",
       "| 59     | 67     |  73    |  78    | 277    |  69.25 | \n",
       "| 99     | 97     | 100    | 105    | 401    | 100.25 | \n",
       "| 86     | 87     |  90    |  95    | 358    |  89.50 | \n",
       "| 86     | 85     |  80    |  85    | 336    |  84.00 | \n",
       "| 93     | 90     |  97    | 102    | 382    |  95.50 | \n",
       "| 90     | 89     |  91    |  96    | 366    |  91.50 | \n",
       "\n",
       "\n"
      ],
      "text/plain": [
       "   exam.one exam.two exam.three exam.four totalpoints average.score\n",
       "1  85       85        89         94       353          88.25       \n",
       "2  80       75        88         93       336          84.00       \n",
       "3  95       90        93         98       376          94.00       \n",
       "4  72       78        82         87       319          79.75       \n",
       "5  88       85        90         95       358          89.50       \n",
       "6  88       88        93         98       367          91.75       \n",
       "7  90       88        92         97       367          91.75       \n",
       "8  79       81        85         90       335          83.75       \n",
       "9  59       67        73         78       277          69.25       \n",
       "10 99       97       100        105       401         100.25       \n",
       "11 86       87        90         95       358          89.50       \n",
       "12 86       85        80         85       336          84.00       \n",
       "13 93       90        97        102       382          95.50       \n",
       "14 90       89        91         96       366          91.50       "
      ]
     },
     "metadata": {},
     "output_type": "display_data"
    }
   ],
   "source": [
    "gradebook$average.score <- rowMeans(gradebook[c('exam.one', 'exam.two', 'exam.three', 'exam.four')])\n",
    "gradebook"
   ]
  },
  {
   "cell_type": "markdown",
   "metadata": {},
   "source": [
    "### 6.3 The map/apply function (advanced)\n",
    "The function apply() runs a function on either every row or every column. It does this on a 2D matrix, where all columns are of the same data type.\n",
    "\n",
    "To use this function, we do apply(our dataframe, 1 for rows or 2 for columns, function).\n",
    "Let's use it to add another column that shows the average of all of the tests for each student:"
   ]
  },
  {
   "cell_type": "code",
   "execution_count": 27,
   "metadata": {},
   "outputs": [
    {
     "data": {
      "text/html": [
       "<table>\n",
       "<thead><tr><th scope=col>exam.one</th><th scope=col>exam.two</th><th scope=col>exam.three</th><th scope=col>exam.four</th><th scope=col>totalpoints</th><th scope=col>average.score</th></tr></thead>\n",
       "<tbody>\n",
       "\t<tr><td>85    </td><td>85    </td><td> 89   </td><td> 94   </td><td>353   </td><td> 88.25</td></tr>\n",
       "\t<tr><td>80    </td><td>75    </td><td> 88   </td><td> 93   </td><td>336   </td><td> 84.00</td></tr>\n",
       "\t<tr><td>95    </td><td>90    </td><td> 93   </td><td> 98   </td><td>376   </td><td> 94.00</td></tr>\n",
       "\t<tr><td>72    </td><td>78    </td><td> 82   </td><td> 87   </td><td>319   </td><td> 79.75</td></tr>\n",
       "\t<tr><td>88    </td><td>85    </td><td> 90   </td><td> 95   </td><td>358   </td><td> 89.50</td></tr>\n",
       "\t<tr><td>88    </td><td>88    </td><td> 93   </td><td> 98   </td><td>367   </td><td> 91.75</td></tr>\n",
       "\t<tr><td>90    </td><td>88    </td><td> 92   </td><td> 97   </td><td>367   </td><td> 91.75</td></tr>\n",
       "\t<tr><td>79    </td><td>81    </td><td> 85   </td><td> 90   </td><td>335   </td><td> 83.75</td></tr>\n",
       "\t<tr><td>59    </td><td>67    </td><td> 73   </td><td> 78   </td><td>277   </td><td> 69.25</td></tr>\n",
       "\t<tr><td>99    </td><td>97    </td><td>100   </td><td>105   </td><td>401   </td><td>100.25</td></tr>\n",
       "\t<tr><td>86    </td><td>87    </td><td> 90   </td><td> 95   </td><td>358   </td><td> 89.50</td></tr>\n",
       "\t<tr><td>86    </td><td>85    </td><td> 80   </td><td> 85   </td><td>336   </td><td> 84.00</td></tr>\n",
       "\t<tr><td>93    </td><td>90    </td><td> 97   </td><td>102   </td><td>382   </td><td> 95.50</td></tr>\n",
       "\t<tr><td>90    </td><td>89    </td><td> 91   </td><td> 96   </td><td>366   </td><td> 91.50</td></tr>\n",
       "</tbody>\n",
       "</table>\n"
      ],
      "text/latex": [
       "\\begin{tabular}{r|llllll}\n",
       " exam.one & exam.two & exam.three & exam.four & totalpoints & average.score\\\\\n",
       "\\hline\n",
       "\t 85     & 85     &  89    &  94    & 353    &  88.25\\\\\n",
       "\t 80     & 75     &  88    &  93    & 336    &  84.00\\\\\n",
       "\t 95     & 90     &  93    &  98    & 376    &  94.00\\\\\n",
       "\t 72     & 78     &  82    &  87    & 319    &  79.75\\\\\n",
       "\t 88     & 85     &  90    &  95    & 358    &  89.50\\\\\n",
       "\t 88     & 88     &  93    &  98    & 367    &  91.75\\\\\n",
       "\t 90     & 88     &  92    &  97    & 367    &  91.75\\\\\n",
       "\t 79     & 81     &  85    &  90    & 335    &  83.75\\\\\n",
       "\t 59     & 67     &  73    &  78    & 277    &  69.25\\\\\n",
       "\t 99     & 97     & 100    & 105    & 401    & 100.25\\\\\n",
       "\t 86     & 87     &  90    &  95    & 358    &  89.50\\\\\n",
       "\t 86     & 85     &  80    &  85    & 336    &  84.00\\\\\n",
       "\t 93     & 90     &  97    & 102    & 382    &  95.50\\\\\n",
       "\t 90     & 89     &  91    &  96    & 366    &  91.50\\\\\n",
       "\\end{tabular}\n"
      ],
      "text/markdown": [
       "\n",
       "exam.one | exam.two | exam.three | exam.four | totalpoints | average.score | \n",
       "|---|---|---|---|---|---|---|---|---|---|---|---|---|---|\n",
       "| 85     | 85     |  89    |  94    | 353    |  88.25 | \n",
       "| 80     | 75     |  88    |  93    | 336    |  84.00 | \n",
       "| 95     | 90     |  93    |  98    | 376    |  94.00 | \n",
       "| 72     | 78     |  82    |  87    | 319    |  79.75 | \n",
       "| 88     | 85     |  90    |  95    | 358    |  89.50 | \n",
       "| 88     | 88     |  93    |  98    | 367    |  91.75 | \n",
       "| 90     | 88     |  92    |  97    | 367    |  91.75 | \n",
       "| 79     | 81     |  85    |  90    | 335    |  83.75 | \n",
       "| 59     | 67     |  73    |  78    | 277    |  69.25 | \n",
       "| 99     | 97     | 100    | 105    | 401    | 100.25 | \n",
       "| 86     | 87     |  90    |  95    | 358    |  89.50 | \n",
       "| 86     | 85     |  80    |  85    | 336    |  84.00 | \n",
       "| 93     | 90     |  97    | 102    | 382    |  95.50 | \n",
       "| 90     | 89     |  91    |  96    | 366    |  91.50 | \n",
       "\n",
       "\n"
      ],
      "text/plain": [
       "   exam.one exam.two exam.three exam.four totalpoints average.score\n",
       "1  85       85        89         94       353          88.25       \n",
       "2  80       75        88         93       336          84.00       \n",
       "3  95       90        93         98       376          94.00       \n",
       "4  72       78        82         87       319          79.75       \n",
       "5  88       85        90         95       358          89.50       \n",
       "6  88       88        93         98       367          91.75       \n",
       "7  90       88        92         97       367          91.75       \n",
       "8  79       81        85         90       335          83.75       \n",
       "9  59       67        73         78       277          69.25       \n",
       "10 99       97       100        105       401         100.25       \n",
       "11 86       87        90         95       358          89.50       \n",
       "12 86       85        80         85       336          84.00       \n",
       "13 93       90        97        102       382          95.50       \n",
       "14 90       89        91         96       366          91.50       "
      ]
     },
     "metadata": {},
     "output_type": "display_data"
    }
   ],
   "source": [
    "gradebook$average.score <- apply(gradebook[,c(1:4)], 1, mean)\n",
    "gradebook"
   ]
  },
  {
   "cell_type": "markdown",
   "metadata": {},
   "source": [
    "## 7. Grouped calculations (e.g. average of values in column Y for all x values in column X)\n",
    "\n"
   ]
  },
  {
   "cell_type": "markdown",
   "metadata": {},
   "source": [
    "Let's take a look at group calculations. For this example, we will work with a data frame that has the GPAs of undergrads and grad students."
   ]
  },
  {
   "cell_type": "code",
   "execution_count": 28,
   "metadata": {},
   "outputs": [
    {
     "data": {
      "text/html": [
       "<table>\n",
       "<thead><tr><th scope=col>year</th><th scope=col>gpa</th></tr></thead>\n",
       "<tbody>\n",
       "\t<tr><td>undergrad</td><td>3.7      </td></tr>\n",
       "\t<tr><td>undergrad</td><td>4.0      </td></tr>\n",
       "\t<tr><td>grad     </td><td>3.5      </td></tr>\n",
       "\t<tr><td>undergrad</td><td>3.2      </td></tr>\n",
       "\t<tr><td>grad     </td><td>3.9      </td></tr>\n",
       "\t<tr><td>grad     </td><td>3.8      </td></tr>\n",
       "</tbody>\n",
       "</table>\n"
      ],
      "text/latex": [
       "\\begin{tabular}{r|ll}\n",
       " year & gpa\\\\\n",
       "\\hline\n",
       "\t undergrad & 3.7      \\\\\n",
       "\t undergrad & 4.0      \\\\\n",
       "\t grad      & 3.5      \\\\\n",
       "\t undergrad & 3.2      \\\\\n",
       "\t grad      & 3.9      \\\\\n",
       "\t grad      & 3.8      \\\\\n",
       "\\end{tabular}\n"
      ],
      "text/markdown": [
       "\n",
       "year | gpa | \n",
       "|---|---|---|---|---|---|\n",
       "| undergrad | 3.7       | \n",
       "| undergrad | 4.0       | \n",
       "| grad      | 3.5       | \n",
       "| undergrad | 3.2       | \n",
       "| grad      | 3.9       | \n",
       "| grad      | 3.8       | \n",
       "\n",
       "\n"
      ],
      "text/plain": [
       "  year      gpa\n",
       "1 undergrad 3.7\n",
       "2 undergrad 4.0\n",
       "3 grad      3.5\n",
       "4 undergrad 3.2\n",
       "5 grad      3.9\n",
       "6 grad      3.8"
      ]
     },
     "metadata": {},
     "output_type": "display_data"
    }
   ],
   "source": [
    "year <- c('undergrad', 'undergrad', 'grad', 'undergrad', 'grad', 'grad')\n",
    "gpa <- c(3.7, 4.0, 3.5, 3.2, 3.9, 3.8)\n",
    "df <- data.frame(year, gpa)\n",
    "df"
   ]
  },
  {
   "cell_type": "markdown",
   "metadata": {},
   "source": [
    "Let's group the undergrads in a seperate data frame. We will do this by creating a subset. We'll call the subset \"undergrads\"."
   ]
  },
  {
   "cell_type": "code",
   "execution_count": 29,
   "metadata": {},
   "outputs": [
    {
     "data": {
      "text/html": [
       "<table>\n",
       "<thead><tr><th></th><th scope=col>year</th><th scope=col>gpa</th></tr></thead>\n",
       "<tbody>\n",
       "\t<tr><th scope=row>1</th><td>undergrad</td><td>3.7      </td></tr>\n",
       "\t<tr><th scope=row>2</th><td>undergrad</td><td>4.0      </td></tr>\n",
       "\t<tr><th scope=row>4</th><td>undergrad</td><td>3.2      </td></tr>\n",
       "</tbody>\n",
       "</table>\n"
      ],
      "text/latex": [
       "\\begin{tabular}{r|ll}\n",
       "  & year & gpa\\\\\n",
       "\\hline\n",
       "\t1 & undergrad & 3.7      \\\\\n",
       "\t2 & undergrad & 4.0      \\\\\n",
       "\t4 & undergrad & 3.2      \\\\\n",
       "\\end{tabular}\n"
      ],
      "text/markdown": [
       "\n",
       "| <!--/--> | year | gpa | \n",
       "|---|---|---|\n",
       "| 1 | undergrad | 3.7       | \n",
       "| 2 | undergrad | 4.0       | \n",
       "| 4 | undergrad | 3.2       | \n",
       "\n",
       "\n"
      ],
      "text/plain": [
       "  year      gpa\n",
       "1 undergrad 3.7\n",
       "2 undergrad 4.0\n",
       "4 undergrad 3.2"
      ]
     },
     "metadata": {},
     "output_type": "display_data"
    }
   ],
   "source": [
    "undergrads <- subset(df, year=='undergrad')\n",
    "undergrads"
   ]
  },
  {
   "cell_type": "markdown",
   "metadata": {},
   "source": [
    "Now, let's make a column for the average undergrad gpa using the mean() function."
   ]
  },
  {
   "cell_type": "code",
   "execution_count": 30,
   "metadata": {},
   "outputs": [
    {
     "data": {
      "text/html": [
       "<table>\n",
       "<thead><tr><th></th><th scope=col>year</th><th scope=col>gpa</th><th scope=col>averageGPA</th></tr></thead>\n",
       "<tbody>\n",
       "\t<tr><th scope=row>1</th><td>undergrad</td><td>3.7      </td><td>3.633333 </td></tr>\n",
       "\t<tr><th scope=row>2</th><td>undergrad</td><td>4.0      </td><td>3.633333 </td></tr>\n",
       "\t<tr><th scope=row>4</th><td>undergrad</td><td>3.2      </td><td>3.633333 </td></tr>\n",
       "</tbody>\n",
       "</table>\n"
      ],
      "text/latex": [
       "\\begin{tabular}{r|lll}\n",
       "  & year & gpa & averageGPA\\\\\n",
       "\\hline\n",
       "\t1 & undergrad & 3.7       & 3.633333 \\\\\n",
       "\t2 & undergrad & 4.0       & 3.633333 \\\\\n",
       "\t4 & undergrad & 3.2       & 3.633333 \\\\\n",
       "\\end{tabular}\n"
      ],
      "text/markdown": [
       "\n",
       "| <!--/--> | year | gpa | averageGPA | \n",
       "|---|---|---|\n",
       "| 1 | undergrad | 3.7       | 3.633333  | \n",
       "| 2 | undergrad | 4.0       | 3.633333  | \n",
       "| 4 | undergrad | 3.2       | 3.633333  | \n",
       "\n",
       "\n"
      ],
      "text/plain": [
       "  year      gpa averageGPA\n",
       "1 undergrad 3.7 3.633333  \n",
       "2 undergrad 4.0 3.633333  \n",
       "4 undergrad 3.2 3.633333  "
      ]
     },
     "metadata": {},
     "output_type": "display_data"
    }
   ],
   "source": [
    "undergrads$averageGPA <- mean(undergrads$gpa)\n",
    "undergrads"
   ]
  },
  {
   "cell_type": "markdown",
   "metadata": {},
   "source": [
    "## 8. Handle missing data by…"
   ]
  },
  {
   "cell_type": "markdown",
   "metadata": {},
   "source": [
    "### 8.1. Removing the rows with missing data"
   ]
  },
  {
   "cell_type": "markdown",
   "metadata": {},
   "source": [
    "For this example, let's work with a different gradebook:"
   ]
  },
  {
   "cell_type": "code",
   "execution_count": 31,
   "metadata": {},
   "outputs": [
    {
     "data": {
      "text/html": [
       "<table>\n",
       "<thead><tr><th scope=col>exam.one</th><th scope=col>exam.two</th><th scope=col>exam.three</th></tr></thead>\n",
       "<tbody>\n",
       "\t<tr><td>88</td><td>78</td><td>NA</td></tr>\n",
       "\t<tr><td>90</td><td>85</td><td>NA</td></tr>\n",
       "\t<tr><td>93</td><td>81</td><td>90</td></tr>\n",
       "\t<tr><td>NA</td><td>67</td><td>79</td></tr>\n",
       "\t<tr><td>85</td><td>87</td><td>99</td></tr>\n",
       "\t<tr><td>73</td><td>85</td><td>NA</td></tr>\n",
       "\t<tr><td>90</td><td>NA</td><td>86</td></tr>\n",
       "\t<tr><td>91</td><td>89</td><td>93</td></tr>\n",
       "\t<tr><td>85</td><td>83</td><td>90</td></tr>\n",
       "\t<tr><td>82</td><td>90</td><td>80</td></tr>\n",
       "\t<tr><td>92</td><td>NA</td><td>NA</td></tr>\n",
       "\t<tr><td>82</td><td>87</td><td>89</td></tr>\n",
       "\t<tr><td>NA</td><td>90</td><td>80</td></tr>\n",
       "\t<tr><td>90</td><td>85</td><td>NA</td></tr>\n",
       "\t<tr><td>90</td><td>83</td><td>NA</td></tr>\n",
       "\t<tr><td>80</td><td>75</td><td>69</td></tr>\n",
       "</tbody>\n",
       "</table>\n"
      ],
      "text/latex": [
       "\\begin{tabular}{r|lll}\n",
       " exam.one & exam.two & exam.three\\\\\n",
       "\\hline\n",
       "\t 88 & 78 & NA\\\\\n",
       "\t 90 & 85 & NA\\\\\n",
       "\t 93 & 81 & 90\\\\\n",
       "\t NA & 67 & 79\\\\\n",
       "\t 85 & 87 & 99\\\\\n",
       "\t 73 & 85 & NA\\\\\n",
       "\t 90 & NA & 86\\\\\n",
       "\t 91 & 89 & 93\\\\\n",
       "\t 85 & 83 & 90\\\\\n",
       "\t 82 & 90 & 80\\\\\n",
       "\t 92 & NA & NA\\\\\n",
       "\t 82 & 87 & 89\\\\\n",
       "\t NA & 90 & 80\\\\\n",
       "\t 90 & 85 & NA\\\\\n",
       "\t 90 & 83 & NA\\\\\n",
       "\t 80 & 75 & 69\\\\\n",
       "\\end{tabular}\n"
      ],
      "text/markdown": [
       "\n",
       "exam.one | exam.two | exam.three | \n",
       "|---|---|---|---|---|---|---|---|---|---|---|---|---|---|---|---|\n",
       "| 88 | 78 | NA | \n",
       "| 90 | 85 | NA | \n",
       "| 93 | 81 | 90 | \n",
       "| NA | 67 | 79 | \n",
       "| 85 | 87 | 99 | \n",
       "| 73 | 85 | NA | \n",
       "| 90 | NA | 86 | \n",
       "| 91 | 89 | 93 | \n",
       "| 85 | 83 | 90 | \n",
       "| 82 | 90 | 80 | \n",
       "| 92 | NA | NA | \n",
       "| 82 | 87 | 89 | \n",
       "| NA | 90 | 80 | \n",
       "| 90 | 85 | NA | \n",
       "| 90 | 83 | NA | \n",
       "| 80 | 75 | 69 | \n",
       "\n",
       "\n"
      ],
      "text/plain": [
       "   exam.one exam.two exam.three\n",
       "1  88       78       NA        \n",
       "2  90       85       NA        \n",
       "3  93       81       90        \n",
       "4  NA       67       79        \n",
       "5  85       87       99        \n",
       "6  73       85       NA        \n",
       "7  90       NA       86        \n",
       "8  91       89       93        \n",
       "9  85       83       90        \n",
       "10 82       90       80        \n",
       "11 92       NA       NA        \n",
       "12 82       87       89        \n",
       "13 NA       90       80        \n",
       "14 90       85       NA        \n",
       "15 90       83       NA        \n",
       "16 80       75       69        "
      ]
     },
     "metadata": {},
     "output_type": "display_data"
    }
   ],
   "source": [
    "exam.one <- c(88, 90, 93, NA, 85, 73, 90, 91, 85, 82, 92, 82, NA, 90, 90, 80)\n",
    "exam.two <- c(78, 85, 81, 67, 87, 85, NA, 89, 83, 90, NA, 87, 90, 85, 83, 75)\n",
    "exam.three <- c(NA, NA, 90, 79, 99, NA, 86, 93, 90, 80, NA, 89, 80, NA, NA, 69)\n",
    "\n",
    "\n",
    "\n",
    "newgradebook <- data.frame(exam.one, exam.two, exam.three)\n",
    "newgradebook"
   ]
  },
  {
   "cell_type": "markdown",
   "metadata": {},
   "source": [
    "Notice that in this case, we have some missing grades - there are some cells that contain NA. Let's remove all of the rows that contain NA by using the *na.omit()* function:"
   ]
  },
  {
   "cell_type": "code",
   "execution_count": 32,
   "metadata": {},
   "outputs": [
    {
     "data": {
      "text/html": [
       "<table>\n",
       "<thead><tr><th></th><th scope=col>exam.one</th><th scope=col>exam.two</th><th scope=col>exam.three</th></tr></thead>\n",
       "<tbody>\n",
       "\t<tr><th scope=row>3</th><td>93</td><td>81</td><td>90</td></tr>\n",
       "\t<tr><th scope=row>5</th><td>85</td><td>87</td><td>99</td></tr>\n",
       "\t<tr><th scope=row>8</th><td>91</td><td>89</td><td>93</td></tr>\n",
       "\t<tr><th scope=row>9</th><td>85</td><td>83</td><td>90</td></tr>\n",
       "\t<tr><th scope=row>10</th><td>82</td><td>90</td><td>80</td></tr>\n",
       "\t<tr><th scope=row>12</th><td>82</td><td>87</td><td>89</td></tr>\n",
       "\t<tr><th scope=row>16</th><td>80</td><td>75</td><td>69</td></tr>\n",
       "</tbody>\n",
       "</table>\n"
      ],
      "text/latex": [
       "\\begin{tabular}{r|lll}\n",
       "  & exam.one & exam.two & exam.three\\\\\n",
       "\\hline\n",
       "\t3 & 93 & 81 & 90\\\\\n",
       "\t5 & 85 & 87 & 99\\\\\n",
       "\t8 & 91 & 89 & 93\\\\\n",
       "\t9 & 85 & 83 & 90\\\\\n",
       "\t10 & 82 & 90 & 80\\\\\n",
       "\t12 & 82 & 87 & 89\\\\\n",
       "\t16 & 80 & 75 & 69\\\\\n",
       "\\end{tabular}\n"
      ],
      "text/markdown": [
       "\n",
       "| <!--/--> | exam.one | exam.two | exam.three | \n",
       "|---|---|---|---|---|---|---|\n",
       "| 3 | 93 | 81 | 90 | \n",
       "| 5 | 85 | 87 | 99 | \n",
       "| 8 | 91 | 89 | 93 | \n",
       "| 9 | 85 | 83 | 90 | \n",
       "| 10 | 82 | 90 | 80 | \n",
       "| 12 | 82 | 87 | 89 | \n",
       "| 16 | 80 | 75 | 69 | \n",
       "\n",
       "\n"
      ],
      "text/plain": [
       "   exam.one exam.two exam.three\n",
       "3  93       81       90        \n",
       "5  85       87       99        \n",
       "8  91       89       93        \n",
       "9  85       83       90        \n",
       "10 82       90       80        \n",
       "12 82       87       89        \n",
       "16 80       75       69        "
      ]
     },
     "metadata": {},
     "output_type": "display_data"
    }
   ],
   "source": [
    "na.omit(newgradebook)"
   ]
  },
  {
   "cell_type": "markdown",
   "metadata": {},
   "source": [
    "### 8.2. Filling with a specific value"
   ]
  },
  {
   "cell_type": "markdown",
   "metadata": {},
   "source": [
    "Perhaps instead of removing the rows with NA, we want to replace the NA with a value. Let's make all of the missing exam grades a 0 and make that a new gradebook dataframe:"
   ]
  },
  {
   "cell_type": "code",
   "execution_count": 33,
   "metadata": {},
   "outputs": [
    {
     "data": {
      "text/html": [
       "<table>\n",
       "<thead><tr><th scope=col>exam.one</th><th scope=col>exam.two</th><th scope=col>exam.three</th></tr></thead>\n",
       "<tbody>\n",
       "\t<tr><td>88</td><td>78</td><td> 0</td></tr>\n",
       "\t<tr><td>90</td><td>85</td><td> 0</td></tr>\n",
       "\t<tr><td>93</td><td>81</td><td>90</td></tr>\n",
       "\t<tr><td> 0</td><td>67</td><td>79</td></tr>\n",
       "\t<tr><td>85</td><td>87</td><td>99</td></tr>\n",
       "\t<tr><td>73</td><td>85</td><td> 0</td></tr>\n",
       "\t<tr><td>90</td><td> 0</td><td>86</td></tr>\n",
       "\t<tr><td>91</td><td>89</td><td>93</td></tr>\n",
       "\t<tr><td>85</td><td>83</td><td>90</td></tr>\n",
       "\t<tr><td>82</td><td>90</td><td>80</td></tr>\n",
       "\t<tr><td>92</td><td> 0</td><td> 0</td></tr>\n",
       "\t<tr><td>82</td><td>87</td><td>89</td></tr>\n",
       "\t<tr><td> 0</td><td>90</td><td>80</td></tr>\n",
       "\t<tr><td>90</td><td>85</td><td> 0</td></tr>\n",
       "\t<tr><td>90</td><td>83</td><td> 0</td></tr>\n",
       "\t<tr><td>80</td><td>75</td><td>69</td></tr>\n",
       "</tbody>\n",
       "</table>\n"
      ],
      "text/latex": [
       "\\begin{tabular}{r|lll}\n",
       " exam.one & exam.two & exam.three\\\\\n",
       "\\hline\n",
       "\t 88 & 78 &  0\\\\\n",
       "\t 90 & 85 &  0\\\\\n",
       "\t 93 & 81 & 90\\\\\n",
       "\t  0 & 67 & 79\\\\\n",
       "\t 85 & 87 & 99\\\\\n",
       "\t 73 & 85 &  0\\\\\n",
       "\t 90 &  0 & 86\\\\\n",
       "\t 91 & 89 & 93\\\\\n",
       "\t 85 & 83 & 90\\\\\n",
       "\t 82 & 90 & 80\\\\\n",
       "\t 92 &  0 &  0\\\\\n",
       "\t 82 & 87 & 89\\\\\n",
       "\t  0 & 90 & 80\\\\\n",
       "\t 90 & 85 &  0\\\\\n",
       "\t 90 & 83 &  0\\\\\n",
       "\t 80 & 75 & 69\\\\\n",
       "\\end{tabular}\n"
      ],
      "text/markdown": [
       "\n",
       "exam.one | exam.two | exam.three | \n",
       "|---|---|---|---|---|---|---|---|---|---|---|---|---|---|---|---|\n",
       "| 88 | 78 |  0 | \n",
       "| 90 | 85 |  0 | \n",
       "| 93 | 81 | 90 | \n",
       "|  0 | 67 | 79 | \n",
       "| 85 | 87 | 99 | \n",
       "| 73 | 85 |  0 | \n",
       "| 90 |  0 | 86 | \n",
       "| 91 | 89 | 93 | \n",
       "| 85 | 83 | 90 | \n",
       "| 82 | 90 | 80 | \n",
       "| 92 |  0 |  0 | \n",
       "| 82 | 87 | 89 | \n",
       "|  0 | 90 | 80 | \n",
       "| 90 | 85 |  0 | \n",
       "| 90 | 83 |  0 | \n",
       "| 80 | 75 | 69 | \n",
       "\n",
       "\n"
      ],
      "text/plain": [
       "   exam.one exam.two exam.three\n",
       "1  88       78        0        \n",
       "2  90       85        0        \n",
       "3  93       81       90        \n",
       "4   0       67       79        \n",
       "5  85       87       99        \n",
       "6  73       85        0        \n",
       "7  90        0       86        \n",
       "8  91       89       93        \n",
       "9  85       83       90        \n",
       "10 82       90       80        \n",
       "11 92        0        0        \n",
       "12 82       87       89        \n",
       "13  0       90       80        \n",
       "14 90       85        0        \n",
       "15 90       83        0        \n",
       "16 80       75       69        "
      ]
     },
     "metadata": {},
     "output_type": "display_data"
    }
   ],
   "source": [
    "noNAgradebook <- newgradebook\n",
    "noNAgradebook[is.na(noNAgradebook)] = 0\n",
    "noNAgradebook"
   ]
  },
  {
   "cell_type": "markdown",
   "metadata": {},
   "source": [
    "For this, we used the *is.na()* function. We took the subset of our dataframe that consisted of NA, and set the value to zero. We could make it any value we wanted, and even have made it a different data type (like a string for example)."
   ]
  },
  {
   "cell_type": "markdown",
   "metadata": {},
   "source": [
    "### 8.3. Filling with a computed value (e.g. a median of known values)"
   ]
  },
  {
   "cell_type": "markdown",
   "metadata": {},
   "source": [
    "Now let's say we wanted to replace the NAs with a computed value. For example, let's change the NA's in the exam.three column to be the average of all of the existing exam three values, and make that a new dataframe."
   ]
  },
  {
   "cell_type": "code",
   "execution_count": 34,
   "metadata": {},
   "outputs": [
    {
     "data": {
      "text/html": [
       "<table>\n",
       "<thead><tr><th scope=col>exam.one</th><th scope=col>exam.two</th><th scope=col>exam.three</th></tr></thead>\n",
       "<tbody>\n",
       "\t<tr><td>88  </td><td>78  </td><td>85.5</td></tr>\n",
       "\t<tr><td>90  </td><td>85  </td><td>85.5</td></tr>\n",
       "\t<tr><td>93  </td><td>81  </td><td>90.0</td></tr>\n",
       "\t<tr><td>NA  </td><td>67  </td><td>79.0</td></tr>\n",
       "\t<tr><td>85  </td><td>87  </td><td>99.0</td></tr>\n",
       "\t<tr><td>73  </td><td>85  </td><td>85.5</td></tr>\n",
       "\t<tr><td>90  </td><td>NA  </td><td>86.0</td></tr>\n",
       "\t<tr><td>91  </td><td>89  </td><td>93.0</td></tr>\n",
       "\t<tr><td>85  </td><td>83  </td><td>90.0</td></tr>\n",
       "\t<tr><td>82  </td><td>90  </td><td>80.0</td></tr>\n",
       "\t<tr><td>92  </td><td>NA  </td><td>85.5</td></tr>\n",
       "\t<tr><td>82  </td><td>87  </td><td>89.0</td></tr>\n",
       "\t<tr><td>NA  </td><td>90  </td><td>80.0</td></tr>\n",
       "\t<tr><td>90  </td><td>85  </td><td>85.5</td></tr>\n",
       "\t<tr><td>90  </td><td>83  </td><td>85.5</td></tr>\n",
       "\t<tr><td>80  </td><td>75  </td><td>69.0</td></tr>\n",
       "</tbody>\n",
       "</table>\n"
      ],
      "text/latex": [
       "\\begin{tabular}{r|lll}\n",
       " exam.one & exam.two & exam.three\\\\\n",
       "\\hline\n",
       "\t 88   & 78   & 85.5\\\\\n",
       "\t 90   & 85   & 85.5\\\\\n",
       "\t 93   & 81   & 90.0\\\\\n",
       "\t NA   & 67   & 79.0\\\\\n",
       "\t 85   & 87   & 99.0\\\\\n",
       "\t 73   & 85   & 85.5\\\\\n",
       "\t 90   & NA   & 86.0\\\\\n",
       "\t 91   & 89   & 93.0\\\\\n",
       "\t 85   & 83   & 90.0\\\\\n",
       "\t 82   & 90   & 80.0\\\\\n",
       "\t 92   & NA   & 85.5\\\\\n",
       "\t 82   & 87   & 89.0\\\\\n",
       "\t NA   & 90   & 80.0\\\\\n",
       "\t 90   & 85   & 85.5\\\\\n",
       "\t 90   & 83   & 85.5\\\\\n",
       "\t 80   & 75   & 69.0\\\\\n",
       "\\end{tabular}\n"
      ],
      "text/markdown": [
       "\n",
       "exam.one | exam.two | exam.three | \n",
       "|---|---|---|---|---|---|---|---|---|---|---|---|---|---|---|---|\n",
       "| 88   | 78   | 85.5 | \n",
       "| 90   | 85   | 85.5 | \n",
       "| 93   | 81   | 90.0 | \n",
       "| NA   | 67   | 79.0 | \n",
       "| 85   | 87   | 99.0 | \n",
       "| 73   | 85   | 85.5 | \n",
       "| 90   | NA   | 86.0 | \n",
       "| 91   | 89   | 93.0 | \n",
       "| 85   | 83   | 90.0 | \n",
       "| 82   | 90   | 80.0 | \n",
       "| 92   | NA   | 85.5 | \n",
       "| 82   | 87   | 89.0 | \n",
       "| NA   | 90   | 80.0 | \n",
       "| 90   | 85   | 85.5 | \n",
       "| 90   | 83   | 85.5 | \n",
       "| 80   | 75   | 69.0 | \n",
       "\n",
       "\n"
      ],
      "text/plain": [
       "   exam.one exam.two exam.three\n",
       "1  88       78       85.5      \n",
       "2  90       85       85.5      \n",
       "3  93       81       90.0      \n",
       "4  NA       67       79.0      \n",
       "5  85       87       99.0      \n",
       "6  73       85       85.5      \n",
       "7  90       NA       86.0      \n",
       "8  91       89       93.0      \n",
       "9  85       83       90.0      \n",
       "10 82       90       80.0      \n",
       "11 92       NA       85.5      \n",
       "12 82       87       89.0      \n",
       "13 NA       90       80.0      \n",
       "14 90       85       85.5      \n",
       "15 90       83       85.5      \n",
       "16 80       75       69.0      "
      ]
     },
     "metadata": {},
     "output_type": "display_data"
    }
   ],
   "source": [
    "averagegradebook <- newgradebook\n",
    "averagegradebook$exam.three[is.na(averagegradebook$exam.three)] = mean(averagegradebook$exam.three, na.rm = TRUE)\n",
    "averagegradebook"
   ]
  },
  {
   "cell_type": "markdown",
   "metadata": {},
   "source": [
    "We used code similar to when we replaced NA with a value. The differences are that instead of making a subset of the whole dataframe, we made a subset of the exam.three column (hence the $exam.three). Then, instead of making it equal to zero, we made it equal to a *mean()* function. The *na.rm = TRUE* makes it so that the NAs are ignored in the calculation for the mean."
   ]
  },
  {
   "cell_type": "markdown",
   "metadata": {},
   "source": [
    "## 9. Output data in CSV format"
   ]
  },
  {
   "cell_type": "markdown",
   "metadata": {},
   "source": [
    "By default, there are column headers written to CSV files. There is no need to specify them in code.\n",
    "\n",
    "Let's output our gradebook example as a CSV file. Let's call it \"exportedgradebook\"."
   ]
  },
  {
   "cell_type": "code",
   "execution_count": 35,
   "metadata": {},
   "outputs": [],
   "source": [
    "write.csv(gradebook, file = \"exportedgradebook.csv\")"
   ]
  },
  {
   "cell_type": "markdown",
   "metadata": {},
   "source": [
    "## 10. Reading data (from before) in using CSV format."
   ]
  },
  {
   "cell_type": "markdown",
   "metadata": {},
   "source": [
    "If we have a CSV file downloaded that we want to read, we can do so. For example, let us read the file we just exported (\"exportedgradebook\")."
   ]
  },
  {
   "cell_type": "code",
   "execution_count": 36,
   "metadata": {},
   "outputs": [],
   "source": [
    "exportedgradebook <- read.csv(\"exportedgradebook.csv\", header = TRUE)"
   ]
  },
  {
   "cell_type": "markdown",
   "metadata": {},
   "source": [
    "And now, if we want to view the data, we just follow the same procedure as usual:"
   ]
  },
  {
   "cell_type": "code",
   "execution_count": 37,
   "metadata": {},
   "outputs": [
    {
     "data": {
      "text/html": [
       "<table>\n",
       "<thead><tr><th scope=col>X</th><th scope=col>exam.one</th><th scope=col>exam.two</th><th scope=col>exam.three</th><th scope=col>exam.four</th><th scope=col>totalpoints</th><th scope=col>average.score</th></tr></thead>\n",
       "<tbody>\n",
       "\t<tr><td> 1    </td><td>85    </td><td>85    </td><td> 89   </td><td> 94   </td><td>353   </td><td> 88.25</td></tr>\n",
       "\t<tr><td> 2    </td><td>80    </td><td>75    </td><td> 88   </td><td> 93   </td><td>336   </td><td> 84.00</td></tr>\n",
       "\t<tr><td> 3    </td><td>95    </td><td>90    </td><td> 93   </td><td> 98   </td><td>376   </td><td> 94.00</td></tr>\n",
       "\t<tr><td> 4    </td><td>72    </td><td>78    </td><td> 82   </td><td> 87   </td><td>319   </td><td> 79.75</td></tr>\n",
       "\t<tr><td> 5    </td><td>88    </td><td>85    </td><td> 90   </td><td> 95   </td><td>358   </td><td> 89.50</td></tr>\n",
       "\t<tr><td> 6    </td><td>88    </td><td>88    </td><td> 93   </td><td> 98   </td><td>367   </td><td> 91.75</td></tr>\n",
       "\t<tr><td> 7    </td><td>90    </td><td>88    </td><td> 92   </td><td> 97   </td><td>367   </td><td> 91.75</td></tr>\n",
       "\t<tr><td> 8    </td><td>79    </td><td>81    </td><td> 85   </td><td> 90   </td><td>335   </td><td> 83.75</td></tr>\n",
       "\t<tr><td> 9    </td><td>59    </td><td>67    </td><td> 73   </td><td> 78   </td><td>277   </td><td> 69.25</td></tr>\n",
       "\t<tr><td>10    </td><td>99    </td><td>97    </td><td>100   </td><td>105   </td><td>401   </td><td>100.25</td></tr>\n",
       "\t<tr><td>11    </td><td>86    </td><td>87    </td><td> 90   </td><td> 95   </td><td>358   </td><td> 89.50</td></tr>\n",
       "\t<tr><td>12    </td><td>86    </td><td>85    </td><td> 80   </td><td> 85   </td><td>336   </td><td> 84.00</td></tr>\n",
       "\t<tr><td>13    </td><td>93    </td><td>90    </td><td> 97   </td><td>102   </td><td>382   </td><td> 95.50</td></tr>\n",
       "\t<tr><td>14    </td><td>90    </td><td>89    </td><td> 91   </td><td> 96   </td><td>366   </td><td> 91.50</td></tr>\n",
       "</tbody>\n",
       "</table>\n"
      ],
      "text/latex": [
       "\\begin{tabular}{r|lllllll}\n",
       " X & exam.one & exam.two & exam.three & exam.four & totalpoints & average.score\\\\\n",
       "\\hline\n",
       "\t  1     & 85     & 85     &  89    &  94    & 353    &  88.25\\\\\n",
       "\t  2     & 80     & 75     &  88    &  93    & 336    &  84.00\\\\\n",
       "\t  3     & 95     & 90     &  93    &  98    & 376    &  94.00\\\\\n",
       "\t  4     & 72     & 78     &  82    &  87    & 319    &  79.75\\\\\n",
       "\t  5     & 88     & 85     &  90    &  95    & 358    &  89.50\\\\\n",
       "\t  6     & 88     & 88     &  93    &  98    & 367    &  91.75\\\\\n",
       "\t  7     & 90     & 88     &  92    &  97    & 367    &  91.75\\\\\n",
       "\t  8     & 79     & 81     &  85    &  90    & 335    &  83.75\\\\\n",
       "\t  9     & 59     & 67     &  73    &  78    & 277    &  69.25\\\\\n",
       "\t 10     & 99     & 97     & 100    & 105    & 401    & 100.25\\\\\n",
       "\t 11     & 86     & 87     &  90    &  95    & 358    &  89.50\\\\\n",
       "\t 12     & 86     & 85     &  80    &  85    & 336    &  84.00\\\\\n",
       "\t 13     & 93     & 90     &  97    & 102    & 382    &  95.50\\\\\n",
       "\t 14     & 90     & 89     &  91    &  96    & 366    &  91.50\\\\\n",
       "\\end{tabular}\n"
      ],
      "text/markdown": [
       "\n",
       "X | exam.one | exam.two | exam.three | exam.four | totalpoints | average.score | \n",
       "|---|---|---|---|---|---|---|---|---|---|---|---|---|---|\n",
       "|  1     | 85     | 85     |  89    |  94    | 353    |  88.25 | \n",
       "|  2     | 80     | 75     |  88    |  93    | 336    |  84.00 | \n",
       "|  3     | 95     | 90     |  93    |  98    | 376    |  94.00 | \n",
       "|  4     | 72     | 78     |  82    |  87    | 319    |  79.75 | \n",
       "|  5     | 88     | 85     |  90    |  95    | 358    |  89.50 | \n",
       "|  6     | 88     | 88     |  93    |  98    | 367    |  91.75 | \n",
       "|  7     | 90     | 88     |  92    |  97    | 367    |  91.75 | \n",
       "|  8     | 79     | 81     |  85    |  90    | 335    |  83.75 | \n",
       "|  9     | 59     | 67     |  73    |  78    | 277    |  69.25 | \n",
       "| 10     | 99     | 97     | 100    | 105    | 401    | 100.25 | \n",
       "| 11     | 86     | 87     |  90    |  95    | 358    |  89.50 | \n",
       "| 12     | 86     | 85     |  80    |  85    | 336    |  84.00 | \n",
       "| 13     | 93     | 90     |  97    | 102    | 382    |  95.50 | \n",
       "| 14     | 90     | 89     |  91    |  96    | 366    |  91.50 | \n",
       "\n",
       "\n"
      ],
      "text/plain": [
       "   X  exam.one exam.two exam.three exam.four totalpoints average.score\n",
       "1   1 85       85        89         94       353          88.25       \n",
       "2   2 80       75        88         93       336          84.00       \n",
       "3   3 95       90        93         98       376          94.00       \n",
       "4   4 72       78        82         87       319          79.75       \n",
       "5   5 88       85        90         95       358          89.50       \n",
       "6   6 88       88        93         98       367          91.75       \n",
       "7   7 90       88        92         97       367          91.75       \n",
       "8   8 79       81        85         90       335          83.75       \n",
       "9   9 59       67        73         78       277          69.25       \n",
       "10 10 99       97       100        105       401         100.25       \n",
       "11 11 86       87        90         95       358          89.50       \n",
       "12 12 86       85        80         85       336          84.00       \n",
       "13 13 93       90        97        102       382          95.50       \n",
       "14 14 90       89        91         96       366          91.50       "
      ]
     },
     "metadata": {},
     "output_type": "display_data"
    }
   ],
   "source": [
    "exportedgradebook"
   ]
  },
  {
   "cell_type": "markdown",
   "metadata": {},
   "source": [
    "There are many application to use when reading a CSV file, such as Microsoft Excel, [Google Sheets]( https://www.google.com/sheets/about/), etc."
   ]
  }
 ],
 "metadata": {
  "kernelspec": {
   "display_name": "R",
   "language": "R",
   "name": "ir"
  },
  "language_info": {
   "codemirror_mode": "r",
   "file_extension": ".r",
   "mimetype": "text/x-r-source",
   "name": "R",
   "pygments_lexer": "r",
   "version": "3.4.3"
  }
 },
 "nbformat": 4,
 "nbformat_minor": 2
}
