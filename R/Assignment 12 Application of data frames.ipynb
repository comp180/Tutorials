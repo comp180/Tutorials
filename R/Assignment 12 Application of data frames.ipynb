{
 "cells": [
  {
   "cell_type": "markdown",
   "metadata": {},
   "source": [
    "# Assignment 12: Application of data frames\n",
    "\n",
    "#### In this assignment we will measures factors related to heart disease on a set of 270 people. These factors include, among other things, age, sex, type of chest pain, blood pressure, and the presence of heart disease. More detail about the data file is available at the end of this assignment - you will need this information to complete the assignment. Note the benefit of data frames - reading is simple, and all of this can be done without a single loop.\n",
    "\n",
    "#### Here is the data file [archived copy: https://drive.google.com/file/d/17uYL1B8HMIP0i6EL3RgAoLX4B38JwsGT/view] or from the original source [heart.dat in the downloads folder of this link: https://archive.ics.uci.edu/ml/datasets/Statlog+%28Heart%29]\n",
    "\n"
   ]
  },
  {
   "cell_type": "markdown",
   "metadata": {},
   "source": [
    "## Perform the following steps\n",
    "\n",
    "1. Open the file in a text editor while you read over the column names in the data file details at the end of this assignment.\n",
    "    - Note, the extension is '.dat’, and even though it is a text file it your operating system may not recognize it as one. One option is to change the extension (to something like '.txt’). Another is to start your text editor and open the file through the editor. In any case doing this will give you a chance to observe the structure of the data while you read the data file details.\n",
    "    \n",
    "2. Read the text file in as a dataframe. And then print it to make sure it read in correctly. Keep in mind this can be a tricky, error-prone problem depending on the formatting of the data file.\n",
    "    - Use the method you used previously to read in a CSV file. There are at least two potential problems to consider. Note, if the tutorial is insufficient you can simply read the function documentation online for how to handle the following issues.\n",
    "\n",
    "    The delimiter is a space rather than a comma: One option is to open the file in a text editor, and use the Find/Replace All option to change every space to a single comma. However, that’s cumbersome and error-prone. A better option is to just use the read CSV function and change the separator to a space rather than a comma.\n",
    "    \n",
    "    There is no header line: You have a description of each column, but the file does not have column headers. You may need to make sure the read function is set up so it does not expect column headers. However, a more common option is to supply your own 14 item list of strings to serve as column headers - you can use the one below as an example. Using names of columns rather than strings will make it much easier to read your code later and is highly recommended for this step.\n",
    "\n",
    "    - *['age','sex','chest_pain','bp','chol','sugar','ecg','heart_rate','angina','oldpeak','slope','vessel','thal','disease']*\n",
    "    \n",
    "3. Now let’s get a sense of the ages of the people. First print only the ages of the patients by selecting only that column. Then calculate the mean and standard deviation of the ages.\n",
    "\n",
    "    - There are two ways you can calculate the mean. The easiest is to select the age column and use the mean function that can instantly be performed on columns in a data frame. The second option is to convert the column of data into an array, then perform the operation as you would for an array. Do this for the mean and the standard deviation.\n",
    "\n",
    "    (optional) you could create a histogram with this data too. For that you may need to convert the data to a list or array after selecting that column.\n",
    "4. Create a data frame called young_df with all the people below 55 years old. Similarly create a data frame called old_df with everyone at or above 55 years old. Now calculate the mean age, blood pressure, cholesterol, and heart rate for both groups and note the trend as people age.\n",
    "5. Using all the data, let’s try to see if there tend to be overall differences between the people with heart disease and the people without it. Find the mean age, blood pressure, cholesterol, and max heart rate for people with heart disease, and separately for the people without heart disease. This can be done easily using a grouping method for your data frame. Note the trend in each of these between people with heart disease and those without.\n",
    "\n",
    "Such information provides indications of which features that can be used to predict who is at risk of heart disease.\n"
   ]
  },
  {
   "cell_type": "markdown",
   "metadata": {},
   "source": [
    "### Data file details (the meaning of each column)\n",
    " \n",
    "Attribute Information by column order.\n",
    "------------------------\n",
    "  \t-- 1. age   \t\n",
    "  \t-- 2. sex   \t\n",
    "  \t-- 3. chest pain type  (4 values)   \t\n",
    "  \t-- 4. resting blood pressure \n",
    "     -- 5. serum cholesterol in mg/dl     \n",
    "  \t-- 6. fasting blood sugar > 120 mg/dl   \t\n",
    "  \t-- 7. resting electrocardiographic results  (values 0,1,2)\n",
    "  \t-- 8. maximum heart rate achieved \n",
    "     -- 9. exercise induced angina   \n",
    "  \t-- 10. oldpeak = ST depression induced by exercise relative to rest  \n",
    "     -- 11. the slope of the peak exercise ST segment \t\n",
    "     -- 12. number of major vessels (0-3) colored by fluoroscopy    \n",
    "  \t-- 13. thal: 3 = normal; 6 = fixed defect; 7 = reversible defect \t\n",
    "     -- 14. Absence (1) or Presence (2) of heart disease\n",
    "\n",
    "Attributes types\n",
    "----------------\n",
    "\n",
    "Real: 1,4,5,8,10,12\n",
    "\n",
    "Ordered:11,\n",
    "\n",
    "Binary: 2,6,9,14\n",
    "\n",
    "Nominal:7,3,13\n"
   ]
  }
 ],
 "metadata": {
  "kernelspec": {
   "display_name": "R",
   "language": "R",
   "name": "ir"
  },
  "language_info": {
   "codemirror_mode": "r",
   "file_extension": ".r",
   "mimetype": "text/x-r-source",
   "name": "R",
   "pygments_lexer": "r",
   "version": "3.4.3"
  }
 },
 "nbformat": 4,
 "nbformat_minor": 2
}
