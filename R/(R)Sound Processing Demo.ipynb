{
 "cells": [
  {
   "cell_type": "markdown",
   "metadata": {},
   "source": [
    "# Sound Proessing Demo\n",
    "\n",
    "Here is a helpful blog post: [http://samcarcagno.altervista.org/blog/basic-sound-processing-r/](http://samcarcagno.altervista.org/blog/basic-sound-processing-r/)\n",
    "\n",
    "## 1. Read in a sound file in a standard sound format (.wav, .mp3, …) and an array. Be sure to keep track of the sampling rate for later.\n",
    "\n",
    "* Install the sound package with the following in your RStudio console:\n",
    "\n",
    ">install.packages('tuneR', dep=TRUE)\n",
    "\n",
    "Continue coding:"
   ]
  },
  {
   "cell_type": "code",
   "execution_count": 1,
   "metadata": {},
   "outputs": [
    {
     "ename": "ERROR",
     "evalue": "Error in library(tuneR): there is no package called 'tuneR'\n",
     "output_type": "error",
     "traceback": [
      "Error in library(tuneR): there is no package called 'tuneR'\nTraceback:\n",
      "1. library(tuneR)",
      "2. stop(txt, domain = NA)"
     ]
    }
   ],
   "source": [
    "library(tuneR)\n",
    "mpt <- readMP3(\"Songs_For_The_Soul.mp3\") # this will take a while, its a big file\n",
    "str(mpt) # just checking the structure of mpt, note the sampling rate is in there\n",
    "mpt@samp.rate"
   ]
  },
  {
   "cell_type": "markdown",
   "metadata": {},
   "source": [
    "## 2. Plot the sound waveform from the array data. Be sure to plot the time axis appropriately. (optional: if you can play the sound, do that too)"
   ]
  },
  {
   "cell_type": "code",
   "execution_count": 2,
   "metadata": {},
   "outputs": [
    {
     "ename": "ERROR",
     "evalue": "Error in is(object, \"Wave\"): object 'mpt' not found\n",
     "output_type": "error",
     "traceback": [
      "Error in is(object, \"Wave\"): object 'mpt' not found\nTraceback:\n",
      "1. extractWave(mpt, from = 300, to = 310, xunit = \"time\")",
      "2. is(object, \"Wave\")"
     ]
    }
   ],
   "source": [
    "om <- extractWave(mpt, from = 300, to = 310, xunit = \"time\") # extract 10s from 5-6 mins of mpt\n",
    "str(om)\n",
    "plot(om)"
   ]
  },
  {
   "cell_type": "markdown",
   "metadata": {},
   "source": [
    "## 3. For a portion of the sound, plot the sound clip. Again, use the right units for the axis labels. Also show the associated values in the array.\n",
    "Since we are working with an mp3 file that is in stereo format, the right and left ears hear different sounds. There are right and left channels that reflect this property."
   ]
  },
  {
   "cell_type": "code",
   "execution_count": null,
   "metadata": {},
   "outputs": [],
   "source": [
    "# Select the left channel.\n",
    "om_left <- om@left\n",
    "\n",
    "# Select the first 2056 points. Its ideal to select an exact power of 2.\n",
    "om_left <- om_left / 2^(om@bit -1)# Normalizes 16-bit format\n",
    "om_left <- om_left[1:2056]\n",
    "\n",
    "\n",
    "# Create an array containing time points.\n",
    "timeArray <- (0:(length(om_left)-1)) / om@samp.rate\n",
    "# Plot the tone.\n",
    "plot(timeArray, om_left, type='l', col='black', xlab='Time (seconds)', ylab='Amplitude')"
   ]
  },
  {
   "cell_type": "code",
   "execution_count": null,
   "metadata": {},
   "outputs": [],
   "source": [
    "# Show associated array values\n",
    "om_left[1:10]"
   ]
  },
  {
   "cell_type": "markdown",
   "metadata": {},
   "source": [
    "## 4. Plot the fourier spectrum for the clip of sound. The y axis will be amplitude. Try to set up the x-axis from low frequency on the left to high frequency on the right with the x axis appropriately labeled with using Hertz)\n",
    "The fourier transformation was discovered by Jean-Baptiste Joseph Fourier in 1822. It is a mathematical operation displays the pitches within a sound. A pitch is a certain frequency, measured in Hertz (Hz).\n",
    "\n",
    "The fourier spectrum displays all pitches and all frequencies that form a particular sound.\n",
    "\n",
    "The fast fourier transformation is the implementation of the fourier transformation in a computer."
   ]
  },
  {
   "cell_type": "code",
   "execution_count": null,
   "metadata": {},
   "outputs": [],
   "source": [
    "# Begin the fourier function.\n",
    "myfourier <- function(sndobj) {\n",
    "  \n",
    "# Find length of sound object.\n",
    "\tn <- length(sndobj@left)\n",
    "# Perform fast fourier transformation.\n",
    "\tp <- fft(sndobj@left) \n",
    " \n",
    "# For efficiency, select the number of points to be a power\tof 2.\n",
    "nUniquePts <- 2056\n",
    "p <- p[1:nUniquePts]\n",
    "p <- abs(p)     # Take the absolute value/magnitude \n",
    "p <- p / n        # Normalize data\n",
    "p <- p^2         # Square it to get power spectrum\n",
    "p[2: (length(p) -1)] <- p[2: (length(p) -1)]*2\n",
    "# We've got even number of points to fft.\n",
    "\n",
    "\n",
    "# Create frequency array.\n",
    "freqArray <- (0:(nUniquePts-1)) * (sndobj@samp.rate / n) \n",
    "\n",
    "\n",
    "\n",
    "    # Plot frequency array.\n",
    "plot(freqArray/1000, 10*log10(p), type='l', col='black',\txlab='Frequency (kHz)', ylab='Power (dB)', main=\"Fourier Spectrum\")\n",
    "}\n",
    " # End of myfourierf()\n",
    "myfourier(om)"
   ]
  },
  {
   "cell_type": "markdown",
   "metadata": {},
   "source": [
    "## 5. Pick 3 sounds that vary in pitch (or 3 portions of the sound you read before). Plot the fourier spectrum for each so one can see that the higher pitch sounds tend to have a higher fourier spectrum.\n",
    "\n",
    "Download this low pitch sound: http://soundbible.com/1594-Fog-Horn.html\n",
    "Be sure to put it in your working directory.\n"
   ]
  },
  {
   "cell_type": "code",
   "execution_count": null,
   "metadata": {},
   "outputs": [],
   "source": [
    "foghorn <- readMP3(\"FogHorn.mp3\")\n",
    "samplefoghorn <- extractWave(foghorn, from = 0, to = 0.5, xunit= \"time\")myfourier(samplefoghorn)"
   ]
  },
  {
   "cell_type": "markdown",
   "metadata": {},
   "source": [
    "Download this medium pitch: http://soundbible.com/1817-Party-Horn.html"
   ]
  },
  {
   "cell_type": "code",
   "execution_count": null,
   "metadata": {},
   "outputs": [],
   "source": [
    "partyhorn <- readMP3(\"PartyHorn.mp3\")\n",
    "samplepartyhorn <- extractWave(partyhorn, from = 0, to = 0.5, xunit = \"time\")\n",
    "myfourier(samplepartyhorn)"
   ]
  },
  {
   "cell_type": "markdown",
   "metadata": {},
   "source": [
    "Download this high pitch sound: http://soundbible.com/1125-High-Pitch-Dog-Whistle.html"
   ]
  },
  {
   "cell_type": "code",
   "execution_count": null,
   "metadata": {},
   "outputs": [],
   "source": [
    "dogwhistle <- readMP3(\"DogWhistle.mp3\")\n",
    "sampledogwhistle <- extractWave(dogwhistle, from = 0, to = 0.1, xunit = \"time\") \n",
    "myfourier(sampledogwhistle)"
   ]
  }
 ],
 "metadata": {
  "kernelspec": {
   "display_name": "R",
   "language": "R",
   "name": "ir"
  },
  "language_info": {
   "codemirror_mode": "r",
   "file_extension": ".r",
   "mimetype": "text/x-r-source",
   "name": "R",
   "pygments_lexer": "r",
   "version": "3.5.0"
  }
 },
 "nbformat": 4,
 "nbformat_minor": 2
}
