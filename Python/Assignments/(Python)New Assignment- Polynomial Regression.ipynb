{
 "cells": [
  {
   "cell_type": "markdown",
   "metadata": {},
   "source": [
    "# New Assignment- Polynomial Regression\n",
    "\n",
    "We will be investigating the use of Polynomial Regression on the function x^3. We want to add some randomness to x^3, so we will be using the function below. Go ahead and run this code:"
   ]
  },
  {
   "cell_type": "code",
   "execution_count": 37,
   "metadata": {},
   "outputs": [],
   "source": [
    "f <- function(x) {\n",
    "  y = x^3 + 0.5 * rnorm(length(x),1,1)\n",
    "  return(y)\n",
    "}"
   ]
  },
  {
   "cell_type": "markdown",
   "metadata": {},
   "source": [
    "Now we need to run this function. Make a list of 10 random test points between -2 and 2 using the `runif()` function. Store this list as `x` and the pass `x` into `f` and store the results in `y`."
   ]
  },
  {
   "cell_type": "code",
   "execution_count": null,
   "metadata": {},
   "outputs": [],
   "source": []
  },
  {
   "cell_type": "markdown",
   "metadata": {},
   "source": [
    "Let's see the results. Make a data frame with x and y, and print out the data frame."
   ]
  },
  {
   "cell_type": "code",
   "execution_count": null,
   "metadata": {},
   "outputs": [],
   "source": []
  },
  {
   "cell_type": "markdown",
   "metadata": {},
   "source": [
    "Now fit polynomials to `trainingset`. Using the `ggplot2` library, display a graph showing `trainingset`. Then for each of the following polynomials, add the polynomial to `trainingset` on a new graph:\n",
    "* Degree 1\n",
    "* Degree 2\n",
    "* Degree 3\n",
    "* Degree 5 \n",
    "* Degree 9\n",
    "\n",
    "*Do you know why we cannot go above a degree 9 polynomial using our information? You can try a Degree 10 polynomial and look at the error you get.*"
   ]
  },
  {
   "cell_type": "code",
   "execution_count": null,
   "metadata": {
    "scrolled": false
   },
   "outputs": [],
   "source": []
  },
  {
   "cell_type": "markdown",
   "metadata": {},
   "source": [
    "Create a new graph with the trainingset and all 5 polynomial models from above on the same graph."
   ]
  },
  {
   "cell_type": "code",
   "execution_count": null,
   "metadata": {},
   "outputs": [],
   "source": []
  },
  {
   "cell_type": "markdown",
   "metadata": {},
   "source": [
    "Which model seems to fit or predict the data the best? Let's find out! First we need to create a test data set. Again, using the `runif()` function, store a list of 100 random values between -2 and 2, pass that list into `f()`, create a data frame named `testset`, and display `testset`."
   ]
  },
  {
   "cell_type": "code",
   "execution_count": null,
   "metadata": {},
   "outputs": [],
   "source": []
  },
  {
   "cell_type": "markdown",
   "metadata": {},
   "source": [
    "Finally, find the root mean square error for all the polynomial models to find which one is the best. \n",
    "\n",
    "*Before you run the code, think which polynomial model will have the best results.*"
   ]
  },
  {
   "cell_type": "code",
   "execution_count": null,
   "metadata": {},
   "outputs": [],
   "source": []
  }
 ],
 "metadata": {
  "kernelspec": {
   "display_name": "Python 3",
   "language": "python",
   "name": "python3"
  },
  "language_info": {
   "codemirror_mode": {
    "name": "ipython",
    "version": 3
   },
   "file_extension": ".py",
   "mimetype": "text/x-python",
   "name": "python",
   "nbconvert_exporter": "python",
   "pygments_lexer": "ipython3",
   "version": "3.6.5"
  }
 },
 "nbformat": 4,
 "nbformat_minor": 2
}
