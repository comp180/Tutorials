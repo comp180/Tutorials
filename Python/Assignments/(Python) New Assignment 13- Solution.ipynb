{
 "cells": [
  {
   "cell_type": "markdown",
   "metadata": {},
   "source": [
    "# Simple Image Classifier\n",
    "\n",
    "In this assignment, we will be writing code to identify the main color in an image. For our sample images, we will be using different colored flowers."
   ]
  },
  {
   "cell_type": "markdown",
   "metadata": {},
   "source": [
    "## 1. Download Images\n",
    "To begin, download the <a href=\"https://drive.google.com/drive/u/0/folders/1CXOr2RptGrunahjbTlbobncnxfQKpYyl\">zipped images</a> and save them in your working directory. Since this is a zipped file, make sure you extract the files from the zipped folder."
   ]
  },
  {
   "cell_type": "markdown",
   "metadata": {},
   "source": [
    "## 2. Find Percentages of Colors\n",
    "\n",
    "Just like in the tutorial, we need to find the percentage of each color in each picture. The code will be provided, take a minute to understand the code and the results."
   ]
  },
  {
   "cell_type": "code",
   "execution_count": 2,
   "metadata": {},
   "outputs": [
    {
     "ename": "ModuleNotFoundError",
     "evalue": "No module named 'cv2'",
     "output_type": "error",
     "traceback": [
      "\u001b[0;31m---------------------------------------------------------------------------\u001b[0m",
      "\u001b[0;31mModuleNotFoundError\u001b[0m                       Traceback (most recent call last)",
      "\u001b[0;32m<ipython-input-2-8799065351dc>\u001b[0m in \u001b[0;36m<module>\u001b[0;34m()\u001b[0m\n\u001b[1;32m      4\u001b[0m \u001b[0;32mfrom\u001b[0m \u001b[0mPIL\u001b[0m \u001b[0;32mimport\u001b[0m \u001b[0mImage\u001b[0m\u001b[0;34m\u001b[0m\u001b[0m\n\u001b[1;32m      5\u001b[0m \u001b[0;32mimport\u001b[0m \u001b[0mglob\u001b[0m\u001b[0;34m\u001b[0m\u001b[0m\n\u001b[0;32m----> 6\u001b[0;31m \u001b[0;32mimport\u001b[0m \u001b[0mcv2\u001b[0m\u001b[0;34m\u001b[0m\u001b[0m\n\u001b[0m\u001b[1;32m      7\u001b[0m \u001b[0;34m\u001b[0m\u001b[0m\n\u001b[1;32m      8\u001b[0m \u001b[0mflower_pics\u001b[0m \u001b[0;34m=\u001b[0m \u001b[0;34m[\u001b[0m\u001b[0;34m]\u001b[0m\u001b[0;34m\u001b[0m\u001b[0m\n",
      "\u001b[0;31mModuleNotFoundError\u001b[0m: No module named 'cv2'"
     ]
    }
   ],
   "source": [
    "import matplotlib.pyplot as plt\n",
    "import matplotlib.image as mpimg\n",
    "import numpy as np\n",
    "from PIL import Image\n",
    "import glob\n",
    "import cv2\n",
    "\n",
    "flower_pics = []\n",
    "files = glob.glob('flowers/*.jpg')\n",
    "for myFile in files:\n",
    "    image = cv2.imread(myFile)\n",
    "    flower_pics.append(image)"
   ]
  },
  {
   "cell_type": "markdown",
   "metadata": {},
   "source": [
    "## 3. Create Classification Rule\n",
    "\n",
    "Using the results from above, make a rule to classify each color based on the percentages of red, green, and blue in the picture. For example, if the percentage of green and blue is above 80%, then the picture is probably cyan. Create a rule for each color. You do not have to be perfect and you will have the chance to edit your rules later. \n",
    "\n",
    "<i> Hint: It would probably be easiest to make a long if-elsif-else statement for this. </i>\n",
    "\n",
    "<b> You do not need to distinguish between white and black since both colors are about an equal mix of red, green, and blue. You should have a “white or black” category in your classification however. </b>"
   ]
  },
  {
   "cell_type": "code",
   "execution_count": null,
   "metadata": {},
   "outputs": [],
   "source": []
  },
  {
   "cell_type": "markdown",
   "metadata": {},
   "source": [
    "## 4. Create Function for Classifying\n",
    "\n",
    "Now, add your classification block to the designated location in the code provided. The function will take in the name of a picture file and find the percentage of red, green, and blue in it. All you classifier needs to do is compare the percentages and print out what it detects as the most prominent color in the picture. Be sure the variables in your classifier match up with the names in the code provided."
   ]
  },
  {
   "cell_type": "code",
   "execution_count": null,
   "metadata": {},
   "outputs": [],
   "source": []
  },
  {
   "cell_type": "markdown",
   "metadata": {},
   "source": [
    "## 5. Time to Test\n",
    "\n",
    "Find some images on the internet (or take some with your phone) and put them in your working directory. Once they are there, you can test your classifier using the file path of the pictures.\n",
    "\n",
    "<i>\n",
    "    <ul>Hints:\n",
    "        <li>Use pictures that are pretty obviously one color</li>\n",
    "        <li>This is the time you can adjust your classifications to make them more accurate</li>\n",
    "    </ul>\n",
    "</i>"
   ]
  },
  {
   "cell_type": "code",
   "execution_count": null,
   "metadata": {},
   "outputs": [],
   "source": []
  }
 ],
 "metadata": {
  "kernelspec": {
   "display_name": "Python 3",
   "language": "python",
   "name": "python3"
  },
  "language_info": {
   "codemirror_mode": {
    "name": "ipython",
    "version": 3
   },
   "file_extension": ".py",
   "mimetype": "text/x-python",
   "name": "python",
   "nbconvert_exporter": "python",
   "pygments_lexer": "ipython3",
   "version": "3.6.5"
  }
 },
 "nbformat": 4,
 "nbformat_minor": 2
}
