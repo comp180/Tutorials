{
 "cells": [
  {
   "cell_type": "markdown",
   "metadata": {},
   "source": [
    "# Simple Image Classifier\n",
    "\n",
    "In this assignment, we will be writing code to identify the main color in an image. For our sample images, we will be using different colored flowers. "
   ]
  },
  {
   "cell_type": "markdown",
   "metadata": {},
   "source": [
    "## TO INSTALL PIL...\n",
    "1. Go to Anaconda prompt and type\n",
    "       conda install pillow\n",
    "   Press Y when prompted Proceed ([Y]/N)?\n",
    "2. Go to ...\\Anaconda3\\Lib\\site-packages\\PIL and open Image.py\n",
    "3. Change\n",
    "    \n",
    "    *if PILLOW_VERSION != getattr(core, 'PILLOW_VERSION', None): raise ImportError(\"The _imaging extension was built for another \" \" version of Pillow or PIL\")*\n",
    "    \n",
    "    to\n",
    "    \n",
    "    *if core.PILLOW_VERSION != getattr(core, 'PILLOW_VERSION', None): raise ImportError(\"The _imaging extension was built for another \" \" version of Pillow or PIL\")*\n",
    "4. Save Image.py"
   ]
  },
  {
   "cell_type": "markdown",
   "metadata": {},
   "source": [
    "# 1. Download Images\n",
    "To begin, download the <a href=\"https://drive.google.com/drive/u/0/folders/1CXOr2RptGrunahjbTlbobncnxfQKpYyl\">zipped images</a> and save them in your working directory. Since this is a zipped file, make sure you extract the files from the zipped folder."
   ]
  },
  {
   "cell_type": "markdown",
   "metadata": {},
   "source": [
    "# 2. Find Percentages of Colors\n",
    "\n",
    "Just like in the tutorial, we need to find the percentage of each color in each picture. The code will be provided, take a minute to understand the code and the results."
   ]
  },
  {
   "cell_type": "code",
   "execution_count": 1,
   "metadata": {},
   "outputs": [
    {
     "name": "stdout",
     "output_type": "stream",
     "text": [
      "flowers/blue.jpg\n",
      "Percentage of red: 0.167517034443\n",
      "Percentage of green: 0.298780469433\n",
      "Percentage of blue: 0.533702496124\n",
      "\n",
      "flowers/cyan.jpg\n",
      "Percentage of red: 0.181888303164\n",
      "Percentage of green: 0.350288422141\n",
      "Percentage of blue: 0.467823274695\n",
      "\n",
      "flowers/green.jpg\n",
      "Percentage of red: 0.239055265268\n",
      "Percentage of green: 0.554510116202\n",
      "Percentage of blue: 0.20643461853\n",
      "\n",
      "flowers/magenta.jpg\n",
      "Percentage of red: 0.515809064833\n",
      "Percentage of green: 0.166033744509\n",
      "Percentage of blue: 0.318157190657\n",
      "\n",
      "flowers/red.jpg\n",
      "Percentage of red: 0.669442598812\n",
      "Percentage of green: 0.17823773047\n",
      "Percentage of blue: 0.152319670717\n",
      "\n",
      "flowers/white.jpg\n",
      "Percentage of red: 0.338716510505\n",
      "Percentage of green: 0.349030449026\n",
      "Percentage of blue: 0.312253040469\n",
      "\n",
      "flowers/yellow.jpg\n",
      "Percentage of red: 0.524886934946\n",
      "Percentage of green: 0.415069241051\n",
      "Percentage of blue: 0.0600438240028\n",
      "\n"
     ]
    }
   ],
   "source": [
    "import PIL\n",
    "from PIL import Image\n",
    "import glob\n",
    "import numpy as np\n",
    "import matplotlib.pyplot as plt\n",
    "import os\n",
    "\n",
    "#Function to make pie-chart of relative RGB values\n",
    "def get_percentages_rgb(image):\n",
    "    #Average of red, green, blue values \n",
    "    RGBtuple = np.array(image).mean(axis=(0,1))\n",
    "    averageRed = RGBtuple[0]\n",
    "    averageGreen = RGBtuple[1]\n",
    "    averageBlue = RGBtuple[2]\n",
    "    \n",
    "    total = averageRed + averageBlue + averageGreen\n",
    "    \n",
    "    redPercent = averageRed/total\n",
    "    greenPercent = averageGreen/total\n",
    "    bluePercent = averageBlue/total\n",
    "\n",
    "    print('Percentage of red: ' + str(redPercent))\n",
    "    print('Percentage of green: ' + str(greenPercent))\n",
    "    print('Percentage of blue: ' + str(bluePercent))\n",
    "    print()\n",
    "    \n",
    "for filename in glob.glob(\"flowers/*.jpg\"):\n",
    "    im = Image.open(filename)\n",
    "    print(filename)\n",
    "    get_percentages_rgb(im) "
   ]
  },
  {
   "cell_type": "markdown",
   "metadata": {},
   "source": [
    "# 3. Create Classification Rule\n",
    "\n",
    "Using the results from above, make a rule to classify each color based on the percentages of red, green, and blue in the picture. For example, if the percentage of green and blue is above 80%, then the picture is probably cyan. Create a rule for each color. You do not have to be perfect and you will have the chance to edit your rules later. \n",
    "\n",
    "<i> Hint: It would probably be easiest to make a long if-elsif-else statement for this. </i>\n",
    "\n",
    "This code will be in markdown text, so it can run without any errors, since it needs to be included in the code block below to work correctly.\n",
    "\n",
    "<b> You do not need to distinguish between white and black since both colors are about an equal mix of red, green, and blue. You should have a “white or black” category in your classification however. </b>"
   ]
  },
  {
   "cell_type": "markdown",
   "metadata": {},
   "source": []
  },
  {
   "cell_type": "markdown",
   "metadata": {},
   "source": [
    "# 4. Create Function for Classifying\n",
    "\n",
    "Now, add your classification block to the designated location in the code provided. The function will take in the name of a picture file and find the percentage of red, green, and blue in it. All you classifier needs to do is compare the percentages and print out what it detects as the most prominent color in the picture. Be sure the variables in your classifier match up with the names in the code provided."
   ]
  },
  {
   "cell_type": "code",
   "execution_count": 54,
   "metadata": {},
   "outputs": [],
   "source": [
    "def classify_image(pictureName):\n",
    "    im = Image.open(pictureName)\n",
    "    \n",
    "    #Average of red, green, blue values \n",
    "    RGBtuple = np.array(im).mean(axis=(0,1))\n",
    "    averageRed = RGBtuple[0]\n",
    "    averageGreen = RGBtuple[1]\n",
    "    averageBlue = RGBtuple[2]\n",
    "    \n",
    "    total = averageRed + averageBlue + averageGreen\n",
    "    \n",
    "    redPercent = averageRed/total\n",
    "    greenPercent = averageGreen/total\n",
    "    bluePercent = averageBlue/total\n",
    "\n",
    "    print(pictureName)\n",
    "    print('Percentage of red: ' + str(redPercent))\n",
    "    print('Percentage of green: ' + str(greenPercent))\n",
    "    print('Percentage of blue: ' + str(bluePercent))\n",
    "    print()\n",
    "    \n",
    "    #-----------------------------------------\n",
    "    # Add classification rules code below here\n",
    "    #-----------------------------------------\n",
    "\n",
    "    #-----------------------------------------\n",
    "    # Add classification rules code above here\n",
    "    #-----------------------------------------"
   ]
  },
  {
   "cell_type": "markdown",
   "metadata": {},
   "source": [
    "# 5. Time to Test\n",
    "\n",
    "Find some images on the internet (or take some with your phone) and put them in your working directory. Once they are there, you can test your classifier using the file path of the pictures.\n",
    "\n",
    "Once they are in the working directory, you can test your classifier by using:\n",
    "```\n",
    "classify_image(\"yourpicturename.jpg\")\n",
    "```\n",
    "Try it out!\n",
    "\n",
    "<i>\n",
    "    <ul> Hints:\n",
    "        <li> Use pictures that are pretty obviously one color </li>\n",
    "        <li> This is the time you can adjust your classifications to make them more accurate </li>\n",
    "    </ul>\n",
    "</i>"
   ]
  },
  {
   "cell_type": "code",
   "execution_count": 55,
   "metadata": {},
   "outputs": [
    {
     "name": "stdout",
     "output_type": "stream",
     "text": [
      "blueberries.jpg\n",
      "Percentage of red: 0.229580452354\n",
      "Percentage of green: 0.326402599315\n",
      "Percentage of blue: 0.444016948331\n",
      "\n",
      "Blue\n"
     ]
    }
   ],
   "source": []
  }
 ],
 "metadata": {
  "kernelspec": {
   "display_name": "Python 3",
   "language": "python",
   "name": "python3"
  },
  "language_info": {
   "codemirror_mode": {
    "name": "ipython",
    "version": 3
   },
   "file_extension": ".py",
   "mimetype": "text/x-python",
   "name": "python",
   "nbconvert_exporter": "python",
   "pygments_lexer": "ipython3",
   "version": "3.6.5"
  }
 },
 "nbformat": 4,
 "nbformat_minor": 2
}
