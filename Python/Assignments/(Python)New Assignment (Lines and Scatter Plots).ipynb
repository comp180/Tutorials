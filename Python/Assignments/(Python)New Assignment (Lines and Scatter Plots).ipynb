{
 "cells": [
  {
   "cell_type": "markdown",
   "metadata": {},
   "source": [
    "# New Assignment- Lines and Scatter Plots\n",
    "\n",
    "## 1.) Line Plot\n",
    "Create a line plot of sin(x) and cos(x + (pi)/2) for -2(pi) < x < 2(pi) where x increases at intervals of pi/4.\n",
    "\n",
    "**x** = -6.283, -5.498, -4.712, -3.927, -3.142, -2.356, -1.571, -.7854, 0, .7854, 1.571, 2.356, 3.142, 3.927, 4.712, 5.498, 6.283\n",
    "\n",
    "**sin(x)** = 0, .70711, 1, .70711, 0, -.70711, -1, -.70711, 0, .70711, 1, .70711, 0, -.70711, -1, -.70711, 0, .\n",
    "\n",
    "**cox(x + (pi)/2)** = 0, -.70711, -1, -.70711, 0, .70711, 1, .70711, 0, -.70711, -1, -.70711, 0, .70711, 1, .70711, 0    \n",
    "* Make the sin(x) graph red with width of 3 (lwd=3)\n",
    "* Make the cox(x+(pi)/2) graph green with width of 3 (lwd=3)\n",
    "* Put both lines onto the same plot"
   ]
  },
  {
   "cell_type": "code",
   "execution_count": null,
   "metadata": {
    "scrolled": false
   },
   "outputs": [],
   "source": []
  },
  {
   "cell_type": "markdown",
   "metadata": {},
   "source": [
    "Using the same info as above, make a subplot with 2 different graphs- \n",
    "* one graph for sin(x) and \n",
    "* one graph for cos(x+(pi)/2)"
   ]
  },
  {
   "cell_type": "code",
   "execution_count": null,
   "metadata": {
    "scrolled": false
   },
   "outputs": [],
   "source": []
  },
  {
   "cell_type": "markdown",
   "metadata": {},
   "source": [
    "## 2.) Scatter Plot\n",
    "Using the following data about [winter temperatures affecting the number of days for lake ice at Lake Superior](http://resources.seattlecentral.edu/qelp/sets/053/053.htm), construct a scatter plot to display the data.\n",
    "* **Mean Temp**: 22.94, 23.02, 25.68, 19.96, 24.80, 23.98, 22.10, 20.30, 24.20, 22.74, 24.16, 24.94, 22.40, 22.14, 20.84, 25.66, 21.73, 24.49, 24.13, 22.17, 21.73, 20.41, 24.41, 23.95, 20.95, 26.71, 22.81, 23.11, 23.33, 28.83, 23.11, 21.47, 23.97, 24.75, 23.61, 23.08, 21.24, 26.63, 23.88\n",
    "* **Days of Ice**: 87, 137, 106, 97, 105, 118, 118, 136, 91, 107, 96, 114, 125, 115, 118, 82, 115, 97, 104, 146, 126, 141, 111, 123, 118, 83, 48, 118, 116, 81, 116, 123, 112, 99, 102, 118, 63, 62, 132\n",
    "\n",
    "Include a line of best fit and make sure the points on the plot are big enough (*cex*) and an appropriate shape (*pch*)."
   ]
  },
  {
   "cell_type": "code",
   "execution_count": null,
   "metadata": {},
   "outputs": [],
   "source": []
  }
 ],
"metadata": {
  "kernelspec": {
   "display_name": "Python 3",
   "language": "python",
   "name": "python3"
  },
  "language_info": {
   "codemirror_mode": {
    "name": "ipython",
    "version": 3
   },
   "file_extension": ".py",
   "mimetype": "text/x-python",
   "name": "python",
   "nbconvert_exporter": "python",
   "pygments_lexer": "ipython3",
   "version": "3.6.5"
  }
 },
 "nbformat": 4,
 "nbformat_minor": 2
}
