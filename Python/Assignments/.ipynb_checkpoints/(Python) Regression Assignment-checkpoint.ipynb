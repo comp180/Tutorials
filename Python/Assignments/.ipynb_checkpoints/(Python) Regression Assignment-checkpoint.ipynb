{
 "cells": [
  {
   "cell_type": "markdown",
   "metadata": {},
   "source": [
    "# Assignment: Linear Regression on the Boston Housing Dataset\n",
    "\n",
    "We will be using the Boston Housing dataset, that is accessible through Python’s <a href=\"http://scikit-learn.org/stable/\">scikit-learn</a> machine learning library, to implement linear regression on a data model. We will also be utilizing a few of scikit-learn's many awesome functions to perform our linear regression. \n",
    "\n",
    "The following <a href=\"https://archive.ics.uci.edu/ml/machine-learning-databases/housing/housing.names\">link</a> describes the attributes that are included in this dataset; a few of them are the prices of the houses in the certain towns, the crime rates in those towns, and the proportion of residential land zoned for lots that are over 25,000 square feet. \n",
    "\n",
    "Use the following <a href=\"https://github.com/comp180/Tutorials/blob/master/Python/Machine%20Learning/Regression.ipynb\">tutorial</a> from class for help with the linear regression portion of this assignment."
   ]
  },
  {
   "cell_type": "markdown",
   "metadata": {},
   "source": [
    "## Perform the following steps:"
   ]
  },
  {
   "cell_type": "markdown",
   "metadata": {},
   "source": [
    "### 1. Import the Boston Housing dataset from sklearn.datasets and store it in a variable called boston. We want to use the following <a href=\"http://scikit-learn.org/stable/modules/generated/sklearn.datasets.load_boston.html\"> function</a> to load and return the boston housing dataset.  You should should also import numpy, pandas, matplotlib.pyplot and sklearn. "
   ]
  },
  {
   "cell_type": "code",
   "execution_count": null,
   "metadata": {},
   "outputs": [],
   "source": []
  },
  {
   "cell_type": "code",
   "execution_count": null,
   "metadata": {},
   "outputs": [],
   "source": []
  },
  {
   "cell_type": "markdown",
   "metadata": {},
   "source": [
    "### 2. Once we have loaded the boston housing dataset into our program, we can evaluate the keys of the dataset and its shape. You can also call “boston.DESCR” to get the description of the attributes in the dataset. "
   ]
  },
  {
   "cell_type": "code",
   "execution_count": null,
   "metadata": {},
   "outputs": [],
   "source": []
  },
  {
   "cell_type": "code",
   "execution_count": null,
   "metadata": {},
   "outputs": [],
   "source": []
  },
  {
   "cell_type": "code",
   "execution_count": null,
   "metadata": {},
   "outputs": [],
   "source": []
  },
  {
   "cell_type": "markdown",
   "metadata": {},
   "source": [
    "### 3. Put the data from the boston housing dataset into a PANDAS dataframe named boston_df. Print the dataframe to make sure the conversion worked correctly. Hint: you may need to supply the column names, when converting to a dataframe, by using the description that you were given above of the attributes in the data set. Don't include the 'MEDV' column. "
   ]
  },
  {
   "cell_type": "code",
   "execution_count": null,
   "metadata": {},
   "outputs": [],
   "source": []
  },
  {
   "cell_type": "markdown",
   "metadata": {},
   "source": [
    "### 4. The prices of the housing in Boston is found in the boston variable's target column, since they are the values that we are trying to predict using linear regression. Therefore, we want to add it to our data frame by creating a new column for it called “PRICE”. "
   ]
  },
  {
   "cell_type": "code",
   "execution_count": null,
   "metadata": {},
   "outputs": [],
   "source": []
  },
  {
   "cell_type": "markdown",
   "metadata": {},
   "source": [
    "### 5. Since we were not given separate training and testing datasets, we need to split them into those categories ourselves. Before we can split into these datasets, we need to split the dataset into target values and predictor values. Let’s set a variable “Y” equal to the “PRICE” column in the dataframe and a variable “X” equal to the other attributes in the dataframe. "
   ]
  },
  {
   "cell_type": "code",
   "execution_count": null,
   "metadata": {},
   "outputs": [],
   "source": []
  },
  {
   "cell_type": "markdown",
   "metadata": {},
   "source": [
    "### 6. Then, we want to create  x_train, x_test, y_train, and y_test variables and use Sklearn’s cross validation <a href=\"http://scikit-learn.org/0.16/modules/generated/sklearn.cross_validation.train_test_split.html\"> train_test_split()</a> function to create our training and testing sets for the target dataframe and the predictor dataframe. Make sure to specify the test_size parameter as 0.33 and the random state parameter as 5, since we want a proportion of 66.66% for the training data and 33.33% for the testing data. "
   ]
  },
  {
   "cell_type": "code",
   "execution_count": null,
   "metadata": {},
   "outputs": [],
   "source": []
  },
  {
   "cell_type": "markdown",
   "metadata": {},
   "source": [
    "### 7. Linear regression time!! Use the <a href= \"http://scikit-learn.org/stable/modules/generated/sklearn.linear_model.LinearRegression.html#sklearn.linear_model.LinearRegression.fit\"> fit()</a> function from sklearn's Linear Regression class to fit a polynomial on the x_train and y_train variables. The following <a href=\"https://chrisalbon.com/machine_learning/linear_regression/linear_regression_using_scikit-learn/\"> tutorial</a> will help explain how to use the Linear Regression class. "
   ]
  },
  {
   "cell_type": "code",
   "execution_count": null,
   "metadata": {},
   "outputs": [],
   "source": []
  },
  {
   "cell_type": "markdown",
   "metadata": {},
   "source": [
    "### 8. We then want to create our predicted values by using the <a href=\"http://scikit-learn.org/stable/modules/generated/sklearn.linear_model.LinearRegression.html#sklearn.linear_model.LinearRegression.predict\"> predict()</a> function, from the Linear Regression class, on the x_test variable. "
   ]
  },
  {
   "cell_type": "code",
   "execution_count": null,
   "metadata": {},
   "outputs": [],
   "source": []
  },
  {
   "cell_type": "markdown",
   "metadata": {},
   "source": [
    "### 9. Create a scatter plot with the actual boston housing prices on the x-axis and the predicted housing prices on the y-axis. Make sure to include a proper x-axis label, y-axis label and title. "
   ]
  },
  {
   "cell_type": "code",
   "execution_count": null,
   "metadata": {},
   "outputs": [],
   "source": []
  },
  {
   "cell_type": "markdown",
   "metadata": {},
   "source": [
    "### 10. Once we have our predicted values, we can also calculate the root mean square error between the predicted values and the y_test values. We can use sklearn's <a href=\"http://scikit-learn.org/stable/modules/generated/sklearn.metrics.mean_squared_error.html\"> mean_square_error()</a> function to calculate this value. Print out the root mean square error. "
   ]
  },
  {
   "cell_type": "code",
   "execution_count": null,
   "metadata": {},
   "outputs": [],
   "source": []
  }
 ],
 "metadata": {
  "kernelspec": {
   "display_name": "Python 3",
   "language": "python",
   "name": "python3"
  },
  "language_info": {
   "codemirror_mode": {
    "name": "ipython",
    "version": 3
   },
   "file_extension": ".py",
   "mimetype": "text/x-python",
   "name": "python",
   "nbconvert_exporter": "python",
   "pygments_lexer": "ipython3",
   "version": "3.6.5"
  }
 },
 "nbformat": 4,
 "nbformat_minor": 2
}
