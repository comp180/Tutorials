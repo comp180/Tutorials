{
 "cells": [
  {
   "cell_type": "markdown",
   "metadata": {},
   "source": [
    "<font color=\"red\">Create the following charts. All plots should have titles, x-axis labels, y-axis labels and legends sufficiently sized for readability.</font>"
   ]
  },
  {
   "cell_type": "markdown",
   "metadata": {},
   "source": [
    "### 1. Linear Plots"
   ]
  },
  {
   "cell_type": "markdown",
   "metadata": {},
   "source": [
    "X: 2003, 2004, 2005, 2006, 2007, 2008, 2009, 2010, 2011, 2012, 2013, 2014\n",
    "\n",
    "Y1: 10000, 9500, 11100, 12000, 13300, 14000, 8450, 9010, 15788, 16000, 15500, 16890\n",
    "\n",
    "Y2: 4500, 3980, 6002, 5789, 8000, 8350, 7540, 9011, 9450, 10100, 9200, 12300"
   ]
  },
  {
   "cell_type": "markdown",
   "metadata": {},
   "source": [
    "#### A\n",
    "\n",
    "Make a linear plot of X and Y1. Be sure to use markers. Use labels X and Y1 and give an appropriate title."
   ]
  },
  {
   "cell_type": "code",
   "execution_count": null,
   "metadata": {},
   "outputs": [],
   "source": []
  },
  {
   "cell_type": "markdown",
   "metadata": {},
   "source": [
    "#### B\n",
    "\n",
    "Make a linear plot with X and Y1 and on the same axes plot X and Y2 using a different color line and marks. Add a legend."
   ]
  },
  {
   "cell_type": "code",
   "execution_count": null,
   "metadata": {},
   "outputs": [],
   "source": []
  },
  {
   "cell_type": "markdown",
   "metadata": {},
   "source": [
    "### 2. Scatter Plots"
   ]
  },
  {
   "cell_type": "markdown",
   "metadata": {},
   "source": [
    "Use the following data for the tasks in this section. \n",
    "\n",
    "Copy and paste:\n",
    "\n",
    "Student GPA: 2.0, 2.0, 2.0, 2.0, 2.3, 2.6, 2.6, 2.8, 3.0, 3.1, 3.1, 3.2, 3.6, 3.8, 3.8, 3.9, 4.0\n",
    "\n",
    "Student Motivation: 50, 48, 100, 12, 34, 30, 78, 65, 87, 84, 75, 72, 83, 90, 90, 97, 98"
   ]
  },
  {
   "cell_type": "markdown",
   "metadata": {},
   "source": [
    "#### A\n",
    "\n",
    "To see how well a students’ GPAs predicts their motivation, let’s examine a scatter plot. Create a scatter plot of the GPAs on the x-axis and students’ motivation levels on the y- axis. Make sure markers are of sufficient size. Choose markers that can overlap (e.g. empty instead of filled markers)."
   ]
  },
  {
   "cell_type": "code",
   "execution_count": null,
   "metadata": {},
   "outputs": [],
   "source": []
  },
  {
   "cell_type": "markdown",
   "metadata": {},
   "source": [
    "### 3. Subplot"
   ]
  },
  {
   "cell_type": "markdown",
   "metadata": {},
   "source": [
    "#### A\n",
    "\n",
    "Use the subplot feature of your language to put the following functions on the same figure:\n",
    "\n",
    "Y1 = sin(2x)\n",
    "\n",
    "Y2 = cos(2x)\n",
    "\n",
    "Y3 = tan(2x)"
   ]
  },
  {
   "cell_type": "code",
   "execution_count": null,
   "metadata": {},
   "outputs": [],
   "source": []
  }
 ],
 "metadata": {
  "kernelspec": {
   "display_name": "Python 3",
   "language": "python",
   "name": "python3"
  },
  "language_info": {
   "codemirror_mode": {
    "name": "ipython",
    "version": 3
   },
   "file_extension": ".py",
   "mimetype": "text/x-python",
   "name": "python",
   "nbconvert_exporter": "python",
   "pygments_lexer": "ipython3",
   "version": "3.6.5"
  }
 },
 "nbformat": 4,
 "nbformat_minor": 2
}
