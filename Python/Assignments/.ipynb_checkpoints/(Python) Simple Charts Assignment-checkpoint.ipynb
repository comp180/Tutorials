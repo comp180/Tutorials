{
 "cells": [
  {
   "cell_type": "markdown",
   "metadata": {},
   "source": [
    "<font color=\"red\">All plots should have titles and appropriate labels sufficiently sized for readability and, when appropriate, x-axis and y-axis labels and a legend.</font>"
   ]
  },
  {
   "cell_type": "markdown",
   "metadata": {},
   "source": [
    "### 1. Pie Chart\n",
    "\n",
    "Make a pie chart that shows the distribution of animals in a zoo that contains 30 penguins, 40 polar bears, 20 lions, and 10 otters. "
   ]
  },
  {
   "cell_type": "code",
   "execution_count": null,
   "metadata": {},
   "outputs": [],
   "source": []
  },
  {
   "cell_type": "markdown",
   "metadata": {},
   "source": [
    "### 2. Bar Plot\n",
    "\n",
    "Make a bar plot that shows the number of people, out of a total of 40, who like various movie types if 10 people like comedy; 8 people like action;  15 people like romance; 2 people like drama, and 5 people like sci-fi.\n",
    "\n",
    "<font color=\"red\">Be sure to include vertical or slanted labels for each bar on the X axis. </font>"
   ]
  },
  {
   "cell_type": "code",
   "execution_count": null,
   "metadata": {},
   "outputs": [],
   "source": []
  },
  {
   "cell_type": "markdown",
   "metadata": {},
   "source": [
    "### 3. Side-by-side Bar Plot\n",
    "\n",
    "Make a side-by-side bar plot that displays the number of children visitors and the number of adult visitors at a water park in the months of April, May, June and July.\n",
    "\n",
    "<font color=\"red\">Be sure to include vertical or slanted labels for the side-by-side bars on the X axis. Also, be sure to include a legend and a label on the Y axis. </font>\n",
    "\n",
    "\n",
    "<b>April<br></b>\n",
    "Children: 780<br>\n",
    "Adults: 315<br>\n",
    "<b>May<br></b>\n",
    "Children: 1050<br>\n",
    "Adults: 400<br>\n",
    "<b>June<br></b>\n",
    "Children: 3056<br>\n",
    "Adults: 1000<br>\n",
    "<b>July<br></b>\n",
    "Children: 5025<br>\n",
    "Adults: 1500"
   ]
  },
  {
   "cell_type": "code",
   "execution_count": null,
   "metadata": {},
   "outputs": [],
   "source": []
  },
  {
   "cell_type": "markdown",
   "metadata": {},
   "source": [
    "### 4. Stacked Bar Plot\n",
    "\n",
    "Make a stacked bar plot that displays the number of dark chocolate bars and the number of milk chocolate bars sold at the candy store in the months of May, June and July. <font color=\"red\">Be sure to include vertical or slanted labels for the side-by-side bars on the X axis. Also, be sure to include a legend, a label on the Y axis, and labels on each of the bars.</font>\n",
    "\n",
    "<b>May</b><br>\n",
    "Dark chocolate: 2050<br>\n",
    "Milk chocolate: 1750<br>\n",
    "<b>June</b><br>\n",
    "Dark chocolate: 4750<br>\n",
    "Milk chocolate: 4000<br>\n",
    "<b>July</b><br>\n",
    "Dark chocolate: 4980<br>\n",
    "Milk chocolate: 4650<br>\n"
   ]
  },
  {
   "cell_type": "code",
   "execution_count": null,
   "metadata": {},
   "outputs": [],
   "source": []
  },
  {
   "cell_type": "markdown",
   "metadata": {},
   "source": [
    "### 5. Histogram\n",
    "\n",
    "Create a histogram displaying the scores from last week’s Calculus II exam. Separate the scores into bins; you can choose whichever bin width will show a good distribution of data. <font color=\"red\">Be sure to include a title, a label on the Y axis, labels on the X axis to show the bin width, and a best-fit line.</font>\n",
    "\n",
    "<b>Scores from Calculus II Exam</b><br>\n",
    "Keith Smith: 89.5<br>\n",
    "Brittany Popper: 67.0<br>\n",
    "Mark Phillips: 54.0<br>\n",
    "Stephanie Day: 97.0<br>\n",
    "Michelle Maxwell: 87.0<br>\n",
    "Bill Corks: 93.5<br>\n",
    "Annalise Davidson: 73.0<br>\n",
    "Mike Wallisi: 84.0<br>\n",
    "Thomas Rizzo: 49.0<br>\n",
    "Laurie Sorish: 77.5<br>"
   ]
  },
  {
   "cell_type": "code",
   "execution_count": null,
   "metadata": {},
   "outputs": [],
   "source": []
  }
 ],
 "metadata": {
  "kernelspec": {
   "display_name": "Python 3",
   "language": "python",
   "name": "python3"
  },
  "language_info": {
   "codemirror_mode": {
    "name": "ipython",
    "version": 3
   },
   "file_extension": ".py",
   "mimetype": "text/x-python",
   "name": "python",
   "nbconvert_exporter": "python",
   "pygments_lexer": "ipython3",
   "version": "3.6.5"
  }
 },
 "nbformat": 4,
 "nbformat_minor": 2
}
