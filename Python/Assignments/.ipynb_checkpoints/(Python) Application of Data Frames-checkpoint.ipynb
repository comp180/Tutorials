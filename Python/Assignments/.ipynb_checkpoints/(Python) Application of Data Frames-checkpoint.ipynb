{
 "cells": [
  {
   "cell_type": "markdown",
   "metadata": {},
   "source": [
    "In this assignment, we will measures factors related to predicting the age of abalone, which are marine snails, using 4177 samples. These factors include, among other things, sex, length of shell, diameter of shell, shell weight, number of rings, etc. More detail about the data file is available at the end of this assignment - you will need this information to complete the assignment. Note the benefit of data frames - reading is simple, and all of this can be done without a single loop."
   ]
  },
  {
   "cell_type": "markdown",
   "metadata": {},
   "source": [
    "Here is the data file <a href= \"https://drive.google.com/drive/folders/1368ioOeVzEA5yj3Gyv0mhi9_Q6KUr3ji\">[archived copy]</a> or from the original source [abalone.data in the downloads folder of <a href=\"https://archive.ics.uci.edu/ml/machine-learning-databases/abalone/\">this link</a>]. "
   ]
  },
  {
   "cell_type": "markdown",
   "metadata": {},
   "source": [
    "Link to the data frames tutorial material: [<a href = \"https://docs.google.com/document/d/1phdIyrb1RdF05sUvWFNd1F_OO5W7G7kobB12IhOnmJI/edit\">Data frames tutorial</a>]. "
   ]
  },
  {
   "cell_type": "markdown",
   "metadata": {},
   "source": [
    "## Perform the following steps: "
   ]
  },
  {
   "cell_type": "markdown",
   "metadata": {},
   "source": [
    "### 1. Open the file in a text editor while you read over the column names in the data file details at the end of this assignment.\n",
    "<br><font color=\"red\">\n",
    "Note, the extension is '.data’, and even though it is a text file it your operating system may not recognize it as one. One option is to change the extension (to something like '.txt’). Another is to start your text editor and open the file through the editor. In any case doing this will give you a chance to observe the structure of the data while you read the data file details.</font>"
   ]
  },
  {
   "cell_type": "markdown",
   "metadata": {},
   "source": [
    "### 2. Read the text file in as a dataframe. And then print it to make sure it read in correctly. Keep in mind this can be a tricky, error-prone problem depending on the formatting of the data file.\n",
    "\n",
    "Use the method you used previously to read in a CSV file. There are at least two potential problems to consider. Note, if the tutorial is insufficient you can simply read the function documentation online for how to handle the following issues.\n",
    "\n",
    "   <ol>\n",
    "    <li> <b>The delimiter is a space rather than a comma</b>: One option is to open the file in a text editor, and use the Find/Replace All option to change every space to a single comma. However, that’s cumbersome and error-prone. A better option is to just use the read CSV function and change the separator to a space rather than a comma. </li>\n",
    "        <li>There is no header line: You have a description of each column, but the file does not have column headers. You may need to make sure the read function is set up so it does not expect column headers. However, a more common option is to supply your own 9 item list of strings to serve as column headers - you can use the one below as an example. Using names of columns rather than strings will make it much easier to read your code later and is highly recommended for this step.</li>\n",
    "       </ol><br>\n",
    "\n",
    "['sex', 'length', 'diameter', 'height', 'whole weight', 'shucked weight', 'viscera weight', 'shell weight', 'rings']"
   ]
  },
  {
   "cell_type": "code",
   "execution_count": null,
   "metadata": {},
   "outputs": [],
   "source": []
  },
  {
   "cell_type": "markdown",
   "metadata": {},
   "source": [
    "### 3. Now let’s get a sense of the length of the abalones. First print only the lengths of the abalones by selecting only that column. Then calculate the mean and standard deviation of the lengths.\n",
    "\n",
    "There are two ways you can calculate the mean. The easiest is to select the length column and use the mean function that can instantly be performed on columns in a data frame. The second option is to convert the column of data into an array, then perform the operation as you would for an array. Do this for the mean and the standard deviation.\n",
    "\n",
    "(Optional) you could create a histogram with this data too. For that you may need to convert the data to a list or array after selecting that column."
   ]
  },
  {
   "cell_type": "code",
   "execution_count": null,
   "metadata": {},
   "outputs": [],
   "source": []
  },
  {
   "cell_type": "markdown",
   "metadata": {},
   "source": [
    "### 4. Create a data frame called low_rings_df with all of the abalones that have number of rings below 10. Similarly create a data frame called high_rings_df with abalones with 10 or more rings. Now calculate the mean length, diameter, height, and whole weight for both groups and note the trend as abalones acquire more rings."
   ]
  },
  {
   "cell_type": "code",
   "execution_count": null,
   "metadata": {},
   "outputs": [],
   "source": []
  },
  {
   "cell_type": "markdown",
   "metadata": {},
   "source": [
    "Such information provides indications of which features can be used to predict the age of abalones.\n",
    "\n",
    "<b>Data file details (the meaning of each column)</b>\n",
    " \n",
    "  Given is the attribute name, attribute type, the measurement unit and a\n",
    "   brief description.\n",
    "\n",
    "\tName\t\tData Type\t   Meas.\tDescription\n",
    "\t----\t\t---------    -----\t     -----------\n",
    "\tSex\t\t     nominal\t\t\t      M, F, and I (infant)\n",
    "\tLength\t    continuous\t   mm\t     Longest shell measurement\n",
    "\tDiameter\tcontinuous\t   mm\t     perpendicular to length\n",
    "\tHeight\t\tcontinuous\t   mm\t     with meat in shell\n",
    "\tWhole weight\tcontinuous\tgrams\twhole abalone\n",
    "\tShucked weight\tcontinuous\tgrams\tweight of meat\n",
    "\tViscera weight\tcontinuous\tgrams\tgut weight (after bleeding)\n",
    "\tShell weight\tcontinuous\tgrams\tafter being dried\n",
    "\tRings\t\tinteger\t\t\t+1.5 gives the age in years\n"
   ]
  }
 ],
 "metadata": {
  "kernelspec": {
   "display_name": "Python 3",
   "language": "python",
   "name": "python3"
  },
  "language_info": {
   "codemirror_mode": {
    "name": "ipython",
    "version": 3
   },
   "file_extension": ".py",
   "mimetype": "text/x-python",
   "name": "python",
   "nbconvert_exporter": "python",
   "pygments_lexer": "ipython3",
   "version": "3.6.5"
  }
 },
 "nbformat": 4,
 "nbformat_minor": 2
}
