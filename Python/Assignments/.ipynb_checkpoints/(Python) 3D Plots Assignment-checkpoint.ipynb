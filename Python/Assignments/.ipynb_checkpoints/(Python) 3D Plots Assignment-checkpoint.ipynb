{
 "cells": [
  {
   "cell_type": "markdown",
   "metadata": {},
   "source": [
    "<font color=\"red\"> All plots should have titles and appropriate labels sufficiently sized for readability. </font>"
   ]
  },
  {
   "cell_type": "markdown",
   "metadata": {},
   "source": [
    "<b>Use the following functions to create your contour plot and surface/mesh plots:\n",
    "\n",
    "f(x,y) = sin(πx) * sin(πy)<br>\n",
    "\n",
    "g(x,y) = cos(πx) * cos(πy)</b>"
   ]
  },
  {
   "cell_type": "markdown",
   "metadata": {},
   "source": [
    "### 1. Contour Plot"
   ]
  },
  {
   "cell_type": "markdown",
   "metadata": {},
   "source": [
    "#### A\n",
    "\n",
    "Make a contour plot. Make sure to add labels in the plot or a legend for colors on the contours. You can choose either a filled contour plot or colored lines, your choice."
   ]
  },
  {
   "cell_type": "code",
   "execution_count": null,
   "metadata": {},
   "outputs": [],
   "source": []
  },
  {
   "cell_type": "markdown",
   "metadata": {},
   "source": [
    "#### B\n",
    "\n",
    "Do this (on only one of the above contour plots) for an additional color mapping: e.g. hot/cold or black/white. "
   ]
  },
  {
   "cell_type": "code",
   "execution_count": null,
   "metadata": {},
   "outputs": [],
   "source": []
  },
  {
   "cell_type": "markdown",
   "metadata": {},
   "source": [
    "### 2. Surface Plot (or mesh plot)"
   ]
  },
  {
   "cell_type": "markdown",
   "metadata": {},
   "source": [
    "#### A\n",
    "\n",
    "Using the same data set as before, create a surface plot. Also be sure to choose an appropriate color mapping to help in interpretation. If you can’t make a surface plot, a mesh plot (where the surface is not filled in) will suffice."
   ]
  },
  {
   "cell_type": "code",
   "execution_count": null,
   "metadata": {},
   "outputs": [],
   "source": []
  },
  {
   "cell_type": "markdown",
   "metadata": {},
   "source": [
    "#### B\n",
    "\n",
    "Generate at least one additional viewpoint of one of the surface plots that may also be helpful in providing insights."
   ]
  },
  {
   "cell_type": "code",
   "execution_count": null,
   "metadata": {},
   "outputs": [],
   "source": []
  }
 ],
 "metadata": {
  "kernelspec": {
   "display_name": "Python 3",
   "language": "python",
   "name": "python3"
  },
  "language_info": {
   "codemirror_mode": {
    "name": "ipython",
    "version": 3
   },
   "file_extension": ".py",
   "mimetype": "text/x-python",
   "name": "python",
   "nbconvert_exporter": "python",
   "pygments_lexer": "ipython3",
   "version": "3.6.5"
  }
 },
 "nbformat": 4,
 "nbformat_minor": 2
}
