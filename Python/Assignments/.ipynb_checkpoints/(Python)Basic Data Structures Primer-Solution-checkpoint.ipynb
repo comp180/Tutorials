{
 "cells": [
  {
   "cell_type": "markdown",
   "metadata": {},
   "source": [
    "For help with this assignment, you can use the following table:\n",
    "<a href=\"https://docs.google.com/document/d/1Q5VfbGyep-nC7oBmGEExpQpbGa5nwpDz4gaSIYqxY8w/edit\">[Language features: basic data structures].</a>\n",
    "\n",
    "Note the table will not be sufficient on its own for you to complete the assignment, however in the cases where it is not sufficient it can point you to the correct function or approach to answer the problem\n",
    "\n",
    "Copy and paste the following and run the program after you have filled it out the requested lines. \n",
    "\n",
    "<b>Note, Python and R use ‘#’ for comments but if you are using matlab just Find/Replace every ‘#’ with a ‘%’ before you run your code.</b>"
   ]
  },
  {
   "cell_type": "markdown",
   "metadata": {},
   "source": [
    "### a) Lists"
   ]
  },
  {
   "cell_type": "markdown",
   "metadata": {},
   "source": [
    "####  1) Make a list with the spelled-out letter strings ‘A’, ‘B’, ‘C’, ‘D’, ‘E’, and ‘F’ in that order and call it myLetters."
   ]
  },
  {
   "cell_type": "code",
   "execution_count": 71,
   "metadata": {},
   "outputs": [
    {
     "name": "stdout",
     "output_type": "stream",
     "text": [
      "['A', 'B', 'C', 'D', 'E']\n"
     ]
    }
   ],
   "source": [
    "myLetters = ['A','B','C','D','E']\n",
    "print(myLetters)"
   ]
  },
  {
   "cell_type": "markdown",
   "metadata": {},
   "source": [
    "#### 2) Update the second letter in the list to ‘Z’. Print myLetters. "
   ]
  },
  {
   "cell_type": "code",
   "execution_count": 72,
   "metadata": {},
   "outputs": [
    {
     "name": "stdout",
     "output_type": "stream",
     "text": [
      "['A', 'Z', 'C', 'D', 'E']\n"
     ]
    }
   ],
   "source": [
    "myLetters[1] = 'Z'\n",
    "print(myLetters)"
   ]
  },
  {
   "cell_type": "markdown",
   "metadata": {},
   "source": [
    "#### 3) Remove ‘E’ from the list using positional indexing."
   ]
  },
  {
   "cell_type": "code",
   "execution_count": 73,
   "metadata": {},
   "outputs": [
    {
     "name": "stdout",
     "output_type": "stream",
     "text": [
      "['A', 'Z', 'C', 'D']\n"
     ]
    }
   ],
   "source": [
    "del myLetters[4]\n",
    "print(myLetters)"
   ]
  },
  {
   "cell_type": "markdown",
   "metadata": {},
   "source": [
    "#### 4) Check if ‘D’ is in the list. "
   ]
  },
  {
   "cell_type": "code",
   "execution_count": 74,
   "metadata": {},
   "outputs": [
    {
     "data": {
      "text/plain": [
       "True"
      ]
     },
     "execution_count": 74,
     "metadata": {},
     "output_type": "execute_result"
    }
   ],
   "source": [
    "'D' in myLetters"
   ]
  },
  {
   "cell_type": "markdown",
   "metadata": {},
   "source": [
    "#### 5) Append ‘P’ to the end of the list, then print the length of the list. "
   ]
  },
  {
   "cell_type": "code",
   "execution_count": 75,
   "metadata": {},
   "outputs": [
    {
     "name": "stdout",
     "output_type": "stream",
     "text": [
      "['A', 'Z', 'C', 'D', 'P']\n",
      "5\n"
     ]
    }
   ],
   "source": [
    "myLetters.append('P')\n",
    "print(myLetters)\n",
    "print(len(myLetters))"
   ]
  },
  {
   "cell_type": "markdown",
   "metadata": {},
   "source": [
    "####  6) Print only the first two items in the list. "
   ]
  },
  {
   "cell_type": "code",
   "execution_count": 76,
   "metadata": {},
   "outputs": [
    {
     "data": {
      "text/plain": [
       "['A', 'Z']"
      ]
     },
     "execution_count": 76,
     "metadata": {},
     "output_type": "execute_result"
    }
   ],
   "source": [
    "myLetters[0:2]"
   ]
  },
  {
   "cell_type": "markdown",
   "metadata": {},
   "source": [
    "#### 7) Print only the last two items in the list. "
   ]
  },
  {
   "cell_type": "code",
   "execution_count": 77,
   "metadata": {},
   "outputs": [
    {
     "data": {
      "text/plain": [
       "['D', 'P']"
      ]
     },
     "execution_count": 77,
     "metadata": {},
     "output_type": "execute_result"
    }
   ],
   "source": [
    "myLetters[3:5]"
   ]
  },
  {
   "cell_type": "markdown",
   "metadata": {},
   "source": [
    "#### 8) Print the contents of the list. "
   ]
  },
  {
   "cell_type": "code",
   "execution_count": 78,
   "metadata": {},
   "outputs": [
    {
     "name": "stdout",
     "output_type": "stream",
     "text": [
      "['A', 'Z', 'C', 'D', 'P']\n"
     ]
    }
   ],
   "source": [
    "print(myLetters)"
   ]
  },
  {
   "cell_type": "markdown",
   "metadata": {},
   "source": [
    "#### 9) Split the string “my dog is a golden retriever” into a list, print each value in the list and the length of each value. "
   ]
  },
  {
   "cell_type": "code",
   "execution_count": 79,
   "metadata": {},
   "outputs": [
    {
     "name": "stdout",
     "output_type": "stream",
     "text": [
      "my 2\n",
      "dog 3\n",
      "is 2\n",
      "a 1\n",
      "golden 6\n",
      "retriever 9\n"
     ]
    }
   ],
   "source": [
    "dog_list = \"my dog is a golden retriever\".split(\" \")\n",
    "\n",
    "for word in dog_list:\n",
    "    print(word + \" \" + str(len(word)))"
   ]
  },
  {
   "cell_type": "markdown",
   "metadata": {},
   "source": [
    "### b) Dictionaries"
   ]
  },
  {
   "cell_type": "markdown",
   "metadata": {},
   "source": [
    "#### 1) Make a dictionary with the keys as the items in the coffee shop as below, and the values as the cost of each item. Note: make sure that all key are represented as strings and values are represented as floats. "
   ]
  },
  {
   "cell_type": "markdown",
   "metadata": {},
   "source": [
    "<ol>\n",
    "    <li>Black tea- 2.60</li>\n",
    "    <li>Green tea- 2.85</li>\n",
    "    <li>Espresso- 2.70</li>\n",
    "    <li>Mocha- 4.15</li>\n",
    "    <li>Chai tea- 3.45</li>\n",
    "    <li>Iced latte- 3.70</li>\n",
    "    <li>Cappuccino- 3.40</li>\n",
    "    <li>Blueberry muffin- 2.50</li>\n",
    "    <li>Croissant- 3.45</li>\n",
    "</ol>"
   ]
  },
  {
   "cell_type": "code",
   "execution_count": 80,
   "metadata": {},
   "outputs": [],
   "source": [
    "order = {'Black tea':2.60, 'Green tea':2.85, 'Espresso':2.70, 'Mocha':4.15, 'Chai tea': 3.45, 'Iced latte':3.70, 'Cappuccino':3.40, 'Blueberry muffin': 2.50, 'Croissant': 3.45}"
   ]
  },
  {
   "cell_type": "markdown",
   "metadata": {},
   "source": [
    "#### 2) Print the size of the dictionary following a string that states “The length of the dictionary is \". "
   ]
  },
  {
   "cell_type": "code",
   "execution_count": 81,
   "metadata": {},
   "outputs": [
    {
     "name": "stdout",
     "output_type": "stream",
     "text": [
      "The length of the dictionary is 9\n"
     ]
    }
   ],
   "source": [
    "print ('The length of the dictionary is ' + str(len(order)))"
   ]
  },
  {
   "cell_type": "markdown",
   "metadata": {},
   "source": [
    "#### 3) Use the dictionary to look up the costs of an ‘Espresso’ and a ‘Croissant’."
   ]
  },
  {
   "cell_type": "code",
   "execution_count": 82,
   "metadata": {},
   "outputs": [
    {
     "name": "stdout",
     "output_type": "stream",
     "text": [
      "The cost of an espresso is 2.7\n",
      "The cost of a croissant is 3.45\n"
     ]
    }
   ],
   "source": [
    "print('The cost of an espresso is ' + str(order['Espresso']))\n",
    "print('The cost of a croissant is ' + str(order['Croissant']))"
   ]
  },
  {
   "cell_type": "markdown",
   "metadata": {},
   "source": [
    "####  4) Update the value of an iced latte to 4.50. "
   ]
  },
  {
   "cell_type": "code",
   "execution_count": 83,
   "metadata": {},
   "outputs": [],
   "source": [
    "order['Iced latte'] = 4.50"
   ]
  },
  {
   "cell_type": "markdown",
   "metadata": {},
   "source": [
    "#### Remove the key ‘Mocha’ and its corresponding value from the dictionary. "
   ]
  },
  {
   "cell_type": "code",
   "execution_count": 84,
   "metadata": {},
   "outputs": [
    {
     "name": "stdout",
     "output_type": "stream",
     "text": [
      "{'Black tea': 2.6, 'Green tea': 2.85, 'Espresso': 2.7, 'Chai tea': 3.45, 'Iced latte': 4.5, 'Cappuccino': 3.4, 'Blueberry muffin': 2.5, 'Croissant': 3.45}\n"
     ]
    }
   ],
   "source": [
    "del order['Mocha']\n",
    "print(order)"
   ]
  },
  {
   "cell_type": "markdown",
   "metadata": {},
   "source": [
    "####  5) Make a variable var with the string “Coffee shop order: black coffee, chai tea, blueberry muffin, black tea”. "
   ]
  },
  {
   "cell_type": "code",
   "execution_count": 85,
   "metadata": {},
   "outputs": [],
   "source": [
    "var = \"Espresso,Chai tea,Blueberry muffin,Black tea\""
   ]
  },
  {
   "cell_type": "markdown",
   "metadata": {},
   "source": [
    "#### 6) Now create a list from var with each word a separate item (this is a string split operation)."
   ]
  },
  {
   "cell_type": "code",
   "execution_count": 86,
   "metadata": {},
   "outputs": [
    {
     "name": "stdout",
     "output_type": "stream",
     "text": [
      "['Espresso', 'Chai tea', 'Blueberry muffin', 'Black tea']\n"
     ]
    }
   ],
   "source": [
    "order_list = var.split(\",\")\n",
    "print(order_list)"
   ]
  },
  {
   "cell_type": "markdown",
   "metadata": {},
   "source": [
    "### c) Arrays"
   ]
  },
  {
   "cell_type": "markdown",
   "metadata": {},
   "source": [
    "#### 1) Create an array of zeros of size 4 x 4 and print the data type and the dimensions of the array. "
   ]
  },
  {
   "cell_type": "code",
   "execution_count": 87,
   "metadata": {},
   "outputs": [
    {
     "name": "stdout",
     "output_type": "stream",
     "text": [
      "float64\n",
      "(4, 4)\n"
     ]
    }
   ],
   "source": [
    "import numpy as np\n",
    "var = np.zeros((4,4))\n",
    "print(var.dtype)\n",
    "print(var.shape)"
   ]
  },
  {
   "cell_type": "markdown",
   "metadata": {},
   "source": [
    "#### 2) Fill the array with the numbers 1 to 16 first by row, then by column. You may want to use a for loop inside a for loop to do this. "
   ]
  },
  {
   "cell_type": "code",
   "execution_count": 88,
   "metadata": {},
   "outputs": [
    {
     "name": "stdout",
     "output_type": "stream",
     "text": [
      "[[  1.   2.   3.   4.]\n",
      " [  5.   6.   7.   8.]\n",
      " [  9.  10.  11.  12.]\n",
      " [ 13.  14.  15.  16.]]\n"
     ]
    }
   ],
   "source": [
    "#By row\n",
    "i = 1\n",
    "for x in range(0,4):\n",
    "    for y in range(0,4):\n",
    "        var[x][y] = i\n",
    "        i = i +1\n",
    "        \n",
    "print(var)"
   ]
  },
  {
   "cell_type": "code",
   "execution_count": 89,
   "metadata": {},
   "outputs": [
    {
     "data": {
      "text/plain": [
       "array([[  1.,   5.,   9.,  13.],\n",
       "       [  2.,   6.,  10.,  14.],\n",
       "       [  3.,   7.,  11.,  15.],\n",
       "       [  4.,   8.,  12.,  16.]])"
      ]
     },
     "execution_count": 89,
     "metadata": {},
     "output_type": "execute_result"
    }
   ],
   "source": [
    "#By column\n",
    "var.transpose()"
   ]
  },
  {
   "cell_type": "markdown",
   "metadata": {},
   "source": [
    "#### 3) Print the last value in the array. "
   ]
  },
  {
   "cell_type": "code",
   "execution_count": 90,
   "metadata": {},
   "outputs": [
    {
     "name": "stdout",
     "output_type": "stream",
     "text": [
      "16.0\n"
     ]
    }
   ],
   "source": [
    "print(var[3,3])"
   ]
  },
  {
   "cell_type": "markdown",
   "metadata": {},
   "source": [
    "#### 4) Set the value at Row 1 and Column 3 to 20.  Remember that indexing starts at 0, so row 1 = 0 and column 3 = 2. "
   ]
  },
  {
   "cell_type": "code",
   "execution_count": 91,
   "metadata": {},
   "outputs": [
    {
     "name": "stdout",
     "output_type": "stream",
     "text": [
      "[[  1.   2.  20.   4.]\n",
      " [  5.   6.   7.   8.]\n",
      " [  9.  10.  11.  12.]\n",
      " [ 13.  14.  15.  16.]]\n"
     ]
    }
   ],
   "source": [
    "var[0][2] = 20\n",
    "\n",
    "print(var)"
   ]
  },
  {
   "cell_type": "markdown",
   "metadata": {},
   "source": [
    "#### 6) Print only the top 2 rows and all of its columns."
   ]
  },
  {
   "cell_type": "code",
   "execution_count": 92,
   "metadata": {},
   "outputs": [
    {
     "data": {
      "text/plain": [
       "array([[  1.,   2.,  20.,   4.],\n",
       "       [  5.,   6.,   7.,   8.]])"
      ]
     },
     "execution_count": 92,
     "metadata": {},
     "output_type": "execute_result"
    }
   ],
   "source": [
    "var[0:2,0:4]"
   ]
  },
  {
   "cell_type": "markdown",
   "metadata": {},
   "source": [
    "####  7) Make a 1D array out of your 2D array (note the column vs row issue, you may need transposes). "
   ]
  },
  {
   "cell_type": "code",
   "execution_count": 94,
   "metadata": {},
   "outputs": [
    {
     "name": "stdout",
     "output_type": "stream",
     "text": [
      "[  1.   2.  20.   4.   5.   6.   7.   8.   9.  10.  11.  12.  13.  14.  15.\n",
      "  16.]\n"
     ]
    }
   ],
   "source": [
    "one_d = var.flatten()\n",
    "print(one_d)"
   ]
  },
  {
   "cell_type": "markdown",
   "metadata": {},
   "source": [
    "#### 8) Now take that 1D array you made from before and reshape it back to the original 2D array."
   ]
  },
  {
   "cell_type": "code",
   "execution_count": 95,
   "metadata": {},
   "outputs": [
    {
     "name": "stdout",
     "output_type": "stream",
     "text": [
      "[[  1.   2.  20.   4.]\n",
      " [  5.   6.   7.   8.]\n",
      " [  9.  10.  11.  12.]\n",
      " [ 13.  14.  15.  16.]]\n"
     ]
    }
   ],
   "source": [
    "import numpy as np\n",
    "var2 = np.reshape(one_d,(-1,4))\n",
    "print(var2)"
   ]
  }
 ],
 "metadata": {
  "kernelspec": {
   "display_name": "Python 3",
   "language": "python",
   "name": "python3"
  },
  "language_info": {
   "codemirror_mode": {
    "name": "ipython",
    "version": 3
   },
   "file_extension": ".py",
   "mimetype": "text/x-python",
   "name": "python",
   "nbconvert_exporter": "python",
   "pygments_lexer": "ipython3",
   "version": "3.6.5"
  }
 },
 "nbformat": 4,
 "nbformat_minor": 2
}
