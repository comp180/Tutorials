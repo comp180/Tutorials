{
 "cells": [
  {
   "cell_type": "markdown",
   "metadata": {},
   "source": [
    "## Gradebook for a teacher's students\n",
    "\n",
    "Use the following table as a guide: <a href=\"https://docs.google.com/document/d/1Q5VfbGyep-nC7oBmGEExpQpbGa5nwpDz4gaSIYqxY8w/edit\">[Language features: basic data structures].</a>"
   ]
  },
  {
   "cell_type": "markdown",
   "metadata": {},
   "source": [
    "### A. Create three dictionaries: Tyler, Stephanie, and Michelle."
   ]
  },
  {
   "cell_type": "code",
   "execution_count": null,
   "metadata": {},
   "outputs": [],
   "source": []
  },
  {
   "cell_type": "markdown",
   "metadata": {},
   "source": [
    "### B. Give each dictionary, the keys “name”, “homework”, “quizzes”, and “tests”. The “name” key should be the name of the students, and the other keys should initially be empty lists. "
   ]
  },
  {
   "cell_type": "code",
   "execution_count": null,
   "metadata": {},
   "outputs": [],
   "source": []
  },
  {
   "cell_type": "markdown",
   "metadata": {},
   "source": [
    "### C. Copy this code: "
   ]
  },
  {
   "cell_type": "markdown",
   "metadata": {},
   "source": [
    "tyler = {\n",
    "  \"name\": \"Tyler\",\n",
    "  \"homework\": [86.0,97.0,80.5,92.0],\n",
    "  \"quizzes\": [88.0,95.0,92.0],\n",
    "  \"tests\": [88.5,93.0]\n",
    "}<br>\n",
    "stephanie = {\n",
    "  \"name\": \"Stephanie\",\n",
    "  \"homework\": [100.0, 84.0, 96.0, 100.0],\n",
    "  \"quizzes\": [82.0, 83.0, 91.0],\n",
    "  \"tests\": [89.0, 97.0]\n",
    "}<br>\n",
    "michelle  = {\n",
    "  \"name\": \"Michelle\",\n",
    "  \"homework\": [33.0, 87.0, 75.0, 22.0],\n",
    "  \"quizzes\": [83.5, 75.0, 78.0],\n",
    "  \"tests\": [100.0, 99.5]\n",
    "}"
   ]
  },
  {
   "cell_type": "code",
   "execution_count": null,
   "metadata": {},
   "outputs": [],
   "source": []
  },
  {
   "cell_type": "markdown",
   "metadata": {},
   "source": [
    "### D. Create a list called students that contains tyler, stephanie, and michelle. "
   ]
  },
  {
   "cell_type": "code",
   "execution_count": null,
   "metadata": {},
   "outputs": [],
   "source": []
  },
  {
   "cell_type": "markdown",
   "metadata": {},
   "source": [
    "### E. For each student in your students list, print out that student’s data which includes their name, homework scores, quiz scores, and test scores. "
   ]
  },
  {
   "cell_type": "code",
   "execution_count": null,
   "metadata": {},
   "outputs": [],
   "source": []
  },
  {
   "cell_type": "markdown",
   "metadata": {},
   "source": [
    "### F. Write a function “average” that takes a list of numbers and returns the average. "
   ]
  },
  {
   "cell_type": "code",
   "execution_count": null,
   "metadata": {},
   "outputs": [],
   "source": []
  },
  {
   "cell_type": "markdown",
   "metadata": {},
   "source": [
    "### G. Write a function “get_average” that takes a student dictionary as input and returns his/her weighted average. \n",
    "\n",
    "a. Make a variable homework_average that stores the average() of the student’s homework. <br>\n",
    "b. Repeat step a for quizzes and tests. <br>\n",
    "c. Multiply the 3 averages by their weights and return the sum of those three. Homework is worth 10%, quizzes are worth 30% and tests are worth 60%. "
   ]
  },
  {
   "cell_type": "code",
   "execution_count": null,
   "metadata": {},
   "outputs": [],
   "source": []
  },
  {
   "cell_type": "markdown",
   "metadata": {},
   "source": [
    "### H. Define a function “get_letter_grade” that has one argument called score (a number).\n",
    "\n",
    "Inside your function, test score using a chain of if/elif/else statements:<br>\n",
    "A: score is 90 or above<br>\n",
    "B: Score is 80 or above<br>\n",
    "C: score is 70 or above<br>\n",
    "D: score is 60 or above<br>\n",
    "F: score is less than 60<br>\n",
    "\n",
    "Test your function with one of the present student’s weighted averages."
   ]
  },
  {
   "cell_type": "code",
   "execution_count": null,
   "metadata": {},
   "outputs": [],
   "source": []
  },
  {
   "cell_type": "markdown",
   "metadata": {},
   "source": [
    "### I. Define a function “get_class_average” that has one argument, students. You can expect students to be a list containing your three students. \n",
    "\n",
    "<o1>\n",
    "    <li>Make an empty list variable called results within your function.</li>\n",
    "    <li>For each student item in the students list, calculate get_average(student) and then call results.append() with that result variable.</li>\n",
    "    <li>Return the result of calling average() with the results list.</li>\n",
    "</ol>"
   ]
  },
  {
   "cell_type": "code",
   "execution_count": null,
   "metadata": {},
   "outputs": [],
   "source": []
  },
  {
   "cell_type": "markdown",
   "metadata": {},
   "source": [
    "### J. Outside of the function, print out the result of calling get_class_average with your students list."
   ]
  },
  {
   "cell_type": "code",
   "execution_count": null,
   "metadata": {},
   "outputs": [],
   "source": []
  },
  {
   "cell_type": "markdown",
   "metadata": {},
   "source": [
    "### K. Also outside of the function, print out the result of get_letter_grade for the class’ average. "
   ]
  },
  {
   "cell_type": "code",
   "execution_count": null,
   "metadata": {},
   "outputs": [],
   "source": []
  }
 ],
 "metadata": {
  "kernelspec": {
   "display_name": "Python 3",
   "language": "python",
   "name": "python3"
  },
  "language_info": {
   "codemirror_mode": {
    "name": "ipython",
    "version": 3
   },
   "file_extension": ".py",
   "mimetype": "text/x-python",
   "name": "python",
   "nbconvert_exporter": "python",
   "pygments_lexer": "ipython3",
   "version": "3.6.5"
  }
 },
 "nbformat": 4,
 "nbformat_minor": 2
}
