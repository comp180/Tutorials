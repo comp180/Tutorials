{
 "cells": [
  {
   "cell_type": "markdown",
   "metadata": {},
   "source": [
    "In this primer, we will study a data set that represents pollution in various cities in the United States and Canada. \n",
    "\n",
    "For help with this assignment, you can use the following tutorial material: <a href= \"https://docs.google.com/document/d/1phdIyrb1RdF05sUvWFNd1F_OO5W7G7kobB12IhOnmJI/edit\"> [Data frames tutorial]. </a>"
   ]
  },
  {
   "cell_type": "markdown",
   "metadata": {},
   "source": [
    "<font color=\"red\">Copy and paste the following and run the program after you have filled out the requested lines. Note, Python and R use ‘#’ for comments but if you are using matlab just Find/Replace every ‘#’ with a ‘%’ before you run your code.<br>\n",
    "\n",
    "You will be expected to show the code of the primer, and the created CSV file in a text editor in class. </font>"
   ]
  },
  {
   "cell_type": "markdown",
   "metadata": {},
   "source": [
    "### Steps"
   ]
  },
  {
   "cell_type": "markdown",
   "metadata": {},
   "source": [
    " #### 1. Input the following data into a data frame called city_pollution, and display the entire data frame:\n",
    "#Location, Population, Air Quality Index, Quality Status\n",
    "#Los Angeles, 3,976,000, 72, ‘Moderate’\n",
    "#Houston, 2,303,000, 55, ‘Moderate’ \n",
    "#Phoenix, 1,615,000, 26, ‘Good’\n",
    "#New York, 8,538,000, 22, ‘Good’\n",
    "#Colorado, 5,607,000, 830, ‘Hazardous’\n",
    "#Alberta, 4,146,000, 164, ‘Unhealthy’\n",
    "#Tallahassee, 190894, 31, ‘Good’\n",
    "#Grand Rapids, 196,445, 51, ‘Moderate’\n",
    "#Des Moines, 215,472, 37, ‘Good’\n",
    "#Tulsa, 403,090, 42, ‘Good’\n",
    "#New Mexico, 2,088,000, 70, ‘Moderate’"
   ]
  },
  {
   "cell_type": "code",
   "execution_count": 1,
   "metadata": {},
   "outputs": [
    {
     "name": "stdout",
     "output_type": "stream",
     "text": [
      "       Locations  Population  Air Quality Index Quality Status\n",
      "0    Los Angeles     3976000                 72       Moderate\n",
      "1        Houston     2303000                 55       Moderate\n",
      "2        Phoenix     1615000                 26           Good\n",
      "3       New York     8538000                 22           Good\n",
      "4       Colorado     5607000                830      Hazardous\n",
      "5        Alberta     4146000                164      Unhealthy\n",
      "6    Tallahassee      190894                 31           Good\n",
      "7   Grand Rapids      196445                 51       Moderate\n",
      "8     Des Moines      215472                 37           Good\n",
      "9          Tulsa      403090                 42           Good\n",
      "10    New Mexico     2088000                 70       Moderate\n"
     ]
    }
   ],
   "source": [
    "import pandas as pd\n",
    "\n",
    "pollution_data = {'Locations':['Los Angeles','Houston','Phoenix','New York','Colorado','Alberta','Tallahassee','Grand Rapids','Des Moines','Tulsa','New Mexico'],'Population':[3976000,2303000,1615000,8538000,5607000,4146000,190894,196445,215472,403090,2088000],'Air Quality Index':[72,55,26,22,830,164,31,51,37,42,70],'Quality Status':['Moderate','Moderate','Good','Good','Hazardous','Unhealthy','Good','Moderate','Good','Good','Moderate']}\n",
    "df = pd.DataFrame(pollution_data,columns=[\"Locations\",\"Population\",\"Air Quality Index\",\"Quality Status\"])\n",
    "print(df)"
   ]
  },
  {
   "cell_type": "markdown",
   "metadata": {},
   "source": [
    "#### 2. Show the data of the cities with a status of ‘Moderate’. "
   ]
  },
  {
   "cell_type": "code",
   "execution_count": 2,
   "metadata": {},
   "outputs": [
    {
     "data": {
      "text/html": [
       "<div>\n",
       "<style>\n",
       "    .dataframe thead tr:only-child th {\n",
       "        text-align: right;\n",
       "    }\n",
       "\n",
       "    .dataframe thead th {\n",
       "        text-align: left;\n",
       "    }\n",
       "\n",
       "    .dataframe tbody tr th {\n",
       "        vertical-align: top;\n",
       "    }\n",
       "</style>\n",
       "<table border=\"1\" class=\"dataframe\">\n",
       "  <thead>\n",
       "    <tr style=\"text-align: right;\">\n",
       "      <th></th>\n",
       "      <th>Locations</th>\n",
       "      <th>Population</th>\n",
       "      <th>Air Quality Index</th>\n",
       "      <th>Quality Status</th>\n",
       "    </tr>\n",
       "  </thead>\n",
       "  <tbody>\n",
       "    <tr>\n",
       "      <th>0</th>\n",
       "      <td>Los Angeles</td>\n",
       "      <td>3976000</td>\n",
       "      <td>72</td>\n",
       "      <td>Moderate</td>\n",
       "    </tr>\n",
       "    <tr>\n",
       "      <th>1</th>\n",
       "      <td>Houston</td>\n",
       "      <td>2303000</td>\n",
       "      <td>55</td>\n",
       "      <td>Moderate</td>\n",
       "    </tr>\n",
       "    <tr>\n",
       "      <th>7</th>\n",
       "      <td>Grand Rapids</td>\n",
       "      <td>196445</td>\n",
       "      <td>51</td>\n",
       "      <td>Moderate</td>\n",
       "    </tr>\n",
       "    <tr>\n",
       "      <th>10</th>\n",
       "      <td>New Mexico</td>\n",
       "      <td>2088000</td>\n",
       "      <td>70</td>\n",
       "      <td>Moderate</td>\n",
       "    </tr>\n",
       "  </tbody>\n",
       "</table>\n",
       "</div>"
      ],
      "text/plain": [
       "       Locations  Population  Air Quality Index Quality Status\n",
       "0    Los Angeles     3976000                 72       Moderate\n",
       "1        Houston     2303000                 55       Moderate\n",
       "7   Grand Rapids      196445                 51       Moderate\n",
       "10    New Mexico     2088000                 70       Moderate"
      ]
     },
     "execution_count": 2,
     "metadata": {},
     "output_type": "execute_result"
    }
   ],
   "source": [
    "df.loc[df['Quality Status'] == 'Moderate']"
   ]
  },
  {
   "cell_type": "markdown",
   "metadata": {},
   "source": [
    "#### 3. Show all of the cities and their corresponding population sizes that are in the data set. "
   ]
  },
  {
   "cell_type": "code",
   "execution_count": 3,
   "metadata": {},
   "outputs": [
    {
     "data": {
      "text/html": [
       "<div>\n",
       "<style>\n",
       "    .dataframe thead tr:only-child th {\n",
       "        text-align: right;\n",
       "    }\n",
       "\n",
       "    .dataframe thead th {\n",
       "        text-align: left;\n",
       "    }\n",
       "\n",
       "    .dataframe tbody tr th {\n",
       "        vertical-align: top;\n",
       "    }\n",
       "</style>\n",
       "<table border=\"1\" class=\"dataframe\">\n",
       "  <thead>\n",
       "    <tr style=\"text-align: right;\">\n",
       "      <th></th>\n",
       "      <th>Locations</th>\n",
       "      <th>Population</th>\n",
       "    </tr>\n",
       "  </thead>\n",
       "  <tbody>\n",
       "    <tr>\n",
       "      <th>0</th>\n",
       "      <td>Los Angeles</td>\n",
       "      <td>3976000</td>\n",
       "    </tr>\n",
       "    <tr>\n",
       "      <th>1</th>\n",
       "      <td>Houston</td>\n",
       "      <td>2303000</td>\n",
       "    </tr>\n",
       "    <tr>\n",
       "      <th>2</th>\n",
       "      <td>Phoenix</td>\n",
       "      <td>1615000</td>\n",
       "    </tr>\n",
       "    <tr>\n",
       "      <th>3</th>\n",
       "      <td>New York</td>\n",
       "      <td>8538000</td>\n",
       "    </tr>\n",
       "    <tr>\n",
       "      <th>4</th>\n",
       "      <td>Colorado</td>\n",
       "      <td>5607000</td>\n",
       "    </tr>\n",
       "    <tr>\n",
       "      <th>5</th>\n",
       "      <td>Alberta</td>\n",
       "      <td>4146000</td>\n",
       "    </tr>\n",
       "    <tr>\n",
       "      <th>6</th>\n",
       "      <td>Tallahassee</td>\n",
       "      <td>190894</td>\n",
       "    </tr>\n",
       "    <tr>\n",
       "      <th>7</th>\n",
       "      <td>Grand Rapids</td>\n",
       "      <td>196445</td>\n",
       "    </tr>\n",
       "    <tr>\n",
       "      <th>8</th>\n",
       "      <td>Des Moines</td>\n",
       "      <td>215472</td>\n",
       "    </tr>\n",
       "    <tr>\n",
       "      <th>9</th>\n",
       "      <td>Tulsa</td>\n",
       "      <td>403090</td>\n",
       "    </tr>\n",
       "    <tr>\n",
       "      <th>10</th>\n",
       "      <td>New Mexico</td>\n",
       "      <td>2088000</td>\n",
       "    </tr>\n",
       "  </tbody>\n",
       "</table>\n",
       "</div>"
      ],
      "text/plain": [
       "       Locations  Population\n",
       "0    Los Angeles     3976000\n",
       "1        Houston     2303000\n",
       "2        Phoenix     1615000\n",
       "3       New York     8538000\n",
       "4       Colorado     5607000\n",
       "5        Alberta     4146000\n",
       "6    Tallahassee      190894\n",
       "7   Grand Rapids      196445\n",
       "8     Des Moines      215472\n",
       "9          Tulsa      403090\n",
       "10    New Mexico     2088000"
      ]
     },
     "execution_count": 3,
     "metadata": {},
     "output_type": "execute_result"
    }
   ],
   "source": [
    "df[['Locations','Population']]"
   ]
  },
  {
   "cell_type": "markdown",
   "metadata": {},
   "source": [
    "#### 4. Delete the ‘Unhealthy’ cities from the data."
   ]
  },
  {
   "cell_type": "code",
   "execution_count": 4,
   "metadata": {},
   "outputs": [
    {
     "name": "stdout",
     "output_type": "stream",
     "text": [
      "       Locations  Population  Air Quality Index Quality Status\n",
      "0    Los Angeles     3976000                 72       Moderate\n",
      "1        Houston     2303000                 55       Moderate\n",
      "2        Phoenix     1615000                 26           Good\n",
      "3       New York     8538000                 22           Good\n",
      "4       Colorado     5607000                830      Hazardous\n",
      "6    Tallahassee      190894                 31           Good\n",
      "7   Grand Rapids      196445                 51       Moderate\n",
      "8     Des Moines      215472                 37           Good\n",
      "9          Tulsa      403090                 42           Good\n",
      "10    New Mexico     2088000                 70       Moderate\n"
     ]
    }
   ],
   "source": [
    "df = df[df['Quality Status'] != 'Unhealthy']\n",
    "print(df)"
   ]
  },
  {
   "cell_type": "markdown",
   "metadata": {},
   "source": [
    "#### 5. Only show the rows where the population is more than 1 million. "
   ]
  },
  {
   "cell_type": "code",
   "execution_count": 5,
   "metadata": {},
   "outputs": [
    {
     "data": {
      "text/html": [
       "<div>\n",
       "<style>\n",
       "    .dataframe thead tr:only-child th {\n",
       "        text-align: right;\n",
       "    }\n",
       "\n",
       "    .dataframe thead th {\n",
       "        text-align: left;\n",
       "    }\n",
       "\n",
       "    .dataframe tbody tr th {\n",
       "        vertical-align: top;\n",
       "    }\n",
       "</style>\n",
       "<table border=\"1\" class=\"dataframe\">\n",
       "  <thead>\n",
       "    <tr style=\"text-align: right;\">\n",
       "      <th></th>\n",
       "      <th>Locations</th>\n",
       "      <th>Population</th>\n",
       "      <th>Air Quality Index</th>\n",
       "      <th>Quality Status</th>\n",
       "    </tr>\n",
       "  </thead>\n",
       "  <tbody>\n",
       "    <tr>\n",
       "      <th>0</th>\n",
       "      <td>Los Angeles</td>\n",
       "      <td>3976000</td>\n",
       "      <td>72</td>\n",
       "      <td>Moderate</td>\n",
       "    </tr>\n",
       "    <tr>\n",
       "      <th>1</th>\n",
       "      <td>Houston</td>\n",
       "      <td>2303000</td>\n",
       "      <td>55</td>\n",
       "      <td>Moderate</td>\n",
       "    </tr>\n",
       "    <tr>\n",
       "      <th>2</th>\n",
       "      <td>Phoenix</td>\n",
       "      <td>1615000</td>\n",
       "      <td>26</td>\n",
       "      <td>Good</td>\n",
       "    </tr>\n",
       "    <tr>\n",
       "      <th>3</th>\n",
       "      <td>New York</td>\n",
       "      <td>8538000</td>\n",
       "      <td>22</td>\n",
       "      <td>Good</td>\n",
       "    </tr>\n",
       "    <tr>\n",
       "      <th>4</th>\n",
       "      <td>Colorado</td>\n",
       "      <td>5607000</td>\n",
       "      <td>830</td>\n",
       "      <td>Hazardous</td>\n",
       "    </tr>\n",
       "    <tr>\n",
       "      <th>10</th>\n",
       "      <td>New Mexico</td>\n",
       "      <td>2088000</td>\n",
       "      <td>70</td>\n",
       "      <td>Moderate</td>\n",
       "    </tr>\n",
       "  </tbody>\n",
       "</table>\n",
       "</div>"
      ],
      "text/plain": [
       "      Locations  Population  Air Quality Index Quality Status\n",
       "0   Los Angeles     3976000                 72       Moderate\n",
       "1       Houston     2303000                 55       Moderate\n",
       "2       Phoenix     1615000                 26           Good\n",
       "3      New York     8538000                 22           Good\n",
       "4      Colorado     5607000                830      Hazardous\n",
       "10   New Mexico     2088000                 70       Moderate"
      ]
     },
     "execution_count": 5,
     "metadata": {},
     "output_type": "execute_result"
    }
   ],
   "source": [
    "df[df['Population']>1000000]"
   ]
  },
  {
   "cell_type": "markdown",
   "metadata": {},
   "source": [
    "#### 6. Then only show the rows with an AQI less than 50. "
   ]
  },
  {
   "cell_type": "code",
   "execution_count": 6,
   "metadata": {},
   "outputs": [
    {
     "data": {
      "text/html": [
       "<div>\n",
       "<style>\n",
       "    .dataframe thead tr:only-child th {\n",
       "        text-align: right;\n",
       "    }\n",
       "\n",
       "    .dataframe thead th {\n",
       "        text-align: left;\n",
       "    }\n",
       "\n",
       "    .dataframe tbody tr th {\n",
       "        vertical-align: top;\n",
       "    }\n",
       "</style>\n",
       "<table border=\"1\" class=\"dataframe\">\n",
       "  <thead>\n",
       "    <tr style=\"text-align: right;\">\n",
       "      <th></th>\n",
       "      <th>Locations</th>\n",
       "      <th>Population</th>\n",
       "      <th>Air Quality Index</th>\n",
       "      <th>Quality Status</th>\n",
       "    </tr>\n",
       "  </thead>\n",
       "  <tbody>\n",
       "    <tr>\n",
       "      <th>2</th>\n",
       "      <td>Phoenix</td>\n",
       "      <td>1615000</td>\n",
       "      <td>26</td>\n",
       "      <td>Good</td>\n",
       "    </tr>\n",
       "    <tr>\n",
       "      <th>3</th>\n",
       "      <td>New York</td>\n",
       "      <td>8538000</td>\n",
       "      <td>22</td>\n",
       "      <td>Good</td>\n",
       "    </tr>\n",
       "    <tr>\n",
       "      <th>6</th>\n",
       "      <td>Tallahassee</td>\n",
       "      <td>190894</td>\n",
       "      <td>31</td>\n",
       "      <td>Good</td>\n",
       "    </tr>\n",
       "    <tr>\n",
       "      <th>8</th>\n",
       "      <td>Des Moines</td>\n",
       "      <td>215472</td>\n",
       "      <td>37</td>\n",
       "      <td>Good</td>\n",
       "    </tr>\n",
       "    <tr>\n",
       "      <th>9</th>\n",
       "      <td>Tulsa</td>\n",
       "      <td>403090</td>\n",
       "      <td>42</td>\n",
       "      <td>Good</td>\n",
       "    </tr>\n",
       "  </tbody>\n",
       "</table>\n",
       "</div>"
      ],
      "text/plain": [
       "     Locations  Population  Air Quality Index Quality Status\n",
       "2      Phoenix     1615000                 26           Good\n",
       "3     New York     8538000                 22           Good\n",
       "6  Tallahassee      190894                 31           Good\n",
       "8   Des Moines      215472                 37           Good\n",
       "9        Tulsa      403090                 42           Good"
      ]
     },
     "execution_count": 6,
     "metadata": {},
     "output_type": "execute_result"
    }
   ],
   "source": [
    "df[df['Air Quality Index']<50]"
   ]
  },
  {
   "cell_type": "markdown",
   "metadata": {},
   "source": [
    "#### 7. Show the average quality index per quality status.\n",
    "<font color=\"red\"> Hint: Use a grouped calculation. </font>"
   ]
  },
  {
   "cell_type": "code",
   "execution_count": 7,
   "metadata": {},
   "outputs": [
    {
     "name": "stdout",
     "output_type": "stream",
     "text": [
      "Quality Status\n",
      "Good          31.6\n",
      "Hazardous    830.0\n",
      "Moderate      62.0\n",
      "Name: Air Quality Index, dtype: float64\n"
     ]
    }
   ],
   "source": [
    "grouped = df.groupby('Quality Status')\n",
    "print(grouped['Air Quality Index'].mean())"
   ]
  },
  {
   "cell_type": "markdown",
   "metadata": {},
   "source": [
    "#### 8. Save your table in CSV format (as e.g. city_pollution_data.csv) with the first line as headers for the columns. "
   ]
  },
  {
   "cell_type": "code",
   "execution_count": 8,
   "metadata": {},
   "outputs": [],
   "source": [
    "import pandas as pd\n",
    "import numpy as np\n",
    "\n",
    "df.to_csv('city_pollution_data.csv',encoding='utf-8',index=False)"
   ]
  },
  {
   "cell_type": "markdown",
   "metadata": {},
   "source": [
    "#### 9. Duplicate the CSV file on your computer since you will be editing the copied version (e.g. copy_pollution_data2.csv). Open the new CSV file in a text editor. Note the way the data is organized. Now, in the text editor, add new lines including the data for the ‘Unhealthy’ listed city (Alberta). "
   ]
  },
  {
   "cell_type": "markdown",
   "metadata": {},
   "source": [
    "#### 10. Now read that updated CSV file into a new data frame called city_pollution2, and display the data."
   ]
  },
  {
   "cell_type": "code",
   "execution_count": 9,
   "metadata": {},
   "outputs": [
    {
     "name": "stdout",
     "output_type": "stream",
     "text": [
      "       Locations  Population  Air Quality Index Quality Status\n",
      "0    Los Angeles     3976000                 72       Moderate\n",
      "1        Houston     2303000                 55       Moderate\n",
      "2        Phoenix     1615000                 26           Good\n",
      "3       New York     8538000                 22           Good\n",
      "4       Colorado     5607000                830      Hazardous\n",
      "5    Tallahassee      190894                 31           Good\n",
      "6   Grand Rapids      196445                 51       Moderate\n",
      "7     Des Moines      215472                 37           Good\n",
      "8          Tulsa      403090                 42           Good\n",
      "9     New Mexico     2088000                 70       Moderate\n",
      "10       Alberta     4146000                164      Unhealthy\n"
     ]
    }
   ],
   "source": [
    "city_pollution2 = pd.read_csv('city_pollution_data2.csv')\n",
    "print(city_pollution2)"
   ]
  }
 ],
 "metadata": {
  "kernelspec": {
   "display_name": "Python 3",
   "language": "python",
   "name": "python3"
  },
  "language_info": {
   "codemirror_mode": {
    "name": "ipython",
    "version": 3
   },
   "file_extension": ".py",
   "mimetype": "text/x-python",
   "name": "python",
   "nbconvert_exporter": "python",
   "pygments_lexer": "ipython3",
   "version": "3.6.5"
  }
 },
 "nbformat": 4,
 "nbformat_minor": 2
}
