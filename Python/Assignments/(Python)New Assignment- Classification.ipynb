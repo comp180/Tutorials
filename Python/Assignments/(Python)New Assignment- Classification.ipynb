{
 "cells": [
  {
   "cell_type": "markdown",
   "metadata": {},
   "source": [
    "# Classification\n",
    "\n",
    "In this assignment, you will be making and testing a k-Nearest Neighbors classification model."
   ]
  },
  {
   "cell_type": "markdown",
   "metadata": {},
   "source": [
    "## 1. Understanding the Data\n",
    "\n",
    "We will be working with a data set built into Python called Iris. (For Python, we want to load the iris dataset by using sklearn's <a href=\"http://scikit-learn.org/stable/modules/generated/sklearn.datasets.load_iris.html\">load_iris()</a> function.). Iris contains information on many different Iris flowers, including sepal length and width, petal length and width, and flower species. You can use the pictures below to help you better understand what the data is talking about.\n",
    "\n",
    "Look at the following link for help with loading the Iris dataset and extracting data from it for plotting: http://scikit-learn.org/stable/auto_examples/datasets/plot_iris_dataset.html. "
   ]
  },
  {
   "cell_type": "markdown",
   "metadata": {},
   "source": [
    "### 1a. Make sure Jupyter allows you to display all the rows of Iris and then display the data set so you can see what is actually in it. Run the code to create a scatter plot of sepal width vs. sepal length and another scatterplot of petal width vs. petal length. "
   ]
  },
  {
   "cell_type": "code",
   "execution_count": null,
   "metadata": {},
   "outputs": [],
   "source": []
  },
  {
   "cell_type": "code",
   "execution_count": null,
   "metadata": {},
   "outputs": [],
   "source": []
  },
  {
   "cell_type": "code",
   "execution_count": null,
   "metadata": {},
   "outputs": [],
   "source": []
  },
  {
   "cell_type": "markdown",
   "metadata": {},
   "source": [
    "## 2. Creating Training and Testing Sets\n",
    "We want to be able to predict the species of a flower based on its petal and sepal width and length. To do this, we are going to divide the data into two sets- training and test."
   ]
  },
  {
   "cell_type": "code",
   "execution_count": null,
   "metadata": {},
   "outputs": [],
   "source": []
  },
  {
   "cell_type": "markdown",
   "metadata": {},
   "source": [
    "## 3. Building the Model\n",
    "Next, we are going to actually build the model using k-NN just like the classification tutorial. Use a k- value of 3."
   ]
  },
  {
   "cell_type": "code",
   "execution_count": null,
   "metadata": {},
   "outputs": [],
   "source": []
  },
  {
   "cell_type": "markdown",
   "metadata": {},
   "source": [
    "## 4. Testing the Model\n",
    "Now, we want to see how well the model performed. To do this, we will compare the predicted result next to the actual species type."
   ]
  },
  {
   "cell_type": "code",
   "execution_count": null,
   "metadata": {},
   "outputs": [],
   "source": []
  },
  {
   "cell_type": "code",
   "execution_count": null,
   "metadata": {},
   "outputs": [],
   "source": []
  }
 ],
 "metadata": {
  "kernelspec": {
   "display_name": "Python 3",
   "language": "python",
   "name": "python3"
  },
  "language_info": {
   "codemirror_mode": {
    "name": "ipython",
    "version": 3
   },
   "file_extension": ".py",
   "mimetype": "text/x-python",
   "name": "python",
   "nbconvert_exporter": "python",
   "pygments_lexer": "ipython3",
   "version": "3.6.5"
  }
 },
 "nbformat": 4,
 "nbformat_minor": 2
}
