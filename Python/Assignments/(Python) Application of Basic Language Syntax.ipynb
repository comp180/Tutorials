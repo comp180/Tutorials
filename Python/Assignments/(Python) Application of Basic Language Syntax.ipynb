{
 "cells": [
  {
   "cell_type": "markdown",
   "metadata": {},
   "source": [
    "### Application: Words appear same number of times in a given string"
   ]
  },
  {
   "cell_type": "markdown",
   "metadata": {},
   "source": [
    "Goal: Return True if the string “cat” and “dog” appear the same number of times in the given string. "
   ]
  },
  {
   "cell_type": "markdown",
   "metadata": {},
   "source": [
    "Use the following sample inputs to test your function:\n",
    "1. ‘Catdog’\n",
    "2. ‘Catcat’\n",
    "3. ‘1cat1cadodog’\n",
    "4. ‘ ‘ "
   ]
  },
  {
   "cell_type": "markdown",
   "metadata": {},
   "source": [
    "The table for help: <a href=https://docs.google.com/document/d/1Vy7kkxuP1mY5f2jYZU3Og7eVbuTv_Rhj3lFTrICUywg/edit> [Language Features: Basic language syntax] </a>"
   ]
  },
  {
   "cell_type": "code",
   "execution_count": null,
   "metadata": {},
   "outputs": [],
   "source": []
  }
 ],
 "metadata": {
  "kernelspec": {
   "display_name": "Python 3",
   "language": "python",
   "name": "python3"
  },
  "language_info": {
   "codemirror_mode": {
    "name": "ipython",
    "version": 3
   },
   "file_extension": ".py",
   "mimetype": "text/x-python",
   "name": "python",
   "nbconvert_exporter": "python",
   "pygments_lexer": "ipython3",
   "version": "3.6.5"
  }
 },
 "nbformat": 4,
 "nbformat_minor": 2
}
