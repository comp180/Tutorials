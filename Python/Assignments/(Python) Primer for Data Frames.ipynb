{
 "cells": [
  {
   "cell_type": "markdown",
   "metadata": {},
   "source": [
    "In this primer, we will study a data set that represents pollution in various cities in the United States and Canada. \n",
    "\n",
    "For help with this assignment, you can use the following tutorial material: <a href= \"https://docs.google.com/document/d/1phdIyrb1RdF05sUvWFNd1F_OO5W7G7kobB12IhOnmJI/edit\"> [Data frames tutorial]. </a>"
   ]
  },
  {
   "cell_type": "markdown",
   "metadata": {},
   "source": [
    "<font color=\"red\">Copy and paste the following and run the program after you have filled out the requested lines. Note, Python and R use ‘#’ for comments but if you are using matlab just Find/Replace every ‘#’ with a ‘%’ before you run your code.<br>\n",
    "\n",
    "You will be expected to show the code of the primer, and the created CSV file in a text editor in class. </font>"
   ]
  },
  {
   "cell_type": "markdown",
   "metadata": {},
   "source": [
    "### Steps"
   ]
  },
  {
   "cell_type": "markdown",
   "metadata": {},
   "source": [
    " #### 1. Input the following data into a data frame called city_pollution, and display the entire data frame:\n",
    "#Location, Population, Air Quality Index, Quality Status\n",
    "#Los Angeles, 3,976,000, 72, ‘Moderate’\n",
    "#Houston, 2,303,000, 55, ‘Moderate’ \n",
    "#Phoenix, 1,615,000, 26, ‘Good’\n",
    "#New York, 8,538,000, 22, ‘Good’\n",
    "#Colorado, 5,607,000, 830, ‘Hazardous’\n",
    "#Alberta, 4,146,000, 164, ‘Unhealthy’\n",
    "#Tallahassee, 190894, 31, ‘Good’\n",
    "#Grand Rapids, 196,445, 51, ‘Moderate’\n",
    "#Des Moines, 215,472, 37, ‘Good’\n",
    "#Tulsa, 403,090, 42, ‘Good’\n",
    "#New Mexico, 2,088,000, 70, ‘Moderate’"
   ]
  },
  {
   "cell_type": "code",
   "execution_count": null,
   "metadata": {},
   "outputs": [],
   "source": []
  },
  {
   "cell_type": "markdown",
   "metadata": {},
   "source": [
    "#### 2. Show the data of the cities with a status of ‘Moderate’. "
   ]
  },
  {
   "cell_type": "code",
   "execution_count": null,
   "metadata": {},
   "outputs": [],
   "source": []
  },
  {
   "cell_type": "markdown",
   "metadata": {},
   "source": [
    "#### 3. Show all of the cities and their corresponding population sizes that are in the data set. "
   ]
  },
  {
   "cell_type": "code",
   "execution_count": null,
   "metadata": {},
   "outputs": [],
   "source": []
  },
  {
   "cell_type": "markdown",
   "metadata": {},
   "source": [
    "#### 4. Delete the ‘Unhealthy’ cities from the data."
   ]
  },
  {
   "cell_type": "code",
   "execution_count": null,
   "metadata": {},
   "outputs": [],
   "source": []
  },
  {
   "cell_type": "markdown",
   "metadata": {},
   "source": [
    "#### 7. Only show the rows where the population is more than 1 million. "
   ]
  },
  {
   "cell_type": "code",
   "execution_count": null,
   "metadata": {},
   "outputs": [],
   "source": []
  },
  {
   "cell_type": "markdown",
   "metadata": {},
   "source": [
    "#### 8. Then only show the rows with an AQI less than 50. "
   ]
  },
  {
   "cell_type": "code",
   "execution_count": null,
   "metadata": {},
   "outputs": [],
   "source": []
  },
  {
   "cell_type": "markdown",
   "metadata": {},
   "source": [
    "#### 9. Show the average quality index per quality status.\n",
    "<font color=\"red\"> Hint: Use a grouped calculation. </font>"
   ]
  },
  {
   "cell_type": "code",
   "execution_count": null,
   "metadata": {},
   "outputs": [],
   "source": []
  },
  {
   "cell_type": "markdown",
   "metadata": {},
   "source": [
    "#### 10. Save your table in CSV format (as e.g. city_pollution_data.csv) with the first line as headers for the columns. "
   ]
  },
  {
   "cell_type": "code",
   "execution_count": null,
   "metadata": {},
   "outputs": [],
   "source": []
  },
  {
   "cell_type": "markdown",
   "metadata": {},
   "source": [
    "#### 11. Duplicate the CSV file on your computer since you will be editing the copied version (e.g. copy_pollution_data2.csv). Open the new CSV file in a text editor. Note the way the data is organized. Now, in the text editor, add new lines including the data for the ‘Unhealthy’ listed city (Alberta). "
   ]
  },
  {
   "cell_type": "markdown",
   "metadata": {},
   "source": [
    "#### 12. Now read that updated CSV file into a new data frame called city_pollution2, and display the data."
   ]
  },
  {
   "cell_type": "code",
   "execution_count": null,
   "metadata": {},
   "outputs": [],
   "source": []
  }
 ],
 "metadata": {
  "kernelspec": {
   "display_name": "Python 3",
   "language": "python",
   "name": "python3"
  },
  "language_info": {
   "codemirror_mode": {
    "name": "ipython",
    "version": 3
   },
   "file_extension": ".py",
   "mimetype": "text/x-python",
   "name": "python",
   "nbconvert_exporter": "python",
   "pygments_lexer": "ipython3",
   "version": "3.6.5"
  }
 },
 "nbformat": 4,
 "nbformat_minor": 2
}
