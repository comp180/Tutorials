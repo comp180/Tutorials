{
 "cells": [
  {
   "cell_type": "markdown",
   "metadata": {},
   "source": [
    "The purpose of this demo is to demonstrate the ease and utility of performing classification. Although there are many classifiers (many of which are intimately related with similarly-named regressions) one of the most used and easiest to understand classifiers is k-Nearest Neighbors. Basically, each sample of training data is a labeled point in a high dimensional space, and when test data comes in you simply poll the k nearest neighbors to that unlabeled point to determine which class it belongs to.\n",
    "\n",
    "In this example, we will generate data that belongs to three different sources. We will then train the classifier using a subset of the data, and test the classifier on a separate set."
   ]
  },
  {
   "cell_type": "markdown",
   "metadata": {},
   "source": [
    "## Create a function that generates features depending on a label being either ‘A’, ‘B’, or ‘C’. Assume n is the (0,1) normal distribution. "
   ]
  },
  {
   "cell_type": "code",
   "execution_count": 1,
   "metadata": {},
   "outputs": [],
   "source": [
    "import numpy as np\n",
    "import math\n",
    "import pandas as pd\n",
    "from sklearn import neighbors\n",
    "from sklearn import metrics\n",
    "from sklearn.metrics import accuracy_score, recall_score, average_precision_score, confusion_matrix\n",
    "from matplotlib.pyplot import *"
   ]
  },
  {
   "cell_type": "code",
   "execution_count": 2,
   "metadata": {},
   "outputs": [],
   "source": [
    "%matplotlib inline\n",
    "#Create a function that generates features depending on a label \n",
    "#being either 'A\", 'B', or 'C'\n",
    "def label_features(label):\n",
    "    if (label == 'A'):\n",
    "        x = 1 + np.random.normal(0,1,1)\n",
    "        y = 3 + np.random.normal(0,1,1)\n",
    "    if (label == 'B'):\n",
    "        x = 3 + np.random.normal(0,1,1)\n",
    "        y = 5 + np.random.normal(0,1,1)\n",
    "    if (label == 'C'):\n",
    "        x = 5 + np.random.normal(0,1,1)\n",
    "        y = 1 + np.random.normal(0,1,1)\n",
    "    return x,y"
   ]
  },
  {
   "cell_type": "markdown",
   "metadata": {},
   "source": [
    "##  Generate two samples with equal numbers in each class."
   ]
  },
  {
   "cell_type": "markdown",
   "metadata": {},
   "source": [
    "### A training set of 30 samples total"
   ]
  },
  {
   "cell_type": "code",
   "execution_count": 3,
   "metadata": {},
   "outputs": [
    {
     "name": "stdout",
     "output_type": "stream",
     "text": [
      "Labels for Data Points\n",
      "['A' 'A' 'A' 'A' 'A' 'A' 'A' 'A' 'A' 'A' 'B' 'B' 'B' 'B' 'B' 'B' 'B' 'B'\n",
      " 'B' 'B' 'C' 'C' 'C' 'C' 'C' 'C' 'C' 'C' 'C' 'C']\n",
      "\n",
      "X & Y Values in the Training Set\n",
      "[[ 0.85876087  2.97132053]\n",
      " [-0.70327271  4.16161423]\n",
      " [-1.24360376  2.1173339 ]\n",
      " [ 2.85020343  3.32176264]\n",
      " [ 2.2139956   3.78700417]\n",
      " [ 2.290423    2.3657744 ]\n",
      " [ 2.0890955   2.64554831]\n",
      " [ 0.6723635   3.66014185]\n",
      " [-0.15104562  3.30550202]\n",
      " [ 0.6398056   4.22746888]\n",
      " [ 2.71141776  5.40713187]\n",
      " [ 2.41566766  4.6537222 ]\n",
      " [ 1.49647298  3.62116596]\n",
      " [ 2.63147964  6.12440052]\n",
      " [ 2.34707991  3.54101374]\n",
      " [ 3.27438365  5.3471527 ]\n",
      " [ 3.01313331  3.7733163 ]\n",
      " [ 3.15579114  4.14415599]\n",
      " [ 2.8725457   2.98331169]\n",
      " [ 1.95483425  4.07588516]\n",
      " [ 5.82376997  1.02266165]\n",
      " [ 5.17224038  0.45971602]\n",
      " [ 3.96670392  0.45781366]\n",
      " [ 4.10867249 -0.13152579]\n",
      " [ 4.36071128  0.90322387]\n",
      " [ 3.88932533  1.32948227]\n",
      " [ 6.90738332  1.64526618]\n",
      " [ 6.42290873  0.91046842]\n",
      " [ 5.46791172  0.2948462 ]\n",
      " [ 5.65159517  2.16116111]]\n"
     ]
    }
   ],
   "source": [
    "#Create array with labels ‘a’,’b’,and ‘c’\n",
    "letters = []\n",
    "for count in range(10):\n",
    "    letters.append('A')\n",
    "for count in range(10):\n",
    "    letters.append('B')\n",
    "for count in range(10):\n",
    "    letters.append('C')\n",
    "letters_A = np.array(letters)\n",
    "print('Labels for Data Points')\n",
    "print(letters_A)\n",
    "\n",
    "#Create data points for training set\n",
    "trainingSet = []\n",
    "for count in range(10):\n",
    "    trainingSet.append(label_features('A'))\n",
    "for count in range(10):\n",
    "    trainingSet.append(label_features('B'))\n",
    "for count in range(10):\n",
    "    trainingSet.append(label_features('C'))\n",
    "    \n",
    "#X-values from training set\n",
    "x_training = [x for x, y in trainingSet]\n",
    "#Converting the x-training list into a 1D array\n",
    "x_trainingA = np.array(x_training)\n",
    "\n",
    "#Y values from training set\n",
    "y_training = [y for x, y in trainingSet]\n",
    "#Converting the y-training list into a 1D array\n",
    "y_trainingA = np.array(y_training)\n",
    "    \n",
    "#Creates array with x and y training values\n",
    "xy_trainingA = np.concatenate((x_trainingA,y_trainingA),1)\n",
    "print()\n",
    "print('X & Y Values in the Training Set')\n",
    "print(xy_trainingA)"
   ]
  },
  {
   "cell_type": "markdown",
   "metadata": {},
   "source": [
    "### A test set of 150 samples"
   ]
  },
  {
   "cell_type": "code",
   "execution_count": 4,
   "metadata": {},
   "outputs": [],
   "source": [
    "test_targets = []\n",
    "for count in range(50):\n",
    "    test_targets.append('A')\n",
    "for count in range(50):\n",
    "    test_targets.append('B')\n",
    "for count in range(50):\n",
    "    test_targets.append('C')\n",
    "\n",
    "testSet = []\n",
    "for letter in test_targets:\n",
    "    testSet.append(label_features('A'))\n",
    "    \n",
    "#X-values from test set\n",
    "x_test = [x for x, y in testSet]\n",
    "#Converting the x-training list into a 1D array\n",
    "x_testA = np.array(x_test)\n",
    "\n",
    "#Y values from training set\n",
    "y_test = [y for x, y in testSet]\n",
    "#Converting the y-training list into a 1D array\n",
    "y_testA = np.array(y_test)\n",
    "    \n",
    "#Creates array with x and y training values\n",
    "xy_testA = np.concatenate((x_testA,y_testA),1)\n",
    "\n",
    "#turning the targets into an array\n",
    "test_targets = np.array(test_targets)"
   ]
  },
  {
   "cell_type": "markdown",
   "metadata": {},
   "source": [
    "## Create a k-NN classifier with the following values of k. "
   ]
  },
  {
   "cell_type": "markdown",
   "metadata": {},
   "source": [
    "### k=1"
   ]
  },
  {
   "cell_type": "code",
   "execution_count": 5,
   "metadata": {},
   "outputs": [],
   "source": [
    "from sklearn import neighbors"
   ]
  },
  {
   "cell_type": "code",
   "execution_count": 10,
   "metadata": {},
   "outputs": [
    {
     "name": "stdout",
     "output_type": "stream",
     "text": [
      "['A' 'A' 'B' 'A' 'A' 'A' 'A' 'A' 'A' 'A' 'A' 'A' 'B' 'A' 'A' 'A' 'A' 'A'\n",
      " 'A' 'A' 'A' 'A' 'A' 'A' 'A' 'B' 'A' 'A' 'A' 'A' 'A' 'B' 'A' 'A' 'A' 'A'\n",
      " 'A' 'A' 'A' 'A' 'B' 'A' 'A' 'A' 'B' 'A' 'A' 'A' 'A' 'A' 'A' 'A' 'B' 'B'\n",
      " 'A' 'A' 'A' 'A' 'A' 'B' 'A' 'A' 'A' 'B' 'A' 'A' 'B' 'A' 'A' 'A' 'A' 'B'\n",
      " 'B' 'A' 'A' 'B' 'A' 'B' 'A' 'A' 'A' 'A' 'A' 'A' 'A' 'A' 'A' 'A' 'B' 'A'\n",
      " 'A' 'B' 'C' 'A' 'A' 'A' 'B' 'A' 'A' 'A' 'A' 'A' 'A' 'A' 'A' 'A' 'A' 'B'\n",
      " 'A' 'A' 'A' 'A' 'B' 'A' 'A' 'A' 'B' 'A' 'A' 'A' 'A' 'A' 'B' 'B' 'A' 'B'\n",
      " 'A' 'A' 'A' 'A' 'B' 'A' 'B' 'A' 'A' 'B' 'A' 'A' 'A' 'A' 'A' 'A' 'A' 'A'\n",
      " 'A' 'A' 'B' 'A' 'A' 'A']\n"
     ]
    }
   ],
   "source": [
    "#k-NN classifier for k=1\n",
    "#By using ‘distance’, closer neighbors will have greater weight #than further ones\n",
    "k1 = neighbors.KNeighborsClassifier(1,weights='distance')\n",
    "k1.fit(xy_trainingA,letters_A)\n",
    "# apply the model to the test data\n",
    "k1_pred = k1.predict(xy_testA)\n",
    "print(k1_pred)"
   ]
  },
  {
   "cell_type": "markdown",
   "metadata": {},
   "source": [
    "### k=3"
   ]
  },
  {
   "cell_type": "code",
   "execution_count": 11,
   "metadata": {},
   "outputs": [
    {
     "name": "stdout",
     "output_type": "stream",
     "text": [
      "['A' 'A' 'B' 'A' 'A' 'A' 'A' 'A' 'A' 'A' 'A' 'A' 'A' 'B' 'A' 'A' 'A' 'A'\n",
      " 'A' 'A' 'A' 'A' 'A' 'A' 'A' 'A' 'A' 'A' 'A' 'A' 'A' 'A' 'A' 'A' 'A' 'A'\n",
      " 'A' 'A' 'A' 'A' 'B' 'A' 'A' 'A' 'B' 'A' 'A' 'A' 'A' 'A' 'A' 'A' 'B' 'B'\n",
      " 'A' 'A' 'A' 'A' 'A' 'B' 'A' 'A' 'B' 'B' 'A' 'A' 'B' 'A' 'A' 'A' 'A' 'B'\n",
      " 'B' 'A' 'A' 'B' 'A' 'B' 'A' 'A' 'A' 'A' 'A' 'A' 'A' 'A' 'A' 'A' 'A' 'A'\n",
      " 'A' 'A' 'C' 'A' 'A' 'A' 'B' 'A' 'A' 'B' 'A' 'A' 'A' 'A' 'A' 'A' 'A' 'B'\n",
      " 'A' 'A' 'A' 'A' 'B' 'A' 'A' 'A' 'B' 'A' 'A' 'A' 'A' 'A' 'A' 'B' 'B' 'B'\n",
      " 'A' 'A' 'A' 'A' 'B' 'A' 'B' 'A' 'A' 'A' 'B' 'A' 'A' 'C' 'A' 'B' 'A' 'B'\n",
      " 'A' 'A' 'B' 'A' 'A' 'B']\n"
     ]
    }
   ],
   "source": [
    "#k-NN classifier for k=3\n",
    "k3 = neighbors.KNeighborsClassifier(3,weights='distance')\n",
    "# apply the model to the test data\n",
    "k3.fit(xy_trainingA,letters_A)\n",
    "k3_pred = k3.predict(xy_testA)\n",
    "print(k3_pred)"
   ]
  },
  {
   "cell_type": "markdown",
   "metadata": {},
   "source": [
    "### k=9"
   ]
  },
  {
   "cell_type": "code",
   "execution_count": 12,
   "metadata": {},
   "outputs": [
    {
     "name": "stdout",
     "output_type": "stream",
     "text": [
      "['A' 'A' 'B' 'A' 'A' 'A' 'A' 'A' 'A' 'A' 'A' 'A' 'A' 'A' 'A' 'A' 'A' 'A'\n",
      " 'A' 'A' 'A' 'A' 'A' 'A' 'A' 'A' 'A' 'A' 'A' 'A' 'A' 'A' 'A' 'A' 'A' 'A'\n",
      " 'A' 'A' 'A' 'A' 'B' 'A' 'A' 'A' 'A' 'A' 'A' 'A' 'A' 'A' 'A' 'A' 'B' 'B'\n",
      " 'A' 'A' 'A' 'A' 'A' 'A' 'A' 'A' 'B' 'B' 'A' 'A' 'A' 'A' 'A' 'A' 'A' 'B'\n",
      " 'B' 'A' 'A' 'B' 'A' 'A' 'A' 'A' 'A' 'A' 'A' 'A' 'A' 'A' 'A' 'A' 'B' 'A'\n",
      " 'A' 'A' 'C' 'A' 'A' 'A' 'A' 'A' 'A' 'B' 'A' 'A' 'A' 'A' 'A' 'A' 'A' 'B'\n",
      " 'A' 'A' 'A' 'A' 'B' 'A' 'A' 'A' 'B' 'A' 'A' 'A' 'A' 'A' 'B' 'B' 'B' 'B'\n",
      " 'A' 'A' 'A' 'A' 'B' 'A' 'B' 'A' 'A' 'B' 'B' 'A' 'A' 'C' 'A' 'B' 'A' 'B'\n",
      " 'A' 'A' 'B' 'A' 'A' 'B']\n"
     ]
    }
   ],
   "source": [
    "#k-NN classifier for k=9\n",
    "k9 = neighbors.KNeighborsClassifier(9,weights='distance')\n",
    "k9.fit(xy_trainingA,letters_A)\n",
    "# apply the model to the test data\n",
    "k9_pred = k9.predict(xy_testA)\n",
    "print(k9_pred)"
   ]
  },
  {
   "cell_type": "markdown",
   "metadata": {},
   "source": [
    "## Create a scatter plot showing the training data with the labels as different colors and include a legend."
   ]
  },
  {
   "cell_type": "code",
   "execution_count": 9,
   "metadata": {},
   "outputs": [
    {
     "data": {
      "image/png": "[encoded data removed]",
      "text/plain": [
       "<Figure size 432x288 with 1 Axes>"
      ]
     },
     "metadata": {},
     "output_type": "display_data"
    }
   ],
   "source": [
    "#Plotting the training data\n",
    "%matplotlib inline\n",
    "#Plots the first set of 10 values in the training set-- 'A' values\n",
    "plot(x_trainingA[0:10],y_trainingA[0:10],'go',label='A')\n",
    "#Plots the second set of 10 values in the training set -- 'B' values\n",
    "plot(x_trainingA[10:20],y_trainingA[10:20],'ro',label='B')\n",
    "#Plots the third set of 10 values in the training set-- 'C' values\n",
    "plot(x_trainingA[20:30],y_trainingA[20:30],'mo',label='C')\n",
    "xlabel('X-values for Training Set')\n",
    "ylabel('Y-values for Training Set')\n",
    "title('Y vs. X for Training Set')\n",
    "legend(loc='best')\n",
    "show()"
   ]
  }
 ],
 "metadata": {
  "kernelspec": {
   "display_name": "Python 3",
   "language": "python",
   "name": "python3"
  },
  "language_info": {
   "codemirror_mode": {
    "name": "ipython",
    "version": 3
   },
   "file_extension": ".py",
   "mimetype": "text/x-python",
   "name": "python",
   "nbconvert_exporter": "python",
   "pygments_lexer": "ipython3",
   "version": "3.6.5"
  }
 },
 "nbformat": 4,
 "nbformat_minor": 2
}
