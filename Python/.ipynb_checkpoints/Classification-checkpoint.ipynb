{
 "cells": [
  {
   "cell_type": "markdown",
   "metadata": {},
   "source": [
    "The purpose of this demo is to demonstrate the ease and utility of performing classification. Although there are many classifiers (many of which are intimately related with similarly-named regressions) one of the most used and easiest to understand classifiers is k-Nearest Neighbors. Basically, each sample of training data is a labeled point in a high dimensional space, and when test data comes in you simply poll the k nearest neighbors to that unlabeled point to determine which class it belongs to.\n",
    "\n",
    "In this example, we will generate data that belongs to three different sources. We will then train the classifier using a subset of the data, and test the classifier on a separate set."
   ]
  },
  {
   "cell_type": "markdown",
   "metadata": {},
   "source": [
    "## Create a function that generates features depending on a label being either ‘A’, ‘B’, or ‘C’. Assume n is the (0,1) normal distribution. "
   ]
  },
  {
   "cell_type": "code",
   "execution_count": 17,
   "metadata": {},
   "outputs": [],
   "source": [
    "import numpy as np\n",
    "import math\n",
    "import pandas as pd\n",
    "from sklearn import neighbors\n",
    "from sklearn import metrics\n",
    "from sklearn.metrics import accuracy_score, recall_score, average_precision_score, confusion_matrix, precision_score\n",
    "from matplotlib.pyplot import *"
   ]
  },
  {
   "cell_type": "code",
   "execution_count": 18,
   "metadata": {},
   "outputs": [],
   "source": [
    "%matplotlib inline\n",
    "#Create a function that generates features depending on a label \n",
    "#being either 'A\", 'B', or 'C'\n",
    "def label_features(label):\n",
    "    if (label == 'A'):\n",
    "        x = 1 + np.random.normal(0,1,1)\n",
    "        y = 3 + np.random.normal(0,1,1)\n",
    "    if (label == 'B'):\n",
    "        x = 3 + np.random.normal(0,1,1)\n",
    "        y = 5 + np.random.normal(0,1,1)\n",
    "    if (label == 'C'):\n",
    "        x = 5 + np.random.normal(0,1,1)\n",
    "        y = 1 + np.random.normal(0,1,1)\n",
    "    return x,y"
   ]
  },
  {
   "cell_type": "markdown",
   "metadata": {},
   "source": [
    "##  Generate two samples with equal numbers in each class."
   ]
  },
  {
   "cell_type": "markdown",
   "metadata": {},
   "source": [
    "### A training set of 30 samples total"
   ]
  },
  {
   "cell_type": "code",
   "execution_count": 19,
   "metadata": {},
   "outputs": [
    {
     "name": "stdout",
     "output_type": "stream",
     "text": [
      "Labels for Data Points\n",
      "['A' 'A' 'A' 'A' 'A' 'A' 'A' 'A' 'A' 'A' 'B' 'B' 'B' 'B' 'B' 'B' 'B' 'B'\n",
      " 'B' 'B' 'C' 'C' 'C' 'C' 'C' 'C' 'C' 'C' 'C' 'C']\n",
      "\n",
      "X & Y Values in the Training Set\n",
      "[[-0.88105588  2.81677745]\n",
      " [-0.17857552  4.13508134]\n",
      " [-0.04880664  1.67322049]\n",
      " [ 1.68742814  2.85234868]\n",
      " [ 0.71022316  3.82878189]\n",
      " [ 1.14888163  3.90698133]\n",
      " [ 1.37006006  4.81824494]\n",
      " [ 0.03545999  4.5917175 ]\n",
      " [ 1.57743543  4.9994542 ]\n",
      " [ 1.34339698  3.81254411]\n",
      " [ 1.96432179  6.14180676]\n",
      " [ 2.7568628   5.7694692 ]\n",
      " [ 2.82993791  3.84523516]\n",
      " [ 1.91303699  5.04441927]\n",
      " [ 3.2513724   5.42551328]\n",
      " [ 2.64105614  5.12518169]\n",
      " [ 4.13035727  4.19703908]\n",
      " [ 4.26942562  5.04095416]\n",
      " [ 3.91856275  6.87936789]\n",
      " [ 2.33048413  5.44393776]\n",
      " [ 3.73957242 -0.52809244]\n",
      " [ 5.80965661  0.41433256]\n",
      " [ 4.13643461  0.37314561]\n",
      " [ 5.52706658  2.4793843 ]\n",
      " [ 4.41181506  0.08164348]\n",
      " [ 6.8211128  -0.01507804]\n",
      " [ 6.16449501  0.87458253]\n",
      " [ 5.36495674  2.26068859]\n",
      " [ 4.16194155  1.41677707]\n",
      " [ 5.90190635  2.43831323]]\n"
     ]
    }
   ],
   "source": [
    "#Create array with labels ‘a’,’b’,and ‘c’\n",
    "letters = []\n",
    "for count in range(10):\n",
    "    letters.append('A')\n",
    "for count in range(10):\n",
    "    letters.append('B')\n",
    "for count in range(10):\n",
    "    letters.append('C')\n",
    "letters_A = np.array(letters)\n",
    "print('Labels for Data Points')\n",
    "print(letters_A)\n",
    "\n",
    "#Create data points for training set\n",
    "trainingSet = []\n",
    "for count in range(10):\n",
    "    trainingSet.append(label_features('A'))\n",
    "for count in range(10):\n",
    "    trainingSet.append(label_features('B'))\n",
    "for count in range(10):\n",
    "    trainingSet.append(label_features('C'))\n",
    "    \n",
    "#X-values from training set\n",
    "x_training = [x for x, y in trainingSet]\n",
    "#Converting the x-training list into a 1D array\n",
    "x_trainingA = np.array(x_training)\n",
    "\n",
    "#Y values from training set\n",
    "y_training = [y for x, y in trainingSet]\n",
    "#Converting the y-training list into a 1D array\n",
    "y_trainingA = np.array(y_training)\n",
    "    \n",
    "#Creates array with x and y training values\n",
    "xy_trainingA = np.concatenate((x_trainingA,y_trainingA),1)\n",
    "print()\n",
    "print('X & Y Values in the Training Set')\n",
    "print(xy_trainingA)"
   ]
  },
  {
   "cell_type": "markdown",
   "metadata": {},
   "source": [
    "### A test set of 150 samples"
   ]
  },
  {
   "cell_type": "code",
   "execution_count": 20,
   "metadata": {},
   "outputs": [],
   "source": [
    "test_targets = []\n",
    "for count in range(50):\n",
    "    test_targets.append('A')\n",
    "for count in range(50):\n",
    "    test_targets.append('B')\n",
    "for count in range(50):\n",
    "    test_targets.append('C')\n",
    "\n",
    "testSet = []\n",
    "for letter in test_targets:\n",
    "    testSet.append(label_features('A'))\n",
    "    \n",
    "#X-values from test set\n",
    "x_test = [x for x, y in testSet]\n",
    "#Converting the x-training list into a 1D array\n",
    "x_testA = np.array(x_test)\n",
    "\n",
    "#Y values from training set\n",
    "y_test = [y for x, y in testSet]\n",
    "#Converting the y-training list into a 1D array\n",
    "y_testA = np.array(y_test)\n",
    "    \n",
    "#Creates array with x and y training values\n",
    "xy_testA = np.concatenate((x_testA,y_testA),1)\n",
    "\n",
    "#turning the targets into an array\n",
    "test_targets = np.array(test_targets)"
   ]
  },
  {
   "cell_type": "markdown",
   "metadata": {},
   "source": [
    "## Create a k-NN classifier with the following values of k. "
   ]
  },
  {
   "cell_type": "markdown",
   "metadata": {},
   "source": [
    "### k=1"
   ]
  },
  {
   "cell_type": "code",
   "execution_count": 21,
   "metadata": {},
   "outputs": [],
   "source": [
    "from sklearn import neighbors"
   ]
  },
  {
   "cell_type": "code",
   "execution_count": 22,
   "metadata": {},
   "outputs": [
    {
     "name": "stdout",
     "output_type": "stream",
     "text": [
      "['A' 'A' 'A' 'A' 'A' 'A' 'A' 'A' 'A' 'A' 'A' 'A' 'A' 'A' 'A' 'A' 'B' 'A'\n",
      " 'A' 'A' 'A' 'A' 'A' 'A' 'A' 'A' 'A' 'A' 'C' 'A' 'A' 'A' 'A' 'A' 'A' 'A'\n",
      " 'A' 'A' 'A' 'A' 'A' 'A' 'A' 'A' 'A' 'A' 'A' 'A' 'A' 'A' 'A' 'A' 'A' 'A'\n",
      " 'A' 'A' 'A' 'A' 'A' 'A' 'A' 'A' 'B' 'A' 'A' 'A' 'A' 'A' 'A' 'A' 'A' 'A'\n",
      " 'A' 'A' 'A' 'A' 'A' 'A' 'A' 'A' 'A' 'A' 'A' 'A' 'A' 'A' 'A' 'A' 'A' 'A'\n",
      " 'A' 'A' 'B' 'A' 'A' 'B' 'A' 'A' 'A' 'A' 'A' 'A' 'A' 'A' 'A' 'A' 'A' 'A'\n",
      " 'A' 'A' 'A' 'A' 'A' 'A' 'A' 'A' 'A' 'A' 'A' 'A' 'A' 'A' 'A' 'A' 'A' 'A'\n",
      " 'A' 'A' 'A' 'A' 'A' 'C' 'B' 'A' 'A' 'A' 'A' 'A' 'A' 'A' 'A' 'A' 'A' 'A'\n",
      " 'A' 'A' 'A' 'A' 'A' 'A']\n"
     ]
    }
   ],
   "source": [
    "#k-NN classifier for k=1\n",
    "#By using ‘distance’, closer neighbors will have greater weight #than further ones\n",
    "k1 = neighbors.KNeighborsClassifier(1,weights='distance')\n",
    "k1.fit(xy_trainingA,letters_A)\n",
    "# apply the model to the test data\n",
    "k1_pred = k1.predict(xy_testA)\n",
    "print(k1_pred)"
   ]
  },
  {
   "cell_type": "markdown",
   "metadata": {},
   "source": [
    "### k=3"
   ]
  },
  {
   "cell_type": "code",
   "execution_count": 23,
   "metadata": {},
   "outputs": [
    {
     "name": "stdout",
     "output_type": "stream",
     "text": [
      "['A' 'A' 'A' 'C' 'A' 'A' 'A' 'A' 'A' 'A' 'A' 'A' 'A' 'C' 'A' 'A' 'B' 'A'\n",
      " 'A' 'A' 'A' 'A' 'A' 'A' 'A' 'A' 'A' 'A' 'C' 'A' 'A' 'A' 'A' 'A' 'A' 'A'\n",
      " 'A' 'A' 'A' 'A' 'A' 'A' 'A' 'A' 'A' 'A' 'A' 'A' 'A' 'A' 'A' 'A' 'A' 'A'\n",
      " 'A' 'A' 'A' 'A' 'A' 'A' 'A' 'A' 'A' 'A' 'A' 'A' 'A' 'A' 'A' 'A' 'A' 'A'\n",
      " 'A' 'A' 'A' 'A' 'A' 'A' 'A' 'A' 'A' 'A' 'A' 'A' 'A' 'A' 'A' 'A' 'A' 'A'\n",
      " 'A' 'A' 'B' 'A' 'A' 'B' 'A' 'A' 'A' 'A' 'A' 'A' 'A' 'A' 'A' 'A' 'A' 'A'\n",
      " 'A' 'A' 'A' 'A' 'A' 'A' 'A' 'A' 'A' 'A' 'A' 'A' 'A' 'A' 'A' 'A' 'A' 'A'\n",
      " 'A' 'A' 'A' 'A' 'A' 'C' 'A' 'A' 'A' 'A' 'A' 'A' 'A' 'A' 'A' 'A' 'A' 'A'\n",
      " 'A' 'A' 'A' 'A' 'A' 'A']\n"
     ]
    }
   ],
   "source": [
    "#k-NN classifier for k=3\n",
    "k3 = neighbors.KNeighborsClassifier(3,weights='distance')\n",
    "# apply the model to the test data\n",
    "k3.fit(xy_trainingA,letters_A)\n",
    "k3_pred = k3.predict(xy_testA)\n",
    "print(k3_pred)"
   ]
  },
  {
   "cell_type": "markdown",
   "metadata": {},
   "source": [
    "### k=9"
   ]
  },
  {
   "cell_type": "code",
   "execution_count": 24,
   "metadata": {},
   "outputs": [
    {
     "name": "stdout",
     "output_type": "stream",
     "text": [
      "['A' 'A' 'A' 'A' 'A' 'A' 'A' 'A' 'A' 'A' 'A' 'A' 'A' 'C' 'A' 'A' 'A' 'A'\n",
      " 'A' 'A' 'A' 'A' 'A' 'A' 'A' 'A' 'A' 'A' 'C' 'A' 'A' 'A' 'A' 'A' 'A' 'A'\n",
      " 'A' 'A' 'A' 'A' 'A' 'A' 'A' 'A' 'A' 'A' 'A' 'A' 'A' 'A' 'A' 'A' 'A' 'A'\n",
      " 'A' 'A' 'A' 'A' 'A' 'A' 'A' 'A' 'B' 'A' 'A' 'A' 'A' 'A' 'A' 'A' 'A' 'A'\n",
      " 'C' 'A' 'A' 'A' 'A' 'A' 'A' 'A' 'A' 'A' 'A' 'A' 'A' 'A' 'A' 'A' 'A' 'A'\n",
      " 'A' 'A' 'B' 'A' 'A' 'C' 'A' 'A' 'A' 'A' 'A' 'A' 'A' 'A' 'A' 'A' 'A' 'A'\n",
      " 'A' 'A' 'A' 'A' 'A' 'A' 'A' 'A' 'A' 'A' 'A' 'A' 'A' 'A' 'A' 'A' 'A' 'A'\n",
      " 'A' 'A' 'A' 'A' 'A' 'C' 'B' 'A' 'A' 'A' 'A' 'A' 'A' 'A' 'A' 'A' 'A' 'A'\n",
      " 'A' 'A' 'A' 'A' 'A' 'A']\n"
     ]
    }
   ],
   "source": [
    "#k-NN classifier for k=9\n",
    "k9 = neighbors.KNeighborsClassifier(9,weights='distance')\n",
    "k9.fit(xy_trainingA,letters_A)\n",
    "# apply the model to the test data\n",
    "k9_pred = k9.predict(xy_testA)\n",
    "print(k9_pred)"
   ]
  },
  {
   "cell_type": "markdown",
   "metadata": {},
   "source": [
    "## Create a scatter plot showing the training data with the labels as different colors and include a legend."
   ]
  },
  {
   "cell_type": "code",
   "execution_count": 25,
   "metadata": {},
   "outputs": [
    {
     "data": {
      "image/png": "[encoded data removed]",
      "text/plain": [
       "<Figure size 432x288 with 1 Axes>"
      ]
     },
     "metadata": {},
     "output_type": "display_data"
    }
   ],
   "source": [
    "#Plotting the training data\n",
    "%matplotlib inline\n",
    "#Plots the first set of 10 values in the training set-- 'A' values\n",
    "plot(x_trainingA[0:10],y_trainingA[0:10],'go',label='A')\n",
    "#Plots the second set of 10 values in the training set -- 'B' values\n",
    "plot(x_trainingA[10:20],y_trainingA[10:20],'ro',label='B')\n",
    "#Plots the third set of 10 values in the training set-- 'C' values\n",
    "plot(x_trainingA[20:30],y_trainingA[20:30],'mo',label='C')\n",
    "xlabel('X-values for Training Set')\n",
    "ylabel('Y-values for Training Set')\n",
    "title('Y vs. X for Training Set')\n",
    "legend(loc='best')\n",
    "show()"
   ]
  },
  {
   "cell_type": "markdown",
   "metadata": {},
   "source": [
    "## Apply each of the 3 classifiers to predict the class in the test set. Find the overall accuracy, average recall, and average precision. Also, create the confusion matrix showing the mistakes (The expectation is that k=3 will perform best, but this is not guaranteed). "
   ]
  },
  {
   "cell_type": "markdown",
   "metadata": {},
   "source": [
    "### a. Overall Accuracy"
   ]
  },
  {
   "cell_type": "code",
   "execution_count": 26,
   "metadata": {},
   "outputs": [
    {
     "name": "stdout",
     "output_type": "stream",
     "text": [
      "Accuracy for k=1\n",
      "34.6666666667\n",
      "Accuracy for k=3\n",
      "32.6666666667\n",
      "Accuracy for k=9\n",
      "34.0\n"
     ]
    }
   ],
   "source": [
    "#Finding the overall accuracy for each k-value\n",
    "\n",
    "#k=1\n",
    "#Returns the percentage of correctly classified samples\n",
    "accuracy_k1 = accuracy_score(test_targets,k1_pred)\n",
    "print('Accuracy for k=1')\n",
    "print(accuracy_k1*100)\n",
    "\n",
    "#k=3\n",
    "lettersTest_A = k3.predict(xy_testA)\n",
    "#Returns the percentage of correctly classified samples\n",
    "accuracy_k3 = accuracy_score(test_targets,k3_pred)\n",
    "print('Accuracy for k=3')\n",
    "print(accuracy_k3*100)\n",
    "\n",
    "#k=9\n",
    "lettersTest_A = k9.predict(xy_testA)\n",
    "#Returns the percentage of correctly classified samples\n",
    "accuracy_k9 = accuracy_score(test_targets,k9_pred)\n",
    "print('Accuracy for k=9')\n",
    "print(accuracy_k9*100)"
   ]
  },
  {
   "cell_type": "markdown",
   "metadata": {},
   "source": [
    "### b. Average Recall"
   ]
  },
  {
   "cell_type": "code",
   "execution_count": 27,
   "metadata": {},
   "outputs": [
    {
     "name": "stdout",
     "output_type": "stream",
     "text": [
      "Average recall for k=1\n",
      "0.346666666667\n",
      "Average recall for k=3\n",
      "0.326666666667\n",
      "Average recall for k=9\n",
      "0.34\n"
     ]
    }
   ],
   "source": [
    "#Calculating the average recall-- ability of the classifier to find all the positive samples\n",
    "\n",
    "#Average recall for k=1\n",
    "recall_k1 = recall_score(test_targets,k1_pred,average='macro')\n",
    "print('Average recall for k=1')\n",
    "print(recall_k1)\n",
    "\n",
    "#Average recall for k=3\n",
    "recall_k3 = recall_score(test_targets,k3_pred,average='macro')\n",
    "print('Average recall for k=3')\n",
    "print(recall_k3)\n",
    "\n",
    "#Average recall for k=9\n",
    "recall_k9 = recall_score(test_targets,k9_pred,average='macro')\n",
    "print('Average recall for k=9')\n",
    "print(recall_k9)"
   ]
  },
  {
   "cell_type": "markdown",
   "metadata": {},
   "source": [
    "### c. Confusion Matrix\n",
    "\n",
    "The following link explains how confusion matrices work; it also shows how to create one in Python and R: https://machinelearningmastery.com/confusion-matrix-machine-learning/. "
   ]
  },
  {
   "cell_type": "code",
   "execution_count": 28,
   "metadata": {},
   "outputs": [
    {
     "name": "stdout",
     "output_type": "stream",
     "text": [
      "Confusion matrix for k1-classifier\n",
      "[[48  1  1]\n",
      " [47  3  0]\n",
      " [48  1  1]]\n",
      "Confusion matrix for k3-classifier\n",
      "[[46  1  3]\n",
      " [48  2  0]\n",
      " [49  0  1]]\n",
      "Confusion matrix for k9-classifier\n",
      "[[48  0  2]\n",
      " [46  2  2]\n",
      " [48  1  1]]\n"
     ]
    }
   ],
   "source": [
    "#Creating the confusion matrix\n",
    "#Confusion matrix for k1-classifier\n",
    "confusion_matrix1 = confusion_matrix(test_targets, k1_pred ,labels=['A','B',\"C\"])\n",
    "print('Confusion matrix for k1-classifier')\n",
    "print(confusion_matrix1)\n",
    "\n",
    "#Confusion matrix for k3-classifier\n",
    "confusion_matrix3 = confusion_matrix(test_targets, k3_pred, labels=['A','B',\"C\"])\n",
    "print('Confusion matrix for k3-classifier')\n",
    "print(confusion_matrix3)\n",
    "\n",
    "#Confusion matrix for k-9 classifier\n",
    "confusion_matrix9 = confusion_matrix(test_targets, k9_pred, labels=['A','B',\"C\"])\n",
    "print('Confusion matrix for k9-classifier')\n",
    "print(confusion_matrix9)"
   ]
  },
  {
   "cell_type": "markdown",
   "metadata": {},
   "source": [
    "### d. Average Precision"
   ]
  },
  {
   "cell_type": "code",
   "execution_count": 29,
   "metadata": {},
   "outputs": [
    {
     "name": "stdout",
     "output_type": "stream",
     "text": [
      "Average precision for k=1\n",
      "0.401564945227\n",
      "Average precision for k=3\n",
      "0.401564945227\n",
      "Average precision for k=9\n",
      "0.401564945227\n"
     ]
    }
   ],
   "source": [
    "#Calculating the average precision\n",
    "\n",
    "#Average precision for k=1\n",
    "precision_k1 = precision_score(test_targets, k9_pred, average ='macro')\n",
    "print('Average precision for k=1')\n",
    "print(precision_k1)\n",
    "\n",
    "#Average precision for k=3\n",
    "precision_k3 = precision_score(test_targets, k9_pred, average='macro')\n",
    "print('Average precision for k=3')\n",
    "print(precision_k3)\n",
    "\n",
    "#Average precision for k=9\n",
    "precision_k9 = precision_score(test_targets, k9_pred, average = 'macro')\n",
    "print('Average precision for k=9')\n",
    "print(precision_k9)"
   ]
  }
 ],
 "metadata": {
  "kernelspec": {
   "display_name": "Python 3",
   "language": "python",
   "name": "python3"
  },
  "language_info": {
   "codemirror_mode": {
    "name": "ipython",
    "version": 3
   },
   "file_extension": ".py",
   "mimetype": "text/x-python",
   "name": "python",
   "nbconvert_exporter": "python",
   "pygments_lexer": "ipython3",
   "version": "3.6.5"
  }
 },
 "nbformat": 4,
 "nbformat_minor": 2
}
