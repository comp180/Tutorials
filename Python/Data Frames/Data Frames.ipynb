{
 "cells": [
  {
   "cell_type": "markdown",
   "metadata": {},
   "source": [
    "# Data Frames\n",
    "\n",
    "Data frames are data structures which provide intuitive ways of handling data best represented in table-like form. They are a standard data type in R, using the well-maintained PANDAS package in python, and are referred to as a Table data structure in Matlab. Although there are other ways of handling data, data frames are particularly designed for common analysis operations on rows or columns, as we will see. File-based input and output of data is discussed at the end."
   ]
  },
  {
   "cell_type": "markdown",
   "metadata": {},
   "source": [
    "## Demo instructions:\n",
    "1. A brief 1-2 paragraph overview of data frames in the language.\n",
    "2. Create a data frame from scratch using hardcoded tabular data (consider something that parses multiline strings perhaps)\n",
    "3. Select by row or by column\n",
    "    - by column name or by row index\n",
    "    - by numerical order (e.g. first or last)\n",
    "4. Delete rows or columns by index and name\n",
    "5. Select, delete, or change values using boolean indexing\n",
    "6. Creating new columns through\n",
    "    - Simple operations on previous columns (e.g. simple math operations)\n",
    "    - Standard summary functions (e.g. sum, mean, std dev)\n",
    "    - The map/apply function (advanced)\n",
    "7. Grouped calculations (e.g. average of values in column Y for all x values in column X)\n",
    "8. Handle missing data by (advanced)\n",
    "    - Removing the rows with missing data\n",
    "    - Filling with a specific value\n",
    "    - Filling with a computed value (e.g. a median of known values)\n",
    "9. Output data in CSV format\n",
    "10. Reading data (from before) in using CSV format.\n",
    "\n",
    "### Helpful [table](http://pandas.pydata.org/pandas-docs/stable/comparison_with_r.html) to compare Python and R data frames directly."
   ]
  },
  {
   "cell_type": "markdown",
   "metadata": {},
   "source": [
    "# Solutions: "
   ]
  },
  {
   "cell_type": "markdown",
   "metadata": {},
   "source": [
    "## 1. Paragraph Overview"
   ]
  },
  {
   "cell_type": "markdown",
   "metadata": {},
   "source": [
    "Python has a great library for working flexibly and effectively with table-like data sets - data with rows and columns; it's called the Pandas library! The Pandas library provides useful tools for data manipulation and analysis. These tools include the ability to read and write CSV and Excel files, access/update/remove elements by row or column by name or location, performing operations in bulk without looping, etc. There are a few data structures that can be found in the Pandas library, the most central of which is the DataFrame. \n",
    "Data frames are two-dimensional labeled data structures with columns that can be of different types; for one-dimensional data the Series structure is sometimes used. Data frames are commonly used to represent tabular data, so the data can be organized accordingly and used efficiently for analysis. We will focus on data frames in this section, so let's get started with the creation of this awesome data structure!\n",
    "If you want to know more about PANDAS, the following link is the API reference\n",
    "https://pandas.pydata.org/pandas-docs/stable/generated/pandas.DataFrame.html"
   ]
  },
  {
   "cell_type": "markdown",
   "metadata": {},
   "source": [
    "## 2. Create a data frame from scratch\n",
    "\n",
    "In this section, we will use hard-coded data to create a data frame using the Pandas library. I will use data that represents the sales information for 3 cars over 5 months. I will be using dictionaries to represent the data, and the keys of these dictionaries will be the column headings. "
   ]
  },
  {
   "cell_type": "code",
   "execution_count": 1,
   "metadata": {},
   "outputs": [
    {
     "name": "stdout",
     "output_type": "stream",
     "text": [
      "     Months  Tesla Model 5  Kia Soul EV  BMW I3\n",
      "0   January            900          117     382\n",
      "1  February           1750          152     318\n",
      "2     March           3450          171     703\n",
      "3     April           1125          167     516\n",
      "4       May           1620          129     506\n"
     ]
    }
   ],
   "source": [
    "import pandas as pd\n",
    "import numpy as np\n",
    "\n",
    "#Hard-coded data for output represents the sales per 5 months for 3 types of cars \n",
    "companySales = {'Months':['January','February','March','April','May'], \n",
    "                'Tesla Model 5' : [900,1750,3450,1125,1620], \n",
    "                'Kia Soul EV': [117,152,171,167,129], \n",
    "                'BMW I3':[382,318,703,516,506]}\n",
    "\n",
    "#Creates a data frame with the correct order of columns \n",
    "df = pd.DataFrame(companySales,columns=[\"Months\",\"Tesla Model 5\",\"Kia Soul EV\",\"BMW I3\"])\n",
    "\n",
    "#Prints out the table\n",
    "print(df)"
   ]
  },
  {
   "cell_type": "markdown",
   "metadata": {},
   "source": [
    "## 3. Select by row or by column\n",
    "### 3.A. Row\n",
    "#### 3.A.1. Row Location (e.g. first, second, last)\n",
    "\n",
    "These two pieces of code will choose the data in the first and the last rows of the data frame. "
   ]
  },
  {
   "cell_type": "code",
   "execution_count": 2,
   "metadata": {},
   "outputs": [
    {
     "name": "stdout",
     "output_type": "stream",
     "text": [
      "----First month----\n",
      "Months           January\n",
      "Tesla Model 5        900\n",
      "Kia Soul EV          117\n",
      "BMW I3               382\n",
      "Name: 0, dtype: object\n",
      "----Last month----\n",
      "Months            May\n",
      "Tesla Model 5    1620\n",
      "Kia Soul EV       129\n",
      "BMW I3            506\n",
      "Name: 4, dtype: object\n"
     ]
    }
   ],
   "source": [
    "#Accessing the data in the first row\n",
    "print(\"----First month----\")\n",
    "print(df.iloc[0])\n",
    "\n",
    "#Accessing the data in the last row\n",
    "print(\"----Last month----\")\n",
    "print(df.iloc[-1])"
   ]
  },
  {
   "cell_type": "markdown",
   "metadata": {},
   "source": [
    "#### 3.A.2. Row label (a.k.a index)\n",
    "\n",
    "We can also select the data in a row by specifying the label of the row. This is less common in practice than using column names since it is only useful when each row has a specific label that is unique. Unless otherwise specified like the code below, the label of a row is by default the index, but this can be changed as in the example below."
   ]
  },
  {
   "cell_type": "code",
   "execution_count": 3,
   "metadata": {},
   "outputs": [
    {
     "data": {
      "text/plain": [
       "Months           February\n",
       "Tesla Model 5        1750\n",
       "Kia Soul EV           152\n",
       "BMW I3                318\n",
       "Name: February, dtype: object"
      ]
     },
     "execution_count": 3,
     "metadata": {},
     "output_type": "execute_result"
    }
   ],
   "source": [
    "# Changes the name of the rows/indices\n",
    "# Now the row can be referred by a label rather than position\n",
    "df.index = [\"January\",\"February\",\"March\",\"April\",\"May\"]\n",
    "\n",
    "# Show the row labeled “February” from the data frame\n",
    "df.loc[\"February\"]"
   ]
  },
  {
   "cell_type": "markdown",
   "metadata": {},
   "source": [
    "### 3.B. Column\n",
    "#### 3.B.1. Column name\n",
    "\n",
    "With this code, we will be able to show only the data in a certain column by specifying the column's name. Note, to select multiple columns simultaneously, you can use a list of strings (e.g. df[[“Months, “BMW I3”]]) rather than a single column name."
   ]
  },
  {
   "cell_type": "code",
   "execution_count": 4,
   "metadata": {},
   "outputs": [
    {
     "data": {
      "text/plain": [
       "January     382\n",
       "February    318\n",
       "March       703\n",
       "April       516\n",
       "May         506\n",
       "Name: BMW I3, dtype: int64"
      ]
     },
     "execution_count": 4,
     "metadata": {},
     "output_type": "execute_result"
    }
   ],
   "source": [
    "df[\"BMW I3\"]"
   ]
  },
  {
   "cell_type": "markdown",
   "metadata": {},
   "source": [
    "## 4. Delete rows or columns by name or index\n",
    "### 4.A. Deleting columns\n",
    "#### 4.A.1. By name\n",
    "\n",
    "This code will delete the column with the heading \"BMW I3\". Axis=1 specifies that you want to manipulate the columns of the data frame; by default, the parameter axis is equal to 0, which means that computations are performed along the rows.  "
   ]
  },
  {
   "cell_type": "code",
   "execution_count": 5,
   "metadata": {},
   "outputs": [
    {
     "data": {
      "text/html": [
       "<div>\n",
       "<style scoped>\n",
       "    .dataframe tbody tr th:only-of-type {\n",
       "        vertical-align: middle;\n",
       "    }\n",
       "\n",
       "    .dataframe tbody tr th {\n",
       "        vertical-align: top;\n",
       "    }\n",
       "\n",
       "    .dataframe thead th {\n",
       "        text-align: right;\n",
       "    }\n",
       "</style>\n",
       "<table border=\"1\" class=\"dataframe\">\n",
       "  <thead>\n",
       "    <tr style=\"text-align: right;\">\n",
       "      <th></th>\n",
       "      <th>Months</th>\n",
       "      <th>Tesla Model 5</th>\n",
       "      <th>Kia Soul EV</th>\n",
       "    </tr>\n",
       "  </thead>\n",
       "  <tbody>\n",
       "    <tr>\n",
       "      <th>January</th>\n",
       "      <td>January</td>\n",
       "      <td>900</td>\n",
       "      <td>117</td>\n",
       "    </tr>\n",
       "    <tr>\n",
       "      <th>February</th>\n",
       "      <td>February</td>\n",
       "      <td>1750</td>\n",
       "      <td>152</td>\n",
       "    </tr>\n",
       "    <tr>\n",
       "      <th>March</th>\n",
       "      <td>March</td>\n",
       "      <td>3450</td>\n",
       "      <td>171</td>\n",
       "    </tr>\n",
       "    <tr>\n",
       "      <th>April</th>\n",
       "      <td>April</td>\n",
       "      <td>1125</td>\n",
       "      <td>167</td>\n",
       "    </tr>\n",
       "    <tr>\n",
       "      <th>May</th>\n",
       "      <td>May</td>\n",
       "      <td>1620</td>\n",
       "      <td>129</td>\n",
       "    </tr>\n",
       "  </tbody>\n",
       "</table>\n",
       "</div>"
      ],
      "text/plain": [
       "            Months  Tesla Model 5  Kia Soul EV\n",
       "January    January            900          117\n",
       "February  February           1750          152\n",
       "March        March           3450          171\n",
       "April        April           1125          167\n",
       "May            May           1620          129"
      ]
     },
     "execution_count": 5,
     "metadata": {},
     "output_type": "execute_result"
    }
   ],
   "source": [
    "df.drop([\"BMW I3\"],axis = 1)"
   ]
  },
  {
   "cell_type": "markdown",
   "metadata": {},
   "source": [
    "### 4.B. Deleting rows\n",
    "#### 4.B.1. By label \n",
    "\n",
    "This piece of code will delete the row labeled “January” from the data frame. We will recreate the data frame to demonstrate this."
   ]
  },
  {
   "cell_type": "code",
   "execution_count": 6,
   "metadata": {},
   "outputs": [
    {
     "name": "stdout",
     "output_type": "stream",
     "text": [
      "          Tesla Model 5  Kia Soul EV  BMW I3\n",
      "January             900          117     900\n",
      "February           1750          152    1750\n",
      "March              3450          171    3450\n",
      "April              1125          167    1125\n",
      "May                1620          129    1620\n",
      "\n",
      "---------Deleting row \"January\"----------\n",
      "\n",
      "          Tesla Model 5  Kia Soul EV  BMW I3\n",
      "February           1750          152    1750\n",
      "March              3450          171    3450\n",
      "April              1125          167    1125\n",
      "May                1620          129    1620\n"
     ]
    }
   ],
   "source": [
    "#Hard-coded data for output\n",
    "#This data represents the sales per 5 months for 3 types of cars \n",
    "carSales = {'Tesla Model 5' : [900,1750,3450,1125,1620], 'Kia Soul EV': [117,152,171,167,129], 'BMW I3':[900,1750,3450,1125,1620]}\n",
    "\n",
    "#Creates a data frame with the correct order of columns \n",
    "df_cars = pd.DataFrame(carSales,columns=[\"Tesla Model 5\",\"Kia Soul EV\",\"BMW I3\"])\n",
    "\n",
    "#Changes the name of the rows/indices\n",
    "#now the row can be referred by a label rather than position\n",
    "df_cars.index = [\"January\",\"February\",\"March\",\"April\",\"May\"]\n",
    "\n",
    "print(df_cars)\n",
    "\n",
    "print()\n",
    "print('---------Deleting row \"January\"----------')\n",
    "print()\n",
    "\n",
    "#Removes the row labeled “January” from the data frame\n",
    "print(df_cars.drop([\"January\"]))"
   ]
  },
  {
   "cell_type": "markdown",
   "metadata": {},
   "source": [
    "#### 4.B.2. By index\n",
    "\n",
    "This code will delete the second row in the data frame named df_cars by finding the index (a.k.a. label) of the second row. "
   ]
  },
  {
   "cell_type": "code",
   "execution_count": 7,
   "metadata": {},
   "outputs": [
    {
     "data": {
      "text/html": [
       "<div>\n",
       "<style scoped>\n",
       "    .dataframe tbody tr th:only-of-type {\n",
       "        vertical-align: middle;\n",
       "    }\n",
       "\n",
       "    .dataframe tbody tr th {\n",
       "        vertical-align: top;\n",
       "    }\n",
       "\n",
       "    .dataframe thead th {\n",
       "        text-align: right;\n",
       "    }\n",
       "</style>\n",
       "<table border=\"1\" class=\"dataframe\">\n",
       "  <thead>\n",
       "    <tr style=\"text-align: right;\">\n",
       "      <th></th>\n",
       "      <th>Tesla Model 5</th>\n",
       "      <th>Kia Soul EV</th>\n",
       "      <th>BMW I3</th>\n",
       "    </tr>\n",
       "  </thead>\n",
       "  <tbody>\n",
       "    <tr>\n",
       "      <th>January</th>\n",
       "      <td>900</td>\n",
       "      <td>117</td>\n",
       "      <td>900</td>\n",
       "    </tr>\n",
       "    <tr>\n",
       "      <th>March</th>\n",
       "      <td>3450</td>\n",
       "      <td>171</td>\n",
       "      <td>3450</td>\n",
       "    </tr>\n",
       "    <tr>\n",
       "      <th>April</th>\n",
       "      <td>1125</td>\n",
       "      <td>167</td>\n",
       "      <td>1125</td>\n",
       "    </tr>\n",
       "    <tr>\n",
       "      <th>May</th>\n",
       "      <td>1620</td>\n",
       "      <td>129</td>\n",
       "      <td>1620</td>\n",
       "    </tr>\n",
       "  </tbody>\n",
       "</table>\n",
       "</div>"
      ],
      "text/plain": [
       "         Tesla Model 5  Kia Soul EV  BMW I3\n",
       "January            900          117     900\n",
       "March             3450          171    3450\n",
       "April             1125          167    1125\n",
       "May               1620          129    1620"
      ]
     },
     "execution_count": 7,
     "metadata": {},
     "output_type": "execute_result"
    }
   ],
   "source": [
    "df_cars.drop(df_cars.index[1])"
   ]
  },
  {
   "cell_type": "markdown",
   "metadata": {},
   "source": [
    "## 5. Select, delete or change using boolean Indexing\n",
    "### 5.A. Selecting and removing data in a row based on value in a column\n",
    "\n",
    "This line of code will delete any rows that have values that are greater than 2000. You could replace the String inside the [ ] with any column or row headings as long as those rows or columns contain integers. \n",
    "Note, df.loc[boolean] may also be used instead of df[boolean] syntax. They perform similarly."
   ]
  },
  {
   "cell_type": "code",
   "execution_count": 8,
   "metadata": {},
   "outputs": [
    {
     "name": "stdout",
     "output_type": "stream",
     "text": [
      "     Months  Tesla Model 5  Kia Soul EV  BMW I3\n",
      "0   January            900          117     382\n",
      "1  February           1750          152     318\n",
      "2     March           3450          171     703\n",
      "3     April           1125          167     516\n",
      "4       May           1620          129     506\n",
      "\n",
      "-----Using boolean indexing-----\n",
      "\n",
      "     Months  Tesla Model 5  Kia Soul EV  BMW I3\n",
      "0   January            900          117     382\n",
      "1  February           1750          152     318\n",
      "3     April           1125          167     516\n",
      "4       May           1620          129     506\n"
     ]
    }
   ],
   "source": [
    "#Hard-coded data for output\n",
    "#This data represents the sales per 5 months for 3 types of cars \n",
    "companySales = {'Months':['January','February','March','April','May'], \n",
    "                'Tesla Model 5' : [900,1750,3450,1125,1620], \n",
    "                'Kia Soul EV': [117,152,171,167,129], \n",
    "                'BMW I3':[382,318,703,516,506]}\n",
    "\n",
    "#Creates a data frame with the correct order of columns \n",
    "df = pd.DataFrame(companySales,columns=[\"Months\",\"Tesla Model 5\",\"Kia Soul EV\",\"BMW I3\"])\n",
    "\n",
    "#Prints out the table\n",
    "print(df)\n",
    "\n",
    "print('\\n-----Using boolean indexing-----\\n')\n",
    "\n",
    "#removes any rows that contain values greater than 2000\n",
    "new_df = df[df[\"Tesla Model 5\"] < 2000 ]\n",
    "print(new_df)"
   ]
  },
  {
   "cell_type": "markdown",
   "metadata": {},
   "source": [
    "### 5.B. More selection using boolean indexing"
   ]
  },
  {
   "cell_type": "code",
   "execution_count": 9,
   "metadata": {},
   "outputs": [
    {
     "name": "stdout",
     "output_type": "stream",
     "text": [
      "     Months  Tesla Model 5  Kia Soul EV  BMW I3\n",
      "1  February           1750          152     318\n",
      "4       May           1620          129     506\n"
     ]
    }
   ],
   "source": [
    "#Selects data in a column by using boolean indexing\n",
    "#Selects the columns where Tesla Model 5 is greater than 1000 & BMW I3 is less than 1500\n",
    "new_df = df[(df['Tesla Model 5'] > 1500) & (df['BMW I3'] < 600)]\n",
    "print(new_df)"
   ]
  },
  {
   "cell_type": "markdown",
   "metadata": {},
   "source": [
    "## 6. Creating new columns through: \n",
    "### 6.A. Simple operations on previous columns (+,-,* on current columns)\n",
    "\n",
    "If you want to create a new column from data in the table, and all the operations are simple math operations, the syntax is relatively straightforward.\n",
    "For example, if you want to add a new column 'Average' showing the average model cost for each month\n"
   ]
  },
  {
   "cell_type": "code",
   "execution_count": 10,
   "metadata": {},
   "outputs": [
    {
     "name": "stdout",
     "output_type": "stream",
     "text": [
      "     Months  Tesla Model 5  Kia Soul EV  BMW I3  Monthly Average\n",
      "0   January            900          117     382       466.333333\n",
      "1  February           1750          152     318       740.000000\n",
      "2     March           3450          171     703      1441.333333\n",
      "3     April           1125          167     516       602.666667\n",
      "4       May           1620          129     506       751.666667\n"
     ]
    }
   ],
   "source": [
    "df['Monthly Average'] = (df['Tesla Model 5'] + df['Kia Soul EV'] + df['BMW I3']) / 3\n",
    "print(df)"
   ]
  },
  {
   "cell_type": "markdown",
   "metadata": {},
   "source": [
    "### 6.B. Standard summary functions (e.g. mean, sum)\n",
    "\n",
    "Because mean is a standard function, this can also be done by usng the mean function of Python."
   ]
  },
  {
   "cell_type": "code",
   "execution_count": 11,
   "metadata": {},
   "outputs": [
    {
     "name": "stdout",
     "output_type": "stream",
     "text": [
      "     Months  Tesla Model 5  Kia Soul EV  BMW I3  Monthly Average\n",
      "0   January            900          117     382       466.333333\n",
      "1  February           1750          152     318       740.000000\n",
      "2     March           3450          171     703      1441.333333\n",
      "3     April           1125          167     516       602.666667\n",
      "4       May           1620          129     506       751.666667\n"
     ]
    }
   ],
   "source": [
    "# Computing the average amount of cars sold each month\n",
    "df[\"Monthly Average\"] = df.mean(axis=1)\n",
    "print(df)\n",
    "\n",
    "# Can compare this example to the example above to see \n",
    "# how both techniques can be used to achieve the same result"
   ]
  },
  {
   "cell_type": "markdown",
   "metadata": {},
   "source": [
    "### 6.C. The map/apply function (advanced)\n",
    "\n",
    "We will be creating a column that represents the graduation years of the various students based on their grade levels! This code creates a function with multiple conditional statements to determine the graduation years for the different grade levels."
   ]
  },
  {
   "cell_type": "code",
   "execution_count": 12,
   "metadata": {},
   "outputs": [
    {
     "name": "stdout",
     "output_type": "stream",
     "text": [
      "         Students       ID Grade Level             Major  Graduation Year\n",
      "0  Marley Stevens  1568921   Sophomore  Computer Science             2020\n",
      "1   Emily Brookes  1389012   Sophomore             Dance             2020\n",
      "2     John Garcia  1467892    Freshman           English             2021\n",
      "3   Steven Kosner  1789021      Senior       Mathematics             2018\n"
     ]
    }
   ],
   "source": [
    "#Hard-coded data for output\n",
    "#This data will give important information about 4 students  \n",
    "studentInformation = {'Students':['Marley Stevens', 'Emily Brookes','John Garcia','Steven Kosner'], \n",
    "                      'ID' : [1568921,1389012,1467892,1789021], \n",
    "                      'Grade Level': ['Sophomore','Sophomore','Freshman','Senior'], \n",
    "                      'Major':['Computer Science','Dance','English','Mathematics']}\n",
    "\n",
    "#Creates a data frame with the correct order of columns \n",
    "df_students = pd.DataFrame(studentInformation,columns=[\"Students\",\"ID\",\"Grade Level\",\"Major\"])\n",
    "\n",
    "#Creates a function to assign graduation years to the various grade levels of the studenta\n",
    "def label_graduation(row):\n",
    "    if row[\"Grade Level\"]== \"Freshman\":\n",
    "        return 2021\n",
    "    if row[\"Grade Level\"]==\"Sophomore\":\n",
    "        return 2020\n",
    "    if row[\"Grade Level\"]== \"Junior\":\n",
    "        return 2019\n",
    "    if row[\"Grade Level\"]==\"Senior\":\n",
    "        return 2018\n",
    "\n",
    "#Creates a new column to represent the graduation years of the students\n",
    "df_students[\"Graduation Year\"]=df_students.apply(label_graduation,axis=1)\n",
    "\n",
    "print(df_students)"
   ]
  },
  {
   "cell_type": "markdown",
   "metadata": {},
   "source": [
    "## 7. Grouped Calculations (groupby)\n",
    "\n",
    "Grouped calculations are able to perform computations on a column, but only for a subset of rows. To show this behavior, we will create a new DataFrame."
   ]
  },
  {
   "cell_type": "code",
   "execution_count": 13,
   "metadata": {},
   "outputs": [
    {
     "name": "stdout",
     "output_type": "stream",
     "text": [
      "    Points  Rank    Team  Year\n",
      "0      876     1  Riders  2014\n",
      "1      789     2  Riders  2015\n",
      "2      863     2  Devils  2014\n",
      "3      673     3  Devils  2015\n",
      "4      741     3   Kings  2014\n",
      "5      812     4   kings  2015\n",
      "6      756     1   Kings  2016\n",
      "7      788     1   Kings  2017\n",
      "8      694     2  Riders  2016\n",
      "9      701     4  Royals  2014\n",
      "10     804     1  Royals  2015\n",
      "11     690     2  Riders  2017\n"
     ]
    }
   ],
   "source": [
    "ipl_data = {'Team': ['Riders', 'Riders', 'Devils', 'Devils', 'Kings',\n",
    "            'kings', 'Kings', 'Kings', 'Riders', 'Royals', 'Royals', 'Riders'],\n",
    "            'Rank': [1, 2, 2, 3, 3,4 ,1 ,1,2 , 4,1,2],\n",
    "            'Year': [2014,2015,2014,2015,2014,2015,2016,2017,2016,2014,2015,2017],\n",
    "            'Points':[876,789,863,673,741,812,756,788,694,701,804,690]}\n",
    "df = pd.DataFrame(ipl_data)\n",
    "print(df)"
   ]
  },
  {
   "cell_type": "markdown",
   "metadata": {},
   "source": [
    "If you want to show the average number of points scored each year..."
   ]
  },
  {
   "cell_type": "code",
   "execution_count": 14,
   "metadata": {},
   "outputs": [
    {
     "name": "stdout",
     "output_type": "stream",
     "text": [
      "Year\n",
      "2014    795.25\n",
      "2015    769.50\n",
      "2016    725.00\n",
      "2017    739.00\n",
      "Name: Points, dtype: float64\n",
      "\n",
      "Year\n",
      "2014    795.25\n",
      "2015    769.50\n",
      "2016    725.00\n",
      "2017    739.00\n",
      "Name: Points, dtype: float64\n"
     ]
    }
   ],
   "source": [
    "grouped = df.groupby('Year')\n",
    "print (grouped['Points'].mean())\n",
    "\n",
    "print()\n",
    "\n",
    "##This can also be done in one line\n",
    "print(df.groupby('Year')['Points'].mean())"
   ]
  },
  {
   "cell_type": "markdown",
   "metadata": {},
   "source": [
    "Similar functions to mean that work on entire columns are max, min, median, sum, std, var, and count.\n",
    "\n",
    "## 8. Handle missing data (advanced)\n",
    "### Creating a dataframe with missing data\n",
    "\n",
    "This code will create a dataframe with missing data, which is represented by the value NaN (Not a Number). "
   ]
  },
  {
   "cell_type": "code",
   "execution_count": 15,
   "metadata": {},
   "outputs": [
    {
     "name": "stdout",
     "output_type": "stream",
     "text": [
      "  First Name Last Name   Age  Sex  Pre Test-score  Post Test-score\n",
      "0      Jason    Miller  42.0    m             4.0             25.0\n",
      "1        NaN       NaN   NaN  NaN             NaN              NaN\n",
      "2       Tina       Ali  36.0    f             NaN              NaN\n",
      "3       Jake    Milner  24.0    m             2.0             62.0\n",
      "4        Amy     Cooze  73.0    f             3.0             70.0\n"
     ]
    }
   ],
   "source": [
    "#Handling missing data\n",
    "#This data frame is created with missing data represented by np.nan\n",
    "raw_data = {'First Name': ['Jason', np.nan, 'Tina', 'Jake', 'Amy'], \n",
    "        'Last Name': ['Miller', np.nan, 'Ali', 'Milner', 'Cooze'], \n",
    "        'Age': [42, np.nan, 36, 24, 73], \n",
    "        'Sex': ['m', np.nan, 'f', 'm', 'f'], \n",
    "        'Pre Test-score': [4, np.nan, np.nan, 2, 3],\n",
    "        'Post Test-score': [25, np.nan, np.nan, 62, 70]}\n",
    "df = pd.DataFrame(raw_data, columns = ['First Name', 'Last Name', 'Age', \n",
    "                                       'Sex', 'Pre Test-score', 'Post Test-score'])\n",
    "\n",
    "print(df)"
   ]
  },
  {
   "cell_type": "markdown",
   "metadata": {},
   "source": [
    "### 8.A. Removing any rows with missing data\n",
    "\n",
    "This code will be used to remove any rows with NaN values. "
   ]
  },
  {
   "cell_type": "code",
   "execution_count": 16,
   "metadata": {},
   "outputs": [
    {
     "data": {
      "text/html": [
       "<div>\n",
       "<style scoped>\n",
       "    .dataframe tbody tr th:only-of-type {\n",
       "        vertical-align: middle;\n",
       "    }\n",
       "\n",
       "    .dataframe tbody tr th {\n",
       "        vertical-align: top;\n",
       "    }\n",
       "\n",
       "    .dataframe thead th {\n",
       "        text-align: right;\n",
       "    }\n",
       "</style>\n",
       "<table border=\"1\" class=\"dataframe\">\n",
       "  <thead>\n",
       "    <tr style=\"text-align: right;\">\n",
       "      <th></th>\n",
       "      <th>First Name</th>\n",
       "      <th>Last Name</th>\n",
       "      <th>Age</th>\n",
       "      <th>Sex</th>\n",
       "      <th>Pre Test-score</th>\n",
       "      <th>Post Test-score</th>\n",
       "    </tr>\n",
       "  </thead>\n",
       "  <tbody>\n",
       "    <tr>\n",
       "      <th>0</th>\n",
       "      <td>Jason</td>\n",
       "      <td>Miller</td>\n",
       "      <td>42.0</td>\n",
       "      <td>m</td>\n",
       "      <td>4.0</td>\n",
       "      <td>25.0</td>\n",
       "    </tr>\n",
       "    <tr>\n",
       "      <th>3</th>\n",
       "      <td>Jake</td>\n",
       "      <td>Milner</td>\n",
       "      <td>24.0</td>\n",
       "      <td>m</td>\n",
       "      <td>2.0</td>\n",
       "      <td>62.0</td>\n",
       "    </tr>\n",
       "    <tr>\n",
       "      <th>4</th>\n",
       "      <td>Amy</td>\n",
       "      <td>Cooze</td>\n",
       "      <td>73.0</td>\n",
       "      <td>f</td>\n",
       "      <td>3.0</td>\n",
       "      <td>70.0</td>\n",
       "    </tr>\n",
       "  </tbody>\n",
       "</table>\n",
       "</div>"
      ],
      "text/plain": [
       "  First Name Last Name   Age Sex  Pre Test-score  Post Test-score\n",
       "0      Jason    Miller  42.0   m             4.0             25.0\n",
       "3       Jake    Milner  24.0   m             2.0             62.0\n",
       "4        Amy     Cooze  73.0   f             3.0             70.0"
      ]
     },
     "execution_count": 16,
     "metadata": {},
     "output_type": "execute_result"
    }
   ],
   "source": [
    "#Removing rows with missing data\n",
    "df_no_missing = df.dropna()\n",
    "\n",
    "##We can just use the name of the data frame to print its values\n",
    "df_no_missing"
   ]
  },
  {
   "cell_type": "markdown",
   "metadata": {},
   "source": [
    "### 8.B. Filling a missing value with a specific value\n",
    "\n",
    "The function fillna() will fill any NaN values with a specific value, such as 0. "
   ]
  },
  {
   "cell_type": "code",
   "execution_count": 17,
   "metadata": {},
   "outputs": [
    {
     "data": {
      "text/html": [
       "<div>\n",
       "<style scoped>\n",
       "    .dataframe tbody tr th:only-of-type {\n",
       "        vertical-align: middle;\n",
       "    }\n",
       "\n",
       "    .dataframe tbody tr th {\n",
       "        vertical-align: top;\n",
       "    }\n",
       "\n",
       "    .dataframe thead th {\n",
       "        text-align: right;\n",
       "    }\n",
       "</style>\n",
       "<table border=\"1\" class=\"dataframe\">\n",
       "  <thead>\n",
       "    <tr style=\"text-align: right;\">\n",
       "      <th></th>\n",
       "      <th>First Name</th>\n",
       "      <th>Last Name</th>\n",
       "      <th>Age</th>\n",
       "      <th>Sex</th>\n",
       "      <th>Pre Test-score</th>\n",
       "      <th>Post Test-score</th>\n",
       "    </tr>\n",
       "  </thead>\n",
       "  <tbody>\n",
       "    <tr>\n",
       "      <th>0</th>\n",
       "      <td>Jason</td>\n",
       "      <td>Miller</td>\n",
       "      <td>42.0</td>\n",
       "      <td>m</td>\n",
       "      <td>4.0</td>\n",
       "      <td>25.0</td>\n",
       "    </tr>\n",
       "    <tr>\n",
       "      <th>1</th>\n",
       "      <td>0</td>\n",
       "      <td>0</td>\n",
       "      <td>0.0</td>\n",
       "      <td>0</td>\n",
       "      <td>0.0</td>\n",
       "      <td>0.0</td>\n",
       "    </tr>\n",
       "    <tr>\n",
       "      <th>2</th>\n",
       "      <td>Tina</td>\n",
       "      <td>Ali</td>\n",
       "      <td>36.0</td>\n",
       "      <td>f</td>\n",
       "      <td>0.0</td>\n",
       "      <td>0.0</td>\n",
       "    </tr>\n",
       "    <tr>\n",
       "      <th>3</th>\n",
       "      <td>Jake</td>\n",
       "      <td>Milner</td>\n",
       "      <td>24.0</td>\n",
       "      <td>m</td>\n",
       "      <td>2.0</td>\n",
       "      <td>62.0</td>\n",
       "    </tr>\n",
       "    <tr>\n",
       "      <th>4</th>\n",
       "      <td>Amy</td>\n",
       "      <td>Cooze</td>\n",
       "      <td>73.0</td>\n",
       "      <td>f</td>\n",
       "      <td>3.0</td>\n",
       "      <td>70.0</td>\n",
       "    </tr>\n",
       "  </tbody>\n",
       "</table>\n",
       "</div>"
      ],
      "text/plain": [
       "  First Name Last Name   Age Sex  Pre Test-score  Post Test-score\n",
       "0      Jason    Miller  42.0   m             4.0             25.0\n",
       "1          0         0   0.0   0             0.0              0.0\n",
       "2       Tina       Ali  36.0   f             0.0              0.0\n",
       "3       Jake    Milner  24.0   m             2.0             62.0\n",
       "4        Amy     Cooze  73.0   f             3.0             70.0"
      ]
     },
     "execution_count": 17,
     "metadata": {},
     "output_type": "execute_result"
    }
   ],
   "source": [
    "#Filling missing data with a specific value\n",
    "df_fill_values = df.fillna(0)\n",
    "df_fill_values"
   ]
  },
  {
   "cell_type": "markdown",
   "metadata": {},
   "source": [
    "### 8.C. Filling missing data with a computed value\n",
    "\n",
    "By using the fillna() function, a computed value can be used to fill any NaN values. This code will fill any NaN values in the column “preTestScore” with the mean value of “preTestScore”. "
   ]
  },
  {
   "cell_type": "code",
   "execution_count": 18,
   "metadata": {},
   "outputs": [
    {
     "name": "stdout",
     "output_type": "stream",
     "text": [
      "  First Name Last Name   Age  Sex  Pre Test-score  Post Test-score\n",
      "0      Jason    Miller  42.0    m             4.0             25.0\n",
      "1        NaN       NaN   NaN  NaN             3.0              NaN\n",
      "2       Tina       Ali  36.0    f             3.0              NaN\n",
      "3       Jake    Milner  24.0    m             2.0             62.0\n",
      "4        Amy     Cooze  73.0    f             3.0             70.0\n"
     ]
    }
   ],
   "source": [
    "#This data frame is created with missing data represented by np.nan\n",
    "raw_data = {'First Name': ['Jason', np.nan, 'Tina', 'Jake', 'Amy'], \n",
    "        'Last Name': ['Miller', np.nan, 'Ali', 'Milner', 'Cooze'], \n",
    "        'Age': [42, np.nan, 36, 24, 73], \n",
    "        'Sex': ['m', np.nan, 'f', 'm', 'f'], \n",
    "        'Pre Test-score': [4, np.nan, np.nan, 2, 3],\n",
    "        'Post Test-score': [25, np.nan, np.nan, 62, 70]}\n",
    "df = pd.DataFrame(raw_data, columns = ['First Name', 'Last Name', 'Age', \n",
    "                                       'Sex', 'Pre Test-score', 'Post Test-score'])\n",
    "\n",
    "#Fill missing in preTestScore with the mean value of #preTestScore\n",
    "df[\"Pre Test-score\"].fillna(df[\"Pre Test-score\"].mean(),inplace=True)\n",
    "print(df)"
   ]
  },
  {
   "cell_type": "markdown",
   "metadata": {},
   "source": [
    "## 9. Output data in CSV format\n",
    "\n",
    "This code will create a CSV file from the dataframe with missing data; it will include the labels for the columns by default and the rows in the file. "
   ]
  },
  {
   "cell_type": "code",
   "execution_count": 19,
   "metadata": {},
   "outputs": [],
   "source": [
    "#Handling missing data\n",
    "#This data frame is created with missing data represented by np.nan\n",
    "raw_data = {'First Name': ['Jason', np.nan, 'Tina', 'Jake', 'Amy'], \n",
    "        'Last Name': ['Miller', np.nan, 'Ali', 'Milner', 'Cooze'], \n",
    "        'Age': [42, np.nan, 36, 24, 73], \n",
    "        'Sex': ['m', np.nan, 'f', 'm', 'f'], \n",
    "        'Pre Test-score': [4, np.nan, np.nan, 2, 3],\n",
    "        'Post Test-score': [25, np.nan, np.nan, 62, 70]}\n",
    "df = pd.DataFrame(raw_data, columns = ['First Name', 'Last Name', 'Age', 'Sex',\n",
    "                                       'Pre Test-score', 'Post Test-score'])\n",
    "\n",
    "\n",
    "#.csv file will save to your computer\n",
    "df.to_csv('test.csv',encoding='utf-8', index=False)"
   ]
  },
  {
   "cell_type": "markdown",
   "metadata": {},
   "source": [
    "Read the description of the to_csv function for important options to include. \n",
    "\n",
    "For example, if you are writing a file and you don't want to include a header line you would use...\n",
    "<b>df.to_csv('test.csv', header = None)</b>\n",
    "\n",
    "Or if you wanted your data separated by a single space rather than commas you could use...\n",
    "<b>df.to_csv('test.csv', sep = “ “).</b>"
   ]
  },
  {
   "cell_type": "markdown",
   "metadata": {},
   "source": [
    "## 10. Reading data in using CSV format\n",
    "\n",
    "This line of code will read in a CSV file and print out the dataframe. "
   ]
  },
  {
   "cell_type": "code",
   "execution_count": 20,
   "metadata": {},
   "outputs": [
    {
     "name": "stdout",
     "output_type": "stream",
     "text": [
      "  First Name Last Name   Age  Sex  Pre Test-score  Post Test-score\n",
      "0      Jason    Miller  42.0    m             4.0             25.0\n",
      "1        NaN       NaN   NaN  NaN             NaN              NaN\n",
      "2       Tina       Ali  36.0    f             NaN              NaN\n",
      "3       Jake    Milner  24.0    m             2.0             62.0\n",
      "4        Amy     Cooze  73.0    f             3.0             70.0\n"
     ]
    }
   ],
   "source": [
    "#Reading from a csv file\n",
    "df = pd.read_csv('test.csv')\n",
    "print(df)"
   ]
  },
  {
   "cell_type": "markdown",
   "metadata": {},
   "source": [
    "### Options for reading data using the CSV format\n",
    "\n",
    "Read the description of the read_csv function for important options to include. For example, if you are reading in a file that does not have the first line as a header, you would use\n",
    "\n",
    "<b>df = pd.read_csv('test.csv', header = None)</b>\n",
    "\n",
    "Or if you wanted to redefine the headers yourself you could use\n",
    "\n",
    "<b>df = pd.read_csv('test.csv', names = ['first','last','age','sex','pre','post'])</b>\n",
    "\n",
    "Or if your data was separated by a single space rather than commas you could use\n",
    "\n",
    "<b>df = pd.read_csv('test.csv', sep = \" \")</b>"
   ]
  }
 ],
 "metadata": {
  "kernelspec": {
   "display_name": "Python 3",
   "language": "python",
   "name": "python3"
  },
  "language_info": {
   "codemirror_mode": {
    "name": "ipython",
    "version": 3
   },
   "file_extension": ".py",
   "mimetype": "text/x-python",
   "name": "python",
   "nbconvert_exporter": "python",
   "pygments_lexer": "ipython3",
   "version": "3.6.4"
  }
 },
 "nbformat": 4,
 "nbformat_minor": 2
}
