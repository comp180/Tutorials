{
 "cells": [
  {
   "cell_type": "markdown",
   "metadata": {},
   "source": [
    "# Regression Demo: Polynomial Regression\n",
    "The purpose of this demo is to demonstrate the ease and utility of performing polynomial regression, of which linear regression is by far the most common subtype. In this example, we will generate noisy data using a known distribution. We will then treat this data as if it was recorded from an experiment. We will try various methods of fitting the data, and plotting those fits on an appropriate scatter plot for comparison. Then, using each model, we will try to predict on a separate set of test data, and observe the quality of fit using a number of metrics. \n",
    "\n",
    "## Demo Instructions:\n",
    "\n",
    "Perform the following steps:\n",
    "\n",
    "1. Create a function that generates a number according to the following equation: \n",
    "    * y = sin(x) + 0.1 * normal(0,1) \n",
    "2. Generate two samples with x randomly chosen between 0 and 3. \n",
    "    * A training set of 10 (x,y) pairs \n",
    "    * A test set of 100 (x,y) pairs \n",
    "3. Fit the following polynomials to the training set:\n",
    "    * Degree 1 polynomial (a line) \n",
    "    * Degree 2 polynomial (a quadratic) \n",
    "    * Degree 9 polynomial \n",
    "4. Create a plot showing the original data as a scatter plot and the three polynomial fits with a legend indicating the degree of the polynomial. Also, overlay the sin(x) function with a dotted line. \n",
    "5. Apply each of the 3 models to predict the y-value from the x-value in the test set. Find the root mean square error between the predictions and the true values. \n",
    "\n",
    "# Solutions: \n",
    "\n",
    "We will use the following tutorial to learn how to perform linear regression in Python using Scikit Learn: <a href= \"https://codefying.com/2016/08/18/two-ways-to-perform-linear-regression-in-python-with-numpy-ans-sk-learn/\"> Linear Regression Tutorial </a>"
   ]
  },
  {
   "cell_type": "markdown",
   "metadata": {},
   "source": [
    "## 1. Create a function that generates a number according to the follow equation. \n",
    "### y = sin(x) + 0.1 * normal(0,1)"
   ]
  },
  {
   "cell_type": "code",
   "execution_count": 189,
   "metadata": {},
   "outputs": [
    {
     "name": "stdout",
     "output_type": "stream",
     "text": [
      "-0.4842998604490274\n"
     ]
    }
   ],
   "source": [
    "from random import randint\n",
    "import numpy as np\n",
    "import matplotlib.pyplot as plt\n",
    "from sklearn.pipeline import Pipeline\n",
    "from sklearn.preprocessing import PolynomialFeatures\n",
    "from sklearn import linear_model\n",
    "from sklearn.metrics import mean_squared_error\n",
    "from math import sqrt\n",
    "\n",
    "def y_generator(x):\n",
    "    return math.sin(x)+0.1*np.random.normal(0,1)\n",
    "\n",
    "print(y_generator(10))"
   ]
  },
  {
   "cell_type": "markdown",
   "metadata": {},
   "source": [
    "## 2. Generate two samples with x randomly chosen:\n",
    "### 2.A. A training set of 10 (x,y) pairs"
   ]
  },
  {
   "cell_type": "code",
   "execution_count": 216,
   "metadata": {},
   "outputs": [
    {
     "name": "stdout",
     "output_type": "stream",
     "text": [
      "----X values for training set----\n",
      "[ 0.5488135   0.71518937  0.60276338  0.54488318  0.4236548   0.64589411\n",
      "  0.43758721  0.891773    0.96366276  0.38344152]\n",
      "\n",
      "----Y values for training set----\n",
      "[ 0.52360328  0.84071952  0.54550436  0.46841653  0.41323     0.51000134\n",
      "  0.44303064  0.74168095  0.64215398  0.36825563]\n"
     ]
    },
    {
     "data": {
      "image/png": "[encoded data removed]",
      "text/plain": [
       "<Figure size 432x288 with 1 Axes>"
      ]
     },
     "metadata": {},
     "output_type": "display_data"
    }
   ],
   "source": [
    "#Allows a tuple of values to be used as input\n",
    "f2 = np.vectorize(y_generator)\n",
    "\n",
    "np.random.seed(0)\n",
    "\n",
    "#A total of 1000 samples- we will take fractions from it for our\n",
    "#training and test sets\n",
    "n_samples = 1000\n",
    "\n",
    "#Generating 10000 values between 0 and 1 \n",
    "x_data = np.random.random(n_samples)\n",
    "# Generating y-values using y_generator function on the x data values \n",
    "y_data = f2(x_data)\n",
    "\n",
    "#Getting 10 x-values from the x data set\n",
    "X_training = x_data[:int(n_samples/100)]\n",
    "#Getting 10 y-values from the y data set that has been computed \n",
    "y_training = y_data[:int(n_samples/100)]\n",
    "\n",
    "print(\"----X values for training set----\")\n",
    "print(X_training)\n",
    "\n",
    "print()\n",
    "print(\"----Y values for training set----\")\n",
    "print(y_training)\n",
    "\n",
    "%matplotlib inline\n",
    "#Plots the data points in the training set\n",
    "ylim(0,1.3)\n",
    "plot(X_training,y_training,'o')\n",
    "xlabel('X-values for Training Set')\n",
    "ylabel('Y-values for Training Set')\n",
    "title('Y vs. X for Training Set')\n",
    "show()"
   ]
  },
  {
   "cell_type": "markdown",
   "metadata": {},
   "source": [
    "## 2.B. A test set of 100 (x,y) pairs"
   ]
  },
  {
   "cell_type": "code",
   "execution_count": 217,
   "metadata": {},
   "outputs": [
    {
     "name": "stdout",
     "output_type": "stream",
     "text": [
      "----X values for test set----\n",
      "[ 0.5488135   0.71518937  0.60276338  0.54488318  0.4236548   0.64589411\n",
      "  0.43758721  0.891773    0.96366276  0.38344152  0.79172504  0.52889492\n",
      "  0.56804456  0.92559664  0.07103606  0.0871293   0.0202184   0.83261985\n",
      "  0.77815675  0.87001215  0.97861834  0.79915856  0.46147936  0.78052918\n",
      "  0.11827443  0.63992102  0.14335329  0.94466892  0.52184832  0.41466194\n",
      "  0.26455561  0.77423369  0.45615033  0.56843395  0.0187898   0.6176355\n",
      "  0.61209572  0.616934    0.94374808  0.6818203   0.3595079   0.43703195\n",
      "  0.6976312   0.06022547  0.66676672  0.67063787  0.21038256  0.1289263\n",
      "  0.31542835  0.36371077  0.57019677  0.43860151  0.98837384  0.10204481\n",
      "  0.20887676  0.16130952  0.65310833  0.2532916   0.46631077  0.24442559\n",
      "  0.15896958  0.11037514  0.65632959  0.13818295  0.19658236  0.36872517\n",
      "  0.82099323  0.09710128  0.83794491  0.09609841  0.97645947  0.4686512\n",
      "  0.97676109  0.60484552  0.73926358  0.03918779  0.28280696  0.12019656\n",
      "  0.2961402   0.11872772  0.31798318  0.41426299  0.0641475   0.69247212\n",
      "  0.56660145  0.26538949  0.52324805  0.09394051  0.5759465   0.9292962\n",
      "  0.31856895  0.66741038  0.13179786  0.7163272   0.28940609  0.18319136\n",
      "  0.58651293  0.02010755  0.82894003  0.00469548]\n",
      "\n",
      "----Y values for training set----\n",
      "[ 0.52360328  0.84071952  0.54550436  0.46841653  0.41323     0.51000134\n",
      "  0.44303064  0.74168095  0.64215398  0.36825563  0.67981207  0.34133723\n",
      "  0.53127132  0.94791529  0.12310671  0.14821182 -0.11393265  0.78738674\n",
      "  0.71681279  0.81724129  0.87198983  0.58079153  0.44113313  0.62786843\n",
      "  0.11299046  0.507392    0.27410984  0.72440572  0.40858908  0.41033918\n",
      "  0.15377046  0.65670207  0.35749886  0.67943013  0.09736908  0.57336217\n",
      "  0.53546225  0.67262884  0.8502834   0.68001264  0.34919441  0.25442925\n",
      "  0.63115752  0.00694008  0.68295395  0.72267008  0.14303894  0.17540795\n",
      "  0.48381162  0.28897343  0.70798987  0.33941518  0.83742859  0.10075324\n",
      "  0.20851109  0.07684306  0.54853966  0.18381986  0.48229027  0.27500254\n",
      "  0.3808953   0.24725007  0.55922881  0.17023058  0.29503046  0.36348676\n",
      "  0.72485891  0.10210625  0.82999751  0.01111851  0.79595306  0.49872664\n",
      "  0.85983358  0.59259329  0.63676379  0.13643134  0.49243903  0.1605489\n",
      "  0.27251293  0.19402301  0.25873822  0.32754634  0.06738439  0.38016218\n",
      "  0.42137266  0.22748896  0.36435735 -0.00946191  0.50095401  0.63690246\n",
      "  0.27260066  0.56542709  0.13395714  0.7720374   0.30263351  0.18427466\n",
      "  0.56340555  0.04284547  0.63554174 -0.00678207]\n"
     ]
    },
    {
     "data": {
      "image/png": "[encoded data removed]",
      "text/plain": [
       "<Figure size 432x288 with 1 Axes>"
      ]
     },
     "metadata": {},
     "output_type": "display_data"
    }
   ],
   "source": [
    "X_test = x_data[:int(n_samples/10)]\n",
    "y_test = y_data[:int(n_samples/10)]\n",
    "\n",
    "print(\"----X values for test set----\")\n",
    "print(X_test)\n",
    "\n",
    "print()\n",
    "print(\"----Y values for training set----\")\n",
    "print(y_test)\n",
    "\n",
    "%matplotlib inline\n",
    "#Plots the data points in the test set\n",
    "ylim(0,1.3)\n",
    "plot(X_test,y_test,'o')\n",
    "xlabel('X-values for Test Set')\n",
    "ylabel('Y-values for Test Set')\n",
    "title('Y vs. X for Test Set')\n",
    "show()"
   ]
  },
  {
   "cell_type": "markdown",
   "metadata": {},
   "source": [
    "# 3. Fit the following polynomials to the training set: \n",
    "\n",
    "A. The following link explains the use of the Pipeline class in Python: <a href=http://scikit-learn.org/stable/modules/generated/sklearn.pipeline.Pipeline.html> Link </a>. A pipeline can be used to chain several steps together; therefore, we are using it to predict variables by fitting the data. These pipeiline chains can be used to apply to training data. \n",
    "\n",
    "B. The following link also describes the Linear Regression class in Python, which we used in our Pipeline, so the training data could be fitted: http://scikit-learn.org/stable/modules/generated/sklearn.linear_model.LinearRegression.html. "
   ]
  },
  {
   "cell_type": "markdown",
   "metadata": {},
   "source": [
    "### 3.A. Degree 1 Polynomial (a line)"
   ]
  },
  {
   "cell_type": "code",
   "execution_count": 193,
   "metadata": {},
   "outputs": [],
   "source": [
    "model1 = Pipeline([('poly', PolynomialFeatures(degree=1)),('linear', linear_model.LinearRegression())])\n",
    "model1 =model1.fit(X_training[:,np.newaxis], y_training[:,np.newaxis])\n",
    "\n",
    "y_predictions1 = model1.predict(X_test[:, np.newaxis])"
   ]
  },
  {
   "cell_type": "markdown",
   "metadata": {},
   "source": [
    "### 3.B. Degree 2 Polynomial (a quadratic)"
   ]
  },
  {
   "cell_type": "code",
   "execution_count": 195,
   "metadata": {},
   "outputs": [],
   "source": [
    "model2 = Pipeline([('poly', PolynomialFeatures(degree=2)),('linear', linear_model.LinearRegression())])\n",
    "model2 =model2.fit(X_training[:,np.newaxis], y_training[:,np.newaxis])\n",
    "\n",
    "y_predictions2 = model2.predict(X_test[:, np.newaxis])"
   ]
  },
  {
   "cell_type": "markdown",
   "metadata": {},
   "source": [
    "### 3.C. Degree 9 Polynomial"
   ]
  },
  {
   "cell_type": "code",
   "execution_count": 196,
   "metadata": {},
   "outputs": [],
   "source": [
    "model9 = Pipeline([('poly', PolynomialFeatures(degree=9)),('linear', linear_model.LinearRegression())])\n",
    "model9 =model9.fit(X_training[:,np.newaxis], y_training[:,np.newaxis])\n",
    "\n",
    "y_predictions9 = model9.predict(X_test[:, np.newaxis])"
   ]
  },
  {
   "cell_type": "markdown",
   "metadata": {},
   "source": [
    "## 4. Create a plot showing the original data as a scatter plot and the three polynomial fits with a legend indicating the degree of the polynomial. Also overlay the sin(x) function with a dotted line."
   ]
  },
  {
   "cell_type": "code",
   "execution_count": 213,
   "metadata": {},
   "outputs": [
    {
     "data": {
      "image/png": "[encoded data removed]",
      "text/plain": [
       "<Figure size 432x288 with 1 Axes>"
      ]
     },
     "metadata": {},
     "output_type": "display_data"
    }
   ],
   "source": [
    "plot_config=['bs', 'y*', 'g^']\n",
    "plt.plot(X_test, y_test, 'ro', label=\"Actual\")\n",
    "# 3. Set the polynomial degree to be fitted betwee 1 and 3\n",
    "d_degree = [1,2,9]\n",
    "i = 0\n",
    "for degree in d_degree:\n",
    "    # 5. Create a fit a polynomial with sk-learn LinearRegression\n",
    "    model = Pipeline([('poly', PolynomialFeatures(degree=degree)),('linear', linear_model.LinearRegression())])\n",
    "    model=model.fit(X_training[:,np.newaxis], y_training[:,np.newaxis])\n",
    "    \n",
    "    predict_sk=model.predict(X_test[:,np.newaxis])\n",
    "    \n",
    "    #plt.plot(x_test, y_test, '-', label=\"Actual\")\n",
    "    plt.plot(X_test, predict_sk, plot_config[i], label=\"Fit \"+str(degree)+ \" degree poly\")\n",
    "    plt.legend(bbox_to_anchor=(0., 1.02, 1., .102), loc=3,\n",
    "               ncol=2, mode=\"expand\", borderaxespad=0.)\n",
    "    xlim(0,1)\n",
    "    ylim(0,1.3)\n",
    "    i = i+1\n",
    "\n",
    "plt.show()"
   ]
  },
  {
   "cell_type": "markdown",
   "metadata": {},
   "source": [
    "## 5. Apply each of the 3 models to predict the y value from the x value in the test set. Find the root mean square error between the predictions and the true values. (The expectation is that the degree 2 polynomial should give the best prediction with degree 9 a close second). \n",
    "\n",
    "The metrics class in sklearn has a mean_squared_error function that we can use and then take the square root of to find the root mean squared error between the predictions and the actual values in the test set: http://scikit-learn.org/stable/modules/generated/sklearn.metrics.mean_squared_error.html. "
   ]
  },
  {
   "cell_type": "code",
   "execution_count": 218,
   "metadata": {},
   "outputs": [
    {
     "name": "stdout",
     "output_type": "stream",
     "text": [
      "Root mean square error for Degree 1\n",
      "0.11030365816901293\n",
      "Root mean square error for Degree 2\n",
      "0.17303867072970816\n",
      "Root mean square error for Degree 9\n",
      "73531.87259016023\n"
     ]
    }
   ],
   "source": [
    "#Root mean squared error \n",
    "rms1 = sqrt(mean_squared_error(y_test,y_predictions1))\n",
    "print('Root mean square error for Degree 1')\n",
    "print(rms1)\n",
    "\n",
    "\n",
    "#Root mean squared error \n",
    "rms2 = sqrt(mean_squared_error(y_test,y_predictions2))\n",
    "print('Root mean square error for Degree 2')\n",
    "print(rms2)\n",
    "\n",
    "\n",
    "#Root mean squared error \n",
    "rms9 = sqrt(mean_squared_error(y_test,y_predictions9))\n",
    "print('Root mean square error for Degree 9')\n",
    "print(rms9)"
   ]
  }
 ],
 "metadata": {
  "kernelspec": {
   "display_name": "Python 3",
   "language": "python",
   "name": "python3"
  },
  "language_info": {
   "codemirror_mode": {
    "name": "ipython",
    "version": 3
   },
   "file_extension": ".py",
   "mimetype": "text/x-python",
   "name": "python",
   "nbconvert_exporter": "python",
   "pygments_lexer": "ipython3",
   "version": "3.6.5"
  }
 },
 "nbformat": 4,
 "nbformat_minor": 2
}
