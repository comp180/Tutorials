{
 "cells": [
  {
   "cell_type": "markdown",
   "metadata": {},
   "source": [
    "# Classification\n",
    "The purpose of this demo is to demonstrate the ease and utility of performing classification. Although there are many classifiers (many of which are intimately related with similarly-named regressions) one of the most used and easiest to understand classifiers is **k-Nearest Neighbors**. Basically, each sample of training data is a labeled point in a high dimensional space, and when test data comes in, you simply poll the k nearest neighbors to that unlabeled point to determine which class it belongs to.\n",
    "\n",
    "In this example, we will generate data that belongs to three different sources. We will then train the classifier using a subset of the data, and test the classifier on a separate set.\n",
    "# Demo Instructions:\n",
    "\n",
    "Perform the following steps:\n",
    "1. Create a function that generates features depending on a label being either 'A', 'B', or 'C'. Assume n is the (0,1) normal distribution. \n",
    "    * A: (x,y) = (1+n, 3+n)  \n",
    "    * B: (x,y) = (3+n, 5+n)\n",
    "    * C: (x,y) = (5+n,1+n)\n",
    "2. Generate two samples with equal numbers in each class. \n",
    "    * A training set of 30 samples \n",
    "    * A test set of 150 samples \n",
    "3. Create a k-NN classifier with the following values of k: \n",
    "    * k = 1 \n",
    "    * k = 3 \n",
    "    * k = 5 \n",
    "4. Create a scatter plot showing the training data with the labels as different colors and include a legend. </li>\n",
    "5. Apply each of the 3 classifiers to predict the class in the test set. Find the overall accuracy, average recall, and average precision. Also, create the confusion matrix showing the mistakes. \n",
    "\n",
    "# Solutions:\n",
    "## 1. Create a function that generates features depending on a label being either ‘A’, ‘B’, or ‘C’. Assume n is the (0,1) normal distribution. "
   ]
  },
  {
   "cell_type": "code",
   "execution_count": 1,
   "metadata": {},
   "outputs": [],
   "source": [
    "import numpy as np\n",
    "import math\n",
    "import pandas as pd\n",
    "from sklearn import neighbors\n",
    "from sklearn import metrics\n",
    "from sklearn.metrics import accuracy_score, recall_score, average_precision_score, confusion_matrix, precision_score\n",
    "from matplotlib.pyplot import *\n",
    "\n",
    "%matplotlib inline\n",
    "#Create a function that generates features depending on a label \n",
    "#being either 'A\", 'B', or 'C'\n",
    "def label_features(label):\n",
    "    if (label == 'A'):\n",
    "        x = 1 + np.random.normal(0,1,1)\n",
    "        y = 3 + np.random.normal(0,1,1)\n",
    "    if (label == 'B'):\n",
    "        x = 3 + np.random.normal(0,1,1)\n",
    "        y = 5 + np.random.normal(0,1,1)\n",
    "    if (label == 'C'):\n",
    "        x = 5 + np.random.normal(0,1,1)\n",
    "        y = 1 + np.random.normal(0,1,1)\n",
    "    return x,y"
   ]
  },
  {
   "cell_type": "markdown",
   "metadata": {},
   "source": [
    "##  2. Generate two samples with equal numbers in each class.\n",
    "### 2.A. A training set of 30 samples"
   ]
  },
  {
   "cell_type": "code",
   "execution_count": 2,
   "metadata": {},
   "outputs": [
    {
     "name": "stdout",
     "output_type": "stream",
     "text": [
      "Labels for Data Points\n",
      "['A' 'A' 'A' 'A' 'A' 'A' 'A' 'A' 'A' 'A' 'B' 'B' 'B' 'B' 'B' 'B' 'B' 'B'\n",
      " 'B' 'B' 'C' 'C' 'C' 'C' 'C' 'C' 'C' 'C' 'C' 'C']\n",
      "\n",
      "X & Y Values in the Training Set\n",
      "[[ 2.39413151  2.92270833]\n",
      " [-0.0947111   2.30912947]\n",
      " [ 0.3373478   3.46615418]\n",
      " [ 1.50117689  1.59372727]\n",
      " [ 0.48047481  5.16908914]\n",
      " [ 1.51748153  4.15821811]\n",
      " [ 0.09432381  2.16367852]\n",
      " [-0.72747849  2.31674992]\n",
      " [ 1.60529933  1.91696031]\n",
      " [ 0.83152088  3.39201702]\n",
      " [ 2.8685725   4.40422805]\n",
      " [ 4.07956161  5.52500289]\n",
      " [ 2.57528209  5.49650956]\n",
      " [ 3.49167607  2.95084287]\n",
      " [ 3.9955501   4.46689402]\n",
      " [ 1.41815703  6.05012433]\n",
      " [ 5.22909563  5.84027052]\n",
      " [ 3.37248768  5.95815199]\n",
      " [ 1.11454345  6.29683713]\n",
      " [ 3.36246576  3.36798058]\n",
      " [ 4.7069987   0.96808642]\n",
      " [ 5.38682057  1.65822072]\n",
      " [ 5.84364553  0.18198434]\n",
      " [ 4.95536124  0.22270179]\n",
      " [ 4.33877839  3.46659186]\n",
      " [ 5.12486381  1.21290539]\n",
      " [ 5.39288826  1.20739234]\n",
      " [ 5.64820423  2.13386251]\n",
      " [ 4.17182406 -0.43358949]\n",
      " [ 4.37676053  2.59756216]]\n"
     ]
    }
   ],
   "source": [
    "#Create array with labels ‘a’,’b’,and ‘c’\n",
    "letters = []\n",
    "for count in range(10):\n",
    "    letters.append('A')\n",
    "for count in range(10):\n",
    "    letters.append('B')\n",
    "for count in range(10):\n",
    "    letters.append('C')\n",
    "letters_A = np.array(letters)\n",
    "print('Labels for Data Points')\n",
    "print(letters_A)\n",
    "\n",
    "#Create data points for training set\n",
    "trainingSet = []\n",
    "for count in range(10):\n",
    "    trainingSet.append(label_features('A'))\n",
    "for count in range(10):\n",
    "    trainingSet.append(label_features('B'))\n",
    "for count in range(10):\n",
    "    trainingSet.append(label_features('C'))\n",
    "    \n",
    "#X-values from training set\n",
    "x_training = [x for x, y in trainingSet]\n",
    "#Converting the x-training list into a 1D array\n",
    "x_trainingA = np.array(x_training)\n",
    "\n",
    "#Y values from training set\n",
    "y_training = [y for x, y in trainingSet]\n",
    "#Converting the y-training list into a 1D array\n",
    "y_trainingA = np.array(y_training)\n",
    "    \n",
    "#Creates array with x and y training values\n",
    "xy_trainingA = np.concatenate((x_trainingA,y_trainingA),1)\n",
    "print()\n",
    "print('X & Y Values in the Training Set')\n",
    "print(xy_trainingA)"
   ]
  },
  {
   "cell_type": "markdown",
   "metadata": {},
   "source": [
    "### 2.B. A test set of 150 samples"
   ]
  },
  {
   "cell_type": "code",
   "execution_count": 3,
   "metadata": {},
   "outputs": [],
   "source": [
    "test_targets = []\n",
    "for count in range(50):\n",
    "    test_targets.append('A')\n",
    "for count in range(50):\n",
    "    test_targets.append('B')\n",
    "for count in range(50):\n",
    "    test_targets.append('C')\n",
    "\n",
    "testSet = []\n",
    "for letter in test_targets:\n",
    "    testSet.append(label_features('A'))\n",
    "    \n",
    "#X-values from test set\n",
    "x_test = [x for x, y in testSet]\n",
    "#Converting the x-training list into a 1D array\n",
    "x_testA = np.array(x_test)\n",
    "\n",
    "#Y values from training set\n",
    "y_test = [y for x, y in testSet]\n",
    "#Converting the y-training list into a 1D array\n",
    "y_testA = np.array(y_test)\n",
    "    \n",
    "#Creates array with x and y training values\n",
    "xy_testA = np.concatenate((x_testA,y_testA),1)\n",
    "\n",
    "#turning the targets into an array\n",
    "test_targets = np.array(test_targets)"
   ]
  },
  {
   "cell_type": "markdown",
   "metadata": {},
   "source": [
    "## 3. Create a k-NN classifier with the following values of k. \n",
    "### 3.A. k=1"
   ]
  },
  {
   "cell_type": "code",
   "execution_count": 4,
   "metadata": {},
   "outputs": [
    {
     "name": "stdout",
     "output_type": "stream",
     "text": [
      "['A' 'A' 'A' 'A' 'A' 'A' 'A' 'A' 'A' 'A' 'A' 'A' 'A' 'A' 'A' 'A' 'A' 'A'\n",
      " 'A' 'A' 'A' 'A' 'A' 'A' 'A' 'B' 'A' 'A' 'A' 'A' 'A' 'A' 'A' 'A' 'A' 'A'\n",
      " 'A' 'A' 'A' 'A' 'A' 'A' 'A' 'B' 'A' 'A' 'A' 'A' 'A' 'A' 'B' 'A' 'A' 'A'\n",
      " 'A' 'A' 'A' 'A' 'A' 'A' 'A' 'A' 'B' 'A' 'A' 'A' 'A' 'A' 'A' 'A' 'A' 'A'\n",
      " 'A' 'A' 'A' 'A' 'A' 'A' 'A' 'A' 'B' 'A' 'A' 'B' 'A' 'A' 'A' 'A' 'A' 'A'\n",
      " 'A' 'A' 'A' 'A' 'A' 'A' 'A' 'A' 'A' 'A' 'A' 'A' 'A' 'A' 'A' 'A' 'A' 'A'\n",
      " 'A' 'A' 'A' 'B' 'A' 'A' 'A' 'A' 'A' 'A' 'A' 'A' 'B' 'A' 'B' 'A' 'A' 'A'\n",
      " 'A' 'A' 'A' 'B' 'A' 'B' 'A' 'A' 'A' 'A' 'A' 'A' 'A' 'A' 'B' 'A' 'A' 'B'\n",
      " 'A' 'A' 'A' 'A' 'A' 'A']\n"
     ]
    }
   ],
   "source": [
    "from sklearn import neighbors\n",
    "\n",
    "#k-NN classifier for k=1\n",
    "#By using ‘distance’, closer neighbors will have greater weight #than further ones\n",
    "k1 = neighbors.KNeighborsClassifier(1,weights='distance')\n",
    "k1.fit(xy_trainingA,letters_A)\n",
    "# apply the model to the test data\n",
    "k1_pred = k1.predict(xy_testA)\n",
    "print(k1_pred)"
   ]
  },
  {
   "cell_type": "markdown",
   "metadata": {},
   "source": [
    "### 3.B. k=3"
   ]
  },
  {
   "cell_type": "code",
   "execution_count": 5,
   "metadata": {},
   "outputs": [
    {
     "name": "stdout",
     "output_type": "stream",
     "text": [
      "['A' 'A' 'A' 'A' 'A' 'A' 'A' 'A' 'A' 'A' 'A' 'A' 'A' 'A' 'A' 'A' 'A' 'A'\n",
      " 'A' 'A' 'A' 'A' 'A' 'A' 'A' 'B' 'B' 'A' 'A' 'A' 'A' 'A' 'A' 'A' 'A' 'A'\n",
      " 'A' 'A' 'A' 'A' 'A' 'A' 'A' 'B' 'A' 'A' 'A' 'A' 'A' 'A' 'B' 'A' 'A' 'A'\n",
      " 'A' 'A' 'A' 'A' 'A' 'A' 'A' 'A' 'B' 'A' 'A' 'A' 'A' 'A' 'A' 'A' 'A' 'A'\n",
      " 'A' 'A' 'B' 'A' 'A' 'A' 'A' 'A' 'B' 'A' 'A' 'B' 'B' 'A' 'A' 'A' 'A' 'A'\n",
      " 'A' 'A' 'A' 'A' 'A' 'A' 'A' 'A' 'A' 'A' 'A' 'A' 'A' 'A' 'A' 'A' 'A' 'A'\n",
      " 'A' 'A' 'A' 'B' 'A' 'A' 'A' 'A' 'A' 'A' 'A' 'A' 'B' 'A' 'B' 'A' 'A' 'A'\n",
      " 'A' 'A' 'A' 'B' 'A' 'B' 'A' 'A' 'A' 'A' 'A' 'A' 'A' 'A' 'B' 'A' 'A' 'B'\n",
      " 'A' 'A' 'A' 'A' 'A' 'A']\n"
     ]
    }
   ],
   "source": [
    "#k-NN classifier for k=3\n",
    "k3 = neighbors.KNeighborsClassifier(3,weights='distance')\n",
    "# apply the model to the test data\n",
    "k3.fit(xy_trainingA,letters_A)\n",
    "k3_pred = k3.predict(xy_testA)\n",
    "print(k3_pred)"
   ]
  },
  {
   "cell_type": "markdown",
   "metadata": {},
   "source": [
    "### 3.C. k=9"
   ]
  },
  {
   "cell_type": "code",
   "execution_count": 6,
   "metadata": {},
   "outputs": [
    {
     "name": "stdout",
     "output_type": "stream",
     "text": [
      "['A' 'A' 'A' 'A' 'A' 'A' 'A' 'A' 'A' 'A' 'A' 'A' 'A' 'A' 'A' 'A' 'A' 'A'\n",
      " 'A' 'A' 'A' 'A' 'A' 'A' 'A' 'B' 'B' 'A' 'A' 'A' 'A' 'A' 'A' 'A' 'A' 'A'\n",
      " 'A' 'A' 'A' 'A' 'A' 'A' 'A' 'B' 'A' 'A' 'A' 'A' 'A' 'A' 'B' 'A' 'A' 'A'\n",
      " 'A' 'A' 'A' 'A' 'A' 'A' 'A' 'A' 'B' 'A' 'A' 'A' 'A' 'A' 'A' 'A' 'A' 'A'\n",
      " 'A' 'A' 'A' 'A' 'A' 'A' 'A' 'A' 'B' 'A' 'A' 'B' 'B' 'A' 'A' 'A' 'A' 'A'\n",
      " 'A' 'A' 'A' 'A' 'A' 'A' 'A' 'A' 'A' 'A' 'A' 'A' 'A' 'A' 'A' 'A' 'A' 'A'\n",
      " 'A' 'A' 'A' 'B' 'A' 'A' 'A' 'A' 'A' 'A' 'A' 'A' 'B' 'A' 'B' 'A' 'A' 'A'\n",
      " 'A' 'A' 'A' 'B' 'A' 'B' 'A' 'A' 'A' 'A' 'A' 'A' 'A' 'A' 'B' 'A' 'A' 'B'\n",
      " 'A' 'A' 'A' 'A' 'A' 'A']\n"
     ]
    }
   ],
   "source": [
    "#k-NN classifier for k=9\n",
    "k9 = neighbors.KNeighborsClassifier(9,weights='distance')\n",
    "k9.fit(xy_trainingA,letters_A)\n",
    "# apply the model to the test data\n",
    "k9_pred = k9.predict(xy_testA)\n",
    "print(k9_pred)"
   ]
  },
  {
   "cell_type": "markdown",
   "metadata": {},
   "source": [
    "## 4. Create a scatter plot showing the training data with the labels as different colors and include a legend."
   ]
  },
  {
   "cell_type": "code",
   "execution_count": 7,
   "metadata": {},
   "outputs": [
    {
     "data": {
      "image/png": "[encoded data removed]",
      "text/plain": [
       "<matplotlib.figure.Figure at 0x7f5450c44f60>"
      ]
     },
     "metadata": {},
     "output_type": "display_data"
    }
   ],
   "source": [
    "#Plotting the training data\n",
    "%matplotlib inline\n",
    "#Plots the first set of 10 values in the training set-- 'A' values\n",
    "plot(x_trainingA[0:10],y_trainingA[0:10],'go',label='A')\n",
    "#Plots the second set of 10 values in the training set -- 'B' values\n",
    "plot(x_trainingA[10:20],y_trainingA[10:20],'ro',label='B')\n",
    "#Plots the third set of 10 values in the training set-- 'C' values\n",
    "plot(x_trainingA[20:30],y_trainingA[20:30],'mo',label='C')\n",
    "xlabel('X-values for Training Set')\n",
    "ylabel('Y-values for Training Set')\n",
    "title('Y vs. X for Training Set')\n",
    "legend(loc='best')\n",
    "show()"
   ]
  },
  {
   "cell_type": "markdown",
   "metadata": {},
   "source": [
    "## 5. Apply each of the 3 classifiers to predict the class in the test set. Find the overall accuracy, average recall, and average precision. Also, create the confusion matrix showing the mistakes (The expectation is that k=3 will perform best, but this is not guaranteed). \n",
    "### 5.A. Overall Accuracy"
   ]
  },
  {
   "cell_type": "code",
   "execution_count": 8,
   "metadata": {},
   "outputs": [
    {
     "name": "stdout",
     "output_type": "stream",
     "text": [
      "Accuracy for k=1\n",
      "34.66666666666667\n",
      "Accuracy for k=3\n",
      "35.333333333333336\n",
      "Accuracy for k=9\n",
      "34.66666666666667\n"
     ]
    }
   ],
   "source": [
    "#Finding the overall accuracy for each k-value\n",
    "\n",
    "#k=1\n",
    "#Returns the percentage of correctly classified samples\n",
    "accuracy_k1 = accuracy_score(test_targets,k1_pred)\n",
    "print('Accuracy for k=1')\n",
    "print(accuracy_k1*100)\n",
    "\n",
    "#k=3\n",
    "lettersTest_A = k3.predict(xy_testA)\n",
    "#Returns the percentage of correctly classified samples\n",
    "accuracy_k3 = accuracy_score(test_targets,k3_pred)\n",
    "print('Accuracy for k=3')\n",
    "print(accuracy_k3*100)\n",
    "\n",
    "#k=9\n",
    "lettersTest_A = k9.predict(xy_testA)\n",
    "#Returns the percentage of correctly classified samples\n",
    "accuracy_k9 = accuracy_score(test_targets,k9_pred)\n",
    "print('Accuracy for k=9')\n",
    "print(accuracy_k9*100)"
   ]
  },
  {
   "cell_type": "markdown",
   "metadata": {},
   "source": [
    "### 5.B. Average Recall"
   ]
  },
  {
   "cell_type": "code",
   "execution_count": 9,
   "metadata": {},
   "outputs": [
    {
     "name": "stdout",
     "output_type": "stream",
     "text": [
      "Average recall for k=1\n",
      "0.3466666666666667\n",
      "Average recall for k=3\n",
      "0.35333333333333333\n",
      "Average recall for k=9\n",
      "0.3466666666666667\n"
     ]
    }
   ],
   "source": [
    "#Calculating the average recall-- ability of the classifier to find all the positive samples\n",
    "\n",
    "#Average recall for k=1\n",
    "recall_k1 = recall_score(test_targets,k1_pred,average='macro')\n",
    "print('Average recall for k=1')\n",
    "print(recall_k1)\n",
    "\n",
    "#Average recall for k=3\n",
    "recall_k3 = recall_score(test_targets,k3_pred,average='macro')\n",
    "print('Average recall for k=3')\n",
    "print(recall_k3)\n",
    "\n",
    "#Average recall for k=9\n",
    "recall_k9 = recall_score(test_targets,k9_pred,average='macro')\n",
    "print('Average recall for k=9')\n",
    "print(recall_k9)"
   ]
  },
  {
   "cell_type": "markdown",
   "metadata": {},
   "source": [
    "### 5.C. Average Precision"
   ]
  },
  {
   "cell_type": "code",
   "execution_count": 10,
   "metadata": {},
   "outputs": [
    {
     "name": "stdout",
     "output_type": "stream",
     "text": [
      "Average precision for k=1\n",
      "0.2271604938271605\n",
      "Average precision for k=3\n",
      "0.2271604938271605\n",
      "Average precision for k=9\n",
      "0.2271604938271605\n"
     ]
    },
    {
     "name": "stderr",
     "output_type": "stream",
     "text": [
      "/yellow1/ting/anaconda3/lib/python3.6/site-packages/sklearn/metrics/classification.py:1135: UndefinedMetricWarning: Precision is ill-defined and being set to 0.0 in labels with no predicted samples.\n",
      "  'precision', 'predicted', average, warn_for)\n"
     ]
    }
   ],
   "source": [
    "#Calculating the average precision\n",
    "\n",
    "#Average precision for k=1\n",
    "precision_k1 = precision_score(test_targets, k9_pred, average ='macro')\n",
    "print('Average precision for k=1')\n",
    "print(precision_k1)\n",
    "\n",
    "#Average precision for k=3\n",
    "precision_k3 = precision_score(test_targets, k9_pred, average='macro')\n",
    "print('Average precision for k=3')\n",
    "print(precision_k3)\n",
    "\n",
    "#Average precision for k=9\n",
    "precision_k9 = precision_score(test_targets, k9_pred, average = 'macro')\n",
    "print('Average precision for k=9')\n",
    "print(precision_k9)"
   ]
  },
  {
   "cell_type": "markdown",
   "metadata": {},
   "source": [
    "### 5.D. Confusion Matrix\n",
    "\n",
    "The following link explains how confusion matrices work; it also shows how to create one in Python and R: https://machinelearningmastery.com/confusion-matrix-machine-learning/. "
   ]
  },
  {
   "cell_type": "code",
   "execution_count": 11,
   "metadata": {},
   "outputs": [
    {
     "name": "stdout",
     "output_type": "stream",
     "text": [
      "Confusion matrix for k1-classifier\n",
      "[[48  2  0]\n",
      " [46  4  0]\n",
      " [43  7  0]]\n",
      "Confusion matrix for k3-classifier\n",
      "[[47  3  0]\n",
      " [44  6  0]\n",
      " [43  7  0]]\n",
      "Confusion matrix for k9-classifier\n",
      "[[47  3  0]\n",
      " [45  5  0]\n",
      " [43  7  0]]\n"
     ]
    }
   ],
   "source": [
    "#Creating the confusion matrix\n",
    "#Confusion matrix for k1-classifier\n",
    "confusion_matrix1 = confusion_matrix(test_targets, k1_pred ,labels=['A','B',\"C\"])\n",
    "print('Confusion matrix for k1-classifier')\n",
    "print(confusion_matrix1)\n",
    "\n",
    "#Confusion matrix for k3-classifier\n",
    "confusion_matrix3 = confusion_matrix(test_targets, k3_pred, labels=['A','B',\"C\"])\n",
    "print('Confusion matrix for k3-classifier')\n",
    "print(confusion_matrix3)\n",
    "\n",
    "#Confusion matrix for k-9 classifier\n",
    "confusion_matrix9 = confusion_matrix(test_targets, k9_pred, labels=['A','B',\"C\"])\n",
    "print('Confusion matrix for k9-classifier')\n",
    "print(confusion_matrix9)"
   ]
  }
 ],
 "metadata": {
  "kernelspec": {
   "display_name": "Python 3",
   "language": "python",
   "name": "python3"
  },
  "language_info": {
   "codemirror_mode": {
    "name": "ipython",
    "version": 3
   },
   "file_extension": ".py",
   "mimetype": "text/x-python",
   "name": "python",
   "nbconvert_exporter": "python",
   "pygments_lexer": "ipython3",
   "version": "3.6.4"
  }
 },
 "nbformat": 4,
 "nbformat_minor": 2
}
