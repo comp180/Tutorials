{
 "cells": [
  {
   "cell_type": "markdown",
   "metadata": {},
   "source": [
    "# Classification\n",
    "The purpose of this demo is to demonstrate the ease and utility of performing classification. Although there are many classifiers (many of which are intimately related with similarly-named regressions) one of the most used and easiest to understand classifiers is **k-Nearest Neighbors**. Basically, each sample of training data is a labeled point in a high dimensional space, and when test data comes in, you simply poll the k nearest neighbors to that unlabeled point to determine which class it belongs to.\n",
    "\n",
    "In this example, we will generate data that belongs to three different sources. We will then train the classifier using a subset of the data, and test the classifier on a separate set.\n",
    "# Demo Instructions:\n",
    "\n",
    "Perform the following steps:\n",
    "<ol type = \"1\">\n",
    "    <li>Create a function that generates features depending on a label being either 'A', 'B', or 'C'. Assume n is the (0,1) normal distribution. \n",
    "        <ol type = \"a\">\n",
    "            <li> A: (x,y) = (1+n, 3+n) </li>\n",
    "            <li> B: (x,y) = (3+n, 5+n)</li>\n",
    "            <li> C: (x,y) = (5+n,1+n)</li>\n",
    "        </ol>\n",
    "    </li>\n",
    "    <li> Generate two samples with equal numbers in each class. \n",
    "        <ol type = \"a\">\n",
    "            <li> A training set of 30 samples </li>\n",
    "            <li> A test set of 150 samples </li>\n",
    "        </ol>\n",
    "    </li>\n",
    "    <li> Create a k-NN classifier with the following values of k: \n",
    "        <ol type = \"a\">\n",
    "            <li> k = 1 </li>\n",
    "            <li> k = 3 </li>\n",
    "            <li> k = 5 </li>\n",
    "        </ol>\n",
    "    </li>\n",
    "    <li> Create a scatter plot showing the training data with the labels as different colors and include a legend. </li>\n",
    "    <li> Apply each of the 3 classifiers to predict the class in the test set. Find the overall accuracy, average recall, and average precision. Also, create the confusion matrix showing the mistakes. </li>\n",
    "</ol>\n",
    "# Solutions:\n",
    "## 1. Create a function that generates features depending on a label being either ‘A’, ‘B’, or ‘C’. Assume n is the (0,1) normal distribution. "
   ]
  },
  {
   "cell_type": "code",
   "execution_count": 2,
   "metadata": {},
   "outputs": [],
   "source": [
    "import numpy as np\n",
    "import math\n",
    "import pandas as pd\n",
    "from sklearn import neighbors\n",
    "from sklearn import metrics\n",
    "from sklearn.metrics import accuracy_score, recall_score, average_precision_score, confusion_matrix, precision_score\n",
    "from matplotlib.pyplot import *\n",
    "\n",
    "%matplotlib inline\n",
    "#Create a function that generates features depending on a label \n",
    "#being either 'A\", 'B', or 'C'\n",
    "def label_features(label):\n",
    "    if (label == 'A'):\n",
    "        x = 1 + np.random.normal(0,1,1)\n",
    "        y = 3 + np.random.normal(0,1,1)\n",
    "    if (label == 'B'):\n",
    "        x = 3 + np.random.normal(0,1,1)\n",
    "        y = 5 + np.random.normal(0,1,1)\n",
    "    if (label == 'C'):\n",
    "        x = 5 + np.random.normal(0,1,1)\n",
    "        y = 1 + np.random.normal(0,1,1)\n",
    "    return x,y"
   ]
  },
  {
   "cell_type": "markdown",
   "metadata": {},
   "source": [
    "##  2. Generate two samples with equal numbers in each class.\n",
    "### 2.A. A training set of 30 samples"
   ]
  },
  {
   "cell_type": "code",
   "execution_count": 3,
   "metadata": {},
   "outputs": [
    {
     "name": "stdout",
     "output_type": "stream",
     "text": [
      "Labels for Data Points\n",
      "['A' 'A' 'A' 'A' 'A' 'A' 'A' 'A' 'A' 'A' 'B' 'B' 'B' 'B' 'B' 'B' 'B' 'B'\n",
      " 'B' 'B' 'C' 'C' 'C' 'C' 'C' 'C' 'C' 'C' 'C' 'C']\n",
      "\n",
      "X & Y Values in the Training Set\n",
      "[[-0.09236008  4.37257526]\n",
      " [-0.07481103  3.40421662]\n",
      " [ 2.0902226   3.66254135]\n",
      " [ 0.93290116  3.39658834]\n",
      " [-0.68026415  3.18470224]\n",
      " [ 0.76329914  2.82385471]\n",
      " [ 1.45711013  3.04409373]\n",
      " [ 1.00447489  0.49175242]\n",
      " [ 0.78622752  4.88653281]\n",
      " [ 2.16842909  3.04946503]\n",
      " [ 1.79816483  6.31194519]\n",
      " [ 2.61746871  3.97727186]\n",
      " [ 3.36625878  6.43813872]\n",
      " [ 1.23467725  4.11282336]\n",
      " [ 3.5286053   3.50937071]\n",
      " [ 2.44719551  6.09920241]\n",
      " [ 1.99384351  5.15289571]\n",
      " [ 3.97582114  4.87297197]\n",
      " [ 2.60088049  4.3634103 ]\n",
      " [ 3.17548641  6.16574424]\n",
      " [ 5.12223713  0.0450286 ]\n",
      " [ 3.18691522  1.31110829]\n",
      " [ 4.26031829  0.55682468]\n",
      " [ 4.97055198  1.75596136]\n",
      " [ 4.60066943  2.06750539]\n",
      " [ 5.01563475  1.3343365 ]\n",
      " [ 5.40179367  1.1743232 ]\n",
      " [ 4.74082952  2.74935448]\n",
      " [ 4.08976589  0.67572683]\n",
      " [ 4.68204097  0.40623694]]\n"
     ]
    }
   ],
   "source": [
    "#Create array with labels ‘a’,’b’,and ‘c’\n",
    "letters = []\n",
    "for count in range(10):\n",
    "    letters.append('A')\n",
    "for count in range(10):\n",
    "    letters.append('B')\n",
    "for count in range(10):\n",
    "    letters.append('C')\n",
    "letters_A = np.array(letters)\n",
    "print('Labels for Data Points')\n",
    "print(letters_A)\n",
    "\n",
    "#Create data points for training set\n",
    "trainingSet = []\n",
    "for count in range(10):\n",
    "    trainingSet.append(label_features('A'))\n",
    "for count in range(10):\n",
    "    trainingSet.append(label_features('B'))\n",
    "for count in range(10):\n",
    "    trainingSet.append(label_features('C'))\n",
    "    \n",
    "#X-values from training set\n",
    "x_training = [x for x, y in trainingSet]\n",
    "#Converting the x-training list into a 1D array\n",
    "x_trainingA = np.array(x_training)\n",
    "\n",
    "#Y values from training set\n",
    "y_training = [y for x, y in trainingSet]\n",
    "#Converting the y-training list into a 1D array\n",
    "y_trainingA = np.array(y_training)\n",
    "    \n",
    "#Creates array with x and y training values\n",
    "xy_trainingA = np.concatenate((x_trainingA,y_trainingA),1)\n",
    "print()\n",
    "print('X & Y Values in the Training Set')\n",
    "print(xy_trainingA)"
   ]
  },
  {
   "cell_type": "markdown",
   "metadata": {},
   "source": [
    "### 2.B. A test set of 150 samples"
   ]
  },
  {
   "cell_type": "code",
   "execution_count": 4,
   "metadata": {},
   "outputs": [],
   "source": [
    "test_targets = []\n",
    "for count in range(50):\n",
    "    test_targets.append('A')\n",
    "for count in range(50):\n",
    "    test_targets.append('B')\n",
    "for count in range(50):\n",
    "    test_targets.append('C')\n",
    "\n",
    "testSet = []\n",
    "for letter in test_targets:\n",
    "    testSet.append(label_features('A'))\n",
    "    \n",
    "#X-values from test set\n",
    "x_test = [x for x, y in testSet]\n",
    "#Converting the x-training list into a 1D array\n",
    "x_testA = np.array(x_test)\n",
    "\n",
    "#Y values from training set\n",
    "y_test = [y for x, y in testSet]\n",
    "#Converting the y-training list into a 1D array\n",
    "y_testA = np.array(y_test)\n",
    "    \n",
    "#Creates array with x and y training values\n",
    "xy_testA = np.concatenate((x_testA,y_testA),1)\n",
    "\n",
    "#turning the targets into an array\n",
    "test_targets = np.array(test_targets)"
   ]
  },
  {
   "cell_type": "markdown",
   "metadata": {},
   "source": [
    "## 3. Create a k-NN classifier with the following values of k. \n",
    "### 3.A. k=1"
   ]
  },
  {
   "cell_type": "code",
   "execution_count": 14,
   "metadata": {},
   "outputs": [
    {
     "name": "stdout",
     "output_type": "stream",
     "text": [
      "['A' 'A' 'A' 'A' 'A' 'A' 'A' 'A' 'A' 'A' 'A' 'A' 'A' 'B' 'A' 'B' 'A' 'A'\n",
      " 'A' 'A' 'A' 'A' 'B' 'A' 'A' 'A' 'B' 'A' 'B' 'B' 'B' 'A' 'A' 'A' 'A' 'A'\n",
      " 'A' 'A' 'A' 'A' 'A' 'B' 'A' 'A' 'A' 'A' 'A' 'A' 'A' 'A' 'A' 'B' 'A' 'A'\n",
      " 'A' 'A' 'B' 'A' 'A' 'A' 'A' 'A' 'B' 'A' 'A' 'A' 'A' 'A' 'A' 'B' 'A' 'A'\n",
      " 'A' 'A' 'B' 'A' 'B' 'A' 'A' 'A' 'B' 'A' 'A' 'A' 'A' 'A' 'A' 'A' 'B' 'B'\n",
      " 'A' 'A' 'A' 'A' 'A' 'A' 'A' 'A' 'A' 'B' 'B' 'A' 'A' 'B' 'B' 'A' 'C' 'A'\n",
      " 'A' 'A' 'B' 'A' 'A' 'B' 'A' 'A' 'A' 'A' 'A' 'B' 'A' 'A' 'A' 'B' 'A' 'A'\n",
      " 'A' 'C' 'A' 'C' 'A' 'A' 'A' 'A' 'A' 'A' 'C' 'A' 'A' 'A' 'A' 'B' 'A' 'A'\n",
      " 'A' 'A' 'B' 'A' 'A' 'A']\n"
     ]
    }
   ],
   "source": [
    "from sklearn import neighbors\n",
    "\n",
    "#k-NN classifier for k=1\n",
    "#By using ‘distance’, closer neighbors will have greater weight #than further ones\n",
    "k1 = neighbors.KNeighborsClassifier(1,weights='distance')\n",
    "k1.fit(xy_trainingA,letters_A)\n",
    "# apply the model to the test data\n",
    "k1_pred = k1.predict(xy_testA)\n",
    "print(k1_pred)"
   ]
  },
  {
   "cell_type": "markdown",
   "metadata": {},
   "source": [
    "### 3.B. k=3"
   ]
  },
  {
   "cell_type": "code",
   "execution_count": 7,
   "metadata": {},
   "outputs": [
    {
     "name": "stdout",
     "output_type": "stream",
     "text": [
      "['A' 'A' 'A' 'A' 'A' 'A' 'A' 'A' 'B' 'B' 'A' 'A' 'A' 'B' 'A' 'A' 'A' 'A'\n",
      " 'A' 'A' 'A' 'A' 'B' 'A' 'A' 'A' 'B' 'A' 'B' 'B' 'B' 'A' 'A' 'A' 'A' 'A'\n",
      " 'A' 'A' 'A' 'A' 'A' 'B' 'A' 'A' 'A' 'A' 'A' 'A' 'A' 'A' 'A' 'B' 'A' 'A'\n",
      " 'A' 'A' 'A' 'A' 'A' 'A' 'A' 'A' 'B' 'A' 'A' 'A' 'A' 'A' 'A' 'A' 'A' 'A'\n",
      " 'A' 'B' 'B' 'A' 'B' 'A' 'B' 'A' 'B' 'A' 'A' 'A' 'A' 'A' 'A' 'A' 'B' 'B'\n",
      " 'A' 'A' 'A' 'B' 'A' 'A' 'A' 'A' 'A' 'B' 'B' 'A' 'A' 'B' 'B' 'A' 'A' 'A'\n",
      " 'A' 'A' 'B' 'A' 'A' 'B' 'A' 'A' 'A' 'A' 'A' 'B' 'A' 'A' 'A' 'B' 'A' 'A'\n",
      " 'A' 'A' 'A' 'A' 'A' 'A' 'A' 'A' 'A' 'A' 'C' 'A' 'A' 'A' 'A' 'B' 'A' 'A'\n",
      " 'A' 'A' 'B' 'A' 'A' 'A']\n"
     ]
    }
   ],
   "source": [
    "#k-NN classifier for k=3\n",
    "k3 = neighbors.KNeighborsClassifier(3,weights='distance')\n",
    "# apply the model to the test data\n",
    "k3.fit(xy_trainingA,letters_A)\n",
    "k3_pred = k3.predict(xy_testA)\n",
    "print(k3_pred)"
   ]
  },
  {
   "cell_type": "markdown",
   "metadata": {},
   "source": [
    "### 3.C. k=9"
   ]
  },
  {
   "cell_type": "code",
   "execution_count": 8,
   "metadata": {},
   "outputs": [
    {
     "name": "stdout",
     "output_type": "stream",
     "text": [
      "['A' 'A' 'A' 'A' 'A' 'A' 'A' 'A' 'B' 'A' 'A' 'A' 'A' 'B' 'A' 'A' 'A' 'A'\n",
      " 'A' 'A' 'A' 'A' 'B' 'A' 'A' 'A' 'A' 'A' 'A' 'B' 'B' 'A' 'A' 'A' 'A' 'A'\n",
      " 'A' 'A' 'A' 'A' 'A' 'B' 'A' 'A' 'A' 'A' 'A' 'A' 'A' 'A' 'A' 'A' 'A' 'A'\n",
      " 'A' 'A' 'A' 'A' 'A' 'A' 'A' 'A' 'B' 'A' 'A' 'A' 'A' 'A' 'A' 'A' 'A' 'A'\n",
      " 'A' 'B' 'B' 'A' 'B' 'A' 'B' 'A' 'B' 'A' 'A' 'A' 'A' 'A' 'A' 'A' 'B' 'B'\n",
      " 'A' 'A' 'A' 'A' 'A' 'A' 'A' 'A' 'A' 'A' 'A' 'A' 'A' 'B' 'B' 'A' 'A' 'A'\n",
      " 'A' 'A' 'B' 'A' 'A' 'B' 'A' 'A' 'A' 'A' 'A' 'A' 'A' 'A' 'A' 'B' 'A' 'A'\n",
      " 'A' 'A' 'A' 'C' 'A' 'A' 'A' 'A' 'A' 'A' 'C' 'A' 'A' 'A' 'A' 'B' 'A' 'A'\n",
      " 'A' 'A' 'B' 'A' 'B' 'A']\n"
     ]
    }
   ],
   "source": [
    "#k-NN classifier for k=9\n",
    "k9 = neighbors.KNeighborsClassifier(9,weights='distance')\n",
    "k9.fit(xy_trainingA,letters_A)\n",
    "# apply the model to the test data\n",
    "k9_pred = k9.predict(xy_testA)\n",
    "print(k9_pred)"
   ]
  },
  {
   "cell_type": "markdown",
   "metadata": {},
   "source": [
    "## 4. Create a scatter plot showing the training data with the labels as different colors and include a legend."
   ]
  },
  {
   "cell_type": "code",
   "execution_count": 9,
   "metadata": {},
   "outputs": [
    {
     "data": {
      "image/png": "[encoded data removed]",
      "text/plain": [
       "<matplotlib.figure.Figure at 0x195e7c0b198>"
      ]
     },
     "metadata": {},
     "output_type": "display_data"
    }
   ],
   "source": [
    "#Plotting the training data\n",
    "%matplotlib inline\n",
    "#Plots the first set of 10 values in the training set-- 'A' values\n",
    "plot(x_trainingA[0:10],y_trainingA[0:10],'go',label='A')\n",
    "#Plots the second set of 10 values in the training set -- 'B' values\n",
    "plot(x_trainingA[10:20],y_trainingA[10:20],'ro',label='B')\n",
    "#Plots the third set of 10 values in the training set-- 'C' values\n",
    "plot(x_trainingA[20:30],y_trainingA[20:30],'mo',label='C')\n",
    "xlabel('X-values for Training Set')\n",
    "ylabel('Y-values for Training Set')\n",
    "title('Y vs. X for Training Set')\n",
    "legend(loc='best')\n",
    "show()"
   ]
  },
  {
   "cell_type": "markdown",
   "metadata": {},
   "source": [
    "## 5. Apply each of the 3 classifiers to predict the class in the test set. Find the overall accuracy, average recall, and average precision. Also, create the confusion matrix showing the mistakes (The expectation is that k=3 will perform best, but this is not guaranteed). \n",
    "### 5.A. Overall Accuracy"
   ]
  },
  {
   "cell_type": "code",
   "execution_count": 10,
   "metadata": {},
   "outputs": [
    {
     "name": "stdout",
     "output_type": "stream",
     "text": [
      "Accuracy for k=1\n",
      "37.333333333333336\n",
      "Accuracy for k=3\n",
      "35.333333333333336\n",
      "Accuracy for k=9\n",
      "36.0\n"
     ]
    }
   ],
   "source": [
    "#Finding the overall accuracy for each k-value\n",
    "\n",
    "#k=1\n",
    "#Returns the percentage of correctly classified samples\n",
    "accuracy_k1 = accuracy_score(test_targets,k1_pred)\n",
    "print('Accuracy for k=1')\n",
    "print(accuracy_k1*100)\n",
    "\n",
    "#k=3\n",
    "lettersTest_A = k3.predict(xy_testA)\n",
    "#Returns the percentage of correctly classified samples\n",
    "accuracy_k3 = accuracy_score(test_targets,k3_pred)\n",
    "print('Accuracy for k=3')\n",
    "print(accuracy_k3*100)\n",
    "\n",
    "#k=9\n",
    "lettersTest_A = k9.predict(xy_testA)\n",
    "#Returns the percentage of correctly classified samples\n",
    "accuracy_k9 = accuracy_score(test_targets,k9_pred)\n",
    "print('Accuracy for k=9')\n",
    "print(accuracy_k9*100)"
   ]
  },
  {
   "cell_type": "markdown",
   "metadata": {},
   "source": [
    "### 5.B. Average Recall"
   ]
  },
  {
   "cell_type": "code",
   "execution_count": 11,
   "metadata": {},
   "outputs": [
    {
     "name": "stdout",
     "output_type": "stream",
     "text": [
      "Average recall for k=1\n",
      "0.37333333333333335\n",
      "Average recall for k=3\n",
      "0.35333333333333333\n",
      "Average recall for k=9\n",
      "0.36000000000000004\n"
     ]
    }
   ],
   "source": [
    "#Calculating the average recall-- ability of the classifier to find all the positive samples\n",
    "\n",
    "#Average recall for k=1\n",
    "recall_k1 = recall_score(test_targets,k1_pred,average='macro')\n",
    "print('Average recall for k=1')\n",
    "print(recall_k1)\n",
    "\n",
    "#Average recall for k=3\n",
    "recall_k3 = recall_score(test_targets,k3_pred,average='macro')\n",
    "print('Average recall for k=3')\n",
    "print(recall_k3)\n",
    "\n",
    "#Average recall for k=9\n",
    "recall_k9 = recall_score(test_targets,k9_pred,average='macro')\n",
    "print('Average recall for k=9')\n",
    "print(recall_k9)"
   ]
  },
  {
   "cell_type": "markdown",
   "metadata": {},
   "source": [
    "### 5.C. Average Precision"
   ]
  },
  {
   "cell_type": "code",
   "execution_count": 12,
   "metadata": {},
   "outputs": [
    {
     "name": "stdout",
     "output_type": "stream",
     "text": [
      "Average precision for k=1\n",
      "0.570947570947571\n",
      "Average precision for k=3\n",
      "0.570947570947571\n",
      "Average precision for k=9\n",
      "0.570947570947571\n"
     ]
    }
   ],
   "source": [
    "#Calculating the average precision\n",
    "\n",
    "#Average precision for k=1\n",
    "precision_k1 = precision_score(test_targets, k9_pred, average ='macro')\n",
    "print('Average precision for k=1')\n",
    "print(precision_k1)\n",
    "\n",
    "#Average precision for k=3\n",
    "precision_k3 = precision_score(test_targets, k9_pred, average='macro')\n",
    "print('Average precision for k=3')\n",
    "print(precision_k3)\n",
    "\n",
    "#Average precision for k=9\n",
    "precision_k9 = precision_score(test_targets, k9_pred, average = 'macro')\n",
    "print('Average precision for k=9')\n",
    "print(precision_k9)"
   ]
  },
  {
   "cell_type": "markdown",
   "metadata": {},
   "source": [
    "### 5.D. Confusion Matrix\n",
    "\n",
    "The following link explains how confusion matrices work; it also shows how to create one in Python and R: https://machinelearningmastery.com/confusion-matrix-machine-learning/. "
   ]
  },
  {
   "cell_type": "code",
   "execution_count": 13,
   "metadata": {},
   "outputs": [
    {
     "name": "stdout",
     "output_type": "stream",
     "text": [
      "Confusion matrix for k1-classifier\n",
      "[[42  8  0]\n",
      " [40 10  0]\n",
      " [37  9  4]]\n",
      "Confusion matrix for k3-classifier\n",
      "[[41  9  0]\n",
      " [39 11  0]\n",
      " [40  9  1]]\n",
      "Confusion matrix for k9-classifier\n",
      "[[44  6  0]\n",
      " [42  8  0]\n",
      " [40  8  2]]\n"
     ]
    }
   ],
   "source": [
    "#Creating the confusion matrix\n",
    "#Confusion matrix for k1-classifier\n",
    "confusion_matrix1 = confusion_matrix(test_targets, k1_pred ,labels=['A','B',\"C\"])\n",
    "print('Confusion matrix for k1-classifier')\n",
    "print(confusion_matrix1)\n",
    "\n",
    "#Confusion matrix for k3-classifier\n",
    "confusion_matrix3 = confusion_matrix(test_targets, k3_pred, labels=['A','B',\"C\"])\n",
    "print('Confusion matrix for k3-classifier')\n",
    "print(confusion_matrix3)\n",
    "\n",
    "#Confusion matrix for k-9 classifier\n",
    "confusion_matrix9 = confusion_matrix(test_targets, k9_pred, labels=['A','B',\"C\"])\n",
    "print('Confusion matrix for k9-classifier')\n",
    "print(confusion_matrix9)"
   ]
  }
 ],
 "metadata": {
  "kernelspec": {
   "display_name": "Python 3",
   "language": "python",
   "name": "python3"
  },
  "language_info": {
   "codemirror_mode": {
    "name": "ipython",
    "version": 3
   },
   "file_extension": ".py",
   "mimetype": "text/x-python",
   "name": "python",
   "nbconvert_exporter": "python",
   "pygments_lexer": "ipython3",
   "version": "3.6.5"
  }
 },
 "nbformat": 4,
 "nbformat_minor": 2
}
