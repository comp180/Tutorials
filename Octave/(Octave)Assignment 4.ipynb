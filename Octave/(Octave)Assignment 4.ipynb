{
 "cells": [
  {
   "cell_type": "markdown",
   "metadata": {},
   "source": [
    "# Assignment 4: Contour and surface plots (3D)\n",
    "All plots should have titles and appropriate labels sufficiently sized for readability.  \n",
    "\n",
    "In your experiments you found that the phenomenon you are measuring is described by the following equation:\n",
    "\n",
    "The Octave version:\n",
    "\n",
    "Z = e^(-((X-1)^2+(Y-4)^2)/0.15) +\n",
    "    e^(-((X-3)^2+(Y-4)^2)/0.15) +\n",
    "    e^(-((X-2)^2+(Y-3)^2)/0.15) +\n",
    "    e^(-(X-2)^2) * e(-(Y - ((X-2)^2+1))^2/0.15)\n",
    "\n",
    "To be complete, be sure to show the contour plot for the entire range for which this function has interesting features to observe.\n",
    "\n",
    "## 1. Contour plot\n",
    "a) Make a contour plot. Make sure to add labels in the plot or a legend for colors on the contours. You can choose either a filled contour plot or colored lines, your choice."
   ]
  },
  {
   "cell_type": "code",
   "execution_count": null,
   "metadata": {},
   "outputs": [],
   "source": []
  },
  {
   "cell_type": "markdown",
   "metadata": {},
   "source": [
    "b) Do this for an additional color mapping: e.g. hot/cold or black/white. "
   ]
  },
  {
   "cell_type": "code",
   "execution_count": null,
   "metadata": {},
   "outputs": [],
   "source": []
  },
  {
   "cell_type": "markdown",
   "metadata": {},
   "source": [
    "## 2. Surface plots (or mesh plots)\n",
    "a) Using the same data set as before, create a surface plot. Also be sure to choose an appropriate color mapping to help in interpretation. If you can’t make a surface plot, a mesh plot (where the surface is not filled in) will suffice."
   ]
  },
  {
   "cell_type": "code",
   "execution_count": null,
   "metadata": {},
   "outputs": [],
   "source": []
  },
  {
   "cell_type": "markdown",
   "metadata": {},
   "source": [
    "b) Generate at least one additional viewpoint of the surface that may also be helpful in providing insights."
   ]
  },
  {
   "cell_type": "code",
   "execution_count": null,
   "metadata": {},
   "outputs": [],
   "source": []
  }
 ],
 "metadata": {
  "kernelspec": {
   "display_name": "Octave",
   "language": "octave",
   "name": "octave"
  },
  "language_info": {
   "file_extension": ".m",
   "help_links": [
    {
     "text": "GNU Octave",
     "url": "https://www.gnu.org/software/octave/support.html"
    },
    {
     "text": "Octave Kernel",
     "url": "https://github.com/Calysto/octave_kernel"
    },
    {
     "text": "MetaKernel Magics",
     "url": "https://github.com/calysto/metakernel/blob/master/metakernel/magics/README.md"
    }
   ],
   "mimetype": "text/x-octave",
   "name": "octave",
   "version": "4.4.0"
  }
 },
 "nbformat": 4,
 "nbformat_minor": 2
}
