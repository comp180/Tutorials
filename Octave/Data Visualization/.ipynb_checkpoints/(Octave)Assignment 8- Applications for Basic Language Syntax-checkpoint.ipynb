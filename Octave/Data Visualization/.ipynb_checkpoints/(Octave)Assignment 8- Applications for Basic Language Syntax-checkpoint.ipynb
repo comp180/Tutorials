{
 "cells": [
  {
   "cell_type": "markdown",
   "metadata": {},
   "source": [
    "# Assignment 8: Applications of basic language syntax\n",
    "\n",
    "## Date/time string parsing\n",
    "\n",
    "Time stamps on data are often recorded in the standard ISO date and time format as shown below\n",
    "\n",
    "    yyyy-mm-ddThh:mm:ss\n",
    "    2018-01-02T18:31:16 ----> 6:31pm on January 2, 2018\n",
    "    1999-02-14T21:02:37 ----> 9:02pm on February 14, 1999\n",
    "\n",
    "Write code that when given a datetime string and outputs a human readable version exactly in the format specified below. \n",
    "\n",
    "    [Morning, Noon, Afternoon, Evening, or Night], X:XX[am or pm] on [Month as a word] [day], [year]\n",
    "    E.g. 1999-02-14T21:02:37 would be “Night, 9:02pm on February 14, 1999”\n",
    "\n",
    "Do not use any datetime string function. \n",
    "\n",
    "Hint: you’ll have to cast strings to integers in order to perform the if statements which place [Morning, Noon…], [am or pm] and [Month as a word] appropriately."
   ]
  },
  {
   "cell_type": "code",
   "execution_count": null,
   "metadata": {},
   "outputs": [],
   "source": []
  }
 ],
 "metadata": {
  "kernelspec": {
   "display_name": "Octave",
   "language": "octave",
   "name": "octave"
  },
  "language_info": {
   "file_extension": ".m",
   "help_links": [
    {
     "text": "GNU Octave",
     "url": "https://www.gnu.org/software/octave/support.html"
    },
    {
     "text": "Octave Kernel",
     "url": "https://github.com/Calysto/octave_kernel"
    },
    {
     "text": "MetaKernel Magics",
     "url": "https://github.com/calysto/metakernel/blob/master/metakernel/magics/README.md"
    }
   ],
   "mimetype": "text/x-octave",
   "name": "octave",
   "version": "4.4.0"
  }
 },
 "nbformat": 4,
 "nbformat_minor": 2
}
