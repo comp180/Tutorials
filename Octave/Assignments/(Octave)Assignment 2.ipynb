{
 "cells": [
  {
   "cell_type": "markdown",
   "metadata": {},
   "source": [
    "# Assignment 2- Simple Data Visualizations\n",
    "All plots should have titles and appropriate labels sufficiently sized for readability and, when appropriate, x-axis and y-axis labels and a legend. \n",
    "## 1. Pie Chart\n",
    "Make a pie chart of the percentage of time you spend during the day on various activities (sleeping, eating, socializing, attending class, homework, etc)."
   ]
  },
  {
   "cell_type": "code",
   "execution_count": null,
   "metadata": {},
   "outputs": [],
   "source": []
  },
  {
   "cell_type": "markdown",
   "metadata": {},
   "source": [
    "## 2. Bar plot\n",
    "Make a bar plot of the total amount of time you spend during the day on various activities (sleeping, eating, socializing, attending class, homework, etc). Be sure to include vertical or slanted labels for each bar on the X axis."
   ]
  },
  {
   "cell_type": "code",
   "execution_count": null,
   "metadata": {},
   "outputs": [],
   "source": []
  },
  {
   "cell_type": "markdown",
   "metadata": {},
   "source": [
    "## The following plots are optional. They might appear in the quizzes and exams as extra credit problems:\n",
    "## 3. Group bar plots with legend\n",
    "Make either a side-by-side or stacked bar plot with the total amount of time you spend during the day on weekdays versus weekends. "
   ]
  },
  {
   "cell_type": "code",
   "execution_count": null,
   "metadata": {},
   "outputs": [],
   "source": []
  }
 ],
 "metadata": {
  "kernelspec": {
   "display_name": "Octave",
   "language": "octave",
   "name": "octave"
  },
  "language_info": {
   "file_extension": ".m",
   "help_links": [
    {
     "text": "GNU Octave",
     "url": "https://www.gnu.org/software/octave/support.html"
    },
    {
     "text": "Octave Kernel",
     "url": "https://github.com/Calysto/octave_kernel"
    },
    {
     "text": "MetaKernel Magics",
     "url": "https://github.com/calysto/metakernel/blob/master/metakernel/magics/README.md"
    }
   ],
   "mimetype": "text/x-octave",
   "name": "octave",
   "version": "4.4.0"
  }
 },
 "nbformat": 4,
 "nbformat_minor": 2
}
