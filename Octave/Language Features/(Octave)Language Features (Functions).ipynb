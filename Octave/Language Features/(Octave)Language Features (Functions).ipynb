{
 "cells": [
  {
   "cell_type": "markdown",
   "metadata": {},
   "source": [
    "# Functions\n",
    "\n",
    "Functions are used in Octave to carry out specified tasks. They reduce the amount of code you need to write and make the code easier to understand. These functions can include multiple arguments, and they can also return one or more values. We will discuss parameters and return values later in the tutorial, but for now, let's learn about how to create functions!\n",
    "\n",
    "## Defining a function\n",
    "\n",
    "<b>Steps:</b>\n",
    "<ol type = \"1\">\n",
    "    <li> Use function to declare a function followed by a return value (if the function returns anything), then the name of the function and finally any parameters for the function.</li>\n",
    "    <li> Add parameters to the function: they should be within the parantheses that follow the name of the \"function\".</li>\n",
    "    <li> The funciton body is indented from the declaration of the function and within the function body, include code statements that the function should execute. </li> \n",
    "    <li> End your function with \"endfunction\" that is on the same level as the function declaration. </li>\n",
    "</ol>"
   ]
  },
  {
   "cell_type": "code",
   "execution_count": 12,
   "metadata": {},
   "outputs": [],
   "source": [
    "# Creating a function that prints \"Hello, World!\"\n",
    "function helloWorld\n",
    "    disp(\"Hello, world!\");\n",
    "endfunction"
   ]
  },
  {
   "cell_type": "markdown",
   "metadata": {},
   "source": [
    "## Calling a function\n",
    "\n",
    "When one calls a function, he or she wants to execute the function that they have defined. In Octave, one can call a function simply by typing the name of the function and running the statement. If the function has arguments, the user needs to make sure to supply them in paranthesis right after calling the function."
   ]
  },
  {
   "cell_type": "code",
   "execution_count": 14,
   "metadata": {},
   "outputs": [
    {
     "name": "stdout",
     "output_type": "stream",
     "text": [
      "Hello, world!\n"
     ]
    }
   ],
   "source": [
    "helloWorld()"
   ]
  },
  {
   "cell_type": "markdown",
   "metadata": {},
   "source": [
    "## Adding Docstrings to an Octave Function\n",
    "\n",
    "Docstrings describe what your function does, such as the computations it performs or the values it returns. Docstrings serve as documentation for your function, so others who want to execute your function know its behavior and know what to expect when it is run. \n",
    "\n",
    "Function docstrings are placed in the immediate line after the function header and are placed next to # since they are comments.\n",
    "\n",
    "We are going to add docstrings to our helloWorld function to convey how docstrings are used. "
   ]
  },
  {
   "cell_type": "code",
   "execution_count": 16,
   "metadata": {},
   "outputs": [
    {
     "name": "stdout",
     "output_type": "stream",
     "text": [
      "Hello, world!\n"
     ]
    }
   ],
   "source": [
    "function helloWorld\n",
    "    # Prints \"Hello, World!\"\n",
    "    # Returns: none\n",
    "    disp(\"Hello, world!\");\n",
    "endfunction\n",
    "\n",
    "helloWorld"
   ]
  },
  {
   "cell_type": "markdown",
   "metadata": {},
   "source": [
    "## Function Arguments in Octave\n",
    "\n",
    "Arguments are the things that are given to any function or method call. \n",
    "\n",
    "There are four types of arguments that Octave functions can take:\n",
    "<ol type = \"1\">\n",
    "    <li> Default arguments </li>\n",
    "    <li> Required arguments </li>\n",
    "    <li> Keyword arguments </li>\n",
    "    <li> Variable number of arguments </li> \n",
    "</ol>\n",
    "    \n",
    "### Default arguments \n",
    "\n",
    "Default arguments are those that take a default value if no argument value is passed during the function call. You can assign this default value with the assignment operator \"=\". In the following example, we set a,b=2 in the parantheses of the function, which is the default value of the variables a & b. "
   ]
  },
  {
   "cell_type": "code",
   "execution_count": 23,
   "metadata": {},
   "outputs": [
    {
     "name": "stdout",
     "output_type": "stream",
     "text": [
      "ans =  5\n",
      "ans =  6\n"
     ]
    }
   ],
   "source": [
    "function sum = plus(a, b=2)\n",
    "    sum = a + b;\n",
    "endfunction\n",
    "\n",
    "# Returns 5\n",
    "plus(3)\n",
    "\n",
    "# Returns 6\n",
    "plus(3,3)"
   ]
  },
  {
   "cell_type": "markdown",
   "metadata": {},
   "source": [
    "### Required arguments \n",
    "\n",
    "Required arguments are those values that have to be passed during a function call; they also need to be in exactly the right order. In the following example, since a & b are not given default values, whenever a user wants to call the plus() function, he or she needs to specify values for BOTH a & b. "
   ]
  },
  {
   "cell_type": "code",
   "execution_count": 26,
   "metadata": {},
   "outputs": [
    {
     "name": "stdout",
     "output_type": "stream",
     "text": [
      "ans =  10\n",
      "error: 'b' undefined near line 2 column 15\n",
      "error: called from\n",
      "    plus at line 2 column 9\n"
     ]
    }
   ],
   "source": [
    "function sum = plus(a, b)\n",
    "    sum = a + b;\n",
    "endfunction\n",
    "\n",
    "# Returns 10\n",
    "plus(5,5)\n",
    "\n",
    "# Returns error\n",
    "plus(5)"
   ]
  },
  {
   "cell_type": "markdown",
   "metadata": {},
   "source": [
    "### Keyword arguments\n",
    "\n",
    "Keyword arguments can be used to ensure that all of the parameters of a function are called in the right order. We use keyword arguments to identify the arguments by their parameter name. For example, using the function from above, if we wanted to use keyword arguments, we would assign specific values to a & b with the assignment operator \"=\". "
   ]
  },
  {
   "cell_type": "code",
   "execution_count": 27,
   "metadata": {},
   "outputs": [
    {
     "name": "stdout",
     "output_type": "stream",
     "text": [
      "ans =  11\n"
     ]
    }
   ],
   "source": [
    "plus(a=6, b=5)"
   ]
  },
  {
   "cell_type": "markdown",
   "metadata": {},
   "source": [
    "### Variable number of arguments\n",
    "\n",
    "If you are unsure about the exact number of arguments that you want to pass to a function, you can use \"varargin\" in the parantheses of your function header. We will provide an example by modifying the plus() function."
   ]
  },
  {
   "cell_type": "code",
   "execution_count": 38,
   "metadata": {},
   "outputs": [
    {
     "name": "stdout",
     "output_type": "stream",
     "text": [
      "ans =  20\n"
     ]
    }
   ],
   "source": [
    "function total = newPlus (varargin)\n",
    "    total = 0;\n",
    "    for i = 1:length(varargin)\n",
    "        total = total + varargin{i};\n",
    "    endfor\n",
    "endfunction\n",
    "\n",
    "newPlus(2,4,6,8)"
   ]
  },
  {
   "cell_type": "markdown",
   "metadata": {},
   "source": [
    "## Return Statements\n",
    "\n",
    "Return statements are used to return various values in functions, such as a String, an integer, etc. \n",
    "\n",
    "Octave can return multtiple objects in its return statement. If you want to see all of the outputs you must specify that when you call the function. You just must declare what you are returning before you name the function, just like in the example below:"
   ]
  },
  {
   "cell_type": "code",
   "execution_count": 56,
   "metadata": {},
   "outputs": [
    {
     "name": "stdout",
     "output_type": "stream",
     "text": [
      "total =  5\n",
      "a =  2\n",
      "b =  3\n"
     ]
    }
   ],
   "source": [
    "function [total, a, b] = numbers(a,b)\n",
    "    total = a+b;\n",
    "endfunction\n",
    "\n",
    "[total, a, b] = numbers(2,3)"
   ]
  },
  {
   "cell_type": "markdown",
   "metadata": {},
   "source": [
    "The order of the returns are the order in which they will be stored in the variables that are requesting them. For example, even if I don't request the third returned value, I still get the first two."
   ]
  },
  {
   "cell_type": "code",
   "execution_count": 59,
   "metadata": {},
   "outputs": [
    {
     "name": "stdout",
     "output_type": "stream",
     "text": [
      "var1 =  9\n",
      "var2 =  4\n"
     ]
    }
   ],
   "source": [
    "[var1, var2] = numbers(4, 5)"
   ]
  },
  {
   "cell_type": "markdown",
   "metadata": {},
   "source": [
    "## Global vs. Local Variables \n",
    "\n",
    "Variables that are defined inside a function body have a local scope, while those that are defined outside a function body have a global scope. \n",
    "\n",
    "Local variables can only be accessed and manipulated within the body of the function of which they are defined. Global variables can be accessed by all functions within your program. \n",
    "\n",
    "The following example shows how the global variable \"globalvar\" can be accessed outside of the function body; however, the local variable \"total\" is unable to be printed out outside of the function body of the plus() function. "
   ]
  },
  {
   "cell_type": "code",
   "execution_count": 78,
   "metadata": {},
   "outputs": [
    {
     "name": "stdout",
     "output_type": "stream",
     "text": [
      "This is the globalvar: \n",
      " 1\n"
     ]
    }
   ],
   "source": [
    "# Global variable\n",
    "globalvar = 1;\n",
    "\n",
    "function plus (varargin)\n",
    "    localvar = 0;\n",
    "    for i = 1:length(varargin)\n",
    "        localvar = localvar + varargin{i};\n",
    "    endfor\n",
    "endfunction\n",
    "\n",
    "plus(1,2,3,4)\n",
    "\n",
    "# Access the global variable\n",
    "disp(\"This is the globalvar: \")\n",
    "disp(globalvar)"
   ]
  },
  {
   "cell_type": "code",
   "execution_count": 79,
   "metadata": {
    "scrolled": true
   },
   "outputs": [
    {
     "name": "stdout",
     "output_type": "stream",
     "text": [
      "This is the localvar: \n",
      "error: 'localvar' undefined near line 1 column 6\n"
     ]
    }
   ],
   "source": [
    "# Try to access the local variable\n",
    "disp(\"This is the localvar: \")\n",
    "disp(localvar)"
   ]
  },
  {
   "cell_type": "markdown",
   "metadata": {},
   "source": [
    "# Helpful Resources\n",
    "\n",
    "This entire chapter of the [Octave Documentation](https://octave.org/doc/v4.2.0/Introduction-to-Function-and-Script-Files.html#Introduction-to-Function-and-Script-Files) is very helpful.\n",
    "\n",
    "http://kirste.userpage.fu-berlin.de/chemnet/use/info/octave/octave_6.html"
   ]
  }
 ],
 "metadata": {
  "kernelspec": {
   "display_name": "Octave",
   "language": "octave",
   "name": "octave"
  },
  "language_info": {
   "file_extension": ".m",
   "help_links": [
    {
     "text": "GNU Octave",
     "url": "https://www.gnu.org/software/octave/support.html"
    },
    {
     "text": "Octave Kernel",
     "url": "https://github.com/Calysto/octave_kernel"
    },
    {
     "text": "MetaKernel Magics",
     "url": "https://github.com/calysto/metakernel/blob/master/metakernel/magics/README.md"
    }
   ],
   "mimetype": "text/x-octave",
   "name": "octave",
   "version": "4.4.0"
  }
 },
 "nbformat": 4,
 "nbformat_minor": 2
}
